{
 "cells": [
  {
   "cell_type": "markdown",
   "metadata": {},
   "source": [
    "단어를 10개 입력 받아서 words.txt 파일에 쓰세요.  단, 단어와 단어 사이는 공백을 포함해주세요.  그리고, 'hello'라는 단어가 입력되면 이 단어는 파일에 쓰지 말아주세요^^ "
   ]
  },
  {
   "cell_type": "code",
   "execution_count": 1,
   "metadata": {},
   "outputs": [
    {
     "name": "stdout",
     "output_type": "stream",
     "text": [
      "단어를 입력하세요hello\n",
      "단어를 입력하세요test\n",
      "단어를 입력하세요carami\n",
      "단어를 입력하세요python\n",
      "단어를 입력하세요java\n",
      "단어를 입력하세요hahahha\n",
      "단어를 입력하세요hohoh\n",
      "단어를 입력하세요hihihi\n",
      "단어를 입력하세요hihih\n",
      "단어를 입력하세요toto\n"
     ]
    }
   ],
   "source": [
    "with open('words.txt','w') as file:\n",
    "    for i in range(10):\n",
    "        word = input('단어를 입력하세요')\n",
    "        if word != 'hello':\n",
    "            file.write(word)\n",
    "            file.write(' ')\n"
   ]
  },
  {
   "cell_type": "code",
   "execution_count": 11,
   "metadata": {},
   "outputs": [
    {
     "name": "stdout",
     "output_type": "stream",
     "text": [
      "test carami python java hahahha hohoh hihihi hihih toto \n",
      "['test', 'carami', 'python', 'java', 'hahahha', 'hohoh', 'hihihi', 'hihih', 'toto']\n",
      "test\n",
      "python\n",
      "toto\n",
      "4\n"
     ]
    }
   ],
   "source": [
    "with open('words.txt', 'r') as file:\n",
    "    count = 0\n",
    "    word = file.read()\n",
    "    print(word)\n",
    "    words = word.split()\n",
    "    print(words)\n",
    "    \n",
    "    for w in words :\n",
    "        if len(w.strip()) > 5:\n",
    "            count += 1\n",
    "            \n",
    "        if 't' in w:\n",
    "            print(w, end='\\n')\n",
    "            \n",
    "    print(count)"
   ]
  },
  {
   "cell_type": "code",
   "execution_count": null,
   "metadata": {},
   "outputs": [],
   "source": []
  }
 ],
 "metadata": {
  "kernelspec": {
   "display_name": "Python 3",
   "language": "python",
   "name": "python3"
  },
  "language_info": {
   "codemirror_mode": {
    "name": "ipython",
    "version": 3
   },
   "file_extension": ".py",
   "mimetype": "text/x-python",
   "name": "python",
   "nbconvert_exporter": "python",
   "pygments_lexer": "ipython3",
   "version": "3.7.6"
  }
 },
 "nbformat": 4,
 "nbformat_minor": 4
}
