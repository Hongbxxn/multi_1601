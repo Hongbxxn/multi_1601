{
 "cells": [
  {
   "cell_type": "code",
   "execution_count": 6,
   "metadata": {},
   "outputs": [
    {
     "name": "stdout",
     "output_type": "stream",
     "text": [
      "합격\n",
      "축하합니다.\n"
     ]
    }
   ],
   "source": [
    "score = 80\n",
    "\n",
    "if score >= 60:\n",
    "    print('합격')\n",
    "    print(\"축하합니다.\")"
   ]
  },
  {
   "cell_type": "code",
   "execution_count": 23,
   "metadata": {},
   "outputs": [
    {
     "name": "stdout",
     "output_type": "stream",
     "text": [
      "점수를 입력하세요!!88\n",
      "합격\n",
      "축하합니다.\n"
     ]
    }
   ],
   "source": [
    "score = int(input('점수를 입력하세요!!'))\n",
    "\n",
    "if score >= 60:\n",
    "    print('합격')\n",
    "    print(\"축하합니다.\")\n",
    "else:\n",
    "    print('다음기회에~~')"
   ]
  },
  {
   "cell_type": "code",
   "execution_count": 13,
   "metadata": {},
   "outputs": [
    {
     "name": "stdout",
     "output_type": "stream",
     "text": [
      "good!!\n"
     ]
    }
   ],
   "source": [
    "score = 88\n",
    "\n",
    "if score >= 90:\n",
    "    print('합격')\n",
    "    print(\"축하합니다.\")\n",
    "elif score >60 and score <90:\n",
    "    print('good!!')\n",
    "else:\n",
    "    print('다음기회에~~')"
   ]
  },
  {
   "cell_type": "code",
   "execution_count": 15,
   "metadata": {},
   "outputs": [
    {
     "name": "stdout",
     "output_type": "stream",
     "text": [
      "good!!\n"
     ]
    }
   ],
   "source": [
    "score = 88\n",
    "\n",
    "if score >= 90:\n",
    "    print('합격')\n",
    "    print(\"축하합니다.\")\n",
    "elif 90 > score >60:\n",
    "    print('good!!')\n",
    "else:\n",
    "    print('다음기회에~~')"
   ]
  },
  {
   "cell_type": "code",
   "execution_count": 16,
   "metadata": {},
   "outputs": [],
   "source": [
    "if score < 40 :\n",
    "    pass"
   ]
  },
  {
   "cell_type": "code",
   "execution_count": 18,
   "metadata": {},
   "outputs": [
    {
     "name": "stdout",
     "output_type": "stream",
     "text": [
      "23\n",
      "23\n"
     ]
    }
   ],
   "source": [
    "input_str = input()\n",
    "\n",
    "print(input_str)"
   ]
  },
  {
   "cell_type": "code",
   "execution_count": 29,
   "metadata": {},
   "outputs": [
    {
     "name": "stdout",
     "output_type": "stream",
     "text": [
      "국어, 수학 점수를 입력하세요.90 100\n",
      "90100\n"
     ]
    }
   ],
   "source": [
    "#숫자 두 개를 입력받으려면??\n",
    "kor, math = input('국어, 수학 점수를 입력하세요.').split()\n",
    "print(kor + math)"
   ]
  },
  {
   "cell_type": "code",
   "execution_count": 27,
   "metadata": {},
   "outputs": [
    {
     "name": "stdout",
     "output_type": "stream",
     "text": [
      "국어, 수학 점수를 입력하세요.90 100 \n",
      "190\n",
      "국어, 수학 점수를 입력하세요.90 100\n",
      "190\n"
     ]
    }
   ],
   "source": [
    "#숫자 두 개를 입력받으려면??\n",
    "kor, math = input('국어, 수학 점수를 입력하세요.').split()\n",
    "print(int(kor) + int(math))\n",
    "\n",
    "# map 이용\n",
    "kor, math = map(int,input('국어, 수학 점수를 입력하세요.').split())\n",
    "print(kor + math)"
   ]
  },
  {
   "cell_type": "code",
   "execution_count": 30,
   "metadata": {},
   "outputs": [
    {
     "name": "stdout",
     "output_type": "stream",
     "text": [
      "1\n",
      "2\n",
      "3\n",
      "4\n",
      "5\n"
     ]
    }
   ],
   "source": [
    "s1 = (1,2,3,4,5)\n",
    "for a in s1 :\n",
    "    print(a)"
   ]
  },
  {
   "cell_type": "code",
   "execution_count": 31,
   "metadata": {},
   "outputs": [
    {
     "name": "stdout",
     "output_type": "stream",
     "text": [
      "1\n",
      "2\n",
      "3\n",
      "4\n",
      "5\n"
     ]
    }
   ],
   "source": [
    "s2 = {1,2,3,4,5}\n",
    "for a in s1 :\n",
    "    print(a)"
   ]
  },
  {
   "cell_type": "code",
   "execution_count": 32,
   "metadata": {},
   "outputs": [
    {
     "name": "stdout",
     "output_type": "stream",
     "text": [
      "a\n",
      "b\n",
      "c\n"
     ]
    }
   ],
   "source": [
    "d1 = {'a':10,'b':20,'c':30}\n",
    "for i in d1:\n",
    "    print(i)"
   ]
  },
  {
   "cell_type": "code",
   "execution_count": 33,
   "metadata": {},
   "outputs": [
    {
     "name": "stdout",
     "output_type": "stream",
     "text": [
      "a 10\n",
      "b 20\n",
      "c 30\n"
     ]
    }
   ],
   "source": [
    "for key, value in d1.items():\n",
    "    print(key, value)"
   ]
  },
  {
   "cell_type": "code",
   "execution_count": 35,
   "metadata": {},
   "outputs": [
    {
     "name": "stdout",
     "output_type": "stream",
     "text": [
      "0 hello!!\n",
      "1 hello!!\n",
      "2 hello!!\n",
      "3 hello!!\n",
      "4 hello!!\n"
     ]
    }
   ],
   "source": [
    "for i in range(5):\n",
    "    print(i,'hello!!')\n"
   ]
  },
  {
   "cell_type": "code",
   "execution_count": 36,
   "metadata": {},
   "outputs": [
    {
     "name": "stdout",
     "output_type": "stream",
     "text": [
      "5 hello!!\n",
      "6 hello!!\n",
      "7 hello!!\n",
      "8 hello!!\n",
      "9 hello!!\n",
      "10 hello!!\n",
      "11 hello!!\n"
     ]
    }
   ],
   "source": [
    "for i in range(5,12):\n",
    "    print(i,'hello!!')"
   ]
  },
  {
   "cell_type": "code",
   "execution_count": 37,
   "metadata": {},
   "outputs": [
    {
     "name": "stdout",
     "output_type": "stream",
     "text": [
      "5 hello!!\n",
      "7 hello!!\n",
      "9 hello!!\n"
     ]
    }
   ],
   "source": [
    "for i in range(5,11,2):\n",
    "    print(i,'hello!!')"
   ]
  },
  {
   "cell_type": "code",
   "execution_count": 38,
   "metadata": {},
   "outputs": [
    {
     "name": "stdout",
     "output_type": "stream",
     "text": [
      "10 hello!!\n",
      "9 hello!!\n",
      "8 hello!!\n",
      "7 hello!!\n",
      "6 hello!!\n"
     ]
    }
   ],
   "source": [
    "for i in range(10,5,-1):\n",
    "    print(i,'hello!!')"
   ]
  },
  {
   "cell_type": "code",
   "execution_count": 39,
   "metadata": {},
   "outputs": [
    {
     "name": "stdout",
     "output_type": "stream",
     "text": [
      "4 hello!!\n",
      "3 hello!!\n",
      "2 hello!!\n",
      "1 hello!!\n",
      "0 hello!!\n"
     ]
    }
   ],
   "source": [
    "for i in reversed(range(5)):\n",
    "    print(i,'hello!!')"
   ]
  },
  {
   "cell_type": "code",
   "execution_count": 40,
   "metadata": {},
   "outputs": [
    {
     "name": "stdout",
     "output_type": "stream",
     "text": [
      "p\n",
      "y\n",
      "t\n",
      "h\n",
      "o\n",
      "n\n"
     ]
    }
   ],
   "source": [
    "for i in 'python':\n",
    "    print(i)"
   ]
  },
  {
   "cell_type": "code",
   "execution_count": 41,
   "metadata": {},
   "outputs": [
    {
     "name": "stdout",
     "output_type": "stream",
     "text": [
      "\n",
      "*\n",
      "**\n",
      "***\n",
      "****\n"
     ]
    }
   ],
   "source": [
    "b"
   ]
  },
  {
   "cell_type": "code",
   "execution_count": 42,
   "metadata": {},
   "outputs": [
    {
     "name": "stdout",
     "output_type": "stream",
     "text": [
      "0\n",
      "1\n",
      "2\n",
      "3\n",
      "4\n",
      "6\n",
      "7\n",
      "8\n",
      "9\n"
     ]
    }
   ],
   "source": [
    "for i in range(10):\n",
    "    if i == 5 :\n",
    "        continue\n",
    "    print(i)"
   ]
  },
  {
   "cell_type": "code",
   "execution_count": 43,
   "metadata": {},
   "outputs": [
    {
     "name": "stdout",
     "output_type": "stream",
     "text": [
      "0\n",
      "1\n",
      "2\n",
      "3\n",
      "4\n"
     ]
    }
   ],
   "source": [
    "for i in range(10):\n",
    "    if i == 5 :\n",
    "        break\n",
    "    print(i)"
   ]
  },
  {
   "cell_type": "code",
   "execution_count": 50,
   "metadata": {},
   "outputs": [
    {
     "name": "stdout",
     "output_type": "stream",
     "text": [
      "[1, 4, 9]\n"
     ]
    }
   ],
   "source": [
    "squre = [i**2 for i in [1,2,3,4,5]]\n",
    "print(squre)"
   ]
  },
  {
   "cell_type": "code",
   "execution_count": 51,
   "metadata": {},
   "outputs": [
    {
     "name": "stdout",
     "output_type": "stream",
     "text": [
      "[16, 25]\n"
     ]
    }
   ],
   "source": [
    "squre = [i**2 for i in [1,2,3,4,5] if i > 3]\n",
    "print(squre)"
   ]
  },
  {
   "cell_type": "code",
   "execution_count": 53,
   "metadata": {},
   "outputs": [
    {
     "name": "stdout",
     "output_type": "stream",
     "text": [
      "{'kang': '불합격', 'kim': '불합격', 'hong': '불합격', 'lee': '불합격'}\n"
     ]
    }
   ],
   "source": [
    "scores = {'kang': 50, 'kim': 70, 'hong':40,'lee':20}\n",
    "\n",
    "grades = {name:'합격' if value>=50 else \n",
    "          '불합격' for name,score in scores.items()}\n",
    "print(grades)"
   ]
  },
  {
   "cell_type": "code",
   "execution_count": 56,
   "metadata": {},
   "outputs": [],
   "source": []
  },
  {
   "cell_type": "code",
   "execution_count": null,
   "metadata": {},
   "outputs": [],
   "source": []
  }
 ],
 "metadata": {
  "kernelspec": {
   "display_name": "Python 3",
   "language": "python",
   "name": "python3"
  },
  "language_info": {
   "codemirror_mode": {
    "name": "ipython",
    "version": 3
   },
   "file_extension": ".py",
   "mimetype": "text/x-python",
   "name": "python",
   "nbconvert_exporter": "python",
   "pygments_lexer": "ipython3",
   "version": "3.7.6"
  }
 },
 "nbformat": 4,
 "nbformat_minor": 4
}
