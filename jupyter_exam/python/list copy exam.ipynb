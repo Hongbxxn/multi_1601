{
 "cells": [
  {
   "cell_type": "code",
   "execution_count": 5,
   "metadata": {},
   "outputs": [
    {
     "name": "stdout",
     "output_type": "stream",
     "text": [
      "['kang', 'hong', 'kim']\n",
      "3\n",
      "kim\n"
     ]
    }
   ],
   "source": [
    "names = ['kang','hong','kim']\n",
    "\n",
    "print(names)\n",
    "print(len(names))\n",
    "print(names[2])"
   ]
  },
  {
   "cell_type": "code",
   "execution_count": 8,
   "metadata": {},
   "outputs": [
    {
     "name": "stdout",
     "output_type": "stream",
     "text": [
      "['lee', 'hong', 'kim']\n"
     ]
    }
   ],
   "source": [
    "student_names = names\n",
    "student_names[0] = 'lee' \n",
    "print(names)"
   ]
  },
  {
   "cell_type": "code",
   "execution_count": 9,
   "metadata": {},
   "outputs": [
    {
     "name": "stdout",
     "output_type": "stream",
     "text": [
      "10 20\n"
     ]
    }
   ],
   "source": [
    "a = 10\n",
    "b = a\n",
    "b= 20\n",
    "print(a,b)"
   ]
  },
  {
   "cell_type": "code",
   "execution_count": 14,
   "metadata": {},
   "outputs": [
    {
     "name": "stdout",
     "output_type": "stream",
     "text": [
      "[10]\n",
      "[20]\n",
      "[20]\n"
     ]
    }
   ],
   "source": [
    "a = [10]\n",
    "def my_fun(a):\n",
    "    a[0] = a[0] + 10\n",
    "    print(a)\n",
    "\n",
    "print(a)\n",
    "my_fun(a)\n",
    "print(a)"
   ]
  },
  {
   "cell_type": "code",
   "execution_count": 19,
   "metadata": {},
   "outputs": [
    {
     "name": "stdout",
     "output_type": "stream",
     "text": [
      "True\n",
      "3014479751560 3014479751560\n"
     ]
    }
   ],
   "source": [
    "names = ['kang','hong','kim']\n",
    "student_names = names\n",
    "student_names[0] = 'lee'\n",
    "print(names is student_names)\n",
    "print(id(names),id(student_names))"
   ]
  },
  {
   "cell_type": "code",
   "execution_count": 17,
   "metadata": {},
   "outputs": [
    {
     "name": "stdout",
     "output_type": "stream",
     "text": [
      "False\n"
     ]
    }
   ],
   "source": [
    "a = 10 \n",
    "b = a\n",
    "b = 20\n",
    "print(a is b)"
   ]
  },
  {
   "cell_type": "code",
   "execution_count": 21,
   "metadata": {},
   "outputs": [
    {
     "name": "stdout",
     "output_type": "stream",
     "text": [
      "3014480009864\n",
      "3014480009864\n",
      "3014480009864 3014423184072 3014491224520\n"
     ]
    }
   ],
   "source": [
    "a = [1,2,3]\n",
    "print(id(a))\n",
    "a.append(4)\n",
    "print(id(a))\n",
    "b = [4,5,6]\n",
    "c = a+b\n",
    "print(id(a),id(b),id(c))"
   ]
  },
  {
   "cell_type": "code",
   "execution_count": 22,
   "metadata": {},
   "outputs": [
    {
     "data": {
      "text/plain": [
       "[1, 2, 3]"
      ]
     },
     "execution_count": 22,
     "metadata": {},
     "output_type": "execute_result"
    }
   ],
   "source": [
    "arrays = [[1,2,3],[4,5,6],[7,8,9]]\n",
    "arrays[0]"
   ]
  },
  {
   "cell_type": "code",
   "execution_count": 27,
   "metadata": {},
   "outputs": [
    {
     "name": "stdout",
     "output_type": "stream",
     "text": [
      "[[500, 20], [30, 40], [50, 60]]\n",
      "[[500, 20], [30, 40], [50, 60]]\n",
      "3014490867144\n",
      "3014490867144\n"
     ]
    }
   ],
   "source": [
    "lista = [[10,20],[30,40],[50,60]]\n",
    "listb = lista\n",
    "\n",
    "listb[0][0] = 500\n",
    "\n",
    "print(lista)\n",
    "print(listb)\n",
    "\n",
    "print(id(lista[0]))\n",
    "print(id(listb[0]))"
   ]
  },
  {
   "cell_type": "code",
   "execution_count": 24,
   "metadata": {},
   "outputs": [],
   "source": [
    "import copy"
   ]
  },
  {
   "cell_type": "code",
   "execution_count": 28,
   "metadata": {},
   "outputs": [
    {
     "name": "stdout",
     "output_type": "stream",
     "text": [
      "[[500, 1000], [30, 40], [50, 60]]\n",
      "[[500, 20], [30, 40], [50, 60]]\n",
      "3014490867144\n",
      "3014490866888\n"
     ]
    }
   ],
   "source": [
    "listb = copy.deepcopy(lista)\n",
    "listb[0][1]=1000\n",
    "print(listb)\n",
    "print(lista)\n",
    "print(id(lista[0]))\n",
    "print(id(listb[0]))"
   ]
  },
  {
   "cell_type": "code",
   "execution_count": null,
   "metadata": {},
   "outputs": [],
   "source": []
  }
 ],
 "metadata": {
  "kernelspec": {
   "display_name": "Python 3",
   "language": "python",
   "name": "python3"
  },
  "language_info": {
   "codemirror_mode": {
    "name": "ipython",
    "version": 3
   },
   "file_extension": ".py",
   "mimetype": "text/x-python",
   "name": "python",
   "nbconvert_exporter": "python",
   "pygments_lexer": "ipython3",
   "version": "3.7.6"
  }
 },
 "nbformat": 4,
 "nbformat_minor": 4
}
