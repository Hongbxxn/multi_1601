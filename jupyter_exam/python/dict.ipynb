{
 "cells": [
  {
   "cell_type": "code",
   "execution_count": 13,
   "metadata": {},
   "outputs": [
    {
     "name": "stdout",
     "output_type": "stream",
     "text": [
      "{'a': 10, 'b': 20, 'c': 30, 'd': 40}\n",
      "{'a': 10, 'b': 20, 'c': 30, 'd': 40, 'e': None}\n",
      "{'a': 10, 'b': 20, 'c': 30, 'd': 40, 'e': None, 'f': 100}\n",
      "{'a': 10, 'b': 20, 'c': 30, 'd': 40, 'e': None, 'f': 100}\n",
      "{'a': 10, 'b': 20, 'c': 30, 'd': 40, 'e': 200, 'f': 100}\n",
      "{'a': 10, 'b': 20, 'c': 30, 'd': 40, 'e': 10, 'f': 100, 'g': 10}\n"
     ]
    }
   ],
   "source": [
    "my_dict = {\n",
    "    'a': 10,\n",
    "    'b': 20,\n",
    "    'c': 30,\n",
    "    'd': 40\n",
    "}\n",
    "print(my_dict)\n",
    "my_dict.setdefault('e')\n",
    "print(my_dict)\n",
    "my_dict.setdefault('f',100)\n",
    "print(my_dict)\n",
    "\n",
    "my_dict.setdefault('e',20)\n",
    "print(my_dict)\n",
    "\n",
    "my_dict.update(e=200)\n",
    "print(my_dict)\n",
    "\n",
    "my_dict.update(e=10,g=10)\n",
    "print(my_dict)"
   ]
  },
  {
   "cell_type": "code",
   "execution_count": 17,
   "metadata": {},
   "outputs": [
    {
     "name": "stdout",
     "output_type": "stream",
     "text": [
      "20\n",
      "{'c': 30, 'd': 40, 'e': 10, 'f': 100, 'g': 10}\n"
     ]
    }
   ],
   "source": [
    "print(my_dict.pop('b'))\n",
    "print(my_dict)"
   ]
  },
  {
   "cell_type": "code",
   "execution_count": 19,
   "metadata": {},
   "outputs": [
    {
     "name": "stdout",
     "output_type": "stream",
     "text": [
      "{'d': 40, 'e': 10, 'f': 100, 'g': 10}\n"
     ]
    }
   ],
   "source": [
    "del my_dict['c']\n",
    "print(my_dict)"
   ]
  },
  {
   "cell_type": "code",
   "execution_count": 21,
   "metadata": {},
   "outputs": [
    {
     "name": "stdout",
     "output_type": "stream",
     "text": [
      "('f', 100)\n",
      "{'d': 40, 'e': 10}\n"
     ]
    }
   ],
   "source": [
    "print(my_dict.popitem())\n",
    "print(my_dict)"
   ]
  },
  {
   "cell_type": "code",
   "execution_count": 22,
   "metadata": {},
   "outputs": [
    {
     "name": "stdout",
     "output_type": "stream",
     "text": [
      "{}\n"
     ]
    }
   ],
   "source": [
    "my_dict.clear()\n",
    "print(my_dict)"
   ]
  },
  {
   "cell_type": "code",
   "execution_count": 24,
   "metadata": {},
   "outputs": [
    {
     "name": "stdout",
     "output_type": "stream",
     "text": [
      "10\n",
      "{'a': 10, 'b': 20, 'c': 30, 'd': 40}\n",
      "10\n",
      "200\n"
     ]
    }
   ],
   "source": [
    "my_dict = {\n",
    "    'a': 10,\n",
    "    'b': 20,\n",
    "    'c': 30,\n",
    "    'd': 40\n",
    "}\n",
    "\n",
    "print(my_dict.get('a'))\n",
    "print(my_dict)\n",
    "\n",
    "print(my_dict.get('a',100))\n",
    "print(my_dict.get('f',200))"
   ]
  },
  {
   "cell_type": "code",
   "execution_count": 27,
   "metadata": {},
   "outputs": [
    {
     "name": "stdout",
     "output_type": "stream",
     "text": [
      "dict_items([('a', 10), ('b', 20), ('c', 30), ('d', 40)])\n",
      "dict_keys(['a', 'b', 'c', 'd']) <class 'dict_keys'>\n"
     ]
    }
   ],
   "source": [
    "print(my_dict.items())\n",
    "keys = my_dict.keys()\n",
    "print(keys , type(keys))"
   ]
  },
  {
   "cell_type": "code",
   "execution_count": 31,
   "metadata": {},
   "outputs": [
    {
     "name": "stdout",
     "output_type": "stream",
     "text": [
      "{'a': 10, 'b': 20, 'c': 30, 'd': 40, 'e': 50, 'f': 60, 'g': 70, 'h': 80}\n",
      "{'a': 10, 'b': 20, 'c': 30, 'd': 40, 'e': 50, 'f': 60, 'g': 70, 'h': 80}\n",
      "{'a': 10, 'b': 20, 'c': 30, 'd': 40, 'e': 50, 'f': 60, 'g': 70, 'h': 80, 'i': 90, 'j': 100}\n"
     ]
    }
   ],
   "source": [
    "my_dict.update({'e':50,'f':60})\n",
    "print(my_dict)\n",
    "\n",
    "my_dict.update([['g',70],['h',80]])\n",
    "print(my_dict)\n",
    "\n",
    "my_dict.update((('i',90),('j',100)))\n",
    "print(my_dict)\n"
   ]
  },
  {
   "cell_type": "code",
   "execution_count": 34,
   "metadata": {},
   "outputs": [
    {
     "data": {
      "text/plain": [
       "{1: 'a', 2: 'b', 3: 'c', 4: 'd'}"
      ]
     },
     "execution_count": 34,
     "metadata": {},
     "output_type": "execute_result"
    }
   ],
   "source": [
    "list1 = [1,2,3,4]\n",
    "list2 = ['a','b','c','d']\n",
    "\n",
    "d2 = {}\n",
    "d2.update(zip(list1,list2))\n",
    "d2"
   ]
  }
 ],
 "metadata": {
  "kernelspec": {
   "display_name": "Python 3",
   "language": "python",
   "name": "python3"
  },
  "language_info": {
   "codemirror_mode": {
    "name": "ipython",
    "version": 3
   },
   "file_extension": ".py",
   "mimetype": "text/x-python",
   "name": "python",
   "nbconvert_exporter": "python",
   "pygments_lexer": "ipython3",
   "version": "3.7.6"
  }
 },
 "nbformat": 4,
 "nbformat_minor": 4
}
