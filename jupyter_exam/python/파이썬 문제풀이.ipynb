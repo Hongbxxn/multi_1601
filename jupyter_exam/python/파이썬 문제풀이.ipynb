{
 "cells": [
  {
   "cell_type": "code",
   "execution_count": 17,
   "metadata": {},
   "outputs": [
    {
     "name": "stdout",
     "output_type": "stream",
     "text": [
      "     1.233\n",
      "나의 이름은 kang 입니다.\n",
      "나의 나이는 20 이고, 이름은 kang 입니다.\n",
      "나의 나이는 20 이고, 이름은 kang 입니다.\n",
      "나의 나이는 20 이고, 이름은 kang 입니다.\n",
      "나의 나이는 kang 이고, 이름은 20 입니다.\n",
      "나의 나이는 kang 이고, 이름은 20 입니다.\n"
     ]
    }
   ],
   "source": [
    "# print() 참고!!! \n",
    "\n",
    "print(format(1.23344, '10.3f'))\n",
    "name = 'kang'\n",
    "print('나의 이름은 %s 입니다.' %name)\n",
    "age = 20\n",
    "print('나의 나이는 %d 이고, 이름은 %s 입니다.' %(age,name))\n",
    "print('나의 나이는 {} 이고, 이름은 {} 입니다.'.format(age,name))\n",
    "print('나의 나이는 {0} 이고, 이름은 {1} 입니다.'.format(age,name))\n",
    "print('나의 나이는 {1} 이고, 이름은 {0} 입니다.'.format(age,name))\n",
    "print(f'나의 나이는 {name} 이고, 이름은 {age} 입니다.')\n"
   ]
  },
  {
   "cell_type": "code",
   "execution_count": 16,
   "metadata": {},
   "outputs": [
    {
     "name": "stdout",
     "output_type": "stream",
     "text": [
      "나는  {} hh 입니다. \n"
     ]
    }
   ],
   "source": [
    "print('나는  {{}} {} 입니다. '.format('hh'))"
   ]
  },
  {
   "cell_type": "code",
   "execution_count": 14,
   "metadata": {},
   "outputs": [
    {
     "name": "stdout",
     "output_type": "stream",
     "text": [
      " { Hello } 42 \n"
     ]
    }
   ],
   "source": [
    "x = \" {{ Hello }} {0} \"\n",
    "print(x.format(42))"
   ]
  },
  {
   "cell_type": "code",
   "execution_count": 1,
   "metadata": {},
   "outputs": [
    {
     "name": "stdout",
     "output_type": "stream",
     "text": [
      "Hello World\n"
     ]
    }
   ],
   "source": [
    "#1. \n",
    "print(\"Hello World\")"
   ]
  },
  {
   "cell_type": "code",
   "execution_count": null,
   "metadata": {},
   "outputs": [],
   "source": [
    "#2. \n"
   ]
  }
 ],
 "metadata": {
  "kernelspec": {
   "display_name": "Python 3",
   "language": "python",
   "name": "python3"
  },
  "language_info": {
   "codemirror_mode": {
    "name": "ipython",
    "version": 3
   },
   "file_extension": ".py",
   "mimetype": "text/x-python",
   "name": "python",
   "nbconvert_exporter": "python",
   "pygments_lexer": "ipython3",
   "version": "3.7.6"
  }
 },
 "nbformat": 4,
 "nbformat_minor": 4
}
