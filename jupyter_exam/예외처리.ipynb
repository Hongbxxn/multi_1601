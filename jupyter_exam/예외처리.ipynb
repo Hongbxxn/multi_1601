{
 "cells": [
  {
   "cell_type": "code",
   "execution_count": 1,
   "metadata": {},
   "outputs": [
    {
     "name": "stdout",
     "output_type": "stream",
     "text": [
      "1\n",
      "10.0\n",
      "aaa\n",
      "aaa\n",
      "aaa\n",
      "aaa\n",
      "aaa\n"
     ]
    }
   ],
   "source": [
    "i = int(input())\n",
    "try:\n",
    "    print(10 / i)\n",
    "except:\n",
    "    print('예외발생!!')\n",
    "    \n",
    "print('aaa')\n",
    "print('aaa')\n",
    "print('aaa')\n",
    "print('aaa')\n",
    "print('aaa')\n"
   ]
  },
  {
   "cell_type": "code",
   "execution_count": null,
   "metadata": {},
   "outputs": [],
   "source": [
    "arr = [1,2,3]\n",
    "try:\n",
    "    arr[0]\n",
    "    arr[3]\n",
    "except:\n",
    "    print('인덱스를 벗어났어요~~')"
   ]
  },
  {
   "cell_type": "code",
   "execution_count": null,
   "metadata": {},
   "outputs": [],
   "source": [
    "#특정예외만 처리!!\n",
    "try:\n",
    "    arr = [10,20,30]\n",
    "    index,x = map(int, input('인덱스, 나눌숫자 입력!!').split())\n",
    "    print(arr[index]/x)\n",
    "#    i = int('a')\n",
    "except IndexError:\n",
    "    print('잘못된 인덱스 입력!!')\n",
    "except ZeroDivisionError:\n",
    "    print('0으로 나눌 수 없어요~')\n",
    "except Exception:\n",
    "    print('예외 발생~~')\n",
    "\n",
    "print('끝!!')"
   ]
  },
  {
   "cell_type": "code",
   "execution_count": 5,
   "metadata": {},
   "outputs": [
    {
     "name": "stdout",
     "output_type": "stream",
     "text": [
      "인덱스, 나눌숫자 입력!!2 3\n",
      "10.0\n"
     ]
    },
    {
     "ename": "ValueError",
     "evalue": "invalid literal for int() with base 10: 'a'",
     "output_type": "error",
     "traceback": [
      "\u001b[1;31m---------------------------------------------------------------------------\u001b[0m",
      "\u001b[1;31mValueError\u001b[0m                                Traceback (most recent call last)",
      "\u001b[1;32m<ipython-input-5-39faea43e3e6>\u001b[0m in \u001b[0;36m<module>\u001b[1;34m\u001b[0m\n\u001b[0;32m      3\u001b[0m     \u001b[0mindex\u001b[0m\u001b[1;33m,\u001b[0m\u001b[0mx\u001b[0m \u001b[1;33m=\u001b[0m \u001b[0mmap\u001b[0m\u001b[1;33m(\u001b[0m\u001b[0mint\u001b[0m\u001b[1;33m,\u001b[0m \u001b[0minput\u001b[0m\u001b[1;33m(\u001b[0m\u001b[1;34m'인덱스, 나눌숫자 입력!!'\u001b[0m\u001b[1;33m)\u001b[0m\u001b[1;33m.\u001b[0m\u001b[0msplit\u001b[0m\u001b[1;33m(\u001b[0m\u001b[1;33m)\u001b[0m\u001b[1;33m)\u001b[0m\u001b[1;33m\u001b[0m\u001b[1;33m\u001b[0m\u001b[0m\n\u001b[0;32m      4\u001b[0m     \u001b[0mprint\u001b[0m\u001b[1;33m(\u001b[0m\u001b[0marr\u001b[0m\u001b[1;33m[\u001b[0m\u001b[0mindex\u001b[0m\u001b[1;33m]\u001b[0m\u001b[1;33m/\u001b[0m\u001b[0mx\u001b[0m\u001b[1;33m)\u001b[0m\u001b[1;33m\u001b[0m\u001b[1;33m\u001b[0m\u001b[0m\n\u001b[1;32m----> 5\u001b[1;33m     \u001b[0mi\u001b[0m \u001b[1;33m=\u001b[0m \u001b[0mint\u001b[0m\u001b[1;33m(\u001b[0m\u001b[1;34m'a'\u001b[0m\u001b[1;33m)\u001b[0m\u001b[1;33m\u001b[0m\u001b[1;33m\u001b[0m\u001b[0m\n\u001b[0m\u001b[0;32m      6\u001b[0m \u001b[1;32mexcept\u001b[0m \u001b[0mIndexError\u001b[0m\u001b[1;33m:\u001b[0m\u001b[1;33m\u001b[0m\u001b[1;33m\u001b[0m\u001b[0m\n\u001b[0;32m      7\u001b[0m     \u001b[0mprint\u001b[0m\u001b[1;33m(\u001b[0m\u001b[1;34m'잘못된 인덱스 입력!!'\u001b[0m\u001b[1;33m)\u001b[0m\u001b[1;33m\u001b[0m\u001b[1;33m\u001b[0m\u001b[0m\n",
      "\u001b[1;31mValueError\u001b[0m: invalid literal for int() with base 10: 'a'"
     ]
    }
   ],
   "source": [
    "try:\n",
    "    arr = [10,20,30]\n",
    "    index,x = map(int, input('인덱스, 나눌숫자 입력!!').split())\n",
    "    print(arr[index]/x)\n",
    "    i = int('a')\n",
    "except IndexError:\n",
    "    print('잘못된 인덱스 입력!!')\n",
    "except ZeroDivisionError:\n",
    "    print('0으로 나눌 수 없어요~')\n",
    "except Exception:\n",
    "    print('예외 발생~~')\n",
    "    \n"
   ]
  },
  {
   "cell_type": "code",
   "execution_count": 6,
   "metadata": {},
   "outputs": [
    {
     "name": "stdout",
     "output_type": "stream",
     "text": [
      "인덱스, 나눌숫자 입력!!1 2\n",
      "10.0\n",
      "예외 발생~~ invalid literal for int() with base 10: 'a'\n"
     ]
    }
   ],
   "source": [
    "try:\n",
    "    arr = [10,20,30]\n",
    "    index,x = map(int, input('인덱스, 나눌숫자 입력!!').split())\n",
    "    print(arr[index]/x)\n",
    "    i = int('a')\n",
    "except IndexError as e:\n",
    "    print('잘못된 인덱스 입력!!',e)\n",
    "except ZeroDivisionError as e:\n",
    "    print('0으로 나눌 수 없어요~',e)\n",
    "except Exception as e:\n",
    "    print('예외 발생~~',e)"
   ]
  },
  {
   "cell_type": "code",
   "execution_count": 8,
   "metadata": {},
   "outputs": [
    {
     "name": "stdout",
     "output_type": "stream",
     "text": [
      "2\n",
      "결과 :  5.0\n",
      "끝!!! \n"
     ]
    }
   ],
   "source": [
    "#else 이용\n",
    "i = int(input())\n",
    "try:\n",
    "    result = 10 / i\n",
    "except:\n",
    "    print('예외발생!!')\n",
    "else:\n",
    "    print('결과 : ',result)\n",
    "    \n",
    "print('끝!!! ')"
   ]
  },
  {
   "cell_type": "code",
   "execution_count": 16,
   "metadata": {},
   "outputs": [
    {
     "name": "stdout",
     "output_type": "stream",
     "text": [
      "1\n",
      "try 블럭!!\n",
      "결과 :  10.0\n",
      "반드시 실행할 블럭~~~!!\n",
      "끝!!! \n"
     ]
    }
   ],
   "source": [
    "#else 이용\n",
    "i = int(input())\n",
    "try:\n",
    "    result = 10 / i    \n",
    "    print('try 블럭!!')     \n",
    "except:\n",
    "    print('예외발생!!')\n",
    "else:\n",
    "    print('결과 : ',result)\n",
    "finally:\n",
    "    print('반드시 실행할 블럭~~~!!')\n",
    "print('끝!!! ')"
   ]
  },
  {
   "cell_type": "code",
   "execution_count": 18,
   "metadata": {},
   "outputs": [
    {
     "name": "stdout",
     "output_type": "stream",
     "text": [
      "3의 배수를 입력하세요. : 2\n",
      "예외발생 3의 배수가 아닙니다. \n"
     ]
    }
   ],
   "source": [
    "#예외 발생 시키기!! \n",
    "try:\n",
    "    value = int(input('3의 배수를 입력하세요. : '))\n",
    "    if value % 3 != 0:\n",
    "        raise Exception('3의 배수가 아닙니다. ')\n",
    "    print(value)\n",
    "except Exception as e:\n",
    "    print('예외발생', e)"
   ]
  },
  {
   "cell_type": "code",
   "execution_count": 36,
   "metadata": {},
   "outputs": [
    {
     "name": "stdout",
     "output_type": "stream",
     "text": [
      "3의 배수를 입력하세요. : 1\n",
      "예외발생 3의 배수가 아닙니다. \n",
      "예외 발생  3의 배수가 아닙니다. \n"
     ]
    }
   ],
   "source": [
    "#현재 발생된 예외를 다시 한 번 발생시켜주는 예제\n",
    "\n",
    "def my_func():\n",
    "    try:\n",
    "        value = int(input('3의 배수를 입력하세요. : '))\n",
    "        if value % 3 != 0:\n",
    "            raise Exception('3의 배수가 아닙니다. ')\n",
    "        print(value)\n",
    "    except Exception as e:\n",
    "        print('예외발생', e)\n",
    "        raise\n",
    "     \n",
    "    \n",
    "try:    \n",
    "    my_func()\n",
    "except Exception as e:\n",
    "    print('예외 발생 ', e)\n"
   ]
  },
  {
   "cell_type": "code",
   "execution_count": 45,
   "metadata": {},
   "outputs": [],
   "source": [
    "class CaramiException(Exception):\n",
    "    def __init__(self):\n",
    "        super().__init__('3의 배수만 실행되요~~!!')"
   ]
  },
  {
   "cell_type": "code",
   "execution_count": 47,
   "metadata": {},
   "outputs": [],
   "source": [
    "class CaramiException(Exception):\n",
    "    pass"
   ]
  },
  {
   "cell_type": "code",
   "execution_count": 48,
   "metadata": {},
   "outputs": [
    {
     "name": "stdout",
     "output_type": "stream",
     "text": [
      "3의 배수를 입력하세요. : 1\n",
      "예외발생 값을 잘 입력해요!!!\n"
     ]
    }
   ],
   "source": [
    "def my_func():\n",
    "    try:\n",
    "        value = int(input('3의 배수를 입력하세요. : '))\n",
    "        if value % 3 != 0:\n",
    "            raise CaramiException('값을 잘 입력해요!!!')\n",
    "        print(value)\n",
    "    except Exception as e:\n",
    "        print('예외발생', e)\n",
    "\n",
    "        \n",
    "        \n",
    "my_func()"
   ]
  },
  {
   "cell_type": "code",
   "execution_count": null,
   "metadata": {},
   "outputs": [],
   "source": []
  },
  {
   "cell_type": "code",
   "execution_count": null,
   "metadata": {},
   "outputs": [],
   "source": []
  }
 ],
 "metadata": {
  "kernelspec": {
   "display_name": "Python 3",
   "language": "python",
   "name": "python3"
  },
  "language_info": {
   "codemirror_mode": {
    "name": "ipython",
    "version": 3
   },
   "file_extension": ".py",
   "mimetype": "text/x-python",
   "name": "python",
   "nbconvert_exporter": "python",
   "pygments_lexer": "ipython3",
   "version": "3.7.6"
  }
 },
 "nbformat": 4,
 "nbformat_minor": 4
}
