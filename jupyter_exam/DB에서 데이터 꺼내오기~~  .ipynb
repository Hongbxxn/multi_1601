{
 "cells": [
  {
   "cell_type": "code",
   "execution_count": 4,
   "metadata": {},
   "outputs": [
    {
     "name": "stdout",
     "output_type": "stream",
     "text": [
      "Requirement already satisfied: cx_oracle in c:\\programdata\\anaconda3\\lib\\site-packages (8.0.0)\n"
     ]
    }
   ],
   "source": [
    "# 1. DB와 연결해주는 모듈을 가지고 있을텐데... 이것을 알서 import\n",
    "!pip install cx_oracle"
   ]
  },
  {
   "cell_type": "code",
   "execution_count": 15,
   "metadata": {},
   "outputs": [],
   "source": [
    "import cx_Oracle\n",
    "# 2. DB 접속!! \n",
    "conn = cx_Oracle.connect('hr/hr@127.0.0.1:1521/xe')\n",
    "# 3. 쿼리작성 \n",
    "# 4. 쿼리를 실행\n",
    "# 5. 원하는 방법으로 결과값을 얻어온다. \n",
    "# 6. 접속종료!!\n",
    "\n"
   ]
  },
  {
   "cell_type": "code",
   "execution_count": 6,
   "metadata": {},
   "outputs": [
    {
     "data": {
      "text/plain": [
       "<cx_Oracle.Connection to hr@127.0.0.1:1521/xe>"
      ]
     },
     "execution_count": 6,
     "metadata": {},
     "output_type": "execute_result"
    }
   ],
   "source": [
    "conn"
   ]
  },
  {
   "cell_type": "code",
   "execution_count": 16,
   "metadata": {},
   "outputs": [
    {
     "data": {
      "text/plain": [
       "<cx_Oracle.Cursor on <cx_Oracle.Connection to hr@127.0.0.1:1521/xe>>"
      ]
     },
     "execution_count": 16,
     "metadata": {},
     "output_type": "execute_result"
    }
   ],
   "source": [
    "query = '''\n",
    "select * \n",
    "from \n",
    "departments\n",
    "'''\n",
    "cursor = conn.cursor()\n",
    "cursor.execute(query)\n",
    "\n",
    "cursor"
   ]
  },
  {
   "cell_type": "code",
   "execution_count": 13,
   "metadata": {},
   "outputs": [
    {
     "name": "stdout",
     "output_type": "stream",
     "text": [
      "(10, 'Administration', 200, 1700)\n",
      "(20, 'Marketing', 201, 1800)\n",
      "(30, 'Purchasing', 114, 1700)\n",
      "(40, 'Human Resources', 203, 2400)\n",
      "(50, 'Shipping', 121, 1500)\n",
      "(60, 'IT', 103, 1400)\n",
      "(70, 'Public Relations', 204, 2700)\n",
      "(80, 'Sales', 145, 2500)\n",
      "(90, 'Executive', 100, 1700)\n",
      "(100, 'Finance', 108, 1700)\n",
      "(110, 'Accounting', 205, 1700)\n",
      "(120, 'Treasury', None, 1700)\n",
      "(130, 'Corporate Tax', None, 1700)\n",
      "(140, 'Control And Credit', None, 1700)\n",
      "(150, 'Shareholder Services', None, 1700)\n",
      "(160, 'Benefits', None, 1700)\n",
      "(170, 'Manufacturing', None, 1700)\n",
      "(180, 'Construction', None, 1700)\n",
      "(190, 'Contracting', None, 1700)\n",
      "(200, 'Operations', None, 1700)\n",
      "(210, 'IT Support', None, 1700)\n",
      "(220, 'NOC', None, 1700)\n",
      "(230, 'IT Helpdesk', None, 1700)\n",
      "(240, 'Government Sales', None, 1700)\n",
      "(250, 'Retail Sales', None, 1700)\n",
      "(260, 'Recruiting', None, 1700)\n",
      "(270, 'Payroll', None, 1700)\n"
     ]
    }
   ],
   "source": [
    "for row in cursor:\n",
    "    print(row)\n",
    "    \n",
    "cursor.close()\n",
    "conn.close()"
   ]
  },
  {
   "cell_type": "code",
   "execution_count": null,
   "metadata": {},
   "outputs": [],
   "source": []
  }
 ],
 "metadata": {
  "kernelspec": {
   "display_name": "Python 3",
   "language": "python",
   "name": "python3"
  },
  "language_info": {
   "codemirror_mode": {
    "name": "ipython",
    "version": 3
   },
   "file_extension": ".py",
   "mimetype": "text/x-python",
   "name": "python",
   "nbconvert_exporter": "python",
   "pygments_lexer": "ipython3",
   "version": "3.7.6"
  }
 },
 "nbformat": 4,
 "nbformat_minor": 4
}
