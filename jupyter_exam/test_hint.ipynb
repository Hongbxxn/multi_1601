{
 "cells": [
  {
   "cell_type": "code",
   "execution_count": 1,
   "metadata": {},
   "outputs": [
    {
     "name": "stdout",
     "output_type": "stream",
     "text": [
      "h\n"
     ]
    }
   ],
   "source": [
    "a = 'python'\n",
    "print(a[3])"
   ]
  },
  {
   "cell_type": "code",
   "execution_count": 4,
   "metadata": {},
   "outputs": [
    {
     "data": {
      "text/plain": [
       "'pytion'"
      ]
     },
     "execution_count": 4,
     "metadata": {},
     "output_type": "execute_result"
    }
   ],
   "source": [
    "a.replace(a[3],'i')"
   ]
  },
  {
   "cell_type": "markdown",
   "metadata": {},
   "source": [
    "## enumerate 함수\n",
    "\n",
    "- 리스트가 있는 경우 순서와 리스트의 값을 전달하는 기능을 가짐.\n",
    "- 열거한다 \n",
    "- 순서가 있는 자료형(list, tuple.....)을 입력으로 받아서 인덱스를 포함하는 enumerate 객체를 리턴한다.\n"
   ]
  },
  {
   "cell_type": "code",
   "execution_count": 8,
   "metadata": {},
   "outputs": [
    {
     "name": "stdout",
     "output_type": "stream",
     "text": [
      "<enumerate object at 0x000002D3491256D8> <class 'enumerate'>\n"
     ]
    }
   ],
   "source": [
    "data = enumerate(('a','b','c'))\n",
    "print(data, type(data))"
   ]
  },
  {
   "cell_type": "code",
   "execution_count": 9,
   "metadata": {},
   "outputs": [
    {
     "name": "stdout",
     "output_type": "stream",
     "text": [
      "0 : a\n",
      "1 : b\n",
      "2 : c\n"
     ]
    }
   ],
   "source": [
    "for i, value in data:\n",
    "    print(i,':',value)"
   ]
  },
  {
   "cell_type": "code",
   "execution_count": 10,
   "metadata": {},
   "outputs": [
    {
     "name": "stdout",
     "output_type": "stream",
     "text": [
      "0 : a\n",
      "1 : b\n",
      "2 : c\n"
     ]
    }
   ],
   "source": [
    "for i, value in enumerate(['a','b','c']):\n",
    "    print(i,':',value)"
   ]
  },
  {
   "cell_type": "code",
   "execution_count": 11,
   "metadata": {},
   "outputs": [
    {
     "name": "stdout",
     "output_type": "stream",
     "text": [
      "0 : b\n",
      "1 : c\n",
      "2 : a\n"
     ]
    }
   ],
   "source": [
    "for i, value in enumerate({'a','b','c'}):\n",
    "    print(i,':',value)"
   ]
  },
  {
   "cell_type": "code",
   "execution_count": 12,
   "metadata": {},
   "outputs": [],
   "source": [
    "data = {'name':'kang','age':30}"
   ]
  },
  {
   "cell_type": "code",
   "execution_count": 15,
   "metadata": {},
   "outputs": [
    {
     "name": "stdout",
     "output_type": "stream",
     "text": [
      "0 : name kang\n",
      "1 : age 30\n"
     ]
    }
   ],
   "source": [
    "for i, key in enumerate(data):\n",
    "    print(i,':',key, data[key])"
   ]
  },
  {
   "cell_type": "code",
   "execution_count": 17,
   "metadata": {},
   "outputs": [
    {
     "name": "stdout",
     "output_type": "stream",
     "text": [
      "100 : p\n",
      "101 : y\n",
      "102 : t\n",
      "103 : h\n",
      "104 : o\n",
      "105 : n\n"
     ]
    }
   ],
   "source": [
    "for i , value in enumerate('python',100):\n",
    "    print(i,':',value)"
   ]
  },
  {
   "cell_type": "code",
   "execution_count": 18,
   "metadata": {},
   "outputs": [
    {
     "data": {
      "text/plain": [
       "[(1, 'kang'), (2, 'kim'), (3, 'hong'), (4, 'lee')]"
      ]
     },
     "execution_count": 18,
     "metadata": {},
     "output_type": "execute_result"
    }
   ],
   "source": [
    "#zip 함수\n",
    "number = [1,2,3,4]\n",
    "name = ['kang','kim','hong','lee']\n",
    "\n",
    "persons = list(zip(number,name))\n",
    "persons\n"
   ]
  },
  {
   "cell_type": "code",
   "execution_count": 22,
   "metadata": {},
   "outputs": [],
   "source": [
    "import pickle\n",
    "name = 'carami'\n",
    "age = 20\n",
    "address = '경기도 고양시 일산동구'\n",
    "score = {'kor':100,'eng':100,'math':100}\n",
    "\n",
    "with open('carami.txt','wb') as file:\n",
    "    pickle.dump(name,file)\n",
    "    pickle.dump(age,file)\n",
    "    pickle.dump(address,file)\n",
    "    pickle.dump(score,file)\n",
    "    \n"
   ]
  },
  {
   "cell_type": "code",
   "execution_count": 25,
   "metadata": {},
   "outputs": [
    {
     "name": "stdout",
     "output_type": "stream",
     "text": [
      "carami 20 경기도 고양시 일산동구 {'kor': 100, 'eng': 100, 'math': 100}\n"
     ]
    }
   ],
   "source": [
    "with open('carami.txt','rb') as file:\n",
    "    name = pickle.load(file)\n",
    "    age = pickle.load(file)\n",
    "    address = pickle.load(file)\n",
    "    score = pickle.load(file)\n",
    "    print(name, age, address, score)"
   ]
  },
  {
   "cell_type": "code",
   "execution_count": 26,
   "metadata": {},
   "outputs": [
    {
     "data": {
      "text/plain": [
       "'pto'"
      ]
     },
     "execution_count": 26,
     "metadata": {},
     "output_type": "execute_result"
    }
   ],
   "source": [
    "a = 'python'\n",
    "a[::2]"
   ]
  },
  {
   "cell_type": "code",
   "execution_count": 27,
   "metadata": {},
   "outputs": [
    {
     "data": {
      "text/plain": [
       "'python'"
      ]
     },
     "execution_count": 27,
     "metadata": {},
     "output_type": "execute_result"
    }
   ],
   "source": [
    "a[:]"
   ]
  },
  {
   "cell_type": "code",
   "execution_count": 29,
   "metadata": {},
   "outputs": [
    {
     "data": {
      "text/plain": [
       "False"
      ]
     },
     "execution_count": 29,
     "metadata": {},
     "output_type": "execute_result"
    }
   ],
   "source": [
    "bool('')"
   ]
  },
  {
   "cell_type": "code",
   "execution_count": 30,
   "metadata": {},
   "outputs": [
    {
     "data": {
      "text/plain": [
       "[(10, 'a'), (20, 'b'), (30, 'c')]"
      ]
     },
     "execution_count": 30,
     "metadata": {},
     "output_type": "execute_result"
    }
   ],
   "source": [
    "x=[10,20,30]\n",
    "y=['a','b','c']\n",
    "\n",
    "list(zip(x,y))"
   ]
  },
  {
   "cell_type": "code",
   "execution_count": 31,
   "metadata": {},
   "outputs": [
    {
     "data": {
      "text/plain": [
       "1"
      ]
     },
     "execution_count": 31,
     "metadata": {},
     "output_type": "execute_result"
    }
   ],
   "source": [
    "pow(1,2)"
   ]
  },
  {
   "cell_type": "code",
   "execution_count": 32,
   "metadata": {},
   "outputs": [
    {
     "data": {
      "text/plain": [
       "[1, 8, 81]"
      ]
     },
     "execution_count": 32,
     "metadata": {},
     "output_type": "execute_result"
    }
   ],
   "source": [
    "x=[1,2,3]\n",
    "y=[2,3,4]\n",
    "list(map(pow,x,y))"
   ]
  },
  {
   "cell_type": "code",
   "execution_count": 34,
   "metadata": {},
   "outputs": [
    {
     "data": {
      "text/plain": [
       "{'__name__': '__main__',\n",
       " '__doc__': 'Automatically created module for IPython interactive environment',\n",
       " '__package__': None,\n",
       " '__loader__': None,\n",
       " '__spec__': None,\n",
       " '__builtin__': <module 'builtins' (built-in)>,\n",
       " '__builtins__': <module 'builtins' (built-in)>,\n",
       " '_ih': ['',\n",
       "  \"a = 'python'\\nprint(a[3])\",\n",
       "  \"a[3]='i'\",\n",
       "  'a.replace(a[3],t)',\n",
       "  \"a.replace(a[3],'i')\",\n",
       "  \"data = enumerate(('a','b','c'))\",\n",
       "  \"data = enumerate(('a','b','c'))\\ndata\",\n",
       "  \"data = enumerate(('a','b','c'))\\nprint(data, type(data)\",\n",
       "  \"data = enumerate(('a','b','c'))\\nprint(data, type(data))\",\n",
       "  \"for i, value in data:\\n    print(i,':',value)\",\n",
       "  \"for i, value in enumerate(['a','b','c']):\\n    print(i,':',value)\",\n",
       "  \"for i, value in enumerate({'a','b','c'}):\\n    print(i,':',value)\",\n",
       "  \"data = {'name':'kang','age':30}\",\n",
       "  \"for i, key in data:\\n    print(i,':',key)\",\n",
       "  \"for i, key in enumerate(data):\\n    print(i,':',key)\",\n",
       "  \"for i, key in enumerate(data):\\n    print(i,':',key, data[key])\",\n",
       "  \"for i , value in enumerate('python'):\\n    print(i,':',value)\",\n",
       "  \"for i , value in enumerate('python',100):\\n    print(i,':',value)\",\n",
       "  \"#zip 함수\\nnumber = [1,2,3,4]\\nname = ['kang','kim','hong','lee']\\n\\npersons = list(zip(number,name))\\npersons\",\n",
       "  'import picke',\n",
       "  'import pickle',\n",
       "  \"import pickle\\nname = 'carami'\\nage = 20\\naddress = '경기도 고양시 일산동구'\\nscore = {'kor':100,'eng':100,'math':100}\\n\\nwith open('carami.txt','wb') as file:\\n    pickle.dump(name,file)\\n    pickle.dump(name,file)\\n    pickle.dump(name,file)\\n    \",\n",
       "  \"import pickle\\nname = 'carami'\\nage = 20\\naddress = '경기도 고양시 일산동구'\\nscore = {'kor':100,'eng':100,'math':100}\\n\\nwith open('carami.txt','wb') as file:\\n    pickle.dump(name,file)\\n    pickle.dump(age,file)\\n    pickle.dump(address,file)\\n    pickle.dump(score,file)\\n    \",\n",
       "  \"with open('carami.txt','rb') as file:\\n    name = pickle.load(file)\\n     name = pickle.load(file)\\n         name = pickle.load(file)\",\n",
       "  \"with open('carami.txt','rb') as file:\\n    name = pickle.load(file)\\n    age = pickle.load(file)\\n    address = pickle.load(file)\\n    score = pickle.load(file)\",\n",
       "  \"with open('carami.txt','rb') as file:\\n    name = pickle.load(file)\\n    age = pickle.load(file)\\n    address = pickle.load(file)\\n    score = pickle.load(file)\\n    print(name, age, address, score)\",\n",
       "  \"a = 'python'\\na[::2]\",\n",
       "  'a[:]',\n",
       "  \"bool(' ')\",\n",
       "  \"bool('')\",\n",
       "  \"x=[10,20,30]\\ny=['a','b','c']\\n\\nlist(zip(x,y))\",\n",
       "  'pow(1,2)',\n",
       "  'x=[1,2,3]\\ny=[2,3,4]\\nlist(map(pow,x,y))',\n",
       "  'locals()',\n",
       "  'locals()'],\n",
       " '_oh': {4: 'pytion',\n",
       "  6: <enumerate at 0x2d349125188>,\n",
       "  18: [(1, 'kang'), (2, 'kim'), (3, 'hong'), (4, 'lee')],\n",
       "  26: 'pto',\n",
       "  27: 'python',\n",
       "  28: True,\n",
       "  29: False,\n",
       "  30: [(10, 'a'), (20, 'b'), (30, 'c')],\n",
       "  31: 1,\n",
       "  32: [1, 8, 81],\n",
       "  33: {...}},\n",
       " '_dh': ['C:\\\\Users\\\\student\\\\python_exam'],\n",
       " 'In': ['',\n",
       "  \"a = 'python'\\nprint(a[3])\",\n",
       "  \"a[3]='i'\",\n",
       "  'a.replace(a[3],t)',\n",
       "  \"a.replace(a[3],'i')\",\n",
       "  \"data = enumerate(('a','b','c'))\",\n",
       "  \"data = enumerate(('a','b','c'))\\ndata\",\n",
       "  \"data = enumerate(('a','b','c'))\\nprint(data, type(data)\",\n",
       "  \"data = enumerate(('a','b','c'))\\nprint(data, type(data))\",\n",
       "  \"for i, value in data:\\n    print(i,':',value)\",\n",
       "  \"for i, value in enumerate(['a','b','c']):\\n    print(i,':',value)\",\n",
       "  \"for i, value in enumerate({'a','b','c'}):\\n    print(i,':',value)\",\n",
       "  \"data = {'name':'kang','age':30}\",\n",
       "  \"for i, key in data:\\n    print(i,':',key)\",\n",
       "  \"for i, key in enumerate(data):\\n    print(i,':',key)\",\n",
       "  \"for i, key in enumerate(data):\\n    print(i,':',key, data[key])\",\n",
       "  \"for i , value in enumerate('python'):\\n    print(i,':',value)\",\n",
       "  \"for i , value in enumerate('python',100):\\n    print(i,':',value)\",\n",
       "  \"#zip 함수\\nnumber = [1,2,3,4]\\nname = ['kang','kim','hong','lee']\\n\\npersons = list(zip(number,name))\\npersons\",\n",
       "  'import picke',\n",
       "  'import pickle',\n",
       "  \"import pickle\\nname = 'carami'\\nage = 20\\naddress = '경기도 고양시 일산동구'\\nscore = {'kor':100,'eng':100,'math':100}\\n\\nwith open('carami.txt','wb') as file:\\n    pickle.dump(name,file)\\n    pickle.dump(name,file)\\n    pickle.dump(name,file)\\n    \",\n",
       "  \"import pickle\\nname = 'carami'\\nage = 20\\naddress = '경기도 고양시 일산동구'\\nscore = {'kor':100,'eng':100,'math':100}\\n\\nwith open('carami.txt','wb') as file:\\n    pickle.dump(name,file)\\n    pickle.dump(age,file)\\n    pickle.dump(address,file)\\n    pickle.dump(score,file)\\n    \",\n",
       "  \"with open('carami.txt','rb') as file:\\n    name = pickle.load(file)\\n     name = pickle.load(file)\\n         name = pickle.load(file)\",\n",
       "  \"with open('carami.txt','rb') as file:\\n    name = pickle.load(file)\\n    age = pickle.load(file)\\n    address = pickle.load(file)\\n    score = pickle.load(file)\",\n",
       "  \"with open('carami.txt','rb') as file:\\n    name = pickle.load(file)\\n    age = pickle.load(file)\\n    address = pickle.load(file)\\n    score = pickle.load(file)\\n    print(name, age, address, score)\",\n",
       "  \"a = 'python'\\na[::2]\",\n",
       "  'a[:]',\n",
       "  \"bool(' ')\",\n",
       "  \"bool('')\",\n",
       "  \"x=[10,20,30]\\ny=['a','b','c']\\n\\nlist(zip(x,y))\",\n",
       "  'pow(1,2)',\n",
       "  'x=[1,2,3]\\ny=[2,3,4]\\nlist(map(pow,x,y))',\n",
       "  'locals()',\n",
       "  'locals()'],\n",
       " 'Out': {4: 'pytion',\n",
       "  6: <enumerate at 0x2d349125188>,\n",
       "  18: [(1, 'kang'), (2, 'kim'), (3, 'hong'), (4, 'lee')],\n",
       "  26: 'pto',\n",
       "  27: 'python',\n",
       "  28: True,\n",
       "  29: False,\n",
       "  30: [(10, 'a'), (20, 'b'), (30, 'c')],\n",
       "  31: 1,\n",
       "  32: [1, 8, 81],\n",
       "  33: {...}},\n",
       " 'get_ipython': <bound method InteractiveShell.get_ipython of <ipykernel.zmqshell.ZMQInteractiveShell object at 0x000002D34826BF88>>,\n",
       " 'exit': <IPython.core.autocall.ZMQExitAutocall at 0x2d348294988>,\n",
       " 'quit': <IPython.core.autocall.ZMQExitAutocall at 0x2d348294988>,\n",
       " '_': {...},\n",
       " '__': [1, 8, 81],\n",
       " '___': 1,\n",
       " '_i': 'locals()',\n",
       " '_ii': 'x=[1,2,3]\\ny=[2,3,4]\\nlist(map(pow,x,y))',\n",
       " '_iii': 'pow(1,2)',\n",
       " '_i1': \"a = 'python'\\nprint(a[3])\",\n",
       " 'a': 'python',\n",
       " '_i2': \"a[3]='i'\",\n",
       " '_i3': 'a.replace(a[3],t)',\n",
       " '_i4': \"a.replace(a[3],'i')\",\n",
       " '_4': 'pytion',\n",
       " '_i5': \"data = enumerate(('a','b','c'))\",\n",
       " 'data': {'name': 'kang', 'age': 30},\n",
       " '_i6': \"data = enumerate(('a','b','c'))\\ndata\",\n",
       " '_6': <enumerate at 0x2d349125188>,\n",
       " '_i7': \"data = enumerate(('a','b','c'))\\nprint(data, type(data)\",\n",
       " '_i8': \"data = enumerate(('a','b','c'))\\nprint(data, type(data))\",\n",
       " '_i9': \"for i, value in data:\\n    print(i,':',value)\",\n",
       " 'i': 105,\n",
       " 'value': 'n',\n",
       " '_i10': \"for i, value in enumerate(['a','b','c']):\\n    print(i,':',value)\",\n",
       " '_i11': \"for i, value in enumerate({'a','b','c'}):\\n    print(i,':',value)\",\n",
       " '_i12': \"data = {'name':'kang','age':30}\",\n",
       " '_i13': \"for i, key in data:\\n    print(i,':',key)\",\n",
       " '_i14': \"for i, key in enumerate(data):\\n    print(i,':',key)\",\n",
       " 'key': 'age',\n",
       " '_i15': \"for i, key in enumerate(data):\\n    print(i,':',key, data[key])\",\n",
       " '_i16': \"for i , value in enumerate('python'):\\n    print(i,':',value)\",\n",
       " '_i17': \"for i , value in enumerate('python',100):\\n    print(i,':',value)\",\n",
       " '_i18': \"#zip 함수\\nnumber = [1,2,3,4]\\nname = ['kang','kim','hong','lee']\\n\\npersons = list(zip(number,name))\\npersons\",\n",
       " 'number': [1, 2, 3, 4],\n",
       " 'name': 'carami',\n",
       " 'persons': [(1, 'kang'), (2, 'kim'), (3, 'hong'), (4, 'lee')],\n",
       " '_18': [(1, 'kang'), (2, 'kim'), (3, 'hong'), (4, 'lee')],\n",
       " '_i19': 'import picke',\n",
       " '_i20': 'import pickle',\n",
       " 'pickle': <module 'pickle' from 'C:\\\\ProgramData\\\\Anaconda3\\\\lib\\\\pickle.py'>,\n",
       " '_i21': \"import pickle\\nname = 'carami'\\nage = 20\\naddress = '경기도 고양시 일산동구'\\nscore = {'kor':100,'eng':100,'math':100}\\n\\nwith open('carami.txt','wb') as file:\\n    pickle.dump(name,file)\\n    pickle.dump(name,file)\\n    pickle.dump(name,file)\\n    \",\n",
       " 'age': 20,\n",
       " 'address': '경기도 고양시 일산동구',\n",
       " 'score': {'kor': 100, 'eng': 100, 'math': 100},\n",
       " 'file': <_io.BufferedReader name='carami.txt'>,\n",
       " '_i22': \"import pickle\\nname = 'carami'\\nage = 20\\naddress = '경기도 고양시 일산동구'\\nscore = {'kor':100,'eng':100,'math':100}\\n\\nwith open('carami.txt','wb') as file:\\n    pickle.dump(name,file)\\n    pickle.dump(age,file)\\n    pickle.dump(address,file)\\n    pickle.dump(score,file)\\n    \",\n",
       " '_i23': \"with open('carami.txt','rb') as file:\\n    name = pickle.load(file)\\n     name = pickle.load(file)\\n         name = pickle.load(file)\",\n",
       " '_i24': \"with open('carami.txt','rb') as file:\\n    name = pickle.load(file)\\n    age = pickle.load(file)\\n    address = pickle.load(file)\\n    score = pickle.load(file)\",\n",
       " '_i25': \"with open('carami.txt','rb') as file:\\n    name = pickle.load(file)\\n    age = pickle.load(file)\\n    address = pickle.load(file)\\n    score = pickle.load(file)\\n    print(name, age, address, score)\",\n",
       " '_i26': \"a = 'python'\\na[::2]\",\n",
       " '_26': 'pto',\n",
       " '_i27': 'a[:]',\n",
       " '_27': 'python',\n",
       " '_i28': \"bool(' ')\",\n",
       " '_28': True,\n",
       " '_i29': \"bool('')\",\n",
       " '_29': False,\n",
       " '_i30': \"x=[10,20,30]\\ny=['a','b','c']\\n\\nlist(zip(x,y))\",\n",
       " 'x': [1, 2, 3],\n",
       " 'y': [2, 3, 4],\n",
       " '_30': [(10, 'a'), (20, 'b'), (30, 'c')],\n",
       " '_i31': 'pow(1,2)',\n",
       " '_31': 1,\n",
       " '_i32': 'x=[1,2,3]\\ny=[2,3,4]\\nlist(map(pow,x,y))',\n",
       " '_32': [1, 8, 81],\n",
       " '_i33': 'locals()',\n",
       " '_33': {...},\n",
       " '_i34': 'locals()'}"
      ]
     },
     "execution_count": 34,
     "metadata": {},
     "output_type": "execute_result"
    }
   ],
   "source": [
    "locals()\n"
   ]
  },
  {
   "cell_type": "code",
   "execution_count": 35,
   "metadata": {},
   "outputs": [
    {
     "data": {
      "text/plain": [
       "{'__name__': '__main__',\n",
       " '__doc__': 'Automatically created module for IPython interactive environment',\n",
       " '__package__': None,\n",
       " '__loader__': None,\n",
       " '__spec__': None,\n",
       " '__builtin__': <module 'builtins' (built-in)>,\n",
       " '__builtins__': <module 'builtins' (built-in)>,\n",
       " '_ih': ['',\n",
       "  \"a = 'python'\\nprint(a[3])\",\n",
       "  \"a[3]='i'\",\n",
       "  'a.replace(a[3],t)',\n",
       "  \"a.replace(a[3],'i')\",\n",
       "  \"data = enumerate(('a','b','c'))\",\n",
       "  \"data = enumerate(('a','b','c'))\\ndata\",\n",
       "  \"data = enumerate(('a','b','c'))\\nprint(data, type(data)\",\n",
       "  \"data = enumerate(('a','b','c'))\\nprint(data, type(data))\",\n",
       "  \"for i, value in data:\\n    print(i,':',value)\",\n",
       "  \"for i, value in enumerate(['a','b','c']):\\n    print(i,':',value)\",\n",
       "  \"for i, value in enumerate({'a','b','c'}):\\n    print(i,':',value)\",\n",
       "  \"data = {'name':'kang','age':30}\",\n",
       "  \"for i, key in data:\\n    print(i,':',key)\",\n",
       "  \"for i, key in enumerate(data):\\n    print(i,':',key)\",\n",
       "  \"for i, key in enumerate(data):\\n    print(i,':',key, data[key])\",\n",
       "  \"for i , value in enumerate('python'):\\n    print(i,':',value)\",\n",
       "  \"for i , value in enumerate('python',100):\\n    print(i,':',value)\",\n",
       "  \"#zip 함수\\nnumber = [1,2,3,4]\\nname = ['kang','kim','hong','lee']\\n\\npersons = list(zip(number,name))\\npersons\",\n",
       "  'import picke',\n",
       "  'import pickle',\n",
       "  \"import pickle\\nname = 'carami'\\nage = 20\\naddress = '경기도 고양시 일산동구'\\nscore = {'kor':100,'eng':100,'math':100}\\n\\nwith open('carami.txt','wb') as file:\\n    pickle.dump(name,file)\\n    pickle.dump(name,file)\\n    pickle.dump(name,file)\\n    \",\n",
       "  \"import pickle\\nname = 'carami'\\nage = 20\\naddress = '경기도 고양시 일산동구'\\nscore = {'kor':100,'eng':100,'math':100}\\n\\nwith open('carami.txt','wb') as file:\\n    pickle.dump(name,file)\\n    pickle.dump(age,file)\\n    pickle.dump(address,file)\\n    pickle.dump(score,file)\\n    \",\n",
       "  \"with open('carami.txt','rb') as file:\\n    name = pickle.load(file)\\n     name = pickle.load(file)\\n         name = pickle.load(file)\",\n",
       "  \"with open('carami.txt','rb') as file:\\n    name = pickle.load(file)\\n    age = pickle.load(file)\\n    address = pickle.load(file)\\n    score = pickle.load(file)\",\n",
       "  \"with open('carami.txt','rb') as file:\\n    name = pickle.load(file)\\n    age = pickle.load(file)\\n    address = pickle.load(file)\\n    score = pickle.load(file)\\n    print(name, age, address, score)\",\n",
       "  \"a = 'python'\\na[::2]\",\n",
       "  'a[:]',\n",
       "  \"bool(' ')\",\n",
       "  \"bool('')\",\n",
       "  \"x=[10,20,30]\\ny=['a','b','c']\\n\\nlist(zip(x,y))\",\n",
       "  'pow(1,2)',\n",
       "  'x=[1,2,3]\\ny=[2,3,4]\\nlist(map(pow,x,y))',\n",
       "  'locals()',\n",
       "  'locals()',\n",
       "  'globals()'],\n",
       " '_oh': {4: 'pytion',\n",
       "  6: <enumerate at 0x2d349125188>,\n",
       "  18: [(1, 'kang'), (2, 'kim'), (3, 'hong'), (4, 'lee')],\n",
       "  26: 'pto',\n",
       "  27: 'python',\n",
       "  28: True,\n",
       "  29: False,\n",
       "  30: [(10, 'a'), (20, 'b'), (30, 'c')],\n",
       "  31: 1,\n",
       "  32: [1, 8, 81],\n",
       "  33: {...},\n",
       "  34: {...}},\n",
       " '_dh': ['C:\\\\Users\\\\student\\\\python_exam'],\n",
       " 'In': ['',\n",
       "  \"a = 'python'\\nprint(a[3])\",\n",
       "  \"a[3]='i'\",\n",
       "  'a.replace(a[3],t)',\n",
       "  \"a.replace(a[3],'i')\",\n",
       "  \"data = enumerate(('a','b','c'))\",\n",
       "  \"data = enumerate(('a','b','c'))\\ndata\",\n",
       "  \"data = enumerate(('a','b','c'))\\nprint(data, type(data)\",\n",
       "  \"data = enumerate(('a','b','c'))\\nprint(data, type(data))\",\n",
       "  \"for i, value in data:\\n    print(i,':',value)\",\n",
       "  \"for i, value in enumerate(['a','b','c']):\\n    print(i,':',value)\",\n",
       "  \"for i, value in enumerate({'a','b','c'}):\\n    print(i,':',value)\",\n",
       "  \"data = {'name':'kang','age':30}\",\n",
       "  \"for i, key in data:\\n    print(i,':',key)\",\n",
       "  \"for i, key in enumerate(data):\\n    print(i,':',key)\",\n",
       "  \"for i, key in enumerate(data):\\n    print(i,':',key, data[key])\",\n",
       "  \"for i , value in enumerate('python'):\\n    print(i,':',value)\",\n",
       "  \"for i , value in enumerate('python',100):\\n    print(i,':',value)\",\n",
       "  \"#zip 함수\\nnumber = [1,2,3,4]\\nname = ['kang','kim','hong','lee']\\n\\npersons = list(zip(number,name))\\npersons\",\n",
       "  'import picke',\n",
       "  'import pickle',\n",
       "  \"import pickle\\nname = 'carami'\\nage = 20\\naddress = '경기도 고양시 일산동구'\\nscore = {'kor':100,'eng':100,'math':100}\\n\\nwith open('carami.txt','wb') as file:\\n    pickle.dump(name,file)\\n    pickle.dump(name,file)\\n    pickle.dump(name,file)\\n    \",\n",
       "  \"import pickle\\nname = 'carami'\\nage = 20\\naddress = '경기도 고양시 일산동구'\\nscore = {'kor':100,'eng':100,'math':100}\\n\\nwith open('carami.txt','wb') as file:\\n    pickle.dump(name,file)\\n    pickle.dump(age,file)\\n    pickle.dump(address,file)\\n    pickle.dump(score,file)\\n    \",\n",
       "  \"with open('carami.txt','rb') as file:\\n    name = pickle.load(file)\\n     name = pickle.load(file)\\n         name = pickle.load(file)\",\n",
       "  \"with open('carami.txt','rb') as file:\\n    name = pickle.load(file)\\n    age = pickle.load(file)\\n    address = pickle.load(file)\\n    score = pickle.load(file)\",\n",
       "  \"with open('carami.txt','rb') as file:\\n    name = pickle.load(file)\\n    age = pickle.load(file)\\n    address = pickle.load(file)\\n    score = pickle.load(file)\\n    print(name, age, address, score)\",\n",
       "  \"a = 'python'\\na[::2]\",\n",
       "  'a[:]',\n",
       "  \"bool(' ')\",\n",
       "  \"bool('')\",\n",
       "  \"x=[10,20,30]\\ny=['a','b','c']\\n\\nlist(zip(x,y))\",\n",
       "  'pow(1,2)',\n",
       "  'x=[1,2,3]\\ny=[2,3,4]\\nlist(map(pow,x,y))',\n",
       "  'locals()',\n",
       "  'locals()',\n",
       "  'globals()'],\n",
       " 'Out': {4: 'pytion',\n",
       "  6: <enumerate at 0x2d349125188>,\n",
       "  18: [(1, 'kang'), (2, 'kim'), (3, 'hong'), (4, 'lee')],\n",
       "  26: 'pto',\n",
       "  27: 'python',\n",
       "  28: True,\n",
       "  29: False,\n",
       "  30: [(10, 'a'), (20, 'b'), (30, 'c')],\n",
       "  31: 1,\n",
       "  32: [1, 8, 81],\n",
       "  33: {...},\n",
       "  34: {...}},\n",
       " 'get_ipython': <bound method InteractiveShell.get_ipython of <ipykernel.zmqshell.ZMQInteractiveShell object at 0x000002D34826BF88>>,\n",
       " 'exit': <IPython.core.autocall.ZMQExitAutocall at 0x2d348294988>,\n",
       " 'quit': <IPython.core.autocall.ZMQExitAutocall at 0x2d348294988>,\n",
       " '_': {...},\n",
       " '__': {...},\n",
       " '___': [1, 8, 81],\n",
       " '_i': 'locals()',\n",
       " '_ii': 'locals()',\n",
       " '_iii': 'x=[1,2,3]\\ny=[2,3,4]\\nlist(map(pow,x,y))',\n",
       " '_i1': \"a = 'python'\\nprint(a[3])\",\n",
       " 'a': 'python',\n",
       " '_i2': \"a[3]='i'\",\n",
       " '_i3': 'a.replace(a[3],t)',\n",
       " '_i4': \"a.replace(a[3],'i')\",\n",
       " '_4': 'pytion',\n",
       " '_i5': \"data = enumerate(('a','b','c'))\",\n",
       " 'data': {'name': 'kang', 'age': 30},\n",
       " '_i6': \"data = enumerate(('a','b','c'))\\ndata\",\n",
       " '_6': <enumerate at 0x2d349125188>,\n",
       " '_i7': \"data = enumerate(('a','b','c'))\\nprint(data, type(data)\",\n",
       " '_i8': \"data = enumerate(('a','b','c'))\\nprint(data, type(data))\",\n",
       " '_i9': \"for i, value in data:\\n    print(i,':',value)\",\n",
       " 'i': 105,\n",
       " 'value': 'n',\n",
       " '_i10': \"for i, value in enumerate(['a','b','c']):\\n    print(i,':',value)\",\n",
       " '_i11': \"for i, value in enumerate({'a','b','c'}):\\n    print(i,':',value)\",\n",
       " '_i12': \"data = {'name':'kang','age':30}\",\n",
       " '_i13': \"for i, key in data:\\n    print(i,':',key)\",\n",
       " '_i14': \"for i, key in enumerate(data):\\n    print(i,':',key)\",\n",
       " 'key': 'age',\n",
       " '_i15': \"for i, key in enumerate(data):\\n    print(i,':',key, data[key])\",\n",
       " '_i16': \"for i , value in enumerate('python'):\\n    print(i,':',value)\",\n",
       " '_i17': \"for i , value in enumerate('python',100):\\n    print(i,':',value)\",\n",
       " '_i18': \"#zip 함수\\nnumber = [1,2,3,4]\\nname = ['kang','kim','hong','lee']\\n\\npersons = list(zip(number,name))\\npersons\",\n",
       " 'number': [1, 2, 3, 4],\n",
       " 'name': 'carami',\n",
       " 'persons': [(1, 'kang'), (2, 'kim'), (3, 'hong'), (4, 'lee')],\n",
       " '_18': [(1, 'kang'), (2, 'kim'), (3, 'hong'), (4, 'lee')],\n",
       " '_i19': 'import picke',\n",
       " '_i20': 'import pickle',\n",
       " 'pickle': <module 'pickle' from 'C:\\\\ProgramData\\\\Anaconda3\\\\lib\\\\pickle.py'>,\n",
       " '_i21': \"import pickle\\nname = 'carami'\\nage = 20\\naddress = '경기도 고양시 일산동구'\\nscore = {'kor':100,'eng':100,'math':100}\\n\\nwith open('carami.txt','wb') as file:\\n    pickle.dump(name,file)\\n    pickle.dump(name,file)\\n    pickle.dump(name,file)\\n    \",\n",
       " 'age': 20,\n",
       " 'address': '경기도 고양시 일산동구',\n",
       " 'score': {'kor': 100, 'eng': 100, 'math': 100},\n",
       " 'file': <_io.BufferedReader name='carami.txt'>,\n",
       " '_i22': \"import pickle\\nname = 'carami'\\nage = 20\\naddress = '경기도 고양시 일산동구'\\nscore = {'kor':100,'eng':100,'math':100}\\n\\nwith open('carami.txt','wb') as file:\\n    pickle.dump(name,file)\\n    pickle.dump(age,file)\\n    pickle.dump(address,file)\\n    pickle.dump(score,file)\\n    \",\n",
       " '_i23': \"with open('carami.txt','rb') as file:\\n    name = pickle.load(file)\\n     name = pickle.load(file)\\n         name = pickle.load(file)\",\n",
       " '_i24': \"with open('carami.txt','rb') as file:\\n    name = pickle.load(file)\\n    age = pickle.load(file)\\n    address = pickle.load(file)\\n    score = pickle.load(file)\",\n",
       " '_i25': \"with open('carami.txt','rb') as file:\\n    name = pickle.load(file)\\n    age = pickle.load(file)\\n    address = pickle.load(file)\\n    score = pickle.load(file)\\n    print(name, age, address, score)\",\n",
       " '_i26': \"a = 'python'\\na[::2]\",\n",
       " '_26': 'pto',\n",
       " '_i27': 'a[:]',\n",
       " '_27': 'python',\n",
       " '_i28': \"bool(' ')\",\n",
       " '_28': True,\n",
       " '_i29': \"bool('')\",\n",
       " '_29': False,\n",
       " '_i30': \"x=[10,20,30]\\ny=['a','b','c']\\n\\nlist(zip(x,y))\",\n",
       " 'x': [1, 2, 3],\n",
       " 'y': [2, 3, 4],\n",
       " '_30': [(10, 'a'), (20, 'b'), (30, 'c')],\n",
       " '_i31': 'pow(1,2)',\n",
       " '_31': 1,\n",
       " '_i32': 'x=[1,2,3]\\ny=[2,3,4]\\nlist(map(pow,x,y))',\n",
       " '_32': [1, 8, 81],\n",
       " '_i33': 'locals()',\n",
       " '_33': {...},\n",
       " '_i34': 'locals()',\n",
       " '_34': {...},\n",
       " '_i35': 'globals()'}"
      ]
     },
     "execution_count": 35,
     "metadata": {},
     "output_type": "execute_result"
    }
   ],
   "source": [
    "globals()"
   ]
  },
  {
   "cell_type": "code",
   "execution_count": 49,
   "metadata": {},
   "outputs": [
    {
     "name": "stdout",
     "output_type": "stream",
     "text": [
      "apple is red\n"
     ]
    }
   ],
   "source": [
    "item = 'apple'\n",
    "color='red'\n",
    "\n",
    "print('{0[item]} is {0[color]}'.format(globals()))"
   ]
  },
  {
   "cell_type": "code",
   "execution_count": 61,
   "metadata": {},
   "outputs": [
    {
     "name": "stdout",
     "output_type": "stream",
     "text": [
      "apple is red\n"
     ]
    }
   ],
   "source": [
    "\n",
    "print('{item} is {color}'.format(**locals()))"
   ]
  },
  {
   "cell_type": "code",
   "execution_count": 51,
   "metadata": {},
   "outputs": [
    {
     "data": {
      "text/plain": [
       "{'__name__': '__main__',\n",
       " '__doc__': 'Automatically created module for IPython interactive environment',\n",
       " '__package__': None,\n",
       " '__loader__': None,\n",
       " '__spec__': None,\n",
       " '__builtin__': <module 'builtins' (built-in)>,\n",
       " '__builtins__': <module 'builtins' (built-in)>,\n",
       " '_ih': ['',\n",
       "  \"a = 'python'\\nprint(a[3])\",\n",
       "  \"a[3]='i'\",\n",
       "  'a.replace(a[3],t)',\n",
       "  \"a.replace(a[3],'i')\",\n",
       "  \"data = enumerate(('a','b','c'))\",\n",
       "  \"data = enumerate(('a','b','c'))\\ndata\",\n",
       "  \"data = enumerate(('a','b','c'))\\nprint(data, type(data)\",\n",
       "  \"data = enumerate(('a','b','c'))\\nprint(data, type(data))\",\n",
       "  \"for i, value in data:\\n    print(i,':',value)\",\n",
       "  \"for i, value in enumerate(['a','b','c']):\\n    print(i,':',value)\",\n",
       "  \"for i, value in enumerate({'a','b','c'}):\\n    print(i,':',value)\",\n",
       "  \"data = {'name':'kang','age':30}\",\n",
       "  \"for i, key in data:\\n    print(i,':',key)\",\n",
       "  \"for i, key in enumerate(data):\\n    print(i,':',key)\",\n",
       "  \"for i, key in enumerate(data):\\n    print(i,':',key, data[key])\",\n",
       "  \"for i , value in enumerate('python'):\\n    print(i,':',value)\",\n",
       "  \"for i , value in enumerate('python',100):\\n    print(i,':',value)\",\n",
       "  \"#zip 함수\\nnumber = [1,2,3,4]\\nname = ['kang','kim','hong','lee']\\n\\npersons = list(zip(number,name))\\npersons\",\n",
       "  'import picke',\n",
       "  'import pickle',\n",
       "  \"import pickle\\nname = 'carami'\\nage = 20\\naddress = '경기도 고양시 일산동구'\\nscore = {'kor':100,'eng':100,'math':100}\\n\\nwith open('carami.txt','wb') as file:\\n    pickle.dump(name,file)\\n    pickle.dump(name,file)\\n    pickle.dump(name,file)\\n    \",\n",
       "  \"import pickle\\nname = 'carami'\\nage = 20\\naddress = '경기도 고양시 일산동구'\\nscore = {'kor':100,'eng':100,'math':100}\\n\\nwith open('carami.txt','wb') as file:\\n    pickle.dump(name,file)\\n    pickle.dump(age,file)\\n    pickle.dump(address,file)\\n    pickle.dump(score,file)\\n    \",\n",
       "  \"with open('carami.txt','rb') as file:\\n    name = pickle.load(file)\\n     name = pickle.load(file)\\n         name = pickle.load(file)\",\n",
       "  \"with open('carami.txt','rb') as file:\\n    name = pickle.load(file)\\n    age = pickle.load(file)\\n    address = pickle.load(file)\\n    score = pickle.load(file)\",\n",
       "  \"with open('carami.txt','rb') as file:\\n    name = pickle.load(file)\\n    age = pickle.load(file)\\n    address = pickle.load(file)\\n    score = pickle.load(file)\\n    print(name, age, address, score)\",\n",
       "  \"a = 'python'\\na[::2]\",\n",
       "  'a[:]',\n",
       "  \"bool(' ')\",\n",
       "  \"bool('')\",\n",
       "  \"x=[10,20,30]\\ny=['a','b','c']\\n\\nlist(zip(x,y))\",\n",
       "  'pow(1,2)',\n",
       "  'x=[1,2,3]\\ny=[2,3,4]\\nlist(map(pow,x,y))',\n",
       "  'locals()',\n",
       "  'locals()',\n",
       "  'globals()',\n",
       "  \"item = 'apple'\\ncolor='red'\\n\\nprint({0[item]} is {0[color]}.format(locals()))\",\n",
       "  \"item = 'apple'\\ncolor='red'\\n\\nprint('{0[item]} is {0[color]}'.format(locals()))\",\n",
       "  \"print('{item} is {color}'.format(**dic))\",\n",
       "  \"print('{item} is {color}'.format(**dict))\",\n",
       "  \"print('{item} is {color}'.format(locals()))\",\n",
       "  \"print('{item} is {color}'.format(item,color))\",\n",
       "  \"print('{item} is {color}'.format(**locals()))\",\n",
       "  \"print('{item} is {color}'.format(**globals()))\",\n",
       "  \"print('{item} is {color}'.format(**globals()))\",\n",
       "  \"print('{item} is {color}'.format(**locals())\",\n",
       "  \"item = 'apple'\\ncolor='red'\\n\\nprint('{0[item]} is {0[color]}'.format(locals()))\",\n",
       "  \"print('{item} is {color}'.format(**locals())\",\n",
       "  \"print('{item} is {color}'.format(**locals()))\",\n",
       "  \"item = 'apple'\\ncolor='red'\\n\\nprint('{0[item]} is {0[color]}'.format(globals()))\",\n",
       "  'globals()',\n",
       "  'locals()'],\n",
       " '_oh': {4: 'pytion',\n",
       "  6: <enumerate at 0x2d349125188>,\n",
       "  18: [(1, 'kang'), (2, 'kim'), (3, 'hong'), (4, 'lee')],\n",
       "  26: 'pto',\n",
       "  27: 'python',\n",
       "  28: True,\n",
       "  29: False,\n",
       "  30: [(10, 'a'), (20, 'b'), (30, 'c')],\n",
       "  31: 1,\n",
       "  32: [1, 8, 81],\n",
       "  33: {...},\n",
       "  34: {...},\n",
       "  35: {...},\n",
       "  50: {...}},\n",
       " '_dh': ['C:\\\\Users\\\\student\\\\python_exam'],\n",
       " 'In': ['',\n",
       "  \"a = 'python'\\nprint(a[3])\",\n",
       "  \"a[3]='i'\",\n",
       "  'a.replace(a[3],t)',\n",
       "  \"a.replace(a[3],'i')\",\n",
       "  \"data = enumerate(('a','b','c'))\",\n",
       "  \"data = enumerate(('a','b','c'))\\ndata\",\n",
       "  \"data = enumerate(('a','b','c'))\\nprint(data, type(data)\",\n",
       "  \"data = enumerate(('a','b','c'))\\nprint(data, type(data))\",\n",
       "  \"for i, value in data:\\n    print(i,':',value)\",\n",
       "  \"for i, value in enumerate(['a','b','c']):\\n    print(i,':',value)\",\n",
       "  \"for i, value in enumerate({'a','b','c'}):\\n    print(i,':',value)\",\n",
       "  \"data = {'name':'kang','age':30}\",\n",
       "  \"for i, key in data:\\n    print(i,':',key)\",\n",
       "  \"for i, key in enumerate(data):\\n    print(i,':',key)\",\n",
       "  \"for i, key in enumerate(data):\\n    print(i,':',key, data[key])\",\n",
       "  \"for i , value in enumerate('python'):\\n    print(i,':',value)\",\n",
       "  \"for i , value in enumerate('python',100):\\n    print(i,':',value)\",\n",
       "  \"#zip 함수\\nnumber = [1,2,3,4]\\nname = ['kang','kim','hong','lee']\\n\\npersons = list(zip(number,name))\\npersons\",\n",
       "  'import picke',\n",
       "  'import pickle',\n",
       "  \"import pickle\\nname = 'carami'\\nage = 20\\naddress = '경기도 고양시 일산동구'\\nscore = {'kor':100,'eng':100,'math':100}\\n\\nwith open('carami.txt','wb') as file:\\n    pickle.dump(name,file)\\n    pickle.dump(name,file)\\n    pickle.dump(name,file)\\n    \",\n",
       "  \"import pickle\\nname = 'carami'\\nage = 20\\naddress = '경기도 고양시 일산동구'\\nscore = {'kor':100,'eng':100,'math':100}\\n\\nwith open('carami.txt','wb') as file:\\n    pickle.dump(name,file)\\n    pickle.dump(age,file)\\n    pickle.dump(address,file)\\n    pickle.dump(score,file)\\n    \",\n",
       "  \"with open('carami.txt','rb') as file:\\n    name = pickle.load(file)\\n     name = pickle.load(file)\\n         name = pickle.load(file)\",\n",
       "  \"with open('carami.txt','rb') as file:\\n    name = pickle.load(file)\\n    age = pickle.load(file)\\n    address = pickle.load(file)\\n    score = pickle.load(file)\",\n",
       "  \"with open('carami.txt','rb') as file:\\n    name = pickle.load(file)\\n    age = pickle.load(file)\\n    address = pickle.load(file)\\n    score = pickle.load(file)\\n    print(name, age, address, score)\",\n",
       "  \"a = 'python'\\na[::2]\",\n",
       "  'a[:]',\n",
       "  \"bool(' ')\",\n",
       "  \"bool('')\",\n",
       "  \"x=[10,20,30]\\ny=['a','b','c']\\n\\nlist(zip(x,y))\",\n",
       "  'pow(1,2)',\n",
       "  'x=[1,2,3]\\ny=[2,3,4]\\nlist(map(pow,x,y))',\n",
       "  'locals()',\n",
       "  'locals()',\n",
       "  'globals()',\n",
       "  \"item = 'apple'\\ncolor='red'\\n\\nprint({0[item]} is {0[color]}.format(locals()))\",\n",
       "  \"item = 'apple'\\ncolor='red'\\n\\nprint('{0[item]} is {0[color]}'.format(locals()))\",\n",
       "  \"print('{item} is {color}'.format(**dic))\",\n",
       "  \"print('{item} is {color}'.format(**dict))\",\n",
       "  \"print('{item} is {color}'.format(locals()))\",\n",
       "  \"print('{item} is {color}'.format(item,color))\",\n",
       "  \"print('{item} is {color}'.format(**locals()))\",\n",
       "  \"print('{item} is {color}'.format(**globals()))\",\n",
       "  \"print('{item} is {color}'.format(**globals()))\",\n",
       "  \"print('{item} is {color}'.format(**locals())\",\n",
       "  \"item = 'apple'\\ncolor='red'\\n\\nprint('{0[item]} is {0[color]}'.format(locals()))\",\n",
       "  \"print('{item} is {color}'.format(**locals())\",\n",
       "  \"print('{item} is {color}'.format(**locals()))\",\n",
       "  \"item = 'apple'\\ncolor='red'\\n\\nprint('{0[item]} is {0[color]}'.format(globals()))\",\n",
       "  'globals()',\n",
       "  'locals()'],\n",
       " 'Out': {4: 'pytion',\n",
       "  6: <enumerate at 0x2d349125188>,\n",
       "  18: [(1, 'kang'), (2, 'kim'), (3, 'hong'), (4, 'lee')],\n",
       "  26: 'pto',\n",
       "  27: 'python',\n",
       "  28: True,\n",
       "  29: False,\n",
       "  30: [(10, 'a'), (20, 'b'), (30, 'c')],\n",
       "  31: 1,\n",
       "  32: [1, 8, 81],\n",
       "  33: {...},\n",
       "  34: {...},\n",
       "  35: {...},\n",
       "  50: {...}},\n",
       " 'get_ipython': <bound method InteractiveShell.get_ipython of <ipykernel.zmqshell.ZMQInteractiveShell object at 0x000002D34826BF88>>,\n",
       " 'exit': <IPython.core.autocall.ZMQExitAutocall at 0x2d348294988>,\n",
       " 'quit': <IPython.core.autocall.ZMQExitAutocall at 0x2d348294988>,\n",
       " '_': {...},\n",
       " '__': {...},\n",
       " '___': {...},\n",
       " '_i': 'globals()',\n",
       " '_ii': \"item = 'apple'\\ncolor='red'\\n\\nprint('{0[item]} is {0[color]}'.format(globals()))\",\n",
       " '_iii': \"print('{item} is {color}'.format(**locals()))\",\n",
       " '_i1': \"a = 'python'\\nprint(a[3])\",\n",
       " 'a': 'python',\n",
       " '_i2': \"a[3]='i'\",\n",
       " '_i3': 'a.replace(a[3],t)',\n",
       " '_i4': \"a.replace(a[3],'i')\",\n",
       " '_4': 'pytion',\n",
       " '_i5': \"data = enumerate(('a','b','c'))\",\n",
       " 'data': {'name': 'kang', 'age': 30},\n",
       " '_i6': \"data = enumerate(('a','b','c'))\\ndata\",\n",
       " '_6': <enumerate at 0x2d349125188>,\n",
       " '_i7': \"data = enumerate(('a','b','c'))\\nprint(data, type(data)\",\n",
       " '_i8': \"data = enumerate(('a','b','c'))\\nprint(data, type(data))\",\n",
       " '_i9': \"for i, value in data:\\n    print(i,':',value)\",\n",
       " 'i': 105,\n",
       " 'value': 'n',\n",
       " '_i10': \"for i, value in enumerate(['a','b','c']):\\n    print(i,':',value)\",\n",
       " '_i11': \"for i, value in enumerate({'a','b','c'}):\\n    print(i,':',value)\",\n",
       " '_i12': \"data = {'name':'kang','age':30}\",\n",
       " '_i13': \"for i, key in data:\\n    print(i,':',key)\",\n",
       " '_i14': \"for i, key in enumerate(data):\\n    print(i,':',key)\",\n",
       " 'key': 'age',\n",
       " '_i15': \"for i, key in enumerate(data):\\n    print(i,':',key, data[key])\",\n",
       " '_i16': \"for i , value in enumerate('python'):\\n    print(i,':',value)\",\n",
       " '_i17': \"for i , value in enumerate('python',100):\\n    print(i,':',value)\",\n",
       " '_i18': \"#zip 함수\\nnumber = [1,2,3,4]\\nname = ['kang','kim','hong','lee']\\n\\npersons = list(zip(number,name))\\npersons\",\n",
       " 'number': [1, 2, 3, 4],\n",
       " 'name': 'carami',\n",
       " 'persons': [(1, 'kang'), (2, 'kim'), (3, 'hong'), (4, 'lee')],\n",
       " '_18': [(1, 'kang'), (2, 'kim'), (3, 'hong'), (4, 'lee')],\n",
       " '_i19': 'import picke',\n",
       " '_i20': 'import pickle',\n",
       " 'pickle': <module 'pickle' from 'C:\\\\ProgramData\\\\Anaconda3\\\\lib\\\\pickle.py'>,\n",
       " '_i21': \"import pickle\\nname = 'carami'\\nage = 20\\naddress = '경기도 고양시 일산동구'\\nscore = {'kor':100,'eng':100,'math':100}\\n\\nwith open('carami.txt','wb') as file:\\n    pickle.dump(name,file)\\n    pickle.dump(name,file)\\n    pickle.dump(name,file)\\n    \",\n",
       " 'age': 20,\n",
       " 'address': '경기도 고양시 일산동구',\n",
       " 'score': {'kor': 100, 'eng': 100, 'math': 100},\n",
       " 'file': <_io.BufferedReader name='carami.txt'>,\n",
       " '_i22': \"import pickle\\nname = 'carami'\\nage = 20\\naddress = '경기도 고양시 일산동구'\\nscore = {'kor':100,'eng':100,'math':100}\\n\\nwith open('carami.txt','wb') as file:\\n    pickle.dump(name,file)\\n    pickle.dump(age,file)\\n    pickle.dump(address,file)\\n    pickle.dump(score,file)\\n    \",\n",
       " '_i23': \"with open('carami.txt','rb') as file:\\n    name = pickle.load(file)\\n     name = pickle.load(file)\\n         name = pickle.load(file)\",\n",
       " '_i24': \"with open('carami.txt','rb') as file:\\n    name = pickle.load(file)\\n    age = pickle.load(file)\\n    address = pickle.load(file)\\n    score = pickle.load(file)\",\n",
       " '_i25': \"with open('carami.txt','rb') as file:\\n    name = pickle.load(file)\\n    age = pickle.load(file)\\n    address = pickle.load(file)\\n    score = pickle.load(file)\\n    print(name, age, address, score)\",\n",
       " '_i26': \"a = 'python'\\na[::2]\",\n",
       " '_26': 'pto',\n",
       " '_i27': 'a[:]',\n",
       " '_27': 'python',\n",
       " '_i28': \"bool(' ')\",\n",
       " '_28': True,\n",
       " '_i29': \"bool('')\",\n",
       " '_29': False,\n",
       " '_i30': \"x=[10,20,30]\\ny=['a','b','c']\\n\\nlist(zip(x,y))\",\n",
       " 'x': [1, 2, 3],\n",
       " 'y': [2, 3, 4],\n",
       " '_30': [(10, 'a'), (20, 'b'), (30, 'c')],\n",
       " '_i31': 'pow(1,2)',\n",
       " '_31': 1,\n",
       " '_i32': 'x=[1,2,3]\\ny=[2,3,4]\\nlist(map(pow,x,y))',\n",
       " '_32': [1, 8, 81],\n",
       " '_i33': 'locals()',\n",
       " '_33': {...},\n",
       " '_i34': 'locals()',\n",
       " '_34': {...},\n",
       " '_i35': 'globals()',\n",
       " '_35': {...},\n",
       " '_i36': \"item = 'apple'\\ncolor='red'\\n\\nprint({0[item]} is {0[color]}.format(locals()))\",\n",
       " 'item': 'apple',\n",
       " 'color': 'red',\n",
       " '_i37': \"item = 'apple'\\ncolor='red'\\n\\nprint('{0[item]} is {0[color]}'.format(locals()))\",\n",
       " '_i38': \"print('{item} is {color}'.format(**dic))\",\n",
       " '_i39': \"print('{item} is {color}'.format(**dict))\",\n",
       " '_i40': \"print('{item} is {color}'.format(locals()))\",\n",
       " '_i41': \"print('{item} is {color}'.format(item,color))\",\n",
       " '_i42': \"print('{item} is {color}'.format(**locals()))\",\n",
       " '_i43': \"print('{item} is {color}'.format(**globals()))\",\n",
       " '_i44': \"print('{item} is {color}'.format(**globals()))\",\n",
       " '_i45': \"print('{item} is {color}'.format(**locals())\",\n",
       " '_i46': \"item = 'apple'\\ncolor='red'\\n\\nprint('{0[item]} is {0[color]}'.format(locals()))\",\n",
       " '_i47': \"print('{item} is {color}'.format(**locals())\",\n",
       " '_i48': \"print('{item} is {color}'.format(**locals()))\",\n",
       " '_i49': \"item = 'apple'\\ncolor='red'\\n\\nprint('{0[item]} is {0[color]}'.format(globals()))\",\n",
       " '_i50': 'globals()',\n",
       " '_50': {...},\n",
       " '_i51': 'locals()'}"
      ]
     },
     "execution_count": 51,
     "metadata": {},
     "output_type": "execute_result"
    }
   ],
   "source": [
    "locals()"
   ]
  },
  {
   "cell_type": "code",
   "execution_count": 52,
   "metadata": {},
   "outputs": [
    {
     "data": {
      "text/plain": [
       "{'__name__': '__main__',\n",
       " '__doc__': 'Automatically created module for IPython interactive environment',\n",
       " '__package__': None,\n",
       " '__loader__': None,\n",
       " '__spec__': None,\n",
       " '__builtin__': <module 'builtins' (built-in)>,\n",
       " '__builtins__': <module 'builtins' (built-in)>,\n",
       " '_ih': ['',\n",
       "  \"a = 'python'\\nprint(a[3])\",\n",
       "  \"a[3]='i'\",\n",
       "  'a.replace(a[3],t)',\n",
       "  \"a.replace(a[3],'i')\",\n",
       "  \"data = enumerate(('a','b','c'))\",\n",
       "  \"data = enumerate(('a','b','c'))\\ndata\",\n",
       "  \"data = enumerate(('a','b','c'))\\nprint(data, type(data)\",\n",
       "  \"data = enumerate(('a','b','c'))\\nprint(data, type(data))\",\n",
       "  \"for i, value in data:\\n    print(i,':',value)\",\n",
       "  \"for i, value in enumerate(['a','b','c']):\\n    print(i,':',value)\",\n",
       "  \"for i, value in enumerate({'a','b','c'}):\\n    print(i,':',value)\",\n",
       "  \"data = {'name':'kang','age':30}\",\n",
       "  \"for i, key in data:\\n    print(i,':',key)\",\n",
       "  \"for i, key in enumerate(data):\\n    print(i,':',key)\",\n",
       "  \"for i, key in enumerate(data):\\n    print(i,':',key, data[key])\",\n",
       "  \"for i , value in enumerate('python'):\\n    print(i,':',value)\",\n",
       "  \"for i , value in enumerate('python',100):\\n    print(i,':',value)\",\n",
       "  \"#zip 함수\\nnumber = [1,2,3,4]\\nname = ['kang','kim','hong','lee']\\n\\npersons = list(zip(number,name))\\npersons\",\n",
       "  'import picke',\n",
       "  'import pickle',\n",
       "  \"import pickle\\nname = 'carami'\\nage = 20\\naddress = '경기도 고양시 일산동구'\\nscore = {'kor':100,'eng':100,'math':100}\\n\\nwith open('carami.txt','wb') as file:\\n    pickle.dump(name,file)\\n    pickle.dump(name,file)\\n    pickle.dump(name,file)\\n    \",\n",
       "  \"import pickle\\nname = 'carami'\\nage = 20\\naddress = '경기도 고양시 일산동구'\\nscore = {'kor':100,'eng':100,'math':100}\\n\\nwith open('carami.txt','wb') as file:\\n    pickle.dump(name,file)\\n    pickle.dump(age,file)\\n    pickle.dump(address,file)\\n    pickle.dump(score,file)\\n    \",\n",
       "  \"with open('carami.txt','rb') as file:\\n    name = pickle.load(file)\\n     name = pickle.load(file)\\n         name = pickle.load(file)\",\n",
       "  \"with open('carami.txt','rb') as file:\\n    name = pickle.load(file)\\n    age = pickle.load(file)\\n    address = pickle.load(file)\\n    score = pickle.load(file)\",\n",
       "  \"with open('carami.txt','rb') as file:\\n    name = pickle.load(file)\\n    age = pickle.load(file)\\n    address = pickle.load(file)\\n    score = pickle.load(file)\\n    print(name, age, address, score)\",\n",
       "  \"a = 'python'\\na[::2]\",\n",
       "  'a[:]',\n",
       "  \"bool(' ')\",\n",
       "  \"bool('')\",\n",
       "  \"x=[10,20,30]\\ny=['a','b','c']\\n\\nlist(zip(x,y))\",\n",
       "  'pow(1,2)',\n",
       "  'x=[1,2,3]\\ny=[2,3,4]\\nlist(map(pow,x,y))',\n",
       "  'locals()',\n",
       "  'locals()',\n",
       "  'globals()',\n",
       "  \"item = 'apple'\\ncolor='red'\\n\\nprint({0[item]} is {0[color]}.format(locals()))\",\n",
       "  \"item = 'apple'\\ncolor='red'\\n\\nprint('{0[item]} is {0[color]}'.format(locals()))\",\n",
       "  \"print('{item} is {color}'.format(**dic))\",\n",
       "  \"print('{item} is {color}'.format(**dict))\",\n",
       "  \"print('{item} is {color}'.format(locals()))\",\n",
       "  \"print('{item} is {color}'.format(item,color))\",\n",
       "  \"print('{item} is {color}'.format(**locals()))\",\n",
       "  \"print('{item} is {color}'.format(**globals()))\",\n",
       "  \"print('{item} is {color}'.format(**globals()))\",\n",
       "  \"print('{item} is {color}'.format(**locals())\",\n",
       "  \"item = 'apple'\\ncolor='red'\\n\\nprint('{0[item]} is {0[color]}'.format(locals()))\",\n",
       "  \"print('{item} is {color}'.format(**locals())\",\n",
       "  \"print('{item} is {color}'.format(**locals()))\",\n",
       "  \"item = 'apple'\\ncolor='red'\\n\\nprint('{0[item]} is {0[color]}'.format(globals()))\",\n",
       "  'globals()',\n",
       "  'locals()',\n",
       "  'globals()'],\n",
       " '_oh': {4: 'pytion',\n",
       "  6: <enumerate at 0x2d349125188>,\n",
       "  18: [(1, 'kang'), (2, 'kim'), (3, 'hong'), (4, 'lee')],\n",
       "  26: 'pto',\n",
       "  27: 'python',\n",
       "  28: True,\n",
       "  29: False,\n",
       "  30: [(10, 'a'), (20, 'b'), (30, 'c')],\n",
       "  31: 1,\n",
       "  32: [1, 8, 81],\n",
       "  33: {...},\n",
       "  34: {...},\n",
       "  35: {...},\n",
       "  50: {...},\n",
       "  51: {...}},\n",
       " '_dh': ['C:\\\\Users\\\\student\\\\python_exam'],\n",
       " 'In': ['',\n",
       "  \"a = 'python'\\nprint(a[3])\",\n",
       "  \"a[3]='i'\",\n",
       "  'a.replace(a[3],t)',\n",
       "  \"a.replace(a[3],'i')\",\n",
       "  \"data = enumerate(('a','b','c'))\",\n",
       "  \"data = enumerate(('a','b','c'))\\ndata\",\n",
       "  \"data = enumerate(('a','b','c'))\\nprint(data, type(data)\",\n",
       "  \"data = enumerate(('a','b','c'))\\nprint(data, type(data))\",\n",
       "  \"for i, value in data:\\n    print(i,':',value)\",\n",
       "  \"for i, value in enumerate(['a','b','c']):\\n    print(i,':',value)\",\n",
       "  \"for i, value in enumerate({'a','b','c'}):\\n    print(i,':',value)\",\n",
       "  \"data = {'name':'kang','age':30}\",\n",
       "  \"for i, key in data:\\n    print(i,':',key)\",\n",
       "  \"for i, key in enumerate(data):\\n    print(i,':',key)\",\n",
       "  \"for i, key in enumerate(data):\\n    print(i,':',key, data[key])\",\n",
       "  \"for i , value in enumerate('python'):\\n    print(i,':',value)\",\n",
       "  \"for i , value in enumerate('python',100):\\n    print(i,':',value)\",\n",
       "  \"#zip 함수\\nnumber = [1,2,3,4]\\nname = ['kang','kim','hong','lee']\\n\\npersons = list(zip(number,name))\\npersons\",\n",
       "  'import picke',\n",
       "  'import pickle',\n",
       "  \"import pickle\\nname = 'carami'\\nage = 20\\naddress = '경기도 고양시 일산동구'\\nscore = {'kor':100,'eng':100,'math':100}\\n\\nwith open('carami.txt','wb') as file:\\n    pickle.dump(name,file)\\n    pickle.dump(name,file)\\n    pickle.dump(name,file)\\n    \",\n",
       "  \"import pickle\\nname = 'carami'\\nage = 20\\naddress = '경기도 고양시 일산동구'\\nscore = {'kor':100,'eng':100,'math':100}\\n\\nwith open('carami.txt','wb') as file:\\n    pickle.dump(name,file)\\n    pickle.dump(age,file)\\n    pickle.dump(address,file)\\n    pickle.dump(score,file)\\n    \",\n",
       "  \"with open('carami.txt','rb') as file:\\n    name = pickle.load(file)\\n     name = pickle.load(file)\\n         name = pickle.load(file)\",\n",
       "  \"with open('carami.txt','rb') as file:\\n    name = pickle.load(file)\\n    age = pickle.load(file)\\n    address = pickle.load(file)\\n    score = pickle.load(file)\",\n",
       "  \"with open('carami.txt','rb') as file:\\n    name = pickle.load(file)\\n    age = pickle.load(file)\\n    address = pickle.load(file)\\n    score = pickle.load(file)\\n    print(name, age, address, score)\",\n",
       "  \"a = 'python'\\na[::2]\",\n",
       "  'a[:]',\n",
       "  \"bool(' ')\",\n",
       "  \"bool('')\",\n",
       "  \"x=[10,20,30]\\ny=['a','b','c']\\n\\nlist(zip(x,y))\",\n",
       "  'pow(1,2)',\n",
       "  'x=[1,2,3]\\ny=[2,3,4]\\nlist(map(pow,x,y))',\n",
       "  'locals()',\n",
       "  'locals()',\n",
       "  'globals()',\n",
       "  \"item = 'apple'\\ncolor='red'\\n\\nprint({0[item]} is {0[color]}.format(locals()))\",\n",
       "  \"item = 'apple'\\ncolor='red'\\n\\nprint('{0[item]} is {0[color]}'.format(locals()))\",\n",
       "  \"print('{item} is {color}'.format(**dic))\",\n",
       "  \"print('{item} is {color}'.format(**dict))\",\n",
       "  \"print('{item} is {color}'.format(locals()))\",\n",
       "  \"print('{item} is {color}'.format(item,color))\",\n",
       "  \"print('{item} is {color}'.format(**locals()))\",\n",
       "  \"print('{item} is {color}'.format(**globals()))\",\n",
       "  \"print('{item} is {color}'.format(**globals()))\",\n",
       "  \"print('{item} is {color}'.format(**locals())\",\n",
       "  \"item = 'apple'\\ncolor='red'\\n\\nprint('{0[item]} is {0[color]}'.format(locals()))\",\n",
       "  \"print('{item} is {color}'.format(**locals())\",\n",
       "  \"print('{item} is {color}'.format(**locals()))\",\n",
       "  \"item = 'apple'\\ncolor='red'\\n\\nprint('{0[item]} is {0[color]}'.format(globals()))\",\n",
       "  'globals()',\n",
       "  'locals()',\n",
       "  'globals()'],\n",
       " 'Out': {4: 'pytion',\n",
       "  6: <enumerate at 0x2d349125188>,\n",
       "  18: [(1, 'kang'), (2, 'kim'), (3, 'hong'), (4, 'lee')],\n",
       "  26: 'pto',\n",
       "  27: 'python',\n",
       "  28: True,\n",
       "  29: False,\n",
       "  30: [(10, 'a'), (20, 'b'), (30, 'c')],\n",
       "  31: 1,\n",
       "  32: [1, 8, 81],\n",
       "  33: {...},\n",
       "  34: {...},\n",
       "  35: {...},\n",
       "  50: {...},\n",
       "  51: {...}},\n",
       " 'get_ipython': <bound method InteractiveShell.get_ipython of <ipykernel.zmqshell.ZMQInteractiveShell object at 0x000002D34826BF88>>,\n",
       " 'exit': <IPython.core.autocall.ZMQExitAutocall at 0x2d348294988>,\n",
       " 'quit': <IPython.core.autocall.ZMQExitAutocall at 0x2d348294988>,\n",
       " '_': {...},\n",
       " '__': {...},\n",
       " '___': {...},\n",
       " '_i': 'locals()',\n",
       " '_ii': 'globals()',\n",
       " '_iii': \"item = 'apple'\\ncolor='red'\\n\\nprint('{0[item]} is {0[color]}'.format(globals()))\",\n",
       " '_i1': \"a = 'python'\\nprint(a[3])\",\n",
       " 'a': 'python',\n",
       " '_i2': \"a[3]='i'\",\n",
       " '_i3': 'a.replace(a[3],t)',\n",
       " '_i4': \"a.replace(a[3],'i')\",\n",
       " '_4': 'pytion',\n",
       " '_i5': \"data = enumerate(('a','b','c'))\",\n",
       " 'data': {'name': 'kang', 'age': 30},\n",
       " '_i6': \"data = enumerate(('a','b','c'))\\ndata\",\n",
       " '_6': <enumerate at 0x2d349125188>,\n",
       " '_i7': \"data = enumerate(('a','b','c'))\\nprint(data, type(data)\",\n",
       " '_i8': \"data = enumerate(('a','b','c'))\\nprint(data, type(data))\",\n",
       " '_i9': \"for i, value in data:\\n    print(i,':',value)\",\n",
       " 'i': 105,\n",
       " 'value': 'n',\n",
       " '_i10': \"for i, value in enumerate(['a','b','c']):\\n    print(i,':',value)\",\n",
       " '_i11': \"for i, value in enumerate({'a','b','c'}):\\n    print(i,':',value)\",\n",
       " '_i12': \"data = {'name':'kang','age':30}\",\n",
       " '_i13': \"for i, key in data:\\n    print(i,':',key)\",\n",
       " '_i14': \"for i, key in enumerate(data):\\n    print(i,':',key)\",\n",
       " 'key': 'age',\n",
       " '_i15': \"for i, key in enumerate(data):\\n    print(i,':',key, data[key])\",\n",
       " '_i16': \"for i , value in enumerate('python'):\\n    print(i,':',value)\",\n",
       " '_i17': \"for i , value in enumerate('python',100):\\n    print(i,':',value)\",\n",
       " '_i18': \"#zip 함수\\nnumber = [1,2,3,4]\\nname = ['kang','kim','hong','lee']\\n\\npersons = list(zip(number,name))\\npersons\",\n",
       " 'number': [1, 2, 3, 4],\n",
       " 'name': 'carami',\n",
       " 'persons': [(1, 'kang'), (2, 'kim'), (3, 'hong'), (4, 'lee')],\n",
       " '_18': [(1, 'kang'), (2, 'kim'), (3, 'hong'), (4, 'lee')],\n",
       " '_i19': 'import picke',\n",
       " '_i20': 'import pickle',\n",
       " 'pickle': <module 'pickle' from 'C:\\\\ProgramData\\\\Anaconda3\\\\lib\\\\pickle.py'>,\n",
       " '_i21': \"import pickle\\nname = 'carami'\\nage = 20\\naddress = '경기도 고양시 일산동구'\\nscore = {'kor':100,'eng':100,'math':100}\\n\\nwith open('carami.txt','wb') as file:\\n    pickle.dump(name,file)\\n    pickle.dump(name,file)\\n    pickle.dump(name,file)\\n    \",\n",
       " 'age': 20,\n",
       " 'address': '경기도 고양시 일산동구',\n",
       " 'score': {'kor': 100, 'eng': 100, 'math': 100},\n",
       " 'file': <_io.BufferedReader name='carami.txt'>,\n",
       " '_i22': \"import pickle\\nname = 'carami'\\nage = 20\\naddress = '경기도 고양시 일산동구'\\nscore = {'kor':100,'eng':100,'math':100}\\n\\nwith open('carami.txt','wb') as file:\\n    pickle.dump(name,file)\\n    pickle.dump(age,file)\\n    pickle.dump(address,file)\\n    pickle.dump(score,file)\\n    \",\n",
       " '_i23': \"with open('carami.txt','rb') as file:\\n    name = pickle.load(file)\\n     name = pickle.load(file)\\n         name = pickle.load(file)\",\n",
       " '_i24': \"with open('carami.txt','rb') as file:\\n    name = pickle.load(file)\\n    age = pickle.load(file)\\n    address = pickle.load(file)\\n    score = pickle.load(file)\",\n",
       " '_i25': \"with open('carami.txt','rb') as file:\\n    name = pickle.load(file)\\n    age = pickle.load(file)\\n    address = pickle.load(file)\\n    score = pickle.load(file)\\n    print(name, age, address, score)\",\n",
       " '_i26': \"a = 'python'\\na[::2]\",\n",
       " '_26': 'pto',\n",
       " '_i27': 'a[:]',\n",
       " '_27': 'python',\n",
       " '_i28': \"bool(' ')\",\n",
       " '_28': True,\n",
       " '_i29': \"bool('')\",\n",
       " '_29': False,\n",
       " '_i30': \"x=[10,20,30]\\ny=['a','b','c']\\n\\nlist(zip(x,y))\",\n",
       " 'x': [1, 2, 3],\n",
       " 'y': [2, 3, 4],\n",
       " '_30': [(10, 'a'), (20, 'b'), (30, 'c')],\n",
       " '_i31': 'pow(1,2)',\n",
       " '_31': 1,\n",
       " '_i32': 'x=[1,2,3]\\ny=[2,3,4]\\nlist(map(pow,x,y))',\n",
       " '_32': [1, 8, 81],\n",
       " '_i33': 'locals()',\n",
       " '_33': {...},\n",
       " '_i34': 'locals()',\n",
       " '_34': {...},\n",
       " '_i35': 'globals()',\n",
       " '_35': {...},\n",
       " '_i36': \"item = 'apple'\\ncolor='red'\\n\\nprint({0[item]} is {0[color]}.format(locals()))\",\n",
       " 'item': 'apple',\n",
       " 'color': 'red',\n",
       " '_i37': \"item = 'apple'\\ncolor='red'\\n\\nprint('{0[item]} is {0[color]}'.format(locals()))\",\n",
       " '_i38': \"print('{item} is {color}'.format(**dic))\",\n",
       " '_i39': \"print('{item} is {color}'.format(**dict))\",\n",
       " '_i40': \"print('{item} is {color}'.format(locals()))\",\n",
       " '_i41': \"print('{item} is {color}'.format(item,color))\",\n",
       " '_i42': \"print('{item} is {color}'.format(**locals()))\",\n",
       " '_i43': \"print('{item} is {color}'.format(**globals()))\",\n",
       " '_i44': \"print('{item} is {color}'.format(**globals()))\",\n",
       " '_i45': \"print('{item} is {color}'.format(**locals())\",\n",
       " '_i46': \"item = 'apple'\\ncolor='red'\\n\\nprint('{0[item]} is {0[color]}'.format(locals()))\",\n",
       " '_i47': \"print('{item} is {color}'.format(**locals())\",\n",
       " '_i48': \"print('{item} is {color}'.format(**locals()))\",\n",
       " '_i49': \"item = 'apple'\\ncolor='red'\\n\\nprint('{0[item]} is {0[color]}'.format(globals()))\",\n",
       " '_i50': 'globals()',\n",
       " '_50': {...},\n",
       " '_i51': 'locals()',\n",
       " '_51': {...},\n",
       " '_i52': 'globals()'}"
      ]
     },
     "execution_count": 52,
     "metadata": {},
     "output_type": "execute_result"
    }
   ],
   "source": [
    "globals()"
   ]
  },
  {
   "cell_type": "code",
   "execution_count": null,
   "metadata": {},
   "outputs": [],
   "source": []
  }
 ],
 "metadata": {
  "kernelspec": {
   "display_name": "Python 3",
   "language": "python",
   "name": "python3"
  },
  "language_info": {
   "codemirror_mode": {
    "name": "ipython",
    "version": 3
   },
   "file_extension": ".py",
   "mimetype": "text/x-python",
   "name": "python",
   "nbconvert_exporter": "python",
   "pygments_lexer": "ipython3",
   "version": "3.7.6"
  }
 },
 "nbformat": 4,
 "nbformat_minor": 4
}
