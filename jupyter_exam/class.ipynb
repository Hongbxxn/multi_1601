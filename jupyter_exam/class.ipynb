{
 "cells": [
  {
   "cell_type": "code",
   "execution_count": 1,
   "metadata": {},
   "outputs": [
    {
     "name": "stdout",
     "output_type": "stream",
     "text": [
      "class는 처음이지??  안녕~~~!! \n"
     ]
    }
   ],
   "source": [
    "#class 정의 \n",
    "class Person:\n",
    "    def hello(self):\n",
    "        print('class는 처음이지??  안녕~~~!! ')\n",
    "\n",
    "#객체 생성\n",
    "carami = Person() \n",
    "#메서도 호출\n",
    "carami.hello()"
   ]
  },
  {
   "cell_type": "code",
   "execution_count": 4,
   "metadata": {},
   "outputs": [
    {
     "name": "stdout",
     "output_type": "stream",
     "text": [
      "class는 처음이지??  안녕~~~!! \n"
     ]
    }
   ],
   "source": [
    "#class 정의 \n",
    "class Person:\n",
    "    def hello(self):\n",
    "        print('class는 처음이지??  안녕~~~!! ')\n",
    "    def hi(self):\n",
    "        self.hello()\n",
    "#객체 생성\n",
    "carami = Person() \n",
    "#메서도 호출\n",
    "carami.hi()"
   ]
  },
  {
   "cell_type": "code",
   "execution_count": 6,
   "metadata": {},
   "outputs": [
    {
     "data": {
      "text/plain": [
       "True"
      ]
     },
     "execution_count": 6,
     "metadata": {},
     "output_type": "execute_result"
    }
   ],
   "source": [
    "#carami는 Person의 인스턴스인지 확인!!!    \n",
    "isinstance(carami,Person)"
   ]
  },
  {
   "cell_type": "code",
   "execution_count": 10,
   "metadata": {},
   "outputs": [],
   "source": [
    "class Person:\n",
    "    #속성지정하기\n",
    "    def __init__(self):\n",
    "        self.name = 'carami'\n",
    "    #메서드\n",
    "    def hello(self):\n",
    "        print(self.name,' 안녕^^')"
   ]
  },
  {
   "cell_type": "code",
   "execution_count": 11,
   "metadata": {},
   "outputs": [
    {
     "name": "stdout",
     "output_type": "stream",
     "text": [
      "carami  안녕^^\n"
     ]
    }
   ],
   "source": [
    "carami = Person()\n",
    "carami.hello()"
   ]
  },
  {
   "cell_type": "code",
   "execution_count": 20,
   "metadata": {},
   "outputs": [
    {
     "data": {
      "text/plain": [
       "0"
      ]
     },
     "execution_count": 20,
     "metadata": {},
     "output_type": "execute_result"
    }
   ],
   "source": [
    "i = int('3')\n",
    "i2 = int()\n",
    "i2"
   ]
  },
  {
   "cell_type": "code",
   "execution_count": 27,
   "metadata": {},
   "outputs": [
    {
     "name": "stdout",
     "output_type": "stream",
     "text": [
      "강경미  안녕^^ 넌  1 살이야~~\n"
     ]
    }
   ],
   "source": [
    "class Person:\n",
    "    def __init__(self,name):\n",
    "        self.name = name\n",
    "        self.age = 1\n",
    "    def hello(self):\n",
    "        print(self.name,' 안녕^^ 넌 ',self.age,'살이야~~')\n",
    "        \n",
    "\n",
    "carami = Person('강경미')\n",
    "carami.hello()"
   ]
  },
  {
   "cell_type": "code",
   "execution_count": 28,
   "metadata": {},
   "outputs": [
    {
     "name": "stdout",
     "output_type": "stream",
     "text": [
      "esther  안녕^^ 넌  1 살이야~~\n"
     ]
    }
   ],
   "source": [
    "esther = Person('esther')\n",
    "esther.hello()"
   ]
  },
  {
   "cell_type": "code",
   "execution_count": 30,
   "metadata": {},
   "outputs": [
    {
     "name": "stdout",
     "output_type": "stream",
     "text": [
      "강경미  안녕^^ 넌  20 살이야~~\n"
     ]
    }
   ],
   "source": [
    "class Person:\n",
    "    def __init__(self,name,age):\n",
    "        self.name = name\n",
    "        self.age = age\n",
    "    def hello(self):\n",
    "        print(self.name,' 안녕^^ 넌 ',self.age,'살이야~~')\n",
    "        \n",
    "\n",
    "carami = Person('강경미',20)\n",
    "carami.hello()"
   ]
  },
  {
   "cell_type": "code",
   "execution_count": 31,
   "metadata": {},
   "outputs": [
    {
     "name": "stdout",
     "output_type": "stream",
     "text": [
      "강경미 20\n"
     ]
    }
   ],
   "source": [
    "class Person:\n",
    "    def __init__(self,*args):\n",
    "        self.name = args[0]\n",
    "        self.age = args[1]\n",
    "        \n",
    "        \n",
    "carami = Person('강경미',20)\n",
    "print(carami.name, carami.age)"
   ]
  },
  {
   "cell_type": "code",
   "execution_count": 32,
   "metadata": {},
   "outputs": [
    {
     "name": "stdout",
     "output_type": "stream",
     "text": [
      "kim esther 18\n"
     ]
    }
   ],
   "source": [
    "esther = Person(*['kim esther',18])\n",
    "print(esther.name, esther.age)"
   ]
  },
  {
   "cell_type": "code",
   "execution_count": 33,
   "metadata": {},
   "outputs": [
    {
     "name": "stdout",
     "output_type": "stream",
     "text": [
      "강경미 20\n"
     ]
    }
   ],
   "source": [
    "class Person:\n",
    "    def __init__(self, **kwargs):\n",
    "        self.name = kwargs['name']\n",
    "        self.age = kwargs['age']\n",
    "carami = Person(name='강경미',age=20)\n",
    "print(carami.name, carami.age)"
   ]
  },
  {
   "cell_type": "code",
   "execution_count": 34,
   "metadata": {},
   "outputs": [
    {
     "name": "stdout",
     "output_type": "stream",
     "text": [
      "kim esther 18\n"
     ]
    }
   ],
   "source": [
    "esther = Person(**{'name':'kim esther','age':18})\n",
    "print(esther.name, esther.age)"
   ]
  },
  {
   "cell_type": "code",
   "execution_count": 35,
   "metadata": {},
   "outputs": [],
   "source": [
    "class Book:\n",
    "    pass"
   ]
  },
  {
   "cell_type": "code",
   "execution_count": 37,
   "metadata": {},
   "outputs": [
    {
     "name": "stdout",
     "output_type": "stream",
     "text": [
      "파이썬 철저입문\n"
     ]
    }
   ],
   "source": [
    "python = Book()\n",
    "python.name = '파이썬 철저입문'\n",
    "print(python.name)"
   ]
  },
  {
   "cell_type": "code",
   "execution_count": 38,
   "metadata": {},
   "outputs": [
    {
     "ename": "AttributeError",
     "evalue": "'Book' object has no attribute 'name'",
     "output_type": "error",
     "traceback": [
      "\u001b[1;31m---------------------------------------------------------------------------\u001b[0m",
      "\u001b[1;31mAttributeError\u001b[0m                            Traceback (most recent call last)",
      "\u001b[1;32m<ipython-input-38-7adaf2ed1b89>\u001b[0m in \u001b[0;36m<module>\u001b[1;34m\u001b[0m\n\u001b[0;32m      1\u001b[0m \u001b[0mjava\u001b[0m \u001b[1;33m=\u001b[0m \u001b[0mBook\u001b[0m\u001b[1;33m(\u001b[0m\u001b[1;33m)\u001b[0m\u001b[1;33m\u001b[0m\u001b[1;33m\u001b[0m\u001b[0m\n\u001b[1;32m----> 2\u001b[1;33m \u001b[0mprint\u001b[0m\u001b[1;33m(\u001b[0m\u001b[0mjava\u001b[0m\u001b[1;33m.\u001b[0m\u001b[0mname\u001b[0m\u001b[1;33m)\u001b[0m\u001b[1;33m\u001b[0m\u001b[1;33m\u001b[0m\u001b[0m\n\u001b[0m",
      "\u001b[1;31mAttributeError\u001b[0m: 'Book' object has no attribute 'name'"
     ]
    }
   ],
   "source": [
    "java = Book()\n",
    "print(java.name)"
   ]
  },
  {
   "cell_type": "code",
   "execution_count": 40,
   "metadata": {},
   "outputs": [
    {
     "ename": "AttributeError",
     "evalue": "'Person' object has no attribute 'name'",
     "output_type": "error",
     "traceback": [
      "\u001b[1;31m---------------------------------------------------------------------------\u001b[0m",
      "\u001b[1;31mAttributeError\u001b[0m                            Traceback (most recent call last)",
      "\u001b[1;32m<ipython-input-40-b1eaa8542e2e>\u001b[0m in \u001b[0;36m<module>\u001b[1;34m\u001b[0m\n\u001b[0;32m      5\u001b[0m         \u001b[0mself\u001b[0m\u001b[1;33m.\u001b[0m\u001b[0mage\u001b[0m \u001b[1;33m=\u001b[0m \u001b[0mkwargs\u001b[0m\u001b[1;33m[\u001b[0m\u001b[1;34m'age'\u001b[0m\u001b[1;33m]\u001b[0m\u001b[1;33m\u001b[0m\u001b[1;33m\u001b[0m\u001b[0m\n\u001b[0;32m      6\u001b[0m \u001b[0mcarami\u001b[0m \u001b[1;33m=\u001b[0m \u001b[0mPerson\u001b[0m\u001b[1;33m(\u001b[0m\u001b[0mname\u001b[0m\u001b[1;33m=\u001b[0m\u001b[1;34m'강경미'\u001b[0m\u001b[1;33m,\u001b[0m\u001b[0mage\u001b[0m\u001b[1;33m=\u001b[0m\u001b[1;36m20\u001b[0m\u001b[1;33m)\u001b[0m\u001b[1;33m\u001b[0m\u001b[1;33m\u001b[0m\u001b[0m\n\u001b[1;32m----> 7\u001b[1;33m \u001b[0mprint\u001b[0m\u001b[1;33m(\u001b[0m\u001b[0mcarami\u001b[0m\u001b[1;33m.\u001b[0m\u001b[0mname\u001b[0m\u001b[1;33m,\u001b[0m \u001b[0mcarami\u001b[0m\u001b[1;33m.\u001b[0m\u001b[0mage\u001b[0m\u001b[1;33m)\u001b[0m\u001b[1;33m\u001b[0m\u001b[1;33m\u001b[0m\u001b[0m\n\u001b[0m",
      "\u001b[1;31mAttributeError\u001b[0m: 'Person' object has no attribute 'name'"
     ]
    }
   ],
   "source": [
    "#비공개 속성\n",
    "class Person:\n",
    "    def __init__(self, **kwargs):\n",
    "        self.__name = kwargs['name']\n",
    "        self.age = kwargs['age']\n",
    "carami = Person(name='강경미',age=20)\n",
    "print(carami.name, carami.age)"
   ]
  },
  {
   "cell_type": "code",
   "execution_count": 61,
   "metadata": {},
   "outputs": [
    {
     "ename": "AttributeError",
     "evalue": "type object 'Person' has no attribute 'age'",
     "output_type": "error",
     "traceback": [
      "\u001b[1;31m---------------------------------------------------------------------------\u001b[0m",
      "\u001b[1;31mAttributeError\u001b[0m                            Traceback (most recent call last)",
      "\u001b[1;32m<ipython-input-61-e58e0c5e1564>\u001b[0m in \u001b[0;36m<module>\u001b[1;34m\u001b[0m\n\u001b[0;32m      7\u001b[0m         \u001b[1;32mreturn\u001b[0m \u001b[0mself\u001b[0m\u001b[1;33m.\u001b[0m\u001b[0m__name\u001b[0m\u001b[1;33m\u001b[0m\u001b[1;33m\u001b[0m\u001b[0m\n\u001b[0;32m      8\u001b[0m \u001b[1;33m\u001b[0m\u001b[0m\n\u001b[1;32m----> 9\u001b[1;33m \u001b[0mprint\u001b[0m\u001b[1;33m(\u001b[0m\u001b[0mPerson\u001b[0m\u001b[1;33m.\u001b[0m\u001b[0mage\u001b[0m\u001b[1;33m)\u001b[0m\u001b[1;33m\u001b[0m\u001b[1;33m\u001b[0m\u001b[0m\n\u001b[0m\u001b[0;32m     10\u001b[0m \u001b[0mcarami\u001b[0m \u001b[1;33m=\u001b[0m \u001b[0mPerson\u001b[0m\u001b[1;33m(\u001b[0m\u001b[0mname\u001b[0m\u001b[1;33m=\u001b[0m\u001b[1;34m'강경미'\u001b[0m\u001b[1;33m,\u001b[0m\u001b[0mage\u001b[0m\u001b[1;33m=\u001b[0m\u001b[1;36m20\u001b[0m\u001b[1;33m)\u001b[0m\u001b[1;33m\u001b[0m\u001b[1;33m\u001b[0m\u001b[0m\n\u001b[0;32m     11\u001b[0m \u001b[0mprint\u001b[0m\u001b[1;33m(\u001b[0m\u001b[0mcarami\u001b[0m\u001b[1;33m.\u001b[0m\u001b[0mget_name\u001b[0m\u001b[1;33m(\u001b[0m\u001b[1;33m)\u001b[0m\u001b[1;33m,\u001b[0m \u001b[0mcarami\u001b[0m\u001b[1;33m.\u001b[0m\u001b[0mage\u001b[0m\u001b[1;33m)\u001b[0m\u001b[1;33m\u001b[0m\u001b[1;33m\u001b[0m\u001b[0m\n",
      "\u001b[1;31mAttributeError\u001b[0m: type object 'Person' has no attribute 'age'"
     ]
    }
   ],
   "source": [
    "#비공개 속성\n",
    "class Person:\n",
    "    def __init__(self, **kwargs):\n",
    "        self.__name = kwargs['name']\n",
    "        self.age = kwargs['age']\n",
    "    def get_name(self):\n",
    "        return self.__name\n",
    "    \n",
    "print(Person.age)\n",
    "carami = Person(name='강경미',age=20)\n",
    "print(carami.get_name(), carami.age)"
   ]
  },
  {
   "cell_type": "code",
   "execution_count": 48,
   "metadata": {},
   "outputs": [
    {
     "name": "stdout",
     "output_type": "stream",
     "text": [
      "class는 처음이지??  안녕~~~!! \n"
     ]
    }
   ],
   "source": [
    "#class 정의 \n",
    "class Person:\n",
    "    def __hello(self):\n",
    "        print('class는 처음이지??  안녕~~~!! ')\n",
    "    def hi(self):\n",
    "        self.__hello()\n",
    "#객체 생성\n",
    "carami = Person() \n",
    "#메서도 호출\n",
    "carami.hi()\n",
    "#carami.__hello()"
   ]
  },
  {
   "cell_type": "code",
   "execution_count": 69,
   "metadata": {},
   "outputs": [
    {
     "name": "stdout",
     "output_type": "stream",
     "text": [
      "test\n",
      "test\n",
      "kim\n",
      "kang\n",
      "test\n"
     ]
    }
   ],
   "source": [
    "#클래스 속성 vs 인스턴스 속성.\n",
    "class Person:\n",
    "    name='test'\n",
    "    def set_name(self,name):\n",
    "        self.name = name\n",
    "    def get_name(self):\n",
    "        return self.name\n",
    "\n",
    "print(Person.name)\n",
    "carami =  Person()\n",
    "carami.set_name('kang')\n",
    "print(Person.name)\n",
    "esther = Person()\n",
    "esther.set_name('kim')\n",
    "print(esther.get_name())\n",
    "print(carami.get_name())\n",
    "print(Person.name)"
   ]
  },
  {
   "cell_type": "code",
   "execution_count": 63,
   "metadata": {},
   "outputs": [
    {
     "name": "stdout",
     "output_type": "stream",
     "text": [
      "['candy', 'book']\n",
      "['candy', 'book']\n",
      "['candy', 'book']\n"
     ]
    }
   ],
   "source": [
    "class Person:\n",
    "    bag = []\n",
    "    \n",
    "    def put_bag(self, item):\n",
    "        self.bag.append(item)\n",
    "\n",
    "carami = Person()\n",
    "carami.put_bag('candy')\n",
    "\n",
    "esther = Person()\n",
    "esther.put_bag('book')\n",
    "\n",
    "print(carami.bag)\n",
    "print(esther.bag)\n",
    "\n",
    "print(Person.bag)"
   ]
  },
  {
   "cell_type": "code",
   "execution_count": 75,
   "metadata": {},
   "outputs": [
    {
     "name": "stdout",
     "output_type": "stream",
     "text": [
      "test\n",
      "test\n"
     ]
    }
   ],
   "source": [
    "class Person:\n",
    "    name='test'\n",
    "    def set_name(self,name):\n",
    "        Person.name = name\n",
    "    def get_name(self):\n",
    "        return self.name\n",
    "c = Person()\n",
    "#c.set_name('kang')\n",
    "print(c.get_name())\n",
    "print(Person.name)"
   ]
  },
  {
   "cell_type": "code",
   "execution_count": 77,
   "metadata": {},
   "outputs": [
    {
     "name": "stdout",
     "output_type": "stream",
     "text": [
      "30\n"
     ]
    }
   ],
   "source": [
    "class Cal:\n",
    "    def add(self,a,b):\n",
    "        print(a+b)\n",
    "cal = Cal()\n",
    "cal.add(10,20)"
   ]
  },
  {
   "cell_type": "code",
   "execution_count": 78,
   "metadata": {},
   "outputs": [
    {
     "name": "stdout",
     "output_type": "stream",
     "text": [
      "30\n"
     ]
    }
   ],
   "source": [
    "class Cal:\n",
    "    @staticmethod\n",
    "    def add(a,b):\n",
    "        print(a+b)\n",
    "#cal = Cal()\n",
    "Cal.add(10,20)"
   ]
  },
  {
   "cell_type": "code",
   "execution_count": 86,
   "metadata": {},
   "outputs": [
    {
     "name": "stdout",
     "output_type": "stream",
     "text": [
      "2명 생성되었습니다.\n"
     ]
    }
   ],
   "source": [
    "class Person:\n",
    "    count = 0\n",
    "    \n",
    "    def __init__(self):\n",
    "        Person.count += 1\n",
    "    \n",
    "    @classmethod\n",
    "    def print_count(cls):\n",
    "        print('{}명 생성되었습니다.'.format(cls.count))\n",
    "        \n",
    "\n",
    "              \n",
    "carami = Person()\n",
    "esther = Person()\n",
    "    \n",
    "Person.print_count()\n"
   ]
  },
  {
   "cell_type": "code",
   "execution_count": null,
   "metadata": {},
   "outputs": [],
   "source": []
  }
 ],
 "metadata": {
  "kernelspec": {
   "display_name": "Python 3",
   "language": "python",
   "name": "python3"
  },
  "language_info": {
   "codemirror_mode": {
    "name": "ipython",
    "version": 3
   },
   "file_extension": ".py",
   "mimetype": "text/x-python",
   "name": "python",
   "nbconvert_exporter": "python",
   "pygments_lexer": "ipython3",
   "version": "3.7.6"
  }
 },
 "nbformat": 4,
 "nbformat_minor": 4
}
