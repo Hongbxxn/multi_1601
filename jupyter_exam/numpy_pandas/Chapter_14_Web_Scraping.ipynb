{
 "cells": [
  {
   "cell_type": "markdown",
   "metadata": {},
   "source": [
    "# 14장 웹 스크레이핑"
   ]
  },
  {
   "cell_type": "markdown",
   "metadata": {},
   "source": [
    "## 14.1 웹 브라우저로 웹 사이트 접속하기"
   ]
  },
  {
   "cell_type": "markdown",
   "metadata": {},
   "source": [
    "### 하나의 웹 사이트에 접속하기"
   ]
  },
  {
   "cell_type": "markdown",
   "metadata": {},
   "source": [
    "**[14장: 394페이지]**"
   ]
  },
  {
   "cell_type": "code",
   "execution_count": null,
   "metadata": {},
   "outputs": [],
   "source": [
    "import webbrowser\n",
    "\n",
    "url = 'www.naver.com'\n",
    "webbrowser.open(url)"
   ]
  },
  {
   "cell_type": "markdown",
   "metadata": {},
   "source": [
    "**[14장: 394~ 395페이지]**"
   ]
  },
  {
   "cell_type": "code",
   "execution_count": null,
   "metadata": {},
   "outputs": [],
   "source": [
    "import webbrowser\n",
    "\n",
    "naver_search_url = \"http://search.naver.com/search.naver?query=\"\n",
    "search_word = '파이썬'\n",
    "url = naver_search_url + search_word\n",
    "\n",
    "webbrowser.open_new(url)"
   ]
  },
  {
   "cell_type": "markdown",
   "metadata": {},
   "source": [
    "**[14장: 395페이지]**"
   ]
  },
  {
   "cell_type": "code",
   "execution_count": null,
   "metadata": {},
   "outputs": [],
   "source": [
    "import webbrowser\n",
    "\n",
    "google_url = \"www.google.com/#q=\"\n",
    "search_word = 'python'\n",
    "url = google_url + search_word\n",
    "\n",
    "webbrowser.open_new(url)"
   ]
  },
  {
   "cell_type": "markdown",
   "metadata": {},
   "source": [
    "### 여러 개의 웹 사이트에 접속하기"
   ]
  },
  {
   "cell_type": "markdown",
   "metadata": {},
   "source": [
    "**[14장: 395페이지]**"
   ]
  },
  {
   "cell_type": "code",
   "execution_count": null,
   "metadata": {},
   "outputs": [],
   "source": [
    "import webbrowser\n",
    "\n",
    "urls = ['www.naver.com', 'www.daum.net', 'www.google.com']\n",
    "\n",
    "for url in urls:\n",
    "    webbrowser.open_new(url)"
   ]
  },
  {
   "cell_type": "markdown",
   "metadata": {},
   "source": [
    "**[14장: 396페이지]**"
   ]
  },
  {
   "cell_type": "code",
   "execution_count": null,
   "metadata": {},
   "outputs": [],
   "source": [
    "import webbrowser\n",
    "\n",
    "google_url = \"www.google.com/#q=\"\n",
    "search_words = ['python web scraping', 'python webbrowser']\n",
    "\n",
    "for search_word in search_words:\n",
    "    webbrowser.open_new(google_url + search_word)"
   ]
  },
  {
   "cell_type": "markdown",
   "metadata": {},
   "source": [
    "## 14.2 웹 스크레이핑을 위한 기본 지식"
   ]
  },
  {
   "cell_type": "markdown",
   "metadata": {},
   "source": [
    "### 데이터의 요청과 응답 과정\n"
   ]
  },
  {
   "cell_type": "markdown",
   "metadata": {},
   "source": [
    "### HTML의 기본 구조"
   ]
  },
  {
   "cell_type": "markdown",
   "metadata": {},
   "source": [
    "**[14장: 399페이지]**"
   ]
  },
  {
   "cell_type": "code",
   "execution_count": 1,
   "metadata": {},
   "outputs": [
    {
     "name": "stdout",
     "output_type": "stream",
     "text": [
      "Writing HTML_example.html\n"
     ]
    }
   ],
   "source": [
    "%%writefile HTML_example.html \n",
    "<!doctype html>\n",
    "<html>\n",
    " <head>\n",
    "  <meta charset=\"utf-8\">\n",
    "  <title>이것은 HTML 예제</title>\n",
    " </head>\n",
    " <body>\n",
    "  <h1>출간된 책 정보</h1>\n",
    "  <p id=\"book_title\">이해가 쏙쏙 되는 파이썬</p>\n",
    "  <p id=\"author\">홍길동</p>\n",
    "  <p id=\"publisher\">위키북스 출판사</p>\n",
    "  <p id=\"year\">2018</p>\n",
    " </body>\n",
    "</html>"
   ]
  },
  {
   "cell_type": "markdown",
   "metadata": {},
   "source": [
    "**[14장: 400페이지]**"
   ]
  },
  {
   "cell_type": "code",
   "execution_count": null,
   "metadata": {},
   "outputs": [],
   "source": [
    "%%writefile C:/myPyCode/HTML_example2.html \n",
    "<!doctype html>\n",
    "<html>\n",
    " <head>\n",
    "  <meta charset=\"utf-8\">\n",
    "  <title>이것은 HTML 예제</title>\n",
    " </head>\n",
    " <body>\n",
    "  <h1>출간된 책 정보</h1>\n",
    "  <p>이해가 쏙쏙 되는 파이썬</p>\n",
    "  <p>홍길동</p>\n",
    "  <p>위키북스 출판사</p>\n",
    "  <p>2018</p>\n",
    " </body>\n",
    "</html>"
   ]
  },
  {
   "cell_type": "markdown",
   "metadata": {},
   "source": [
    "### 웹 페이지의 HTML 소스 갖고 오기"
   ]
  },
  {
   "cell_type": "markdown",
   "metadata": {},
   "source": [
    "**[14장: 402페이지]**"
   ]
  },
  {
   "cell_type": "code",
   "execution_count": 7,
   "metadata": {},
   "outputs": [
    {
     "data": {
      "text/plain": [
       "200"
      ]
     },
     "execution_count": 7,
     "metadata": {},
     "output_type": "execute_result"
    }
   ],
   "source": [
    "import requests\n",
    "\n",
    "r = requests.get(\"https://www.google.co.kr\")\n",
    "r.status_code"
   ]
  },
  {
   "cell_type": "code",
   "execution_count": 8,
   "metadata": {},
   "outputs": [
    {
     "data": {
      "text/plain": [
       "'<!doctype html><html itemscope=\"\" itemtype=\"http://schema.org/WebPage\" lang=\"ko\"><head><meta content=\"text/html; charset=UTF-8\" http-equiv=\"Content-Type\"><meta content=\"/images/branding/googleg/1x/googleg_standard_color_128dp.png\" itemprop=\"image\"><title>Google</title><script nonce=\"5+mKlFb+ew7B/4m3Y+/P+g==\">(function(){window.google={kEI:\\'TJkfX4PXG8Hg-AaPm7yoBw\\',kEXPI:\\'0,202123,3,4,32,1151585,5662,731,223,5104,207,3204,10,1226,364,1499,611,206,383,246,5,1354,351,297,1046,1268,668,470,309,5,3,1051,28,61,166,27,117,207,654,450,6,1120582,1197728,329539,13677,4855,32691,15248,867,19398,9286,9188,8384,4858,1362,9291,3025,2819,1923,7,11026,1808,4020,978,7931,5297,2054,920,873,1217,2975,2692,3738,14528,4517,1396,1381,919,2277,8,570,2226,885,708,1279,2212,530,149,1103,840,517,1522,4258,312,1137,2,2669,2023,544,1233,521,1945,2230,93,328,1284,16,2927,2247,1812,1787,3227,2846,6,5599,469,6286,4454,642,2449,2459,1226,1405,337,4929,108,2854,553,908,2,941,2614,2398,8309,1337,1098,3,346,230,970,865,372,3546,707,148,189,3312,2491,2249,1993,1950,47,108,1636,4,498,1030,1294,1010,1228,8,1145,327,78,1840,20,177,4007,10,42,1326,90,961,463,460,120,755,468,210,603,3466,293,1972,86,3,610,883,1787,1426,69,2615,2525,286,940,8,805,690,1968,2,243,296,672,167,2311,215,148,108,81,320,194,4,912,278,286,689,118,257,4,52,30,210,253,7,28,410,394,329,428,7,2,152,1176,8,186,400,2,656,165,52,2,153,48,239,46,1,322,1410,651,73,150,169,329,1446,274,103,619,109,654,1878,45,4,2,36,52,386,3,238,5784007,3531,8798385,549,333,444,1,2,80,1,900,896,1,9,2,2551,1,748,141,59,736,563,1,4265,1,1,2,1017,9,305,3299,129,87,7,7,18,64,17,16,36,3502064,17238640,3220019,2701893\\',kBL:\\'HK0f\\'};google.sn=\\'webhp\\';google.kHL=\\'ko\\';})();(function(){google.lc=[];google.li=0;google.getEI=function(a){for(var c;a&&(!a.getAttribute||!(c=a.getAttribute(\"eid\")));)a=a.parentNode;return c||google.kEI};google.getLEI=function(a){for(var c=null;a&&(!a.getAttribute||!(c=a.getAttribute(\"leid\")));)a=a.parentNode;return c};google.ml=function(){return null};google.time=function(){return Date.now()};google.log=function(a,c,b,d,g){if(b=google.logUrl(a,c,b,d,g)){a=new Image;var e=google.lc,f=google.li;e[f]=a;a.onerror=a.onload=a.onabort=function(){delete e[f]};google.vel&&google.vel.lu&&google.vel.lu(b);a.src=b;google.li=f+1}};google.logUrl=function(a,c,b,d,g){var e=\"\",f=google.ls||\"\";b||-1!=c.search(\"&ei=\")||(e=\"&ei=\"+google.getEI(d),-1==c.search(\"&lei=\")&&(d=google.getLEI(d))&&(e+=\"&lei=\"+d));d=\"\";!b&&google.cshid&&-1==c.search(\"&cshid=\")&&\"slh\"!=a&&(d=\"&cshid=\"+google.cshid);b=b||\"/\"+(g||\"gen_204\")+\"?atyp=i&ct=\"+a+\"&cad=\"+c+e+f+\"&zx=\"+google.time()+d;/^http:/i.test(b)&&\"https:\"==window.location.protocol&&(google.ml(Error(\"a\"),!1,{src:b,glmm:1}),b=\"\");return b};}).call(this);(function(){google.y={};google.x=function(a,b){if(a)var c=a.id;else{do c=Math.random();while(google.y[c])}google.y[c]=[a,b];return!1};google.lm=[];google.plm=function(a){google.lm.push.apply(google.lm,a)};google.lq=[];google.load=function(a,b,c){google.lq.push([[a],b,c])};google.loadAll=function(a,b){google.lq.push([a,b])};}).call(this);google.f={};(function(){\\ndocument.documentElement.addEventListener(\"submit\",function(b){var a;if(a=b.target){var c=a.getAttribute(\"data-submitfalse\");a=\"1\"==c||\"q\"==c&&!a.elements.q.value?!0:!1}else a=!1;a&&(b.preventDefault(),b.stopPropagation())},!0);document.documentElement.addEventListener(\"click\",function(b){var a;a:{for(a=b.target;a&&a!=document.documentElement;a=a.parentElement)if(\"A\"==a.tagName){a=\"1\"==a.getAttribute(\"data-nohref\");break a}a=!1}a&&b.preventDefault()},!0);}).call(this);\\nvar a=window.location,b=a.href.indexOf(\"#\");if(0<=b){var c=a.href.substring(b+1);/(^|&)q=/.test(c)&&-1==c.indexOf(\"#\")&&a.replace(\"/search?\"+c.replace(/(^|&)fp=[^&]*/g,\"\")+\"&cad=h\")};</script><style>#gbar,#guser{font-size:13px;padding-top:1px !important;}#gbar{height:22px}#guser{padding-bottom:7px !important;text-align:right}.gbh,.gbd{border-top:1px solid #c9d7f1;font-size:1px}.gbh{height:0;position:absolute;top:24px;width:100%}@media all{.gb1{height:22px;margin-right:.5em;vertical-align:top}#gbar{float:left}}a.gb1,a.gb4{text-decoration:underline !important}a.gb1,a.gb4{color:#00c !important}.gbi .gb4{color:#dd8e27 !important}.gbf .gb4{color:#900 !important}\\n</style><style>body,td,a,p,.h{font-family:굴림,돋움,arial,sans-serif}.ko{font-size:9pt}body{margin:0;overflow-y:scroll}#gog{padding:3px 8px 0}td{line-height:.8em}.gac_m td{line-height:17px}form{margin-bottom:20px}.h{color:#36c}.q{color:#00c}em{font-weight:bold;font-style:normal}.lst{height:25px;width:496px}.gsfi,.lst{font:18px arial,sans-serif}.gsfs{font:17px arial,sans-serif}.ds{display:inline-box;display:inline-block;margin:3px 0 4px;margin-left:4px}input{font-family:inherit}body{background:#fff;color:#000}a{color:#11c;text-decoration:none}a:hover,a:active{text-decoration:underline}.fl a{color:#36c}a:visited{color:#551a8b}.sblc{padding-top:5px}.sblc a{display:block;margin:2px 0;margin-left:13px;font-size:11px}.lsbb{background:#eee;border:solid 1px;border-color:#ccc #999 #999 #ccc;height:30px}.lsbb{display:block}#fll a{display:inline-block;margin:0 12px}.lsb{background:url(/images/nav_logo229.png) 0 -261px repeat-x;border:none;color:#000;cursor:pointer;height:30px;margin:0;outline:0;font:15px arial,sans-serif;vertical-align:top}.lsb:active{background:#ccc}.lst:focus{outline:none}.tiah{width:458px}</style><script nonce=\"5+mKlFb+ew7B/4m3Y+/P+g==\"></script></head><body bgcolor=\"#fff\"><script nonce=\"5+mKlFb+ew7B/4m3Y+/P+g==\">(function(){var src=\\'/images/nav_logo229.png\\';var iesg=false;document.body.onload = function(){window.n && window.n();if (document.images){new Image().src=src;}\\nif (!iesg){document.f&&document.f.q.focus();document.gbqf&&document.gbqf.q.focus();}\\n}\\n})();</script><div id=\"mngb\"><div id=gbar><nobr><b class=gb1>검색</b> <a class=gb1 href=\"https://www.google.co.kr/imghp?hl=ko&tab=wi\">이미지</a> <a class=gb1 href=\"https://maps.google.co.kr/maps?hl=ko&tab=wl\">지도</a> <a class=gb1 href=\"https://play.google.com/?hl=ko&tab=w8\">Play</a> <a class=gb1 href=\"https://www.youtube.com/?gl=KR&tab=w1\">YouTube</a> <a class=gb1 href=\"https://news.google.co.kr/nwshp?hl=ko&tab=wn\">뉴스</a> <a class=gb1 href=\"https://mail.google.com/mail/?tab=wm\">Gmail</a> <a class=gb1 href=\"https://drive.google.com/?tab=wo\">드라이브</a> <a class=gb1 style=\"text-decoration:none\" href=\"https://www.google.co.kr/intl/ko/about/products?tab=wh\"><u>더보기</u> &raquo;</a></nobr></div><div id=guser width=100%><nobr><span id=gbn class=gbi></span><span id=gbf class=gbf></span><span id=gbe></span><a href=\"http://www.google.co.kr/history/optout?hl=ko\" class=gb4>웹 기록</a> | <a  href=\"/preferences?hl=ko\" class=gb4>설정</a> | <a target=_top id=gb_70 href=\"https://accounts.google.com/ServiceLogin?hl=ko&passive=true&continue=https://www.google.co.kr/\" class=gb4>로그인</a></nobr></div><div class=gbh style=left:0></div><div class=gbh style=right:0></div></div><center><br clear=\"all\" id=\"lgpd\"><div id=\"lga\"><img alt=\"Google\" height=\"92\" src=\"/images/branding/googlelogo/1x/googlelogo_white_background_color_272x92dp.png\" style=\"padding:28px 0 14px\" width=\"272\" id=\"hplogo\"><br><br></div><form action=\"/search\" name=\"f\"><table cellpadding=\"0\" cellspacing=\"0\"><tr valign=\"top\"><td width=\"25%\">&nbsp;</td><td align=\"center\" nowrap=\"\"><input name=\"ie\" value=\"EUC-KR\" type=\"hidden\"><input value=\"ko\" name=\"hl\" type=\"hidden\"><input name=\"source\" type=\"hidden\" value=\"hp\"><input name=\"biw\" type=\"hidden\"><input name=\"bih\" type=\"hidden\"><div class=\"ds\" style=\"height:32px;margin:4px 0\"><div style=\"position:relative;zoom:1\"><input class=\"lst tiah\" style=\"margin:0;padding:5px 8px 0 6px;vertical-align:top;color:#000;padding-right:38px\" autocomplete=\"off\" value=\"\" title=\"Google 검색\" maxlength=\"2048\" name=\"q\" size=\"57\"><img src=\"/textinputassistant/tia.png\" style=\"position:absolute;cursor:pointer;right:5px;top:4px;z-index:300\" data-script-url=\"/textinputassistant/11/ko_tia.js\" id=\"tsuid1\" alt=\"\" height=\"23\" width=\"27\"><script nonce=\"5+mKlFb+ew7B/4m3Y+/P+g==\">(function(){var id=\\'tsuid1\\';document.getElementById(id).onclick = function(){var s = document.createElement(\\'script\\');s.src = this.getAttribute(\\'data-script-url\\');(document.getElementById(\\'xjsc\\')||document.body).appendChild(s);};})();</script></div></div><br style=\"line-height:0\"><span class=\"ds\"><span class=\"lsbb\"><input class=\"lsb\" value=\"Google 검색\" name=\"btnG\" type=\"submit\"></span></span><span class=\"ds\"><span class=\"lsbb\"><input class=\"lsb\" id=\"tsuid2\" value=\"I’m Feeling Lucky\" name=\"btnI\" type=\"submit\"><script nonce=\"5+mKlFb+ew7B/4m3Y+/P+g==\">(function(){var id=\\'tsuid2\\';document.getElementById(id).onclick = function(){if (this.form.q.value){this.checked = 1;if (this.form.iflsig)this.form.iflsig.disabled = false;}\\nelse top.location=\\'/doodles/\\';};})();</script><input value=\"AINFCbYAAAAAXx-nXHPTOuuwmJ-sTWahUF_H-Z6XU-Ty\" name=\"iflsig\" type=\"hidden\"></span></span></td><td class=\"fl sblc\" align=\"left\" nowrap=\"\" width=\"25%\"><a href=\"/advanced_search?hl=ko&amp;authuser=0\">고급검색</a></td></tr></table><input id=\"gbv\" name=\"gbv\" type=\"hidden\" value=\"1\"><script nonce=\"5+mKlFb+ew7B/4m3Y+/P+g==\">(function(){var a,b=\"1\";if(document&&document.getElementById)if(\"undefined\"!=typeof XMLHttpRequest)b=\"2\";else if(\"undefined\"!=typeof ActiveXObject){var c,d,e=[\"MSXML2.XMLHTTP.6.0\",\"MSXML2.XMLHTTP.3.0\",\"MSXML2.XMLHTTP\",\"Microsoft.XMLHTTP\"];for(c=0;d=e[c++];)try{new ActiveXObject(d),b=\"2\"}catch(h){}}a=b;if(\"2\"==a&&-1==location.search.indexOf(\"&gbv=2\")){var f=google.gbvu,g=document.getElementById(\"gbv\");g&&(g.value=a);f&&window.setTimeout(function(){location.href=f},0)};}).call(this);</script></form><div id=\"gac_scont\"></div><div style=\"font-size:83%;min-height:3.5em\"><br></div><span id=\"footer\"><div style=\"font-size:10pt\"><div style=\"margin:19px auto;text-align:center\" id=\"fll\"><a href=\"/intl/ko/ads/\">광고 프로그램</a><a href=\"http://www.google.co.kr/intl/ko/services/\">비즈니스 솔루션</a><a href=\"/intl/ko/about.html\">Google 정보</a><a href=\"https://www.google.co.kr/setprefdomain?prefdom=US&amp;sig=K_dbFp0QlGgGOr_th-8-beBegi4Gw%3D\" id=\"fehl\">Google.com</a></div></div><p style=\"font-size:8pt;color:#767676\">&copy; 2020 - <a href=\"/intl/ko/policies/privacy/\">개인정보처리방침</a> - <a href=\"/intl/ko/policies/terms/\">약관</a></p></span></center><script nonce=\"5+mKlFb+ew7B/4m3Y+/P+g==\">(function(){window.google.cdo={height:0,width:0};(function(){var a=window.innerWidth,b=window.innerHeight;if(!a||!b){var c=window.document,d=\"CSS1Compat\"==c.compatMode?c.documentElement:c.body;a=d.clientWidth;b=d.clientHeight}a&&b&&(a!=google.cdo.width||b!=google.cdo.height)&&google.log(\"\",\"\",\"/client_204?&atyp=i&biw=\"+a+\"&bih=\"+b+\"&ei=\"+google.kEI);}).call(this);})();(function(){var u=\\'/xjs/_/js/k\\\\x3dxjs.hp.en.ej0sxsRpJi0.O/m\\\\x3dsb_he,d/am\\\\x3dAE-wOQ/d\\\\x3d1/rs\\\\x3dACT90oFGhAKHXsdnM-rTLMxmr1yT8pFNjA\\';\\nsetTimeout(function(){var b=document;var a=\"SCRIPT\";\"application/xhtml+xml\"===b.contentType&&(a=a.toLowerCase());a=b.createElement(a);a.src=u;google.timers&&google.timers.load&&google.tick&&google.tick(\"load\",\"xjsls\");document.body.appendChild(a)},0);})();(function(){window.google.xjsu=\\'/xjs/_/js/k\\\\x3dxjs.hp.en.ej0sxsRpJi0.O/m\\\\x3dsb_he,d/am\\\\x3dAE-wOQ/d\\\\x3d1/rs\\\\x3dACT90oFGhAKHXsdnM-rTLMxmr1yT8pFNjA\\';})();function _DumpException(e){throw e;}\\nfunction _F_installCss(c){}\\n(function(){google.jl={dw:false,em:[],emw:false,lls:\\'default\\',pdt:0,snet:true,uwp:true};})();(function(){var pmc=\\'{\\\\x22d\\\\x22:{},\\\\x22sb_he\\\\x22:{\\\\x22agen\\\\x22:true,\\\\x22cgen\\\\x22:true,\\\\x22client\\\\x22:\\\\x22heirloom-hp\\\\x22,\\\\x22dh\\\\x22:true,\\\\x22dhqt\\\\x22:true,\\\\x22ds\\\\x22:\\\\x22\\\\x22,\\\\x22ffql\\\\x22:\\\\x22ko\\\\x22,\\\\x22fl\\\\x22:true,\\\\x22host\\\\x22:\\\\x22google.co.kr\\\\x22,\\\\x22isbh\\\\x22:28,\\\\x22jsonp\\\\x22:true,\\\\x22msgs\\\\x22:{\\\\x22cibl\\\\x22:\\\\x22검색어 지우기\\\\x22,\\\\x22dym\\\\x22:\\\\x22이것을 찾으셨나요?\\\\x22,\\\\x22lcky\\\\x22:\\\\x22I’m Feeling Lucky\\\\x22,\\\\x22lml\\\\x22:\\\\x22자세히 알아보기\\\\x22,\\\\x22oskt\\\\x22:\\\\x22입력 도구\\\\x22,\\\\x22psrc\\\\x22:\\\\x22검색어가 \\\\\\\\u003Ca href\\\\x3d\\\\\\\\\\\\x22/history\\\\\\\\\\\\x22\\\\\\\\u003E웹 기록\\\\\\\\u003C/a\\\\\\\\u003E에서 삭제되었습니다.\\\\x22,\\\\x22psrl\\\\x22:\\\\x22삭제\\\\x22,\\\\x22sbit\\\\x22:\\\\x22이미지로 검색\\\\x22,\\\\x22srch\\\\x22:\\\\x22Google 검색\\\\x22},\\\\x22ovr\\\\x22:{},\\\\x22pq\\\\x22:\\\\x22\\\\x22,\\\\x22refpd\\\\x22:true,\\\\x22refspre\\\\x22:true,\\\\x22rfs\\\\x22:[],\\\\x22sbpl\\\\x22:16,\\\\x22sbpr\\\\x22:16,\\\\x22scd\\\\x22:10,\\\\x22stok\\\\x22:\\\\x220Nc1xRFtB-vcltP3QQ8MGE1d-24\\\\x22,\\\\x22uhde\\\\x22:false}}\\';google.pmc=JSON.parse(pmc);})();</script>        </body></html>'"
      ]
     },
     "execution_count": 8,
     "metadata": {},
     "output_type": "execute_result"
    }
   ],
   "source": [
    "r.text"
   ]
  },
  {
   "cell_type": "markdown",
   "metadata": {},
   "source": [
    "**[14장: 402페이지]**"
   ]
  },
  {
   "cell_type": "code",
   "execution_count": 9,
   "metadata": {},
   "outputs": [
    {
     "data": {
      "text/plain": [
       "'<!doctype html><html itemscope=\"\" itemtype=\"http://schema.org/WebPage\" lang=\"ko\"><head><meta content'"
      ]
     },
     "execution_count": 9,
     "metadata": {},
     "output_type": "execute_result"
    }
   ],
   "source": [
    "r.text[0:100]"
   ]
  },
  {
   "cell_type": "markdown",
   "metadata": {},
   "source": [
    "**[14장: 403페이지]**"
   ]
  },
  {
   "cell_type": "code",
   "execution_count": 13,
   "metadata": {},
   "outputs": [
    {
     "data": {
      "text/plain": [
       "'<!doctype html>\\n<html lang=\"ko\">\\n <head data-cloud-area=\"head\"> \\n  <meta charset=\"utf-8\"> \\n  <meta http-equiv=\"X-UA-Compatible\" content=\"IE=edge\"> \\n  <style>\\n             @import url(\\'//t1.daumcdn.net/harmony_static/cloud/page/2603111efaebe3b9879c7b3c1417b82fff251095.css\\');\\n            @import url(\\'//t1.daumcdn.net/harmony_static/cloud/2020/07/27/components.089a349b1002f2ce43b9.css\\')\\n        </style> \\n  <meta name=\"robots\" content=\"noindex\"> \\n  <meta property=\"mccp:docId\" content=\"AOIdGDtQWV\"> \\n  <meta property=\"og:site_name\" content=\"다음 뉴스\" data-cloud=\"pc_html_head_meta\"> \\n  <meta property=\"og:title\" content=\"한반도 최악의 미세먼지 발생 원인 알고보니..\" data-cloud=\"pc_html_head_meta\"> \\n  <meta property=\"og:regDate\" content=\"20200728121101\" data-cloud=\"pc_html_head_meta\"> \\n  <meta property=\"og:description\" content=\"[서울신문]올해는 코로나19 여파로 매년 봄 한반도를 숨막히는 가스실로 만드는 고농도 미세먼지 발생일이 많지 않았다. 가을부터 이듬해 봄까지 최악의 대기질을 만드는 초미세먼지의 원인에 대해서는 논란이 여전한 가운데 국내 연구진이 한반도 최악의 대기질을 만드는 원인을 밝혀내 주목받고 있다. 한국과학기술연구원(KIST) 환경복지연구센터 연구진은 중국발 미세먼지\" data-cloud=\"pc_html_head_meta\"> \\n  <meta property=\"og:image\" content=\"https://img1.daumcdn.net/thumb/S1200x630/?fname=https://t1.daumcdn.net/news/202007/28/seoul/20200728121101960mqsl.jpg\" data-cloud=\"pc_html_head_meta\"> \\n  <meta property=\"og:image:width\" content=\"1200\" data-cloud=\"pc_html_head_meta\"> \\n  <meta property=\"og:image:height\" content=\"630\" data-cloud=\"pc_html_head_meta\"> \\n  <meta property=\"og:type\" content=\"article\" data-cloud=\"pc_html_head_meta\"> \\n  <meta property=\"og:url\" content=\"https://news.v.daum.net/v/20200728121101828\" data-cloud=\"pc_html_head_meta\"> \\n  <meta property=\"al:android:url\" content=\"daumapps://web?url=https%3A%2F%2Fnews.v.daum.net/v/20200728121101828\" data-cloud=\"pc_html_head_meta\"> \\n  <meta property=\"al:android:package\" content=\"net.daum.android.daum\" data-cloud=\"pc_html_head_meta\"> \\n  <meta property=\"al:android:app_name\" content=\"다음앱\" data-cloud=\"pc_html_head_meta\"> \\n  <meta property=\"al:ios:url\" content=\"daumapps://web?url=https%3A%2F%2Fnews.v.daum.net/v/20200728121101828\" data-cloud=\"pc_html_head_meta\"> \\n  <meta property=\"al:ios:app_store_id\" content=\"365494029\" data-cloud=\"pc_html_head_meta\"> \\n  <meta property=\"al:ios:app_name\" content=\"다음앱\" data-cloud=\"pc_html_head_meta\"> \\n  <meta property=\"twitter:image\" content=\"https://img1.daumcdn.net/thumb/S1200x630/?fname=https://t1.daumcdn.net/news/202007/28/seoul/20200728121101960mqsl.jpg\" data-cloud=\"pc_html_head_meta\"> \\n  <meta property=\"twitter:card\" content=\"summary_large_image\" data-cloud=\"pc_html_head_meta\"> \\n  <meta property=\"twitter:app:url:googleplay\" content=\"daumapps://web?url=https%3A%2F%2Fnews.v.daum.net/v/20200728121101828\" data-cloud=\"pc_html_head_meta\"> \\n  <meta property=\"twitter:app:id:googleplay\" content=\"net.daum.android.daum\" data-cloud=\"pc_html_head_meta\"> \\n  <meta property=\"twitter:app:name:googleplay\" content=\"다음앱\" data-cloud=\"pc_html_head_meta\"> \\n  <meta property=\"twitter:app:country\" content=\"KR\" data-cloud=\"pc_html_head_meta\"> \\n  <meta property=\"twitter:app:url:iphone\" content=\"daumapps://web?url=https%3A%2F%2Fnews.v.daum.net/v/20200728121101828\" data-cloud=\"pc_html_head_meta\"> \\n  <meta property=\"twitter:app:id:iphone\" content=\"365494029\" data-cloud=\"pc_html_head_meta\"> \\n  <meta property=\"twitter:app:name:iphone\" content=\"다음앱\" data-cloud=\"pc_html_head_meta\"> \\n  <meta property=\"twitter:app:url:ipad\" content=\"daumapps://web?url=https%3A%2F%2Fnews.v.daum.net/v/20200728121101828\" data-cloud=\"pc_html_head_meta\"> \\n  <meta property=\"twitter:app:id:ipad\" content=\"365494029\" data-cloud=\"pc_html_head_meta\"> \\n  <meta property=\"twitter:app:name:ipad\" content=\"다음앱\" data-cloud=\"pc_html_head_meta\"> \\n  <meta property=\"dg:uoc:svc\" content=\"news\" data-cloud=\"pc_html_head_meta\"> \\n  <meta property=\"dg:uoc:uid\" content=\"AOIdGDtQWV\" data-cloud=\"pc_html_head_meta\"> \\n  <meta property=\"dg:uoc:sc\" content=\"article\" data-cloud=\"pc_html_head_meta\"> \\n  <meta property=\"dg:uoc:pcUrl\" content=\"https://news.v.daum.net/v/20200728121101828\" data-cloud=\"pc_html_head_meta\"> \\n  <meta property=\"dg:uoc:mUrl\" content=\"https://news.v.daum.net/v/20200728121101828?f=m\" data-cloud=\"pc_html_head_meta\"> \\n  <meta name=\"svcdomain\" content=\"news.daum.net\" data-cloud=\"pc_html_head_meta\"> \\n  <meta property=\"article:published_time\" content=\"20200728121101\" data-cloud=\"pc_html_head_meta\"> \\n  <meta name=\"plink\" content=\"https://news.v.daum.net/v/20200728121101828\" data-cloud=\"pc_html_head_meta\"> \\n  <meta property=\"article:txid\" content=\"https://news.v.daum.net/v/20200728121101828\" data-cloud=\"pc_html_head_meta\"> \\n  <meta name=\"article:media_name\" content=\"서울신문\" data-cloud=\"pc_html_head_meta\"> \\n  <meta name=\"article:service_name\" content=\"다음 뉴스\" data-cloud=\"pc_html_head_meta\"> \\n  <meta property=\"article:mobile_url\" content=\"https://news.v.daum.net/v/20200728121101828?f=m\" data-cloud=\"pc_html_head_meta\"> \\n  <meta property=\"article:mobile_view_url\" content=\"https://news.v.daum.net/v/20200728121101828?f=m\" data-cloud=\"pc_html_head_meta\"> \\n  <meta property=\"article:pc_url\" content=\"https://news.v.daum.net/v/20200728121101828\" data-cloud=\"pc_html_head_meta\"> \\n  <meta property=\"article:pc_view_url\" content=\"https://news.v.daum.net/v/20200728121101828\" data-cloud=\"pc_html_head_meta\"> \\n  <meta property=\"article:talk_channel_view_url\" content=\"https://v.kakao.com/v/20200728121101828\" data-cloud=\"pc_html_head_meta\"> \\n  <meta property=\"article:mobile_service_home\" content=\"http://m.media.daum.net/\" data-cloud=\"pc_html_head_meta\"> \\n  <meta property=\"article:pc_service_home\" content=\"http://media.daum.net/\" data-cloud=\"pc_html_head_meta\"> \\n  <meta name=\"referrer\" content=\"always\"> \\n  <title>한반도 최악의 미세먼지 발생 원인 알고보니..</title> \\n  <link rel=\"shortcut icon\" href=\"//m2.daumcdn.net/img-media/2010ci/Daum_favicon.ico\"> \\n </head> \\n <body class=\"\">      \\n  <div id=\"kakaoIndex\"> \\n   <a href=\"#kakaoBody\">본문 바로가기</a> \\n   <a href=\"#kakaoGnb\">메뉴 바로가기</a> \\n  </div> \\n  <div id=\"kakaoWrap\" class=\"newsview_media\"> \\n   <div id=\"kakaoHead\" role=\"banner\" data-cloud-area=\"header\"> \\n    <div class=\"browser_upgrade hide\" data-cloud=\"pc_ie_upgrade_popup\"> \\n     <div class=\"inner_upgrade\"> \\n      <span class=\"ico_newsview ico_noti\"></span> \\n      <span class=\"desc_upgrade\">본 사이트는 최신 브라우저 환경에 최적화되어 있습니다. 최신 브라우저로 <a href=\"https://support.microsoft.com/ko-kr/help/17621\" class=\"link_upgrade\">업그레이드</a>하여 주시기 바랍니다.</span> \\n      <button type=\"button\" class=\"btn_close\"><span class=\"ico_newsview ico_close\">닫기</span></button> \\n     </div> \\n    </div>  \\n    <div class=\"head_media\" data-cloud=\"pc_news_header_gnb\"> \\n     <h1> <a href=\"https://www.daum.net/\" class=\"link_daum\"> <img src=\"//t1.daumcdn.net/media/news/news2016/retina/logo_daum.jpg\" width=\"45\" height=\"19\" class=\"thumb_g\" alt=\"Daum\"> </a> <a href=\"https://news.daum.net/\" id=\"kakaoServiceLogo\"><span class=\"ir_wa\">뉴스</span></a> </h1> \\n     <strong class=\"screen_out\">관련서비스</strong> \\n     <ul id=\"kakaoRelServices\"> \\n      <li><a href=\"https://entertain.daum.net/\" class=\"link_services link_services1\"><span class=\"ir_wa\">연예</span></a></li> \\n      <li><a href=\"https://sports.media.daum.net/sports/\" class=\"link_services link_services2\"><span class=\"ir_wa\">스포츠</span></a></li> \\n     </ul> \\n     <h2 class=\"screen_out\">검색</h2> \\n     <div class=\"search_news\" id=\"search_news\"> \\n      <form id=\"kakaoSearch\" name=\"kakaoSearch\" action=\"https://search.daum.net/search\" method=\"get\"> \\n       <fieldset class=\"fld_inside\"> \\n        <legend class=\"screen_out\">검색어 입력폼</legend> \\n        <div class=\"box_searchbar\"> \\n         <label for=\"qVal\" class=\"lab_search\">통합검색</label> \\n         <input type=\"hidden\" name=\"nil_profile\" value=\"search\"> \\n         <input type=\"hidden\" name=\"nil_src\" value=\"media\"> \\n         <input type=\"hidden\" name=\"DA\" value=\"23A\"> \\n         <input type=\"hidden\" name=\"rtmaxcoll\" value=\"NNS\"> \\n         <input type=\"text\" class=\"tf_keyword\" id=\"qVal\" name=\"q\" value=\"\" title=\"검색어 입력\" autocomplete=\"off\" spellcheck=\"false\"> \\n         <button id=\"kakaoBtnSearch\" class=\"btn_search\" type=\"submit\"><span class=\"ir_wa\">검색</span></button> \\n        </div> \\n       </fieldset> \\n       <div id=\"wrap_suggestBox\" class=\"wrap_suggestBox\"> \\n        <div id=\"suggestBox\" class=\"suggestBox box_sub\"> \\n         <div class=\"baseBox bg\" style=\"display: none\"></div> \\n        </div> \\n       </div> \\n      </form> \\n     </div> \\n    </div> \\n    <div id=\"kakaoGnb\" role=\"navigation\" data-cloud=\"pc_news_header_gnb\"> \\n     <div class=\"inner_gnb\"> \\n      <h2 class=\"screen_out\">뉴스 메인메뉴</h2> \\n      <ul class=\"gnb_comm\" data-category=\"digital\"> \\n       <li class=\"home\"><a href=\"//news.daum.net/\" class=\"link_gnb link_gnb1\"><span class=\"ir_wa\">홈</span><span class=\"bar_gnb\"><span class=\"inner_bar\"></span></span></a></li> \\n       <li class=\"society\"><a href=\"//news.daum.net/society/\" class=\"link_gnb link_gnb2\"><span class=\"ir_wa\">사회</span><span class=\"bar_gnb\"><span class=\"inner_bar\"></span></span></a></li>  \\n       <li class=\"politics\"><a href=\"//news.daum.net/politics/\" class=\"link_gnb link_gnb3\"><span class=\"ir_wa\">정치</span><span class=\"bar_gnb\"><span class=\"inner_bar\"></span></span></a></li> \\n       <li class=\"economic\"><a href=\"//news.daum.net/economic/\" class=\"link_gnb link_gnb4\"><span class=\"ir_wa\">경제</span><span class=\"bar_gnb\"><span class=\"inner_bar\"></span></span></a></li> \\n       <li class=\"foreign\"><a href=\"//news.daum.net/foreign/\" class=\"link_gnb link_gnb5\"><span class=\"ir_wa\">국제</span><span class=\"bar_gnb\"><span class=\"inner_bar\"></span></span></a></li> \\n       <li class=\"culture\"><a href=\"//news.daum.net/culture/\" class=\"link_gnb link_gnb6\"><span class=\"ir_wa\">문화</span><span class=\"bar_gnb\"><span class=\"inner_bar\"></span></span></a></li> \\n       <li class=\"digital\"><a href=\"//news.daum.net/digital/\" class=\"link_gnb link_gnb7\"><span class=\"ir_wa\">IT</span><span class=\"bar_gnb\"><span class=\"inner_bar\"></span></span></a></li> \\n       <li class=\"popular\"><a href=\"//news.daum.net/ranking/popular\" class=\"link_gnb link_gnb8\"><span class=\"ir_wa\">랭킹</span><span class=\"bar_gnb\"><span class=\"inner_bar\"></span></span></a></li> \\n       <li class=\"series editorial\"><a href=\"//news.daum.net/series\" class=\"link_gnb link_gnb9\"><span class=\"ir_wa\">연재</span><span class=\"bar_gnb\"><span class=\"inner_bar\"></span></span></a></li> \\n       <li class=\"photo\"><a href=\"//news.daum.net/photo\" class=\"link_gnb link_gnb10\"><span class=\"ir_wa\">포토</span><span class=\"bar_gnb\"><span class=\"inner_bar\"></span></span></a></li> \\n       <li class=\"tv\"><a href=\"//news.daum.net/tv\" class=\"link_gnb link_gnb11\"><span class=\"ir_wa\">TV</span><span class=\"bar_gnb\"><span class=\"inner_bar\"></span></span></a></li> \\n      </ul> \\n      <div class=\"gnb_etc\"> \\n       <ul class=\"gnb_with\"> \\n        <li><a href=\"//news.daum.net/1boon\" class=\"link_gnb link_gnb1\"><span class=\"ir_wa\">1boon</span></a></li> \\n        <li><a href=\"//gallery.v.daum.net/p/home\" class=\"link_gnb link_gnb2\"><span class=\"ir_wa\">갤러리</span><span class=\"bar_gnb\"><span class=\"inner_bar\"></span></span></a></li> \\n       </ul>  \\n       <div class=\"gnb_weather\"> \\n        <strong class=\"screen_out\">날씨 정보</strong> \\n        <div id=\"gnb_weather\"> \\n         <ul class=\"list_weather\" data-nightyn=\"N\"></ul> \\n        </div> \\n       </div> \\n      </div> \\n     </div> \\n    </div> \\n    <div id=\"barProgress\" class=\"bar_progress\" data-cloud=\"pc_news_header_gnb\"></div>         \\n   </div> \\n   <div id=\"dummyKakaoGnb\" style=\"height:137px; display:none;\"></div> \\n   <hr class=\"hide\"> \\n   <div id=\"kakaoContent\" class=\"cont_view\" role=\"main\"> \\n    <h2 id=\"kakaoBody\" class=\"screen_out\">IT</h2> \\n    <div id=\"cSub\" data-cloud-area=\"title\"> \\n     <div class=\"head_view\" data-cloud=\"pc_article_title\"> \\n      <em class=\"info_cp\"> <a href=\"http://www.seoul.co.kr/\" class=\"link_cp\" target=\"_blank\"> <img src=\"https://t1.daumcdn.net/media/news/news2016/cp/cp_seoul.gif\" class=\"thumb_g\" alt=\"서울신문\"> </a> </em> \\n      <h3 class=\"tit_view\" data-translation=\"true\">한반도 최악의 미세먼지 발생 원인 알고보니..</h3> \\n      <span class=\"info_view\"> <span class=\"txt_info\">유용하</span> <span class=\"txt_info\">입력 <span class=\"num_date\">2020.07.28. 12:11</span></span> <button id=\"alexCounter\" class=\"emph_g2 link_cmt\">댓글 <span class=\"alex-count-area\">0</span>개</button> </span> \\n      <div class=\"util_view\">  \\n       <div class=\"btn_util util_summary\"> \\n        <button type=\"button\" class=\"btn_summary\" aria-expanded=\"false\"><span class=\"ico_newsview\">자동요약</span></button> \\n        <div class=\"wrap_setlayer\"> \\n         <div class=\"layer_util layer_summary\"> \\n          <p>올해는 코로나19 여파로 매년 봄 한반도를 숨막히는 가스실로 만드는 고농도 미세먼지 발생일이 많지 않았다.</p>\\n          <p>가을부터 이듬해 봄까지 최악의 대기질을 만드는 초미세먼지의 원인에 대해서는 논란이 여전한 가운데 국내 연구진이 한반도 최악의 대기질을 만드는 원인을 밝혀내 주목받고 있다.</p> \\n          <span class=\"info_summary\"><span class=\"ico_newsview\"></span>기사 제목과 주요 문장을 기반으로 자동요약한 결과입니다. 전체 맥락을 이해하기 위해서는 본문 보기를 권장합니다.</span> \\n         </div> \\n        </div> \\n       </div>  \\n       <div class=\"btn_util tts_btn\"> \\n        <button type=\"button\" class=\"btn_set btn_tts\" aria-expanded=\"false\"> <span class=\"ico_newsview ico_speak\">음성 기사 듣기</span> </button> \\n        <div class=\"wrap_setlayer\"> \\n         <div class=\"layer_util layer_set layer_tts\"> \\n          <strong class=\"screen_out\">음성 기사 옵션 조절 레이어</strong> \\n          <ul class=\"list_set list_tts\"> \\n           <li> <input type=\"radio\" id=\"ttsGenderMale\" name=\"ttsGender\" class=\"screen_out\" value=\"Male\"> <label class=\"lab_set\" for=\"ttsGenderMale\"><span class=\"ico_newsview\"></span>남성</label> </li> \\n           <li> <input type=\"radio\" id=\"ttsGenderFemale\" name=\"ttsGender\" class=\"screen_out\" value=\"Female\"> <label class=\"lab_set\" for=\"ttsGenderFemale\"><span class=\"ico_newsview\"></span>여성</label> </li> \\n          </ul> \\n          <ul class=\"list_set list_tts list_ttsspeed\"> \\n           <li> <input type=\"radio\" id=\"ttsSpeedSlow\" name=\"ttsSpeed\" class=\"screen_out\" value=\"slow\"> <label class=\"lab_set\" for=\"ttsSpeedSlow\"><span class=\"ico_newsview\"></span>느림</label> </li> \\n           <li> <input type=\"radio\" id=\"ttsSpeedNormal\" name=\"ttsSpeed\" class=\"screen_out\" value=\"normal\"> <label class=\"lab_set\" for=\"ttsSpeedNormal\"><span class=\"ico_newsview\"></span>보통</label> </li> \\n           <li> <input type=\"radio\" id=\"ttsSpeedFast\" name=\"ttsSpeed\" class=\"screen_out\" value=\"fast\"> <label class=\"lab_set\" for=\"ttsSpeedFast\"><span class=\"ico_newsview\"></span>빠름</label> </li> \\n          </ul> \\n         </div> \\n        </div> \\n        <audio style=\"display:none\" preload=\"none\" id=\"ttsPlayer\"></audio> \\n       </div>  \\n       <div class=\"btn_util translate_btn\"> \\n        <button type=\"button\" class=\"btn_set btn_translate #util #translate #set\" aria-expanded=\"false\"><span class=\"ico_newsview\">번역 설정</span></button> \\n        <div class=\"wrap_translatelayer\"> \\n         <div class=\"layer_util layer_translate\"> \\n          <strong class=\"tit_translate\">번역<span class=\"ico_newsview\">beta</span> </strong> \\n          <p class=\"desc_translate txt_newsview\">Translated by <a href=\"https://kakao.ai/\" target=\"_blank\" class=\"link_kakaoi #util #translate #kakaoi_link\">kakao i</a></p> \\n          <strong class=\"screen_out\">번역할 언어 선택</strong> \\n          <ul class=\"list_lang\"> \\n           <li> <button class=\"btn_lang btn_en #util #translate #lang_en\" name=\"en\"> <span class=\"ico_newsview ico_flag\"></span> <strong class=\"ico_newsview tit_lang\">English</strong> </button> </li> \\n           <li> <button type=\"button\" class=\"btn_lang btn_ch #util #translate #lang_cn\" name=\"cn\"> <span class=\"ico_newsview ico_flag\"></span> <strong class=\"ico_newsview tit_lang\">简体中文</strong> </button> </li> \\n           <li> <button type=\"button\" class=\"btn_lang btn_jp #util #translate #lang_jp\" name=\"jp\"> <span class=\"ico_newsview ico_flag\"></span> <strong class=\"ico_newsview tit_lang\">日本語</strong> </button> </li> \\n           <li> <button type=\"button\" class=\"btn_lang btn_ind #util #translate #lang_id\" name=\"id\"> <span class=\"ico_newsview ico_flag\"></span> <strong class=\"ico_newsview tit_lang\">Bahasa Indonesia</strong> </button> </li> \\n           <li> <button type=\"button\" class=\"btn_lang btn_viet #util #translate #lang_vi\" name=\"vi\"> <span class=\"ico_newsview ico_flag\"></span> <strong class=\"ico_newsview tit_lang\">tiếng Việt</strong> </button> </li> \\n           <li> <button type=\"button\" class=\"btn_lang btn_ko #util #translate #lang_kr\" name=\"kr\"> <span class=\"ico_newsview ico_flag\"></span> <strong class=\"ico_newsview tit_lang\">한국어</strong> </button> </li> \\n          </ul> \\n         </div> \\n        </div> \\n       </div>  \\n       <div class=\"btn_util share_btn\"> \\n        <button id=\"rSocialShareButton\" class=\"btn_set btn_share\" aria-expanded=\"false\"> <span class=\"ico_newsview\">공유</span> </button> \\n        <div id=\"rSocialShareLayerContainer\"></div>  \\n       </div>  \\n       <div class=\"font_btn btn_util\"> \\n        <button type=\"button\" class=\"btn_set btn_font\" aria-expanded=\"false\"> <span class=\"ico_newsview ico_font\">글씨크기 조절하기</span> </button> \\n        <div class=\"wrap_setlayer\"> \\n         <div class=\"layer_util layer_set layer_font\"> \\n          <strong class=\"screen_out\">글자 크기 조절 레이어</strong> \\n          <ul class=\"list_set list_font\"> \\n           <li> <input type=\"radio\" id=\"inpFont17\" name=\"inpFont\" class=\"screen_out\" value=\"17\"> <label class=\"lab_set lab_size0\" for=\"inpFont17\"> <span class=\"ico_newsview\"></span> <span aria-hidden=\"true\">가나다라마바사</span> <span class=\"screen_out\">매우 작은 폰트</span> </label> </li> \\n           <li> <input type=\"radio\" id=\"inpFont18\" name=\"inpFont\" class=\"screen_out\" value=\"18\"> <label class=\"lab_set lab_size1\" for=\"inpFont18\"> <span class=\"ico_newsview\"></span> <span aria-hidden=\"true\">가나다라마바사</span> <span class=\"screen_out\">작은 폰트</span> </label> </li> \\n           <li> <input type=\"radio\" id=\"inpFont19\" name=\"inpFont\" class=\"screen_out\" value=\"19\"> <label class=\"lab_set lab_size2\" for=\"inpFont19\"> <span class=\"ico_newsview\"></span> <span aria-hidden=\"true\">가나다라마바사</span> <span class=\"screen_out\">보통 폰트</span> </label> </li> \\n           <li> <input type=\"radio\" id=\"inpFont20\" name=\"inpFont\" class=\"screen_out\" value=\"20\"> <label class=\"lab_set lab_size3\" for=\"inpFont20\"> <span class=\"ico_newsview\"></span> <span aria-hidden=\"true\">가나다라마바사</span> <span class=\"screen_out\">큰 폰트</span> </label> </li> \\n           <li> <input type=\"radio\" id=\"inpFont21\" name=\"inpFont\" class=\"screen_out\" value=\"21\"> <label class=\"lab_set lab_size4\" for=\"inpFont21\"> <span class=\"ico_newsview\"></span> <span aria-hidden=\"true\">가나다라마바사</span> <span class=\"screen_out\">매우 큰 폰트</span> </label> </li> \\n          </ul> \\n         </div> \\n        </div> \\n       </div>  \\n       <div class=\"btn_util\"> \\n        <button type=\"button\" class=\"btn_print\"><span class=\"ico_newsview\">인쇄하기 새창열림</span></button> \\n       </div> \\n      </div> \\n     </div>               \\n    </div> \\n    <div id=\"cMain\"> \\n     <div id=\"mArticle\"> \\n      <div data-cloud-area=\"article\">   \\n       <div id=\"translateNotice\" class=\"status_view\" style=\"display:none;\" data-cloud=\"pc_article_body\"> \\n        <span class=\"notice_lang notice_lang_en\" style=\"display:none;\">The copyright belongs to the original writer of the content, and there may be errors in machine translation results.</span> \\n        <span class=\"notice_lang notice_lang_cn\" style=\"display:none;\">版权归内容原作者所有。机器翻译结果可能存在错误。</span> \\n        <span class=\"notice_lang notice_lang_jp\" style=\"display:none;\">原文の著作権は原著著作者にあり、機械翻訳の結果にエラーが含まれることがあります。</span> \\n        <span class=\"notice_lang notice_lang_id\" style=\"display:none;\">Hak cipta milik penulis asli dari konten, dan mungkin ditemukan kesalahan dalam hasil terjemahan mesin.</span> \\n        <span class=\"notice_lang notice_lang_vi\" style=\"display:none;\">Bản quyền thuộc về tác giả gốc của nội dung và có thể có lỗi trong kết quả dịch bằng máy.</span> \\n       </div>  \\n       <div class=\"news_view\" style=\"font-size:17px\" data-cloud=\"pc_article_body\"> \\n        <strong class=\"summary_view\" data-translation=\"true\"> 중국발 미세먼지만으로는 수도권 고농도 초미세먼지 불가능<br>중국발 미세먼지와 국내 대기정체가 겹칠 때 최악의 대기질 </strong> \\n        <div id=\"harmonyContainer\" class=\"article_view\" data-translation-body=\"true\"> \\n         <section dmcf-sid=\"ADW7uo9qSY\">\\n          <p dmcf-pid=\"AD2BaLorzf\" dmcf-ptype=\"general\">[서울신문]</p>\\n          <figure class=\"figure_frm origin_fig\" dmcf-pid=\"AFJmUS8Xsw\" dmcf-ptype=\"figure\">\\n           <p class=\"link_figure\"><img alt=\"중부지방의 미세먼지 농도 수준이 ‘나쁨’을 나태내고 있는 11일 서울 남산에서 바라본 도심이 뿌옇게 보이고 있다. 2020.5.11 오장환 기자 5zzang@seoul.co.kr\" class=\"thumb_g_article\" data-org-src=\"https://t1.daumcdn.net/news/202007/28/seoul/20200728121101960mqsl.jpg\" data-org-width=\"580\" dmcf-mid=\"AD50uBIOX3\" dmcf-mtype=\"image\" height=\"auto\" src=\"https://img4.daumcdn.net/thumb/R658x0.q70/?fname=https://t1.daumcdn.net/news/202007/28/seoul/20200728121101960mqsl.jpg\" width=\"658\"></p>\\n           <figcaption class=\"txt_caption default_figure\">\\n            중부지방의 미세먼지 농도 수준이 ‘나쁨’을 나태내고 있는 11일 서울 남산에서 바라본 도심이 뿌옇게 보이고 있다. 2020.5.11 오장환 기자 5zzang@seoul.co.kr\\n           </figcaption>\\n          </figure>\\n          <p dmcf-pid=\"AXQoQh7o0n\" dmcf-ptype=\"general\">올해는 코로나19 여파로 매년 봄 한반도를 숨막히는 가스실로 만드는 고농도 미세먼지 발생일이 많지 않았다. 가을부터 이듬해 봄까지 최악의 대기질을 만드는 초미세먼지의 원인에 대해서는 논란이 여전한 가운데 국내 연구진이 한반도 최악의 대기질을 만드는 원인을 밝혀내 주목받고 있다.</p>\\n          <p dmcf-pid=\"AepJIWk1iN\" dmcf-ptype=\"general\">한국과학기술연구원(KIST) 환경복지연구센터 연구진은 중국발 미세먼지 유입과 함께 국내에서 배출된 질소산화물의 상호작용이 수도권의 초미세먼지 오염을 더욱 악화시킨다고 28일 밝혔다. 이 같은 연구결과는 대기환경분야 국제학술지 ‘대기 화학 및 물리학’에 실렸다.</p>\\n          <p dmcf-pid=\"A6yK7be7Vb\" dmcf-ptype=\"general\">고농도 초미세먼지 오염 원인으로 중국발 미세먼지가 지목받고 있지만 단순히 중국발 미세먼지 유입만으로 설명하기에는 훨씬 더 높은 경우가 많다. 이에 연구팀은 초미세먼지(PM2.5)를 측정날짜에 따라 외국 유입, 국내 대기 정체, 외국 유입과 국내 대기정체 세 가지 조건으로 분류하고 각 유형별 화학적, 열역학적 특성을 분석했다.</p>\\n          <p dmcf-pid=\"ADCJ8IZIq0\" dmcf-ptype=\"general\">분석 결과 국내 대기정체 때 초미세먼지 농도는 1㎥ 당 34㎍이며 중국발 미세먼지가 유입될 경우는 53㎍으로 상승했다. 중국발 미세먼지에 국내 대기정체가 겹칠 경우 72㎍으로 가장 높은 농도를 보였다. 중국발 미세먼지가 유입될 경우는 그렇지 않은 경우보다 황산염, 질산염, 암모늄 같은 2차 생성 오염물질이 포함돼 있고 수분도 늘어난 것으로 확인됐다.</p>\\n          <p dmcf-pid=\"AWUyyBiaEc\" dmcf-ptype=\"general\">질산염이나 황산염은 흡습성이 강해 입자내 수분을 증가시키는 역할을 한다. 수분이 많은 미세먼지가 수도권으로 유입되면 자동차 배기가스나 화력발전 같은 질소산화물과 만나 반응을 일으켜 다시 질산염을 늘리는 악순환이 계속돼 미세먼지 농도를 높인다는 것이다.</p>\\n          <p dmcf-pid=\"A9PaiQxn4N\" dmcf-ptype=\"general\">연구팀은 국내 질소산화물 배출 저감을 하는 것이 중국발 미세먼지 유입시 수도권 초미세먼지 오염을 완화시킬 수 있을 것이라고 조언했다.</p>\\n          <p dmcf-pid=\"AxCNskCeEX\" dmcf-ptype=\"general\">김진영 KIST 박사는 “이번 연구는 수도권 고농도 초미세먼지는 중국발 미세먼지가 국내 자동차와 산업시설에서 배출되는 오염물질과 결합되면서 발생한다는 것을 밝혀내 효과적인 수도권 초미세먼지 관리정책에 대한 바탕이 될 것”이라고 말했다.</p>\\n          <p dmcf-pid=\"ADLZUgziiH\" dmcf-ptype=\"general\">유용하 기자 edmondy@seoul.co.kr</p>\\n         </section> \\n        </div> \\n       </div>   \\n      </div> \\n      <div class=\"foot_view\" data-cloud-area=\"addition\"> \\n       <div class=\"relate_tag\" data-cloud=\"pc_news_cluster\"> \\n        <strong class=\"screen_out\">관련 태그</strong> \\n       </div> \\n       <div class=\"relate_series\" style=\"display:none;\" data-cloud=\"pc_news_cluster\"> \\n        <strong class=\"tit_series\"> <em class=\"tag_series\">연재</em> <span class=\"title_series\"></span>  </strong> \\n        <ul class=\"list_series\"></ul>  \\n        <a href=\"#none\" class=\"link_more\">더보기</a>  \\n       </div>   \\n       <div class=\"copyright_view\" data-cloud=\"pc_like_and_copylight\"> \\n        <span class=\"txt_copyright\">Copyrightsⓒ 서울신문사. 무단 전재 및 재배포 금지 </span> \\n        <div class=\"btn_empathy\" id=\"likeButton\"> \\n         <div class=\"empathy empathy_pc\" id=\"empathy_pc\"> \\n          <div class=\"inner_empathy uoc-icon\"> \\n           <a href=\"#none\" class=\"img_empathy btn_empathy uoc-button\"> <span class=\"img_empathy ico_heart\"></span> <span class=\"txt_empathy uoc-text\" style=\"display:inline-block\">공감</span> <span class=\"num_empathy uoc-count\" style=\"display: none;\"></span> <span class=\"access_text screen_out\">공감하기</span> </a> \\n           <a href=\"http://like.daum.net/best/daily\" target=\"_top\" class=\"img_empathy link_empathy uoc-best-button\">베스트공감 &gt;</a> \\n          </div> \\n         </div> \\n        </div> \\n       </div>  \\n       <div class=\"cp_view\" data-cloud=\"pc_related_news\"> \\n        <strong class=\"tit_cp\">서울신문 주요 뉴스<span class=\"info_cp\">해당 언론사로 연결됩니다.</span></strong> \\n        <ul class=\"list_relate\"> \\n         <li><a href=\"https://www.seoul.co.kr/news/newsView.php?id=20200723500138&amp;wlog_tag3=daum_relation\" class=\"link_txt\" target=\"_blank\" data-type=\"related\">[단독] 박원순 또다른 여비서 2명도 \"이런 일 못해\"</a></li> \\n         <li><a href=\"https://www.seoul.co.kr/news/newsView.php?id=20200727500077&amp;wlog_tag3=daum_relation\" class=\"link_txt\" target=\"_blank\" data-type=\"related\">120억 로또 당첨자, 3년만에 \\'20대 여성 살해\\'</a></li> \\n         <li><a href=\"https://www.seoul.co.kr/news/newsView.php?id=20200721500061&amp;wlog_tag3=daum_relation\" class=\"link_txt\" target=\"_blank\" data-type=\"related\">\"생리 때까지\" 中회사 대형 성폭행 스캔들</a></li> \\n         <li><a href=\"https://www.seoul.co.kr/news/newsView.php?id=20200721500047&amp;wlog_tag3=daum_relation\" class=\"link_txt\" target=\"_blank\" data-type=\"related\">이태임 \"남편 구속 후 홀로 육아..복귀 없을 것\"</a></li> \\n         <li><a href=\"https://www.seoul.co.kr/news/newsView.php?id=20200727500024&amp;wlog_tag3=daum_relation\" class=\"link_txt\" target=\"_blank\" data-type=\"related\">\"데려다줄게\" 만취여성 추행 후 벌어진 일</a></li> \\n         <li><a href=\"https://www.seoul.co.kr/news/newsView.php?id=20200727500103&amp;wlog_tag3=daum_relation\" class=\"link_txt\" target=\"_blank\" data-type=\"related\">\"돈 줄테니 저 좀 죽여주세요\"..촉탁살인 파문</a></li> \\n         <li><a href=\"https://www.seoul.co.kr/news/newsView.php?id=20200721500108&amp;wlog_tag3=daum_relation\" class=\"link_txt\" target=\"_blank\" data-type=\"related\">\"8월 17일 임시공휴일 되면 왜 사흘간 휴무죠?\"</a></li> \\n         <li><a href=\"https://www.seoul.co.kr/news/newsView.php?id=20200727500033&amp;wlog_tag3=daum_relation\" class=\"link_txt\" target=\"_blank\" data-type=\"related\">北김정은 둘러싼 총 든 군간부들 \"이례적 모습\"</a></li> \\n         <li><a href=\"https://www.seoul.co.kr/news/newsView.php?id=20200724010034&amp;wlog_tag3=daum_relation\" class=\"link_txt\" target=\"_blank\" data-type=\"related\">피 묻은 흉기 옷에 쓱.. PC방 뒤집은 10대 소녀</a></li> \\n         <li><a href=\"https://www.seoul.co.kr/news/newsView.php?id=20200709500071&amp;wlog_tag3=daum_relation\" class=\"link_txt\" target=\"_blank\" data-type=\"related\">12살 제자 아이 낳고 결혼했던 여교사 결국</a></li> \\n        </ul> \\n       </div> \\n       <div id=\"alex-scroll-area\" data-cloud=\"pc_article_bottom_ad\"></div> \\n       <ins class=\"kakao_ad_area recomm_ad\" style=\"display:block; width: 658px; text-decoration: none; min-width: 658px;\" data-ad-unit=\"DAN-1jezdswwiit7q\" data-ad-width=\"658\" data-ad-height=\"90\" data-ad-onfail=\"cmRenderFailCallBack\" data-cloud=\"pc_article_bottom_ad\"> </ins>  \\n       <div class=\"cmt_news cmt_view\" data-cloud=\"pc_comment\"> \\n        <div id=\"newsviewNotice\" class=\"news_notice\"></div>  \\n        <div id=\"alex-area\" class=\"alex-area\" data-base-url=\"//comment.daum.net\" data-post-id=\"@20200728121101828\" data-client-id=\"26BXAvKny5WF5Z09lr5k77Y8\" data-kakao-appkey=\"9076ba452fea1a434141d6b6a2c11a3c\" data-initial-limit=\"3\" data-page-limit=\"10\" data-sort=\"R\" data-use-my=\"true\" data-max-length=\"300\" data-use-reply=\"true\" data-use-official=\"true\" data-use-emoticon=\"true\" data-use-social-share=\"true\" data-use-attachment=\"false\" data-is-mobile=\"false\" data-show-mask-alert=\"true\" data-use-live-comment-mode=\"notify\" data-use-fold=\"true\" data-use-skin=\"newsView\"> \\n        </div>   \\n       </div> \\n      </div> \\n     </div> \\n     <div id=\"mAside\" data-cloud-area=\"aside\"> \\n      <ins style=\"display:block;width:250px;height:250px;\" class=\"kakao_ad_area aside_g aside_ad\" data-ad-unit=\"05d24\" data-ad-type=\"D\" data-ad-width=\"250\" data-ad-height=\"250\" data-cloud=\"pc_aside_top_ad\"> </ins> \\n      <div class=\"aside_g aside_popular hide\" data-cloud=\"pc_popular_news\"> \\n       <h3 class=\"txt_newsview\">많이본 뉴스</h3> \\n       <ul class=\"tab_aside tab_media\"> \\n        <li class=\"on\"> <a href=\"#none\" class=\"link_tab link_tab2\">뉴스</a> </li> \\n        <li class=\"\"> <a href=\"#none\" class=\"link_tab link_tab3\">연예</a> </li> \\n        <li class=\"\"> <a href=\"#none\" class=\"link_tab link_tab4\">스포츠</a> </li> \\n       </ul> \\n      </div>  \\n      <div class=\"aside_g aside_phototv hide\" data-cloud=\"pc_news_photo_tv\"> \\n       <h3 class=\"txt_newsview\">포토&amp;TV</h3> \\n       <div class=\"cont_aside\"> \\n        <ul class=\"list_phototv\"></ul> \\n       </div> \\n      </div>  \\n      <ins style=\"display:block;width:250px;height:250px;\" class=\"kakao_ad_area aside_g aside_ad\" data-ad-unit=\"0QH44\" data-ad-type=\"D\" data-ad-width=\"250\" data-ad-height=\"250\" data-cloud=\"pc_aside_bottom_ad\"> </ins> \\n     </div> \\n    </div> \\n    <div id=\"cEtc\"> \\n     <div class=\"realtime_view\"> \\n      <div class=\"inner_realtime\"> \\n       <div data-cloud-area=\"etc\"> \\n        <div data-cloud=\"pc_realtime_news\" data-cloud-key=\"TOROS_NEWS_PC\" data-cloud-ui=\"RealTimeNews\">  \\n        </div> \\n       </div> \\n       <div class=\"realtime_aside\" id=\"realtime_aside\" data-cloud-area=\"etc-aside\"> \\n        <div class=\"aside_g aside_issue hide\" data-cloud=\"pc_realtime_issue\"> \\n         <h3 class=\"txt_newsview\">실시간 주요이슈</h3> \\n         <span class=\"info_aside\"></span> \\n         <div class=\"cont_aside\"> \\n          <ul class=\"list_issue\"></ul> \\n         </div> \\n        </div>  \\n        <div id=\"daum-sfocus-root\" class=\"shopad_news aside_g aside_shopping\" data-cloud=\"pc_shopping_ad\"></div>   \\n       </div> \\n      </div> \\n     </div> \\n     <div data-cloud-area=\"etc-addition\"> \\n     </div> \\n    </div> \\n   </div> \\n   <hr class=\"hide\"> \\n   <div class=\"footer_comm\" id=\"kakaoFoot\" role=\"contentinfo\" data-cloud-area=\"footer\"> \\n    <div class=\"inner_foot\" data-cloud=\"pc_news_footer\"> \\n     <div class=\"direct_link\"> \\n      <h2 class=\"tit_direct\">바로가기</h2> \\n      <div class=\"item_bundle\"> \\n       <a class=\"link_txt\" href=\"https://news.daum.net/\">뉴스홈</a> \\n       <a class=\"link_txt\" href=\"https://news.daum.net/society/\">사회</a> \\n       <a class=\"link_txt\" href=\"https://news.daum.net/politics/\">정치</a> \\n       <a class=\"link_txt\" href=\"https://news.daum.net/economic/\">경제</a> \\n       <a class=\"link_txt\" href=\"https://news.daum.net/foreign/\">국제</a> \\n       <a class=\"link_txt\" href=\"https://news.daum.net/culture/\">문화</a> \\n       <a class=\"link_txt\" href=\"https://news.daum.net/digital/\">IT</a> \\n       <a class=\"link_txt\" href=\"https://news.daum.net/photo/\">포토</a> \\n       <a class=\"link_txt\" href=\"http://news.daum.net/tv/\">TV</a> \\n      </div> \\n      <div class=\"item_bundle\"> \\n       <a class=\"link_txt\" href=\"https://news.daum.net/issue/all\">이슈</a> \\n      </div> \\n      <div class=\"item_bundle\"> \\n       <a class=\"link_txt\" href=\"https://news.daum.net/cp\">언론사별 뉴스</a> \\n      </div> \\n      <div class=\"item_bundle\"> \\n       <a class=\"link_txt\" href=\"https://news.daum.net/newsbox\">배열이력</a> \\n      </div> \\n      <div class=\"item_bundle\"> \\n       <a class=\"link_txt\" href=\"https://news.daum.net/breakingnews\">전체뉴스</a> \\n       <a class=\"link_txt\" href=\"https://news.daum.net/ranking/popular\">랭킹</a> \\n       <a class=\"link_txt\" href=\"https://news.daum.net/series\">연재</a> \\n       <a class=\"link_txt\" href=\"https://news.daum.net/1boon\">1boon</a> \\n      </div> \\n      <button class=\"btn_fold\" type=\"button\"><span class=\"ico_news\">바로가기 링크 더보기/접기</span></button> \\n     </div> \\n     <h2 class=\"screen_out\">서비스 이용정보</h2> \\n     <div class=\"footer_link\"> \\n      <a class=\"link_info\" href=\"https://news.daum.net/info/intro\">다음뉴스 소개</a> \\n      <span class=\"txt_dot\"> ・ </span> \\n      <a class=\"link_info\" href=\"https://news.daum.net/notice\">공지사항</a> \\n      <span class=\"txt_dot\"> ・ </span> \\n      <a class=\"link_info\" href=\"https://news.daum.net/info/bbsrule\">게시물 운영원칙</a> \\n      <span class=\"txt_dot\"> ・ </span> \\n      <a class=\"link_info\" href=\"http://policy.daum.net/info/info\">서비스 약관/정책</a> \\n      <span class=\"txt_dot\"> ・ </span> \\n      <a class=\"link_info\" href=\"https://with.kakao.com/media\">뉴스제휴</a> \\n      <span class=\"txt_dot\"> ・ </span> \\n      <a class=\"link_info\" href=\"https://business.kakao.com/\">비즈니스</a> \\n      <span class=\"txt_dot\"> ・ </span> \\n      <a class=\"link_info\" href=\"https://cs.daum.net/redbell/top.html\">권리침해신고</a> \\n      <span class=\"txt_dot\"> ・ </span> \\n      <a class=\"link_info\" href=\"https://cs.daum.net/faq/63.html\">다음뉴스 고객센터</a> \\n     </div> \\n     <div class=\"footer_link\"> \\n      <a class=\"link_info\" href=\"https://news.daum.net/info/newscenter24\">24시간 뉴스센터</a> \\n      <span class=\"txt_dot\"> ・ </span> \\n      <a class=\"link_info\" href=\"https://news.daum.net/info/edit\">서비스원칙</a> \\n      <span class=\"txt_dot\"> ・ </span> \\n      <a class=\"link_info\" href=\"https://news.daum.net/info/correct\">바로잡습니다</a> \\n      <span class=\"txt_dot\"> ・ </span> \\n      <span class=\"link_info\">기사배열책임자 : 손정아</span> \\n      <span class=\"txt_dot\"> ・ </span> \\n      <span class=\"link_info\">청소년보호책임자 : 이준목</span> \\n     </div> \\n     <div class=\"info_copyright\"> \\n      <strong class=\"info_warn\">위 내용에 대한 저작권 및 법적 책임은 자료제공사 또는 <br>글쓴이에 있으며, Kakao의 입장과 다를 수 있습니다.</strong> \\n      <small class=\"txt_copyright\">Copyright © <strong class=\"txt_kakao\"><a href=\"http://www.kakaocorp.com/\" class=\"link_kakao\">Kakao Corp.</a></strong> All rights reserved.</small> \\n     </div> \\n    </div>   \\n   </div> \\n   <div id=\"wrapMinidaum\"></div> \\n   <samp data-cloud-area=\"util\">           </samp> \\n  </div>  \\n  <script src=\"//t1.daumcdn.net/harmony_static/cloud/2020/07/27/vendor.5f3285ceedc6f1b7143b.js\"></script>\\n  <script src=\"//t1.daumcdn.net/harmony_static/cloud/2020/07/27/common.62a3cedcf2dd802e64d0.js\"></script>\\n  <script src=\"//t1.daumcdn.net/harmony_static/cloud/2020/07/27/components.089a349b1002f2ce43b9.js\"></script>\\n  <script src=\"//t1.daumcdn.net/kas/static/ba.min.js\"></script>\\n  <script src=\"//m1.daumcdn.net/svc/original/U03/cssjs/userAgent/userAgent-1.0.12.min.js\"></script>\\n  <script>\"use strict\"; (function () { if (isIEVersionBelowNine()) { var kakaoIndex = document.getElementById(\\'kakaoIndex\\'); var upgradeLayer = document.querySelector(\\'.browser_upgrade\\'); var closeButton = upgradeLayer.querySelector(\\'button\\'); document.body.insertBefore(upgradeLayer, kakaoIndex); upgradeLayer.setAttribute(\\'class\\', \\'browser_upgrade\\'); closeButton.attachEvent(\\'onclick\\', function () { upgradeLayer.setAttribute(\\'class\\', \\'hide\\'); }); } function isIEVersionBelowNine() { var userAgent = navigator.userAgent.toLowerCase(); var version = parseInt(userAgent.split(\\'msie\\')[1]); /* i.e parseInt(\" 9.0; windo...\") */ return userAgent.indexOf(\\'msie\\') !== -1 && version < 10; } })();</script>\\n  <script>\"use strict\"; function _instanceof(left, right) { if (right != null && typeof Symbol !== \"undefined\" && right[Symbol.hasInstance]) { return !!right[Symbol.hasInstance](left); } else { return left instanceof right; } } function _classCallCheck(instance, Constructor) { if (!_instanceof(instance, Constructor)) { throw new TypeError(\"Cannot call a class as a function\"); } } function _defineProperties(target, props) { for (var i = 0; i < props.length; i++) { var descriptor = props[i]; descriptor.enumerable = descriptor.enumerable || false; descriptor.configurable = true; if (\"value\" in descriptor) descriptor.writable = true; Object.defineProperty(target, descriptor.key, descriptor); } } function _createClass(Constructor, protoProps, staticProps) { if (protoProps) _defineProperties(Constructor.prototype, protoProps); if (staticProps) _defineProperties(Constructor, staticProps); return Constructor; } (function () { var weatherLayer = document.querySelector(\\'.gnb_weather\\'); var weatherList = weatherLayer.querySelector(\\'ul\\'); var weatherApiUrl = \"\".concat(Conf.api.hadesRest, \"/pc_weather\"); axios.get(weatherApiUrl).then(function (res) { var _res$data$body$data = res.data.body.data, isNightIconYn = _res$data$body$data.isNightIconYn, weatherData = _res$data$body$data.weatherData; weatherList.dataset.nightyn = isNightIconYn; weatherList.innerHTML = weatherData.map(function (_ref) { var weatherIconCode = _ref.weatherIconCode, specialRegionName = _ref.specialRegionName, temperature = _ref.temperature; return \"\\\\n <li>\\\\n <a href=\\\\\"http://search.daum.net/search?nil_suggest=btn&amp;w=tot&amp;DA=SBC&amp;q=\".concat(specialRegionName, \"%20\\\\uB0A0\\\\uC528\\\\\" class=\\\\\"link_cont\\\\\">\\\\n <span class=\\\\\"ico_weather ico_weather\").concat(weatherIconCode, \"\\\\\">\").concat(specialRegionName, \"</span> \\\\n <span class=\\\\\"txt_weather\\\\\">\").concat(specialRegionName, \"\\\\n <span class=\\\\\"num_heat\\\\\">\").concat(temperature, \"</span> \\\\n <span class=\\\\\"txt_heat\\\\\">\\\\u2103</span>\\\\n </span>\\\\n </a>\\\\n </li>\\\\n \"); }).join(\\'\\'); var newsTicker = new NewsTicker(weatherList); }).catch(function (error) { removeWeatherLayer(); }); var NewsTicker = /*#__PURE__*/ function () { function NewsTicker(list) { _classCallCheck(this, NewsTicker); this.PAUSE_TIME = 4000; this.TRANSITION_TIME = 500; this.list = list; this.frameId = null; this.pause = this.pause.bind(this); this.start = this.start.bind(this); this.moveUp = this.moveUp.bind(this); this.init(); this.start(); this.list.style.marginTop = \\'0px\\'; } _createClass(NewsTicker, [{ key: \"start\", value: function start() { this.frameId = setInterval(this.moveUp, this.PAUSE_TIME); } }, { key: \"pause\", value: function pause() { clearInterval(this.frameId); } }, { key: \"moveUp\", value: function moveUp() { var list = this.list; var clone = list.firstElementChild.cloneNode(true); list.classList.add(\\'slidein\\'); list.style.marginTop = \\'-30px\\'; setTimeout(function () { list.classList.remove(\\'slidein\\'); list.style.marginTop = \\'0px\\'; list.removeChild(list.firstElementChild); list.appendChild(clone); }, this.TRANSITION_TIME); } }, { key: \"init\", value: function init() { var list = this.list; list.addEventListener(\\'mouseenter\\', this.pause); list.addEventListener(\\'mouseleave\\', this.start); } }]); return NewsTicker; }(); function removeWeatherLayer() { weatherLayer.parentNode.removeChild(weatherLayer); } })();</script>\\n  <script>\"use strict\"; (function () { var serviceParams = \\'\\'; var categoryName = serviceParams.indexOf(\\'tv_news\\') > -1 ? \\'tv\\' : \\'digital\\'; var gnb = document.querySelector(\\'.gnb_comm\\'); var currentCategory = categoryName && gnb.querySelector(\".\".concat(categoryName)); currentCategory && currentCategory.setAttribute(\\'class\\', \"\".concat(categoryName, \" on\")); })();</script>\\n  <script src=\"https://t1.daumcdn.net/cssjs/jquery/jquery-1.9.0.min.js\"></script>\\n  <script src=\"https://search1.daumcdn.net/search/suggest_pc/suggest-1.2.16.min.js\"></script>\\n  <script>\"use strict\"; (function ($) { var SUGGEST_APP_KEY = \\'d7022f6ca2a04430ce1b97b922da58e8\\'; var searchLayer = document.getElementById(\\'search_news\\'); var suggestInstance = new suggest.Suggest(document.getElementById(\"search_news\"), { inputEl: \\'qVal\\', suggestBoxEl: \\'suggestBox\\', autoFocus: \\'NORMAL\\', suggestLimit: 10, isReverse: false, searchURL: \\'https://search.daum.net/search\\', APIServer: { host: \\'//dapi.kakao.com/suggest/v2/pc.json\\', apiType: suggest.Suggest.APITYPE.DAPISUGGEST, appkey: SUGGEST_APP_KEY, queries: { \\'mod\\': \\'json\\', \\'code\\': \\'utf_in_out\\' } } }); /* 추천 검색어 마우스 클릭시 검색으로 보낸다. */ suggestInstance.on(\\'click-item\\', function () { var kakaoSearch = document.getElementById(\\'kakaoSearch\\'); kakaoSearch.querySelector(\"input[name=\\'DA\\']\").value = \\'23B\\'; kakaoSearch.submit(); }); var queryInput = document.getElementById(\\'qVal\\'); if (queryInput.addEventListener) { queryInput.addEventListener(\\'focus\\', function (event) { event && event.preventDefault(); if (queryInput.value.length >= 0) { queryInput.parentNode.classList.add(\\'search_on\\'); } }); queryInput.addEventListener(\\'blur\\', function (event) { event && event.preventDefault(); if (queryInput.value.length === 0) { queryInput.parentNode.classList.remove(\\'search_on\\'); } }); } else { /* ie */ queryInput.attachEvent(\\'onfocus\\', function (event) { event && (event.preventDefault ? event.preventDefault() : event.returnValue = false); if (queryInput.value.length >= 0) { queryInput.parentNode.setAttribute(\\'class\\', \\'box_searchbar search_on\\'); } }); queryInput.attachEvent(\\'onblur\\', function (event) { event && (event.preventDefault ? event.preventDefault() : event.returnValue = false); if (queryInput.value.length === 0) { queryInput.parentNode.setAttribute(\\'class\\', \\'box_searchbar\\'); } }); } })(jQuery);</script>\\n  <script src=\"//t1.daumcdn.net/daumtop_deco/socialshare/socialshare_nocss_pc-2.3.1.js\"></script>\\n  <script>\"use strict\"; (function () { var paragraphs = document.body.querySelectorAll(\".layer_summary p\"); var summaryLayer = document.body.querySelector(\\'.util_summary\\'); var summaryButton = summaryLayer.querySelector(\\'.btn_summary\\'); var summaryLayerStatus = false; function showLayer() { summaryLayer.classList.add(\\'layer_open\\'); summaryButton.setAttribute(\\'aria-expanded\\', true); window.addEventListener(\\'click\\', checkLayer); } function hideLayer() { summaryLayerStatus = false; summaryLayer.classList.remove(\\'layer_open\\'); summaryButton.setAttribute(\\'aria-expanded\\', false); } function checkLayer(e) { if (summaryButton === e.target || summaryButton.children[0] === e.target) return false; hideLayer(); window.removeEventListener(\\'click\\', checkLayer); } paragraphs.forEach(function (p) { return p.classList.add(\"desc_news\"); }); summaryButton.addEventListener(\\'click\\', function (e) { summaryLayerStatus = !summaryLayerStatus; summaryLayerStatus ? showLayer() : hideLayer(); }); summaryLayer.addEventListener(\\'focusin\\', function (e) { showLayer(); }); summaryLayer.addEventListener(\\'focusout\\', function (e) { hideLayer(); }); })();</script>\\n  <script>\"use strict\"; function _slicedToArray(arr, i) { return _arrayWithHoles(arr) || _iterableToArrayLimit(arr, i) || _nonIterableRest(); } function _nonIterableRest() { throw new TypeError(\"Invalid attempt to destructure non-iterable instance\"); } function _iterableToArrayLimit(arr, i) { if (!(Symbol.iterator in Object(arr) || Object.prototype.toString.call(arr) === \"[object Arguments]\")) { return; } var _arr = []; var _n = true; var _d = false; var _e = undefined; try { for (var _i = arr[Symbol.iterator](), _s; !(_n = (_s = _i.next()).done); _n = true) { _arr.push(_s.value); if (i && _arr.length === i) break; } } catch (err) { _d = true; _e = err; } finally { try { if (!_n && _i[\"return\"] != null) _i[\"return\"](); } finally { if (_d) throw _e; } } return _arr; } function _arrayWithHoles(arr) { if (Array.isArray(arr)) return arr; } (function () { var ttsPlayerSrcMap = { slow_Male: \"http://k-v1.kakaocdn.net/dn/pIuBP/btqF3aJvSI8/7mkygNHpI4SeouSZpBOVRk/original.m4a\", normal_Male: \"http://k-v1.kakaocdn.net/dn/ckSPSz/btqF5A7P4cl/oIKOxCzQUXR6jXgyXy3gPK/original.m4a\", fast_Male: \"http://k-v1.kakaocdn.net/dn/caZwGQ/btqF4VklApS/4eoF4KARqykT5Js05AyvW0/original.m4a\", slow_Female: \"http://k-v1.kakaocdn.net/dn/8TgUW/btqF3bBC70y/tKmBNyJ2WPMGo8hQUx50p0/original.m4a\", normal_Female: \"http://k-v1.kakaocdn.net/dn/ilLWW/btqF4VEDJMq/U0enEZcKcMKmgoMk7zZtX0/original.m4a\", fast_Female: \"http://k-v1.kakaocdn.net/dn/lcXNW/btqF5A054iG/IFS4hicIZ9q08M3MbkL7R0/original.m4a\" }; var TTS_COOKIE_NAME = \\'VIEW_TTS\\'; var $elements = document.body.querySelector(\\'.tts_btn\\'); var ttsPlayer = $elements.querySelector(\\'#ttsPlayer\\'); function ttsOptionsSourceKey() { var checkedSpeed = $elements.querySelector(\\'input[name=ttsSpeed]:checked\\').value; var checkedGender = $elements.querySelector(\\'input[name=ttsGender]:checked\\').value; return \"\".concat(checkedSpeed, \"_\").concat(checkedGender); } function ttsPlayerSrcSet() { var key = ttsOptionsSourceKey(); ttsPlayer.setAttribute(\\'src\\', ttsPlayerSrcMap[key]); Cookies.set(TTS_COOKIE_NAME, \\'\\', { expires: -1 }); Cookies.set(TTS_COOKIE_NAME, key, { domain: \\'.v.daum.net\\', expires: new Date(new Date() * 1 + 365 * 864e+5) }); } var textLayer = $elements.querySelector(\\'.ico_speak\\'); function ttsPlayerControl(control) { if (control == \"playOptions\") { ttsPlayerSrcSet(); ttsPlayer.load(); ttsPlayer.play(); textLayer.textContent = \\'음성 기사 정지\\'; } else if (control == \"play\") { ttsPlayer.load(); ttsPlayer.play(); textLayer.textContent = \\'음성 기사 정지\\'; } else { ttsPlayer[control](); textLayer.textContent = \\'음성 기사 듣기\\'; } } var btnTtsLayer = $elements; var btnTtsClick = $elements.querySelector(\\'.btn_tts\\'); var ttsInputs = $elements.querySelectorAll(\\'.list_tts input\\'); var subLayer = $elements.querySelector(\\'.wrap_setlayer\\'); accessibleLayer({ layer: btnTtsLayer, btn: btnTtsClick, inputs: ttsInputs }); function accessibleLayer(options) { var layer = options.layer, btn = options.btn, inputs = options.inputs; var tid; var isMouseOn = false; function showLayer() { clearTimeout(tid); layer.classList.add(\\'layer_open\\'); btn.setAttribute(\\'aria-expanded\\', true); } function hideLayer() { layer.classList.remove(\\'layer_open\\'); btn.setAttribute(\\'aria-expanded\\', false); } function delayHideLayer() { tid = setTimeout(hideLayer, 1); } function checkMouseAndHideLayer() { if (!isMouseOn) delayHideLayer(); } layer.addEventListener(\\'mouseover\\', function () { isMouseOn = true; showLayer(); }); layer.addEventListener(\\'mouseleave\\', function () { isMouseOn = false; hideLayer(); }); btn.addEventListener(\\'focus\\', showLayer); btn.addEventListener(\\'blur\\', checkMouseAndHideLayer); inputs.forEach(function (input) { input.addEventListener(\\'focus\\', showLayer); input.addEventListener(\\'blur\\', checkMouseAndHideLayer); }); } accessibleInput({ options: $elements.querySelectorAll(\\'.ico_newsview\\'), inputs: ttsInputs }); function accessibleInput(opt) { var options = opt.options, inputs = opt.inputs; options.forEach(function (option) { option.addEventListener(\\'mouseover\\', function (event) { this.classList.add(\\'ico_focused\\'); }); option.addEventListener(\\'mouseleave\\', function (event) { this.classList.remove(\\'ico_focused\\'); }); }); inputs.forEach(function (input) { input.addEventListener(\\'focus\\', function () { this.nextElementSibling.querySelector(\\'span\\').classList.add(\\'ico_focused\\'); }); input.addEventListener(\\'blur\\', function () { this.nextElementSibling.querySelector(\\'span\\').classList.remove(\\'ico_focused\\'); }); }); } btnTtsClick.addEventListener(\\'click\\', function (event) { btnTtsLayer.classList.toggle(\\'on\\'); if (btnTtsLayer.classList.contains(\\'on\\')) { ttsPlayerControl(\\'play\\'); } else { ttsPlayerControl(\\'pause\\'); } }); ttsPlayer.addEventListener(\"ended\", function (event) { btnTtsLayer.classList.remove(\\'on\\'); }); ttsInputs.forEach(function (input) { input.addEventListener(\\'change\\', function (event) { btnTtsLayer.classList.add(\\'on\\'); ttsPlayerControl(\\'playOptions\\'); }); }); var ttsCookieValue = Cookies.get(TTS_COOKIE_NAME); if (typeof ttsCookieValue == \"undefined\" || ttsCookieValue.includes(\"undefined\")) { subLayer.querySelector(\\'#ttsGenderMale\\').checked = true; subLayer.querySelector(\\'#ttsSpeedNormal\\').checked = true; } else { var _ttsCookieValue$split = ttsCookieValue.split(\\'_\\'), _ttsCookieValue$split2 = _slicedToArray(_ttsCookieValue$split, 2), speed = _ttsCookieValue$split2[0], gender = _ttsCookieValue$split2[1]; speed = \\'ttsSpeed\\' + speed.charAt(0).toUpperCase() + speed.slice(1); gender = \\'ttsGender\\' + gender; subLayer.querySelector(\\'#\\' + gender).checked = true; subLayer.querySelector(\\'#\\' + speed).checked = true; } btnTtsClick.className = \"btn_set btn_tts #util #tts #p_\" + ttsOptionsSourceKey(); ttsPlayerSrcSet(); })();</script>\\n  <script>\"use strict\"; (function () { var translatingLayers = document.createElement(\\'DIV\\'); translatingLayers.innerHTML = \"\\\\n <div id=\\\\\"translatingLayer\\\\\" class=\\\\\"translate_layer\\\\\">\\\\n <div class=\\\\\"inner_translate_layer\\\\\">\\\\n <div class=\\\\\"layer_body\\\\\">\\\\n <strong class=\\\\\"tit_translate\\\\\">\\\\n \\\\uBC88\\\\uC5ED\\\\uC911 <span class=\\\\\"eng_tit\\\\\">Now in translation</span>\\\\n </strong>\\\\n </div>\\\\n </div>\\\\n </div>\\\\n\\\\n <div id=\\\\\"translateErrorLayer\\\\\" class=\\\\\"translate_layer\\\\\">\\\\n <div class=\\\\\"inner_translate_layer inner_error_layer\\\\\">\\\\n <div class=\\\\\"layer_body\\\\\">\\\\n <span class=\\\\\"ico_newsview ico_error\\\\\"></span>\\\\n <strong class=\\\\\"tit_translate\\\\\">\\\\n \\\\uC7A0\\\\uC2DC \\\\uD6C4 \\\\uB2E4\\\\uC2DC \\\\uC2DC\\\\uB3C4\\\\uD574 \\\\uC8FC\\\\uC138\\\\uC694 <span class=\\\\\"eng_tit\\\\\">Please try again in a moment</span>\\\\n </strong>\\\\n </div>\\\\n </div>\\\\n </div>\\\\n \"; document.body.querySelector(\"#kakaoWrap\").appendChild(translatingLayers); })();</script>\\n  <script>\"use strict\"; function _toConsumableArray(arr) { return _arrayWithoutHoles(arr) || _iterableToArray(arr) || _nonIterableSpread(); } function _nonIterableSpread() { throw new TypeError(\"Invalid attempt to spread non-iterable instance\"); } function _iterableToArray(iter) { if (Symbol.iterator in Object(iter) || Object.prototype.toString.call(iter) === \"[object Arguments]\") return Array.from(iter); } function _arrayWithoutHoles(arr) { if (Array.isArray(arr)) { for (var i = 0, arr2 = new Array(arr.length); i < arr.length; i++) { arr2[i] = arr[i]; } return arr2; } } var dmcfLanguage = \\'ko\\'; (function () { var $elements = document.body.querySelector(\\'.translate_btn\\'); var translateButtonLayer = $elements; var translateButton = $elements.querySelector(\\'.btn_translate\\'); var translateKakaoILink = $elements.querySelector(\\'.link_kakaoi\\'); var translateLanguageButtons = $elements.querySelectorAll(\\'.btn_lang\\'); var translatingLayer = document.body.querySelector(\\'#translatingLayer\\'); var translateErrorLayer = document.body.querySelector(\\'#translateErrorLayer\\'); var hostName = location.host.split(\\'.\\')[0]; var kakaoWrap = document.body.querySelector(hostName !== \\'movie\\' ? \\'#kakaoWrap\\' : \\'#dkWrap\\'); function hideAllLayers() { translatingLayer.style.display = \"none\"; translateErrorLayer.style.display = \"none\"; document.body.style.overflow = \"\"; } ; function showTranslatingLayer() { hideAllLayers(); translatingLayer.style.display = \"block\"; document.body.style.overflow = \"hidden\"; } ; function showTranslateErrorLayer() { hideAllLayers(); translateErrorLayer.style.display = \"block\"; document.body.style.overflow = \"hidden\"; } ; accessibleLayer({ layer: $elements, btn: translateButton, inputs: [translateKakaoILink].concat(_toConsumableArray(translateLanguageButtons)) }); function accessibleLayer(options) { var layer = options.layer, btn = options.btn, inputs = options.inputs; var tid; var isMouseOn = false; function showLayer() { clearTimeout(tid); layer.classList.add(\\'layer_open\\'); btn.setAttribute(\\'aria-expanded\\', true); } function hideLayer() { layer.classList.remove(\\'layer_open\\'); btn.setAttribute(\\'aria-expanded\\', false); } function delayHideLayer() { tid = setTimeout(hideLayer, 1); } function checkMouseAndHideLayer() { if (!isMouseOn) delayHideLayer(); } layer.addEventListener(\\'mouseover\\', function () { isMouseOn = true; showLayer(); }); layer.addEventListener(\\'mouseleave\\', function () { isMouseOn = false; hideLayer(); }); btn.addEventListener(\\'focus\\', showLayer); btn.addEventListener(\\'blur\\', checkMouseAndHideLayer); inputs.forEach(function (input) { input.addEventListener(\\'focus\\', showLayer); input.addEventListener(\\'blur\\', checkMouseAndHideLayer); }); } function onTranslate(e) { var sourceLang = \"kr\"; var targetLang = e.currentTarget.name; showTranslatingLayer(); try { HarmonyTranslator.translate(sourceLang, targetLang, onTranslateSuccess, onTranslateError); } catch (error) { console.error(\\'번역 에러:\\', error); } } function onTranslateSuccess(data) { var translateNotice = document.querySelector(\"#translateNotice\"); var targetLang = data.targetLang; switch (targetLang) { case \"en\": case \"id\": kakaoWrap.classList.add(\"lang_type1\"); kakaoWrap.classList.remove(\"lang_type2\"); kakaoWrap.classList.remove(\"lang_type3\"); break; case \"cn\": case \"jp\": kakaoWrap.classList.remove(\"lang_type1\"); kakaoWrap.classList.add(\"lang_type2\"); kakaoWrap.classList.remove(\"lang_type3\"); break; case \"vi\": kakaoWrap.classList.remove(\"lang_type1\"); kakaoWrap.classList.remove(\"lang_type2\"); kakaoWrap.classList.add(\"lang_type3\"); break; default: kakaoWrap.classList.remove(\"lang_type1\"); kakaoWrap.classList.remove(\"lang_type2\"); kakaoWrap.classList.remove(\"lang_type3\"); break; } if (targetLang == \"kr\") { translateNotice.querySelectorAll(\".notice_lang\").forEach(function (notice) { notice.style.display = \\'none\\'; }); translateNotice.style.display = \\'none\\'; } else { translateNotice.querySelectorAll(\".notice_lang:not(.notice_lang_\".concat(targetLang, \")\")).forEach(function (notice) { notice.style.display = \\'none\\'; }); translateNotice.querySelector(\".notice_lang.notice_lang_\".concat(targetLang)).style.display = \\'block\\'; translateNotice.style.display = \\'block\\'; } setTimeout(function () { hideAllLayers(); }, 500); } function onTranslateError(data, error) { showTranslateErrorLayer(); setTimeout(function () { hideAllLayers(); }, 2000); } translateLanguageButtons.forEach(function (btn) { btn.addEventListener(\\'click\\', onTranslate); }); })();</script>\\n  <script>\"use strict\"; (function () { var KAKAO_APP_KEY = \\'53e566aa17534bc816eb1b5d8f7415ee\\'; var newsId = \\'20200728121101828\\' || \\'AOIdGDtQWV\\'; var requestUrl = \"\".concat(location.protocol, \"//\").concat(location.host, \"/v/\").concat(newsId); var titleDecoder = document.createElement(\"DIV\"); titleDecoder.innerHTML = \\'한반도 최악의 미세먼지 발생 원인 알고보니..\\'; var title = titleDecoder.textContent; var KAKAO_LINK_OG_DATA = { shareType: \\'sendScrap\\', shareData: { requestUrl: requestUrl, templateId: 7952, installTalk: true, templateArgs: { \\'${EncodingUrl}\\': encodeURIComponent(requestUrl), \\'${webUrl}\\': requestUrl + \\'?f=p\\', \\'${mobileWebUrl}\\': requestUrl + \\'?f=m\\' } } }; var $element = document.body.querySelector(\".share_btn\"); var layerBtn = $element.firstElementChild; var layerContainer = layerBtn.nextElementSibling; var layerCloseTid = null; var testShare = new socialshareRenewal.Main(layerBtn, { moreViewContainer: layerContainer, action: \\'hover\\', link: requestUrl, prefix: title, service_name: \\'다음뉴스\\', cafe: \\'http://scrap.cafe.daum.net/_dss_/scrap?folder_id=100000&source_location_code=10&target_location_code=1&data_id=\\' + newsId, kakaoAPI: { appkey: KAKAO_APP_KEY, kakaoLinkData: KAKAO_LINK_OG_DATA } }); function hideLayer() { layerCloseTid = setTimeout(function () { $element.classList.remove(\"layer_open\"); layerBtn.setAttribute(\\'aria-expanded\\', false); testShare.close(); }, 100); } function showLayer() { clearLayerTimeout(); $element.classList.add(\"layer_open\"); layerBtn.setAttribute(\\'aria-expanded\\', true); testShare.open(); } function clearLayerTimeout() { layerCloseTid && clearTimeout(layerCloseTid); } layerBtn.addEventListener(\"mouseenter\", showLayer); layerBtn.addEventListener(\"focus\", showLayer); layerBtn.addEventListener(\"mouseleave\", hideLayer); layerBtn.addEventListener(\"blur\", hideLayer); layerContainer.addEventListener(\"mouseenter\", clearLayerTimeout); layerContainer.addEventListener(\"mouseleave\", hideLayer); layerContainer.querySelectorAll(\"a\").forEach(function (el) { el.addEventListener(\"focus\", clearLayerTimeout); el.addEventListener(\"blur\", hideLayer); }); })();</script>\\n  <script>\"use strict\"; (function () { window.addEventListener(\\'load\\', initFontSizeUtil); function initFontSizeUtil() { var DEFAULT_FONTSIZE = 17; var FONT_COOKIE_NAME = \\'GS_font_size\\'; var $elements = document.body.querySelector(\\'.font_btn\\'); var $newsview = document.body.querySelector(\\'.news_view\\'); var $listFont = $elements.querySelector(\\'.list_font\\'); var fontSize = Cookies.get(FONT_COOKIE_NAME) || DEFAULT_FONTSIZE; var fontLayer = $elements; var fontBtn = $elements.querySelector(\\'.btn_font\\'); var radioEls = $elements.querySelectorAll(\\'.list_font input\\'); accessibleLayer({ layer: fontLayer, btn: fontBtn, inputs: radioEls }); function accessibleLayer(options) { var layer = options.layer, btn = options.btn, inputs = options.inputs; var tid; var isMouseOn = false; function showLayer() { clearTimeout(tid); layer.classList.add(\\'layer_open\\'); btn.setAttribute(\\'aria-expanded\\', true); } function hideLayer() { layer.classList.remove(\\'layer_open\\'); btn.setAttribute(\\'aria-expanded\\', false); } function delayHideLayer() { tid = setTimeout(hideLayer, 1); } function checkMouseAndHideLayer() { isMouseOn && delayHideLayer(); } layer.addEventListener(\\'mouseover\\', function () { isMouseOn = true; showLayer(); }); layer.addEventListener(\\'mouseleave\\', function () { isMouseOn = false; hideLayer(); }); btn.addEventListener(\\'focus\\', showLayer); btn.addEventListener(\\'blur\\', checkMouseAndHideLayer); inputs.forEach(function (input) { input.addEventListener(\\'focus\\', showLayer); input.addEventListener(\\'blur\\', checkMouseAndHideLayer); }); } accessibleInput({ options: $elements.querySelectorAll(\\'.ico_newsview\\'), inputs: radioEls }); function accessibleInput(opt) { var options = opt.options, inputs = opt.inputs; options.forEach(function (option) { option.addEventListener(\\'mouseover\\', function () { this.classList.add(\\'ico_focused\\'); }); option.addEventListener(\\'mouseleave\\', function () { this.classList.remove(\\'ico_focused\\'); }); }); inputs.forEach(function (input) { input.addEventListener(\\'focus\\', function () { this.nextElementSibling.querySelector(\\'span\\').classList.add(\\'ico_focused\\'); }); input.addEventListener(\\'blur\\', function () { this.nextElementSibling.querySelector(\\'span\\').classList.remove(\\'ico_focused\\'); }); }); } function setFontSize(fontSize) { $newsview.style.fontSize = \"\".concat(fontSize, \"px\"); document.body.querySelector(\"#inpFont\".concat(fontSize)).checked = true; $listFont.querySelectorAll(\\'label\\').forEach(function (labelEl) { return labelEl.classList.remove(\\'on\\'); }); $listFont.querySelector(\"label[for=inpFont\".concat(fontSize, \"]\")).classList.add(\\'on\\'); Cookies.set(FONT_COOKIE_NAME, \\'\\', { expires: -1 }); Cookies.set(FONT_COOKIE_NAME, fontSize, { domain: \\'.v.daum.net\\', expires: new Date(new Date() * 1 + 365 * 864e+5) }); } radioEls.forEach(function (el) { el.addEventListener(\\'change\\', function () { setFontSize(this.value); }); }); setFontSize(fontSize); } })();</script>\\n  <script>\"use strict\"; (function () { var printBtn = document.body.querySelector(\".btn_print\").parentNode; printBtn.addEventListener(\"click\", function (e) { e.preventDefault(); window.open(\\'?s=print_view\\', \\'newsPrint\\', \\'width=750,height=550,scrollbars=yes\\'); }); })();</script>\\n  <script>\"use strict\"; (function () { if (!isIEVersionBelowNine()) return; var newsContainer = document.querySelector(\\'#harmonyContainer\\'); var imgs = newsContainer.querySelectorAll(\\'img\\'); var imgLen = imgs.length; for (var i = 0; i < imgLen; i++) { imgs[i].setAttribute(\\'height\\', \\'100%\\'); } function isIEVersionBelowNine() { var userAgent = navigator.userAgent.toLowerCase(); var isIE = userAgent.indexOf(\\'msie\\') !== -1; var ieVersion = parseInt(userAgent.split(\\'msie\\')[1]); var utilView = document.querySelector(\\'.util_view\\'); return isIE && ieVersion <= 9; } })();</script>\\n  <script>\"use strict\"; (function () { /* ie 9 이하 표시 안 함. */ if (isIEVersionBelowNine()) { return; } var cate = \"news\"; var selfNewsId = \"20200728121101828\"; var CLUSTER_API = \"https://hades-cerberus.v.kakao.com/charon/pc_mc2_news?cate=\".concat(cate, \"&id=\").concat(selfNewsId); var TAG_TPL = \\'<span class=\"tag_relate\">\\\\ <a class=\"emph_g link_txt\" href=\"https://media.daum.net/issue/<%= _id %>\">\\\\ <span class=\"txt_tag\"></span><span>이슈 · <%= title %></span>\\\\ </a>\\\\ </span>\\'; var SELF_NEWS_TPL = \\'<li class=\"on\">\\\\ <div class=\"inner_box\"><span class=\"link_txt\"><%= title %></span></div>\\\\ </li>\\'; var ANOTHER_NEWS_TPL = \\'<li>\\\\ <div class=\"inner_box\"><a href=\"https://news.v.daum.net/v/<%= contentId %>\" class=\"link_txt\"><%= title %></a></div>\\\\ </li>\\'; var MORE_LINK_URL = \\'//media.daum.net/series\\'; var relatedTag = document.querySelector(\\'.relate_tag\\'); var relatedSeries = document.querySelector(\\'.relate_series\\'); var seriesTitleEl = relatedSeries.querySelector(\\'.title_series\\'); var moreLink = relatedSeries.querySelector(\\'.link_more\\'); var seriesList = relatedSeries.querySelector(\\'.list_series\\'); axios.get(CLUSTER_API).then(function (response) { var clusters = response.data.body.data.data; if (_.isEmpty(clusters)) return; var clusterType = clusters[0].factor.type; switch (clusterType) { case \\'issuecluster\\': renderIssue(clusters[0]); break; case \\'series\\': renderSeries(clusters[0]); break; default: return; } }).catch(function (error) { console.error(\"[클러스터]: 데이터를 가져오는데 실패했습니다. 에러: \", error, \"에러 데이터: \", error.response.data); }); function renderIssue(cluster) { var _id = cluster._id, title = cluster.title; relatedTag.innerHTML = _.template(TAG_TPL)({ _id: _id, title: title }); } function renderSeries(cluster) { relatedSeries.style.display = \\'block\\'; var contents = cluster.contents, seriesId = cluster._id, seriesTitle = cluster.title; seriesTitleEl.textContent = seriesTitle; if (contents.length < 3) seriesList.classList.add(\\'relate_series2\\'); seriesList.innerHTML = contents.map(function (content) { var contentId = content.contentId, title = content.title; if (contentId == selfNewsId) { return _.template(SELF_NEWS_TPL)({ title: title }); } else { return _.template(ANOTHER_NEWS_TPL)({ contentId: contentId, title: title }); } }).join(\\'\\'); moreLink.setAttribute(\\'href\\', MORE_LINK_URL + \\'/\\' + seriesId); } function isIEVersionBelowNine() { var userAgent = navigator.userAgent.toLowerCase(); var version = parseInt(userAgent.split(\\'msie\\')[1]); /* i.e parseInt(\" 9.0; windo...\") */ return userAgent.indexOf(\\'msie\\') !== -1 && version < 10; } })();</script>\\n  <script>\"use strict\"; (function () { var likeButton = document.getElementById(\\'likeButton\\'); var props = { serviceId: \\'news\\', uid: \\'20200728121101828\\' }; if (isIEVersionBelowTen()) { likeButton.parentNode.removeChild(likeButton); } else { new window.LikePC.LikeOnPC(likeButton, props); } function isIEVersionBelowTen() { var userAgent = navigator.userAgent.toLowerCase(); var version = parseInt(userAgent.split(\\'msie\\')[1]); /* i.e parseInt(\" 9.0; windo...\") */ return userAgent.indexOf(\\'msie\\') !== -1 && version < 10; } })();</script>\\n  <script>\"use strict\"; function cmRenderFailCallBack(arg1) { arg1.parentElement.removeChild(arg1); }</script>\\n  <script>\"use strict\"; document.addEventListener(\\'DOMContentLoaded\\', function () { var hadesRest = \"\".concat(Conf.api.hadesRest); var serviceNoticeId = \"3393\"; var apiUrl = hadesRest + \"/service_notice?id=\" + serviceNoticeId; var element = document.querySelector(\".news_notice\"); axios.get(apiUrl).then(function (response) { var _response$data$body$d = response.data.body.data, noticeTitle = _response$data$body$d.noticeTitle, noticeUrl = _response$data$body$d.noticeUrl; if (noticeTitle !== null) { element.innerHTML = \"<strong class=\\\\\"tit_notice\\\\\">\\\\uACF5\\\\uC9C0</strong><span class=\\\\\"txt_notice\\\\\"><a href=\\\\\"\".concat(noticeUrl, \"\\\\\" class=\\\\\"link_txt\\\\\">\").concat(noticeTitle, \"</a></span>\"); } else { element.parentNode.removeChild(element); } }).catch(function (error) { console.log(\"Fail service notice: \" + error); }); });</script>\\n  <script src=\"//comment.daum.net/js/latest/alex.single.min.js\"></script>\\n  <script>\"use strict\"; (function () { var categoryName = \\'digital\\'; window.excludeCorejs = false; window.alexConfig = { label: { emptyImage: \\'//i1.daumcdn.net/img-section/enter2013/liveviewer/pc_emot_co.gif\\' }, onLoad: function onLoad() { window.isLoadComment = true; } }; var alexArea = document.getElementById(\\'alex-area\\'); var rubicsPoolRegDt = \"\"; if (rubicsPoolRegDt) { var afterOneHour = dateUtil.addMinutes(rubicsPoolRegDt.time, 60); var viewAccessTime = parseInt(Cookies.get(\"harmony_view_access_dt\"), 10); if (afterOneHour > viewAccessTime) { alexArea.setAttribute(\\'data-sort\\', \\'L\\'); } } })();</script>\\n  <script>\"use strict\"; (function () { var popularNewsLayer = document.querySelector(\\'.aside_popular\\'); var tabs = document.querySelectorAll(\".tab_aside li a\"); var serviceId = \"news\"; var tabEngName = { \"뉴스\": \"news\", \"연예\": \"entertain\", \"스포츠\": \"sports\" }; var tabInfos = { \"news\": { el: tabs[0], korName: \"뉴스\", moreLink: \"https://news.daum.net/ranking/popular/all\" }, \"entertain\": { el: tabs[1], korName: \"연예\", moreLink: \"https://entertain.daum.net/ranking/popular\" }, \"sports\": { el: tabs[2], korName: \"스포츠\", moreLink: \"https://sports.media.daum.net/sports/news/ranking\" } }; var activeTab = tabInfos[serviceId].el; var pageIndex = 1; getContents(tabInfos); tabs.forEach(function (tab) { tab.addEventListener(\"mouseover\", function (e) { return selectTab(e.target); }); tab.addEventListener(\"focus\", function (e) { return selectTab(e.target); }); }); function selectTab(tab) { if (activeTab !== tab) { var activeContents = activeTab.parentNode.querySelector(\".cont_aside\"); activeContents && activeContents.parentNode.removeChild(activeContents); activeTab.parentNode.classList.remove(\"on\"); tab.parentNode.classList.add(\"on\"); pageIndex = 1; changeContents(tab); activeTab = tab; } } function changeContents(tab) { var korName = tab.innerText; var engName = tabEngName[korName]; var moreLink = tabInfos[engName].moreLink; var contentsContainer = document.createElement(\"div\"); var contentsItems = renderedTenContentsOf(engName); contentsContainer.classList.add(\"cont_aside\"); contentsContainer.innerHTML = \"\\\\n <strong class=\\\\\"screen_out\\\\\">\".concat(korName, \"</strong>\\\\n <ol class=\\\\\"list_ranking\\\\\">\\\\n \").concat(contentsItems, \" \\\\n </ol>\\\\n <div class=\\\\\"util_aside\\\\\">\\\\n <button class=\\\\\"btn_slide btn_prev\\\\\"><span class=\\\\\"ico_newsview\\\\\">\\\\uC774\\\\uC804</span></button>\\\\n <button class=\\\\\"btn_slide btn_next\\\\\"><span class=\\\\\"ico_newsview\\\\\">\\\\uB2E4\\\\uC74C</span></button>\\\\n <a href=\").concat(moreLink, \" class=\\\\\"link_all\\\\\"><span class=\\\\\"txt_newsview\\\\\">\\\\uC804\\\\uCCB4 \\\\uBCF4\\\\uAE30</span><span class=\\\\\"ico_newsview\\\\\"></span></a>\\\\n </div>\\\\n \"); tab.parentNode.appendChild(contentsContainer); contentsContainer.querySelector(\".btn_prev\").addEventListener(\\'click\\', onClick); contentsContainer.querySelector(\".btn_next\").addEventListener(\\'click\\', onClick); function onClick() { var contentsItems = document.querySelector(\".cont_aside .list_ranking\"); var korName = activeTab.innerText; var engName = tabEngName[korName]; if (this.classList.contains(\"btn_prev\")) { pageIndex = pageIndex === 1 ? 3 : pageIndex - 1; } else { pageIndex = pageIndex === 3 ? 1 : pageIndex + 1; } contentsItems.innerHTML = renderedTenContentsOf(engName); } } function renderedTenContentsOf(engName) { return tabInfos[engName].contents.slice((pageIndex - 1) * 10, pageIndex * 10).map(function (item) { return \"\\\\n <li>\\\\n <em class=\\\\\"num_newsview num\".concat(item.index, \"\\\\\">\").concat(item.index, \"\\\\uC704</em>\\\\n <strong class=\\\\\"tit_g\\\\\"><a href=\\\\\"\").concat(item.pcLink, \"\\\\\" class=\\\\\"link_txt @\").concat(item.index, \"\\\\\">\").concat(item.title, \"</a></strong>\\\\n </li>\\\\n \"); }).join(\\'\\'); } function getContents(tabInfos) { axios.get(\"https://hades-cerberus.v.kakao.com/charon/pc_popular_news?size=30\").then(function (response) { var popularNewsData = response.data.body.data; Object.keys(popularNewsData).forEach(function (serviceId) { tabInfos[serviceId].contents = popularNewsData[serviceId]; }); changeContents(activeTab); popularNewsLayer.classList.remove(\\'hide\\'); }).catch(function (error) { popularNewsLayer.parentNode.removeChild(popularNewsLayer); }); } })();</script>\\n  <script>\"use strict\"; (function () { var photoTvLayer = document.querySelector(\\'.aside_phototv\\'); if (isIEVersionBelowNine()) { removeLayer(); return; } var PHOTO_TPL = \\'<li>\\\\ <a class=\"link_cont\" href=\"<%= link %>\">\\\\ <span class=\"wrap_thumb\">\\\\ <img alt=\"<%= title %>\" class=\"thumb_g\" style=\"<%= thumbStyle %>\" src=\"<%= image %>\"/>\\\\ <span class=\"ico_phototv\">\\\\ <span class=\"ico_newsview ico_photo\">포토</span>\\\\ </span>\\\\ </span>\\\\ <strong class=\"tit_thumb\"><%= title %></strong>\\\\ </a>\\\\ </li>\\'; var TV_TPL = \\'<li>\\\\ <a class=\"link_cont\" href=\"<%= link %>\">\\\\ <span class=\"wrap_thumb\">\\\\ <img alt=\"<%= title %>\" class=\"thumb_g\" style=\"<%= thumbStyle %>\" src=\"<%= image %>\"/>\\\\ <span class=\"ico_phototv\">\\\\ <span class=\"ico_newsview ico_vod\">영상</span>\\\\ </span>\\\\ </span>\\\\ <strong class=\"tit_thumb\"><%= title %></strong>\\\\ </a>\\\\ </li>\\'; renderPhotoTV(); function renderPhotoTV() { var photoTvList = photoTvLayer.querySelector(\\'.list_phototv\\'); var hadesRest = \"\".concat(Conf.api.hadesRest), serviceId = \\'news\\', apiURL = serviceId === \\'news\\' ? \"\".concat(hadesRest, \"/pc_photo_tv\") : \"\".concat(hadesRest, \"/pc_entertain_photo_tv\"); var thumbStyle = serviceId === \\'news\\' ? \\'width: 144px; height: 140px;\\' : \\'width: 144px; height: 139px;\\'; axios.get(apiURL).then(function (res) { var data = res.data.body.data; if (_.isEmpty(data)) { removeLayer(); return; } photoTvList.innerHTML = data.map(function (_ref) { var link = _ref.link, title = _ref.title, image = _ref.image, label = _ref.label; if (label === \\'photo\\') { return _.template(PHOTO_TPL)({ link: link, title: title, image: image, thumbStyle: thumbStyle }); } else { /* \\'vod\\' */ return _.template(TV_TPL)({ link: link, title: title, image: image, thumbStyle: thumbStyle }); } }).join(\\'\\'); photoTvLayer.classList.remove(\\'hide\\'); }).catch(function (error) { console.error(\\'[포토&TV]:\\', error); removeLayer(); }); } function removeLayer() { photoTvLayer.parentNode.removeChild(photoTvLayer); } function isIEVersionBelowNine() { var userAgent = navigator.userAgent.toLowerCase(); var version = parseInt(userAgent.split(\\'msie\\')[1]); /* i.e parseInt(\" 9.0; windo...\") */ return userAgent.indexOf(\\'msie\\') !== -1 && version <= 9; } })();</script>\\n  <script>\"use strict\";try{ComponentsLoader.RenderingEngineConfig.set(\"pc_realtime_news\",{torosQuery:{category:\"news\",itemid:\"20200728121101828\"}})}catch(e){console.error(e)}</script>\\n  <script>\"use strict\"; (function () { var issueContainer = document.body.querySelector(\".aside_issue\"); var updatedDate = issueContainer.querySelector(\".info_aside\"); var issueContents = issueContainer.querySelector(\".list_issue\"); axios.get(\"https://hades-cerberus.v.kakao.com/charon/pc_realtime_issue\").then(function (response) { var _response$data$body$d = response.data.body.data, updatedAt = _response$data$body$d.updatedAt, issueList = _response$data$body$d.issueList; updatedDate.innerText = \"\".concat(updatedAt, \" \\\\uAE30\\\\uC900\"); issueContents.innerHTML = issueList.map(function (_ref) { var clusterId = _ref.clusterId, title = _ref.title, image = _ref.image; return image ? \"\\\\n <li>\\\\n <a href=\\\\\"http://media.daum.net/issue/\".concat(clusterId, \"\\\\\" class=\\\\\"link_thumb\\\\\">\\\\n <img src=\\\\\"https://img1.daumcdn.net/thumb/S168x108.q70/?fname=\").concat(image, \"\\\\\" class=\\\\\"thumb_g\\\\\" width=\\\\\"84\\\\\" height=\\\\\"54\\\\\" alt=\\\\\"\\\\\" />\\\\n </a>\\\\n <div class=\\\\\"cont_thumb\\\\\">\\\\n <strong class=\\\\\"tit_thumb\\\\\">\\\\n <a href=\\\\\"http://media.daum.net/issue/\").concat(clusterId, \"\\\\\" class=\\\\\"link_txt\\\\\">\").concat(title, \"</a>\\\\n </strong>\\\\n </div>\\\\n </li>\\\\n \") : \"\\\\n <li>\\\\n <div class=\\\\\"cont_thumb\\\\\">\\\\n <strong class=\\\\\"tit_thumb\\\\\">\\\\n <a href=\\\\\"http://media.daum.net/issue/\".concat(clusterId, \"\\\\\" class=\\\\\"link_txt\\\\\">\").concat(title, \"</a>\\\\n </strong>\\\\n </div>\\\\n </li>\\\\n \"); }).join(\\'\\'); issueContainer.classList.remove(\\'hide\\'); }).catch(function (error) { issueContainer.parentNode.removeChild(issueContainer); }); })();</script>\\n  <script>\"use strict\"; window.daum_sfocus_adunit = \\'DAU-f6a75279b\\'; window.daum_sfocus_cp = \\'33\\' + \\'_pc_media_news\\'; window.daum_sfocus_channel = \\'harmony\\';</script>\\n  <script src=\"//keyword.ad.daum.net/script/load_sfocus.js\"></script>\\n  <script>\"use strict\"; (function () { var directLinkContainer = document.querySelector(\".direct_link\"); var directOpenBtn = directLinkContainer.querySelector(\".btn_fold\"); directOpenBtn.addEventListener(\\'click\\', function () { directLinkContainer.classList.toggle(\"direct_open\"); }); })();</script>\\n  <script>\"use strict\"; window.minidaum_options = { enableLogoutRetun: true, disableTracker: true };</script>\\n  <script src=\"https://go.daum.net/minidaum_pc.daum\"></script>\\n  <script>\"use strict\"; (function () { var channel = \\'harmony\\'; var cpId = \"33\"; var device = \"pc\"; var consumerId = \"media\"; var serviceId = \"news\"; document.querySelectorAll(\\'.kakao_ad_area\\').forEach(function (adArea) { adArea.setAttribute(\\'data-ad-param-channel\\', channel); adArea.setAttribute(\\'data-ad-param-cp\\', \"\".concat(cpId, \"_\").concat(device, \"_\").concat(consumerId, \"_\").concat(serviceId)); }); })();</script>\\n  <script src=\"https://t1.daumcdn.net/adfit/static/ad.min.js\"></script>\\n  <script>\"use strict\"; (function () { var queryString = \\'\\'; var isTvNews = queryString && queryString.indexOf(\\'tv_news\\') !== -1; var serviceId = \\'news\\'; var headMedia = document.querySelector(\".head_media\"), wrapMinidaum = document.getElementById(\"wrapMinidaum\"), headHeight = wrapMinidaum.offsetHeight + headMedia.offsetHeight, progressBar = document.getElementById(\"barProgress\"); var mAside = document.getElementById(\"mAside\"), kakaoWrap = document.getElementById(\"kakaoWrap\"), kakaoGnb = document.getElementById(\"kakaoGnb\"), mArticle = document.getElementById(\"mArticle\"), cmNews = document.querySelector(\".cmt_news\"), adFirst = document.querySelector(\".aside_ad:first-child\"), adLast = document.querySelector(\".aside_ad:last-child\"), realtimeAsideEl = document.getElementById(\\'realtime_aside\\'); /* 날개 픽스드인 경우 left 위치를 지정하기 위해 하단 실시간 검색어의 left 값을 이용. 만약 없으면 계산을 한다. */ /* 서비스별 GNB 또는 날개 플로팅 */ if (isTvNews) { window.addEventListener(\"scroll\", _.throttle(function () { floatGnb(); }, 100)); floatGnb(); } else if (serviceId === \\'news\\') { window.addEventListener(\"resize\", _.throttle(floatWing, 100)); window.addEventListener(\"scroll\", _.throttle(function () { floatGnb(); floatWing(); }, 100)); floatGnb(); floatWing(); } else { window.addEventListener(\"scroll\", _.throttle(function () { floatGnb(); }, 100)); floatGnb(); } function floatGnb() { var scrollY = window.scrollY || window.pageYOffset; var currentScrollTop = scrollY; var documentHeight = document.body.offsetHeight; var windowHeight = window.innerHeight; if (currentScrollTop > headHeight) { var scrollPercent = 100 * currentScrollTop / (documentHeight - windowHeight); kakaoWrap.classList.add(\"header_fixed\"); progressBar.style.width = parseInt(scrollPercent, 10) + \"%\"; } else { kakaoWrap.classList.remove(\"header_fixed\"); } } function floatWing() { var scrollX = window.scrollX || window.pageXOffset; var cMainWidth = cMain.clientWidth, mArticleWidth = mArticle.clientWidth, mAsideWidth = mAside.clientWidth, asideGap = cMainWidth - mArticleWidth - mAsideWidth, cMainStyle = getComputedStyle(cMain); var leftOfRealtimeAside = null; if (realtimeAsideEl) { var clientLeftOfRealtimeAside = realtimeAsideEl.getBoundingClientRect().left; leftOfRealtimeAside = clientLeftOfRealtimeAside < 880 ? clientLeftOfRealtimeAside + scrollX : clientLeftOfRealtimeAside; } else { var cMainMarginLeft = parseInt(cMainStyle[\\'marginLeft\\'], 10); leftOfRealtimeAside = mArticleWidth + asideGap + cMainMarginLeft - scrollX; } if (mArticle.offsetHeight < mAside.offsetHeight) return; cmNews.style.minHeight = \\'250px\\'; var scrollY = window.scrollY || window.pageYOffset; var topPosition = scrollY - cMain.offsetTop - 8 - adFirst.clientHeight; if (topPosition > 0) { var articleHeight = mArticle.offsetHeight - cmNews.offsetHeight; var wingHeight = mAside.offsetHeight - adLast.offsetHeight; /* 스크롤이 날개영역의 많이 본 뉴스를 넘어갔을 때 */ if (articleHeight > wingHeight + topPosition + 8) { mAside.style.position = \\'fixed\\'; mAside.style.top = kakaoGnb.clientHeight - adFirst.offsetHeight - 74 + \\'px\\'; mAside.style.left = leftOfRealtimeAside + \\'px\\'; } else { mAside.style.position = \\'relative\\'; mAside.style.top = articleHeight - wingHeight + \\'px\\'; mAside.style.left = \\'inherit\\'; } } else { mAside.style.position = \\'static\\'; mAside.style.top = \\'inherit\\'; mAside.style.left = \\'inherit\\'; } } ; })();</script>\\n  <script>\"use strict\"; window.addEventListener(\\'DOMContentLoaded\\', function () { var GALLERY_API = \\'https://hades-cerberus.v.kakao.com/charon/pc_icon_on_image?docId=\\'; var GALLERY_ICON_TEMPLATE = \\'<div class=\"direct_view\" style=\"top:<%= top %>px;width:<%= width %>px;margin-left:<%= left %>px\">\\\\ <a href=\"<%= url %>\" class=\"link_view\">\\\\ <span class=\"txt_g\"><%= title %></span>\\\\ <span class=\"ico_view\">\\\\ <span class=\"ico_newsview ico_gallery\">갤러리 이동</span>\\\\ </span>\\\\ </a>\\\\ </div>\\'; var docId = \\'AOIdGDtQWV\\'; fetchAndAddIcon(docId); function fetchAndAddIcon(docId) { axios.get(GALLERY_API + docId).then(function (response) { var galleryInfo = response.data.body.data; if (!_.isEmpty(galleryInfo)) { addIconOnFirstImage(galleryInfo); } }); } function addIconOnFirstImage(galleryInfo) { var imgs = document.querySelectorAll(\\'img[dmcf-mtype=\"image\"]\\'); imgs.forEach(function (img, index) { if (index > 0) return false; /* 첫 번째 이미지만 적용 */ if (img.querySelector(\\'.direct_vod\\')) return false; /* 영상 바로보기가 있으면 패스 */ var title = galleryInfo.title, url = galleryInfo.url; var imgHeight = img.clientHeight; var imgWidth = img.clientWidth; var templateParams = { title: title, url: url, top: imgHeight - 62, width: imgWidth, left: imgWidth / 2 * -1 }; var icon = document.createElement(\\'DIV\\'); var html = _.template(GALLERY_ICON_TEMPLATE)(templateParams); img.parentNode.appendChild(icon); icon.outerHTML = html; }); } });</script>\\n  <script src=\"//search1.daumcdn.net/search/statics/common/js/g/search_dragselection.min.js\"></script>\\n  <script>\"use strict\"; (function () { var service_id = \"\"; switch (\"news\") { case \\'sports\\': service_id = \\'s\\'; break; case \\'entertain\\': service_id = \\'e\\'; break; default: service_id = \\'n\\'; } var s2Imps = \"{\\\\\"timestamp\\\\\":@@timestamp@@,\\\\\"to\\\\\":\\\\\"20200728121101828\\\\\",\\\\\"label\\\\\":\\\\\"mediadaum_v2_user_doc_read\\\\\",\\\\\"from\\\\\":\\\\\"@@userKey@@\\\\\",\\\\\"props\\\\\":{\\\\\"service_id\\\\\":\\\\\"\".concat(service_id, \"\\\\\",\\\\\"category\\\\\":\\\\\"IT\\\\\",\\\\\"view_from\\\\\":\\\\\"others\\\\\",\\\\\"url\\\\\":\\\\\"\").concat(location.href, \"\\\\\" @@mediadaum_v2_user_doc_read@@}}\"); /* todo: hades s2 그래프 검증 끝나면 주석 방식으로 변경 axios.get(`${Conf.api.hadesProxy}/s2/insert?body=${encodeURIComponent(s2Imps)}`, { withCredentials: true }); */ setTimeout(function () { axios.get(\"https://api.v.daum.net/s2/insert?body=\".concat(encodeURIComponent(s2Imps)), { withCredentials: true }); }, 2000); })();</script>\\n  <script type=\"text/javascript\" src=\"//t1.daumcdn.net/harmony_static/tiara/tiara.min.js\"></script>\\n  <script>\"use strict\"; (function () { if (!window.TiaraTracker) { return; } var isSendTracker = false; var startTime = new Date(); var pageName = \"pc_news\"; var daumTopCookie = Cookies.get(\\'DAUMTOP\\'); var tiaraTracker = TiaraTracker.getInstance().setSvcDomain(\"media.daum.net\").setPage(\"newsview\").trackPage(\"newsview\").setSection(\"digital\"); var pageMeta = { \"id\": \"20200728121101828\", \"type\": \"article\", \"name\": \"\\\\uD55C\\\\uBC18\\\\uB3C4 \\\\uCD5C\\\\uC545\\\\uC758 \\\\uBBF8\\\\uC138\\\\uBA3C\\\\uC9C0 \\\\uBC1C\\\\uC0DD \\\\uC6D0\\\\uC778 \\\\uC54C\\\\uACE0\\\\uBCF4\\\\uB2C8..\", \"category_id\": \"100031\", \"category\": \"digital\", \"author\": \"\\\\uC720\\\\uC6A9\\\\uD558\", \"author_id\": \"edmondy@seoul.co.kr\", \"provider\": \"\\\\uC11C\\\\uC6B8\\\\uC2E0\\\\uBB38\", \"provider_id\": \"33\", \"regdate\": \"2020-07-28 12:11:01\", \"plink\": \"https://media.daum.net/v/20200728121101828\", \"image\": \"https://t1.daumcdn.net/news/202007/28/seoul/20200728121101960mqsl.jpg\", \"harmony_consumer_id\": \"media\", \"media\": \"pcweb\" }; var customProps = { \"contentUniqueKey\": \"hamny-\".concat(pageMeta.id), \"docId\": \"AOIdGDtQWV\", \"harmony_consumer_id\": \"media\", \"media\": \"pcweb\", \"reg_dt\": \"2020-07-28 12:11:01\", \"reg_timestamp\": \"1595905861646\" }; var onPageShow = function onPageShow() { if (isSendTracker) return; tiaraTracker.actionKind(\"ViewContent\").pageMeta(pageMeta).customProps(customProps).track(); }; var onPageHide = function onPageHide() { if (isSendTracker) return; isSendTracker = true; var scrollHeight = document.body.scrollHeight; var scrollTop = window.scrollY; var scrollBottom = scrollHeight - scrollTop; var scrollInnerHeight = window.innerHeight; var scrollPercent = Math.round(scrollTop / (scrollHeight - scrollInnerHeight) * 100); var torosCustomProps = {}; var usage = { \"duration\": new Date().getTime() - startTime.getTime(), \"scroll_percent\": scrollPercent, \"scroll_height\": scrollHeight, \"scroll_top\": scrollTop, \"scroll_bottom\": scrollBottom, \"scroll_inner_height\": scrollInnerHeight }; if (daumTopCookie) { try { var daumTopObj = JSON.parse(daumTopCookie); if (daumTopObj.contents_unique_key === customProps.contentUniqueKey) { torosCustomProps = { \"toros_imp_id\": daumTopObj.impression_id, \"toros_file_hash_key\": daumTopObj.toros_file_hash_key, \"toros_user_id_type\": \"uuid\", \"toros_page_meta_id\": customProps.contentUniqueKey }; Cookies.remove(\\'DAUMTOP\\', { path: \\'/\\', domain: \\'.daum.net\\' }); } } catch (e) {} } tiaraTracker.trackUsage().actionKind(\"UsagePage\").pageMeta(pageMeta).usage(usage).customProps(_.assignIn(customProps, torosCustomProps)).track(); }; if (\"onpagehide\" in window) { window.addEventListener(\"pageshow\", function () { return onPageShow(); }, false); window.addEventListener(\"pagehide\", function () { return onPageHide(); }, false); } else { window.addEventListener(\"load\", function () { return onPageShow(); }, false); window.addEventListener(\"unload\", function () { return onPageHide(); }, false); } document.addEventListener(\"visibilitychange\", function () { document[\"hidden\"] ? onPageHide() : onPageShow(); }, false); document.addEventListener(\"mousedown\", function (event) { var target = event.target; var component = target.closest(\"[data-cloud]\"); var element = target.closest(\"a\") || target.closest(\"button\"); if (element && component && component.contains(element)) { var clickInfo = TiaraTracker.getClickInfo(event); if (!clickInfo) return; /* 무시해야 할 클릭 버튼이거나, 자동 클릭 항목이 설정되어있지 않을 경우 null 반환하기 떄문에 체크 */ var action = clickInfo.action; var actionName = action && action.name ? action.name : \"\"; var actionKind = action && action.kind ? action.kind : \"\"; var mergedCustomProps = _.assignIn(customProps, clickInfo.customProps); var tiaraLayer = target.closest(\"[data-tiara]\"); var img = element.querySelector(\"img\"); var ordnum = 0; Array.from((tiaraLayer || component).querySelectorAll(\"a, button\")).some(function (e, idx) { if (e == element) { ordnum = idx; } }); var clickMeta = { \"layer1\": pageName, \"layer2\": component.dataset.cloud, \"layer3\": tiaraLayer ? tiaraLayer.dataset.tiara : \"\", \"click_url\": element.href || \"\", \"ordnum\": ordnum, \"copy\": element.innerText, \"image\": img ? img.src : \"\", \"posX\": event.clientX, \"posY\": event.clientY }; tiaraTracker.trackEvent(actionName).pageMeta(pageMeta).actionKind(actionKind).customProps(mergedCustomProps).click(clickMeta).track(); } }); })();</script>\\n </body>\\n</html>'"
      ]
     },
     "execution_count": 13,
     "metadata": {},
     "output_type": "execute_result"
    }
   ],
   "source": [
    "import requests\n",
    "\n",
    "d_news = requests.get(\"https://news.v.daum.net/v/20200728121101828\").text\n",
    "d_news"
   ]
  },
  {
   "cell_type": "markdown",
   "metadata": {},
   "source": [
    "### HTML 소스코드를 분석하고 처리하기"
   ]
  },
  {
   "cell_type": "markdown",
   "metadata": {},
   "source": [
    "#### 데이터 찾고 추출하기"
   ]
  },
  {
   "cell_type": "markdown",
   "metadata": {},
   "source": [
    "**[14장: 404페이지]**"
   ]
  },
  {
   "cell_type": "code",
   "execution_count": 43,
   "metadata": {},
   "outputs": [],
   "source": [
    "html = '''\n",
    "<html>\n",
    "    <head>\n",
    "        <title>웹스크래핑</title>\n",
    "    </head>\n",
    "    <body>\n",
    "        <div id='upper' class='carami' custom='good'>\n",
    "            <h3 title='scraping test'>\n",
    "                BeautifulSoup을 이용한 웹 스크래핑 연습!!\n",
    "            </h3>\n",
    "        </div>\n",
    "        <div id='lower' class='carami'>\n",
    "            <p>carami hahaha</p>\n",
    "            <p>carami hahaha 222222</p>\n",
    "            <p>carami hahaha 333333</p>\n",
    "        </div>\n",
    "        <div>\n",
    "            <p>aaaaa</p>\n",
    "            <p>bbbbb</p>\n",
    "            <p>ccccc</p>\n",
    "        </div>\n",
    "    </body>\n",
    "</html>\n",
    "'''"
   ]
  },
  {
   "cell_type": "code",
   "execution_count": 44,
   "metadata": {},
   "outputs": [
    {
     "data": {
      "text/plain": [
       "<html>\n",
       "<head>\n",
       "<title>웹스크래핑</title>\n",
       "</head>\n",
       "<body>\n",
       "<div class=\"carami\" custom=\"good\" id=\"upper\">\n",
       "<h3 title=\"scraping test\">\n",
       "                BeautifulSoup을 이용한 웹 스크래핑 연습!!\n",
       "            </h3>\n",
       "</div>\n",
       "<div class=\"carami\" id=\"lower\">\n",
       "<p>carami hahaha</p>\n",
       "<p>carami hahaha 222222</p>\n",
       "<p>carami hahaha 333333</p>\n",
       "</div>\n",
       "<div>\n",
       "<p>aaaaa</p>\n",
       "<p>bbbbb</p>\n",
       "<p>ccccc</p>\n",
       "</div>\n",
       "</body>\n",
       "</html>"
      ]
     },
     "execution_count": 44,
     "metadata": {},
     "output_type": "execute_result"
    }
   ],
   "source": [
    "bs = BeautifulSoup(html)\n",
    "bs"
   ]
  },
  {
   "cell_type": "code",
   "execution_count": 26,
   "metadata": {},
   "outputs": [
    {
     "data": {
      "text/plain": [
       "'\\n                BeautifulSoup을 이용한 웹 스크래핑 연습!!\\n            '"
      ]
     },
     "execution_count": 26,
     "metadata": {},
     "output_type": "execute_result"
    }
   ],
   "source": [
    "h3_tag = bs.find('h3')\n",
    "h3_tag.get_text()"
   ]
  },
  {
   "cell_type": "code",
   "execution_count": 28,
   "metadata": {},
   "outputs": [
    {
     "data": {
      "text/plain": [
       "<p>carami hahaha</p>"
      ]
     },
     "execution_count": 28,
     "metadata": {},
     "output_type": "execute_result"
    }
   ],
   "source": [
    "bs.find('p')"
   ]
  },
  {
   "cell_type": "code",
   "execution_count": 29,
   "metadata": {},
   "outputs": [
    {
     "data": {
      "text/plain": [
       "[<p>carami hahaha</p>,\n",
       " <p>carami hahaha 222222</p>,\n",
       " <p>carami hahaha 333333</p>,\n",
       " <p>aaaaa</p>,\n",
       " <p>bbbbb</p>,\n",
       " <p>ccccc</p>]"
      ]
     },
     "execution_count": 29,
     "metadata": {},
     "output_type": "execute_result"
    }
   ],
   "source": [
    "bs.find_all('p')"
   ]
  },
  {
   "cell_type": "code",
   "execution_count": 30,
   "metadata": {},
   "outputs": [
    {
     "data": {
      "text/plain": [
       "<div class=\"carami\" custom=\"good\" id=\"upper\">\n",
       "<h3 title=\"scraping test\">\n",
       "                BeautifulSoup을 이용한 웹 스크래핑 연습!!\n",
       "            </h3>\n",
       "</div>"
      ]
     },
     "execution_count": 30,
     "metadata": {},
     "output_type": "execute_result"
    }
   ],
   "source": [
    "bs.find('div')"
   ]
  },
  {
   "cell_type": "code",
   "execution_count": 31,
   "metadata": {},
   "outputs": [
    {
     "data": {
      "text/plain": [
       "<div class=\"carami\" id=\"lower\">\n",
       "<p>carami hahaha</p>\n",
       "<p>carami hahaha 222222</p>\n",
       "<p>carami hahaha 333333</p>\n",
       "</div>"
      ]
     },
     "execution_count": 31,
     "metadata": {},
     "output_type": "execute_result"
    }
   ],
   "source": [
    "bs.find('div', id='lower') "
   ]
  },
  {
   "cell_type": "code",
   "execution_count": 33,
   "metadata": {},
   "outputs": [
    {
     "data": {
      "text/plain": [
       "<div class=\"carami\" custom=\"good\" id=\"upper\">\n",
       "<h3 title=\"scraping test\">\n",
       "                BeautifulSoup을 이용한 웹 스크래핑 연습!!\n",
       "            </h3>\n",
       "</div>"
      ]
     },
     "execution_count": 33,
     "metadata": {},
     "output_type": "execute_result"
    }
   ],
   "source": [
    "bs.find('div',class_='carami')"
   ]
  },
  {
   "cell_type": "code",
   "execution_count": 34,
   "metadata": {},
   "outputs": [
    {
     "data": {
      "text/plain": [
       "<div class=\"carami\" id=\"lower\">\n",
       "<p>carami hahaha</p>\n",
       "<p>carami hahaha 222222</p>\n",
       "<p>carami hahaha 333333</p>\n",
       "</div>"
      ]
     },
     "execution_count": 34,
     "metadata": {},
     "output_type": "execute_result"
    }
   ],
   "source": [
    "bs.find('div',id='lower',class_='carami')"
   ]
  },
  {
   "cell_type": "code",
   "execution_count": 35,
   "metadata": {},
   "outputs": [
    {
     "data": {
      "text/plain": [
       "<div class=\"carami\" id=\"lower\">\n",
       "<p>carami hahaha</p>\n",
       "<p>carami hahaha 222222</p>\n",
       "<p>carami hahaha 333333</p>\n",
       "</div>"
      ]
     },
     "execution_count": 35,
     "metadata": {},
     "output_type": "execute_result"
    }
   ],
   "source": [
    "attrs = {'id':'lower','class':'carami'}\n",
    "bs.find('div',attrs=attrs)"
   ]
  },
  {
   "cell_type": "code",
   "execution_count": 36,
   "metadata": {},
   "outputs": [],
   "source": [
    "div_tag = bs.find('div')"
   ]
  },
  {
   "cell_type": "code",
   "execution_count": 37,
   "metadata": {},
   "outputs": [
    {
     "name": "stdout",
     "output_type": "stream",
     "text": [
      "<div class=\"carami\" custom=\"good\" id=\"upper\">\n",
      "<h3 title=\"scraping test\">\n",
      "                BeautifulSoup을 이용한 웹 스크래핑 연습!!\n",
      "            </h3>\n",
      "</div>\n"
     ]
    },
    {
     "data": {
      "text/plain": [
       "'upper'"
      ]
     },
     "execution_count": 37,
     "metadata": {},
     "output_type": "execute_result"
    }
   ],
   "source": [
    "print(div_tag)\n",
    "div_tag['id']"
   ]
  },
  {
   "cell_type": "code",
   "execution_count": 45,
   "metadata": {},
   "outputs": [],
   "source": [
    "p_tags = bs.find_all('p')"
   ]
  },
  {
   "cell_type": "code",
   "execution_count": 47,
   "metadata": {},
   "outputs": [
    {
     "name": "stdout",
     "output_type": "stream",
     "text": [
      "<class 'bs4.element.ResultSet'>\n",
      "carami hahaha\n",
      "carami hahaha 222222\n",
      "carami hahaha 333333\n",
      "aaaaa\n",
      "bbbbb\n",
      "ccccc\n"
     ]
    }
   ],
   "source": [
    "print(type(p_tags))\n",
    "\n",
    "for p in p_tags:\n",
    "    print(p.get_text())"
   ]
  },
  {
   "cell_type": "code",
   "execution_count": 48,
   "metadata": {},
   "outputs": [
    {
     "data": {
      "text/plain": [
       "<head>\n",
       "<title>웹스크래핑</title>\n",
       "</head>"
      ]
     },
     "execution_count": 48,
     "metadata": {},
     "output_type": "execute_result"
    }
   ],
   "source": [
    "bs.head"
   ]
  },
  {
   "cell_type": "code",
   "execution_count": 52,
   "metadata": {},
   "outputs": [
    {
     "data": {
      "text/plain": [
       "<h3 title=\"scraping test\">\n",
       "                BeautifulSoup을 이용한 웹 스크래핑 연습!!\n",
       "            </h3>"
      ]
     },
     "execution_count": 52,
     "metadata": {},
     "output_type": "execute_result"
    }
   ],
   "source": [
    "bs.body.div.h3"
   ]
  },
  {
   "cell_type": "code",
   "execution_count": 53,
   "metadata": {},
   "outputs": [
    {
     "data": {
      "text/plain": [
       "<h3 class=\"tit_view\" data-translation=\"true\">한반도 최악의 미세먼지 원인, 중국발이 다가 아니다</h3>"
      ]
     },
     "execution_count": 53,
     "metadata": {},
     "output_type": "execute_result"
    }
   ],
   "source": [
    "url = 'https://news.v.daum.net/v/20200728121101828'\n",
    "html = requests.get(url)\n",
    "bs = BeautifulSoup(html.text)\n",
    "\n",
    "bs.find('h3', class_= 'tit_view')"
   ]
  },
  {
   "cell_type": "code",
   "execution_count": 54,
   "metadata": {},
   "outputs": [
    {
     "data": {
      "text/plain": [
       "[<h3 class=\"tit_view\" data-translation=\"true\">한반도 최악의 미세먼지 원인, 중국발이 다가 아니다</h3>]"
      ]
     },
     "execution_count": 54,
     "metadata": {},
     "output_type": "execute_result"
    }
   ],
   "source": [
    "bs.select('h3.tit_view')"
   ]
  },
  {
   "cell_type": "code",
   "execution_count": 56,
   "metadata": {},
   "outputs": [
    {
     "data": {
      "text/plain": [
       "[<span class=\"txt_info\">유용하</span>,\n",
       " <span class=\"txt_info\">입력 <span class=\"num_date\">2020.07.28. 12:11</span></span>,\n",
       " <span class=\"txt_info\">수정 <span class=\"num_date\">2020.07.28. 14:01</span></span>]"
      ]
     },
     "execution_count": 56,
     "metadata": {},
     "output_type": "execute_result"
    }
   ],
   "source": [
    "bs.find_all('span', class_='txt_info')"
   ]
  },
  {
   "cell_type": "code",
   "execution_count": 57,
   "metadata": {},
   "outputs": [
    {
     "data": {
      "text/plain": [
       "'유용하'"
      ]
     },
     "execution_count": 57,
     "metadata": {},
     "output_type": "execute_result"
    }
   ],
   "source": [
    "bs.find_all('span', class_='txt_info')[0].get_text()"
   ]
  },
  {
   "cell_type": "code",
   "execution_count": 59,
   "metadata": {},
   "outputs": [
    {
     "data": {
      "text/plain": [
       "'[서울신문]올해는 코로나19 여파로 매년 봄 한반도를 숨막히는 가스실로 만드는 고농도 미세먼지 발생일이 많지 않았다. 가을부터 이듬해 봄까지 최악의 대기질을 만드는 초미세먼지의 원인에 대해서는 논란이 여전한 가운데 국내 연구진이 한반도 최악의 대기질을 만드는 원인을 밝혀내 주목받고 있다.한국과학기술연구원(KIST) 환경복지연구센터 연구진은 중국발 미세먼지 유입과 함께 국내에서 배출된 질소산화물의 상호작용이 수도권의 초미세먼지 오염을 더욱 악화시킨다고 28일 밝혔다. 이 같은 연구결과는 대기환경분야 국제학술지 ‘대기 화학 및 물리학’에 실렸다.고농도 초미세먼지 오염 원인으로 중국발 미세먼지가 지목받고 있지만 단순히 중국발 미세먼지 유입만으로 설명하기에는 훨씬 더 높은 경우가 많다. 이에 연구팀은 초미세먼지(PM2.5)를 측정날짜에 따라 외국 유입, 국내 대기 정체, 외국 유입과 국내 대기정체 세 가지 조건으로 분류하고 각 유형별 화학적, 열역학적 특성을 분석했다.분석 결과 국내 대기정체 때 초미세먼지 농도는 1㎥ 당 34㎍이며 중국발 미세먼지가 유입될 경우는 53㎍으로 상승했다. 중국발 미세먼지에 국내 대기정체가 겹칠 경우 72㎍으로 가장 높은 농도를 보였다. 중국발 미세먼지가 유입될 경우는 그렇지 않은 경우보다 황산염, 질산염, 암모늄 같은 2차 생성 오염물질이 포함돼 있고 수분도 늘어난 것으로 확인됐다.질산염이나 황산염은 흡습성이 강해 입자내 수분을 증가시키는 역할을 한다. 수분이 많은 미세먼지가 수도권으로 유입되면 자동차 배기가스나 화력발전 같은 질소산화물과 만나 반응을 일으켜 다시 질산염을 늘리는 악순환이 계속돼 미세먼지 농도를 높인다는 것이다.연구팀은 국내 질소산화물 배출 저감을 하는 것이 중국발 미세먼지 유입시 수도권 초미세먼지 오염을 완화시킬 수 있을 것이라고 조언했다.김진영 KIST 박사는 “이번 연구는 수도권 고농도 초미세먼지는 중국발 미세먼지가 국내 자동차와 산업시설에서 배출되는 오염물질과 결합되면서 발생한다는 것을 밝혀내 효과적인 수도권 초미세먼지 관리정책에 대한 바탕이 될 것”이라고 말했다.유용하 기자 edmondy@seoul.co.kr'"
      ]
     },
     "execution_count": 59,
     "metadata": {},
     "output_type": "execute_result"
    }
   ],
   "source": [
    "cont= bs.find('div', id='harmonyContainer')\n",
    "contents = '' \n",
    "for p in cont.find_all('p'):\n",
    "    contents += p.get_text()\n",
    "contents"
   ]
  },
  {
   "cell_type": "code",
   "execution_count": 61,
   "metadata": {},
   "outputs": [
    {
     "data": {
      "text/plain": [
       "[<h3 class=\"tit_view\" data-translation=\"true\">한반도 최악의 미세먼지 원인, 중국발이 다가 아니다</h3>]"
      ]
     },
     "execution_count": 61,
     "metadata": {},
     "output_type": "execute_result"
    }
   ],
   "source": [
    "bs.select('h3[class=\"tit_view\"]')"
   ]
  },
  {
   "cell_type": "code",
   "execution_count": 62,
   "metadata": {},
   "outputs": [
    {
     "data": {
      "text/plain": [
       "[<span class=\"alex-count-area\">0</span>]"
      ]
     },
     "execution_count": 62,
     "metadata": {},
     "output_type": "execute_result"
    }
   ],
   "source": [
    "bs.select('.alex-count-area')"
   ]
  },
  {
   "cell_type": "code",
   "execution_count": null,
   "metadata": {},
   "outputs": [],
   "source": []
  },
  {
   "cell_type": "code",
   "execution_count": null,
   "metadata": {},
   "outputs": [],
   "source": []
  },
  {
   "cell_type": "code",
   "execution_count": null,
   "metadata": {},
   "outputs": [],
   "source": []
  },
  {
   "cell_type": "code",
   "execution_count": null,
   "metadata": {},
   "outputs": [],
   "source": []
  },
  {
   "cell_type": "code",
   "execution_count": 20,
   "metadata": {},
   "outputs": [
    {
     "data": {
      "text/plain": [
       "<!DOCTYPE html>\n",
       "<html lang=\"ko\">\n",
       "<head data-cloud-area=\"head\">\n",
       "<meta charset=\"utf-8\"/>\n",
       "<meta content=\"IE=edge\" http-equiv=\"X-UA-Compatible\"/>\n",
       "<style>\n",
       "             @import url('//t1.daumcdn.net/harmony_static/cloud/page/2603111efaebe3b9879c7b3c1417b82fff251095.css');\n",
       "            @import url('//t1.daumcdn.net/harmony_static/cloud/2020/07/27/components.089a349b1002f2ce43b9.css')\n",
       "        </style>\n",
       "<meta content=\"noindex\" name=\"robots\"/>\n",
       "<meta content=\"AOIdGDtQWV\" property=\"mccp:docId\"/>\n",
       "<meta content=\"다음 뉴스\" data-cloud=\"pc_html_head_meta\" property=\"og:site_name\"/>\n",
       "<meta content=\"한반도 최악의 미세먼지 발생 원인 알고보니..\" data-cloud=\"pc_html_head_meta\" property=\"og:title\"/>\n",
       "<meta content=\"20200728121101\" data-cloud=\"pc_html_head_meta\" property=\"og:regDate\"/>\n",
       "<meta content=\"[서울신문]올해는 코로나19 여파로 매년 봄 한반도를 숨막히는 가스실로 만드는 고농도 미세먼지 발생일이 많지 않았다. 가을부터 이듬해 봄까지 최악의 대기질을 만드는 초미세먼지의 원인에 대해서는 논란이 여전한 가운데 국내 연구진이 한반도 최악의 대기질을 만드는 원인을 밝혀내 주목받고 있다. 한국과학기술연구원(KIST) 환경복지연구센터 연구진은 중국발 미세먼지\" data-cloud=\"pc_html_head_meta\" property=\"og:description\"/>\n",
       "<meta content=\"https://img1.daumcdn.net/thumb/S1200x630/?fname=https://t1.daumcdn.net/news/202007/28/seoul/20200728121101960mqsl.jpg\" data-cloud=\"pc_html_head_meta\" property=\"og:image\"/>\n",
       "<meta content=\"1200\" data-cloud=\"pc_html_head_meta\" property=\"og:image:width\"/>\n",
       "<meta content=\"630\" data-cloud=\"pc_html_head_meta\" property=\"og:image:height\"/>\n",
       "<meta content=\"article\" data-cloud=\"pc_html_head_meta\" property=\"og:type\"/>\n",
       "<meta content=\"https://news.v.daum.net/v/20200728121101828\" data-cloud=\"pc_html_head_meta\" property=\"og:url\"/>\n",
       "<meta content=\"daumapps://web?url=https%3A%2F%2Fnews.v.daum.net/v/20200728121101828\" data-cloud=\"pc_html_head_meta\" property=\"al:android:url\"/>\n",
       "<meta content=\"net.daum.android.daum\" data-cloud=\"pc_html_head_meta\" property=\"al:android:package\"/>\n",
       "<meta content=\"다음앱\" data-cloud=\"pc_html_head_meta\" property=\"al:android:app_name\"/>\n",
       "<meta content=\"daumapps://web?url=https%3A%2F%2Fnews.v.daum.net/v/20200728121101828\" data-cloud=\"pc_html_head_meta\" property=\"al:ios:url\"/>\n",
       "<meta content=\"365494029\" data-cloud=\"pc_html_head_meta\" property=\"al:ios:app_store_id\"/>\n",
       "<meta content=\"다음앱\" data-cloud=\"pc_html_head_meta\" property=\"al:ios:app_name\"/>\n",
       "<meta content=\"https://img1.daumcdn.net/thumb/S1200x630/?fname=https://t1.daumcdn.net/news/202007/28/seoul/20200728121101960mqsl.jpg\" data-cloud=\"pc_html_head_meta\" property=\"twitter:image\"/>\n",
       "<meta content=\"summary_large_image\" data-cloud=\"pc_html_head_meta\" property=\"twitter:card\"/>\n",
       "<meta content=\"daumapps://web?url=https%3A%2F%2Fnews.v.daum.net/v/20200728121101828\" data-cloud=\"pc_html_head_meta\" property=\"twitter:app:url:googleplay\"/>\n",
       "<meta content=\"net.daum.android.daum\" data-cloud=\"pc_html_head_meta\" property=\"twitter:app:id:googleplay\"/>\n",
       "<meta content=\"다음앱\" data-cloud=\"pc_html_head_meta\" property=\"twitter:app:name:googleplay\"/>\n",
       "<meta content=\"KR\" data-cloud=\"pc_html_head_meta\" property=\"twitter:app:country\"/>\n",
       "<meta content=\"daumapps://web?url=https%3A%2F%2Fnews.v.daum.net/v/20200728121101828\" data-cloud=\"pc_html_head_meta\" property=\"twitter:app:url:iphone\"/>\n",
       "<meta content=\"365494029\" data-cloud=\"pc_html_head_meta\" property=\"twitter:app:id:iphone\"/>\n",
       "<meta content=\"다음앱\" data-cloud=\"pc_html_head_meta\" property=\"twitter:app:name:iphone\"/>\n",
       "<meta content=\"daumapps://web?url=https%3A%2F%2Fnews.v.daum.net/v/20200728121101828\" data-cloud=\"pc_html_head_meta\" property=\"twitter:app:url:ipad\"/>\n",
       "<meta content=\"365494029\" data-cloud=\"pc_html_head_meta\" property=\"twitter:app:id:ipad\"/>\n",
       "<meta content=\"다음앱\" data-cloud=\"pc_html_head_meta\" property=\"twitter:app:name:ipad\"/>\n",
       "<meta content=\"news\" data-cloud=\"pc_html_head_meta\" property=\"dg:uoc:svc\"/>\n",
       "<meta content=\"AOIdGDtQWV\" data-cloud=\"pc_html_head_meta\" property=\"dg:uoc:uid\"/>\n",
       "<meta content=\"article\" data-cloud=\"pc_html_head_meta\" property=\"dg:uoc:sc\"/>\n",
       "<meta content=\"https://news.v.daum.net/v/20200728121101828\" data-cloud=\"pc_html_head_meta\" property=\"dg:uoc:pcUrl\"/>\n",
       "<meta content=\"https://news.v.daum.net/v/20200728121101828?f=m\" data-cloud=\"pc_html_head_meta\" property=\"dg:uoc:mUrl\"/>\n",
       "<meta content=\"news.daum.net\" data-cloud=\"pc_html_head_meta\" name=\"svcdomain\"/>\n",
       "<meta content=\"20200728121101\" data-cloud=\"pc_html_head_meta\" property=\"article:published_time\"/>\n",
       "<meta content=\"https://news.v.daum.net/v/20200728121101828\" data-cloud=\"pc_html_head_meta\" name=\"plink\"/>\n",
       "<meta content=\"https://news.v.daum.net/v/20200728121101828\" data-cloud=\"pc_html_head_meta\" property=\"article:txid\"/>\n",
       "<meta content=\"서울신문\" data-cloud=\"pc_html_head_meta\" name=\"article:media_name\"/>\n",
       "<meta content=\"다음 뉴스\" data-cloud=\"pc_html_head_meta\" name=\"article:service_name\"/>\n",
       "<meta content=\"https://news.v.daum.net/v/20200728121101828?f=m\" data-cloud=\"pc_html_head_meta\" property=\"article:mobile_url\"/>\n",
       "<meta content=\"https://news.v.daum.net/v/20200728121101828?f=m\" data-cloud=\"pc_html_head_meta\" property=\"article:mobile_view_url\"/>\n",
       "<meta content=\"https://news.v.daum.net/v/20200728121101828\" data-cloud=\"pc_html_head_meta\" property=\"article:pc_url\"/>\n",
       "<meta content=\"https://news.v.daum.net/v/20200728121101828\" data-cloud=\"pc_html_head_meta\" property=\"article:pc_view_url\"/>\n",
       "<meta content=\"https://v.kakao.com/v/20200728121101828\" data-cloud=\"pc_html_head_meta\" property=\"article:talk_channel_view_url\"/>\n",
       "<meta content=\"http://m.media.daum.net/\" data-cloud=\"pc_html_head_meta\" property=\"article:mobile_service_home\"/>\n",
       "<meta content=\"http://media.daum.net/\" data-cloud=\"pc_html_head_meta\" property=\"article:pc_service_home\"/>\n",
       "<meta content=\"always\" name=\"referrer\"/>\n",
       "<title>한반도 최악의 미세먼지 발생 원인 알고보니..</title>\n",
       "<link href=\"//m2.daumcdn.net/img-media/2010ci/Daum_favicon.ico\" rel=\"shortcut icon\"/>\n",
       "</head>\n",
       "<body class=\"\">\n",
       "<div id=\"kakaoIndex\">\n",
       "<a href=\"#kakaoBody\">본문 바로가기</a>\n",
       "<a href=\"#kakaoGnb\">메뉴 바로가기</a>\n",
       "</div>\n",
       "<div class=\"newsview_media\" id=\"kakaoWrap\">\n",
       "<div data-cloud-area=\"header\" id=\"kakaoHead\" role=\"banner\">\n",
       "<div class=\"browser_upgrade hide\" data-cloud=\"pc_ie_upgrade_popup\">\n",
       "<div class=\"inner_upgrade\">\n",
       "<span class=\"ico_newsview ico_noti\"></span>\n",
       "<span class=\"desc_upgrade\">본 사이트는 최신 브라우저 환경에 최적화되어 있습니다. 최신 브라우저로 <a class=\"link_upgrade\" href=\"https://support.microsoft.com/ko-kr/help/17621\">업그레이드</a>하여 주시기 바랍니다.</span>\n",
       "<button class=\"btn_close\" type=\"button\"><span class=\"ico_newsview ico_close\">닫기</span></button>\n",
       "</div>\n",
       "</div>\n",
       "<div class=\"head_media\" data-cloud=\"pc_news_header_gnb\">\n",
       "<h1> <a class=\"link_daum\" href=\"https://www.daum.net/\"> <img alt=\"Daum\" class=\"thumb_g\" height=\"19\" src=\"//t1.daumcdn.net/media/news/news2016/retina/logo_daum.jpg\" width=\"45\"/> </a> <a href=\"https://news.daum.net/\" id=\"kakaoServiceLogo\"><span class=\"ir_wa\">뉴스</span></a> </h1>\n",
       "<strong class=\"screen_out\">관련서비스</strong>\n",
       "<ul id=\"kakaoRelServices\">\n",
       "<li><a class=\"link_services link_services1\" href=\"https://entertain.daum.net/\"><span class=\"ir_wa\">연예</span></a></li>\n",
       "<li><a class=\"link_services link_services2\" href=\"https://sports.media.daum.net/sports/\"><span class=\"ir_wa\">스포츠</span></a></li>\n",
       "</ul>\n",
       "<h2 class=\"screen_out\">검색</h2>\n",
       "<div class=\"search_news\" id=\"search_news\">\n",
       "<form action=\"https://search.daum.net/search\" id=\"kakaoSearch\" method=\"get\" name=\"kakaoSearch\">\n",
       "<fieldset class=\"fld_inside\">\n",
       "<legend class=\"screen_out\">검색어 입력폼</legend>\n",
       "<div class=\"box_searchbar\">\n",
       "<label class=\"lab_search\" for=\"qVal\">통합검색</label>\n",
       "<input name=\"nil_profile\" type=\"hidden\" value=\"search\"/>\n",
       "<input name=\"nil_src\" type=\"hidden\" value=\"media\"/>\n",
       "<input name=\"DA\" type=\"hidden\" value=\"23A\"/>\n",
       "<input name=\"rtmaxcoll\" type=\"hidden\" value=\"NNS\"/>\n",
       "<input autocomplete=\"off\" class=\"tf_keyword\" id=\"qVal\" name=\"q\" spellcheck=\"false\" title=\"검색어 입력\" type=\"text\" value=\"\"/>\n",
       "<button class=\"btn_search\" id=\"kakaoBtnSearch\" type=\"submit\"><span class=\"ir_wa\">검색</span></button>\n",
       "</div>\n",
       "</fieldset>\n",
       "<div class=\"wrap_suggestBox\" id=\"wrap_suggestBox\">\n",
       "<div class=\"suggestBox box_sub\" id=\"suggestBox\">\n",
       "<div class=\"baseBox bg\" style=\"display: none\"></div>\n",
       "</div>\n",
       "</div>\n",
       "</form>\n",
       "</div>\n",
       "</div>\n",
       "<div data-cloud=\"pc_news_header_gnb\" id=\"kakaoGnb\" role=\"navigation\">\n",
       "<div class=\"inner_gnb\">\n",
       "<h2 class=\"screen_out\">뉴스 메인메뉴</h2>\n",
       "<ul class=\"gnb_comm\" data-category=\"digital\">\n",
       "<li class=\"home\"><a class=\"link_gnb link_gnb1\" href=\"//news.daum.net/\"><span class=\"ir_wa\">홈</span><span class=\"bar_gnb\"><span class=\"inner_bar\"></span></span></a></li>\n",
       "<li class=\"society\"><a class=\"link_gnb link_gnb2\" href=\"//news.daum.net/society/\"><span class=\"ir_wa\">사회</span><span class=\"bar_gnb\"><span class=\"inner_bar\"></span></span></a></li>\n",
       "<li class=\"politics\"><a class=\"link_gnb link_gnb3\" href=\"//news.daum.net/politics/\"><span class=\"ir_wa\">정치</span><span class=\"bar_gnb\"><span class=\"inner_bar\"></span></span></a></li>\n",
       "<li class=\"economic\"><a class=\"link_gnb link_gnb4\" href=\"//news.daum.net/economic/\"><span class=\"ir_wa\">경제</span><span class=\"bar_gnb\"><span class=\"inner_bar\"></span></span></a></li>\n",
       "<li class=\"foreign\"><a class=\"link_gnb link_gnb5\" href=\"//news.daum.net/foreign/\"><span class=\"ir_wa\">국제</span><span class=\"bar_gnb\"><span class=\"inner_bar\"></span></span></a></li>\n",
       "<li class=\"culture\"><a class=\"link_gnb link_gnb6\" href=\"//news.daum.net/culture/\"><span class=\"ir_wa\">문화</span><span class=\"bar_gnb\"><span class=\"inner_bar\"></span></span></a></li>\n",
       "<li class=\"digital\"><a class=\"link_gnb link_gnb7\" href=\"//news.daum.net/digital/\"><span class=\"ir_wa\">IT</span><span class=\"bar_gnb\"><span class=\"inner_bar\"></span></span></a></li>\n",
       "<li class=\"popular\"><a class=\"link_gnb link_gnb8\" href=\"//news.daum.net/ranking/popular\"><span class=\"ir_wa\">랭킹</span><span class=\"bar_gnb\"><span class=\"inner_bar\"></span></span></a></li>\n",
       "<li class=\"series editorial\"><a class=\"link_gnb link_gnb9\" href=\"//news.daum.net/series\"><span class=\"ir_wa\">연재</span><span class=\"bar_gnb\"><span class=\"inner_bar\"></span></span></a></li>\n",
       "<li class=\"photo\"><a class=\"link_gnb link_gnb10\" href=\"//news.daum.net/photo\"><span class=\"ir_wa\">포토</span><span class=\"bar_gnb\"><span class=\"inner_bar\"></span></span></a></li>\n",
       "<li class=\"tv\"><a class=\"link_gnb link_gnb11\" href=\"//news.daum.net/tv\"><span class=\"ir_wa\">TV</span><span class=\"bar_gnb\"><span class=\"inner_bar\"></span></span></a></li>\n",
       "</ul>\n",
       "<div class=\"gnb_etc\">\n",
       "<ul class=\"gnb_with\">\n",
       "<li><a class=\"link_gnb link_gnb1\" href=\"//news.daum.net/1boon\"><span class=\"ir_wa\">1boon</span></a></li>\n",
       "<li><a class=\"link_gnb link_gnb2\" href=\"//gallery.v.daum.net/p/home\"><span class=\"ir_wa\">갤러리</span><span class=\"bar_gnb\"><span class=\"inner_bar\"></span></span></a></li>\n",
       "</ul>\n",
       "<div class=\"gnb_weather\">\n",
       "<strong class=\"screen_out\">날씨 정보</strong>\n",
       "<div id=\"gnb_weather\">\n",
       "<ul class=\"list_weather\" data-nightyn=\"N\"></ul>\n",
       "</div>\n",
       "</div>\n",
       "</div>\n",
       "</div>\n",
       "</div>\n",
       "<div class=\"bar_progress\" data-cloud=\"pc_news_header_gnb\" id=\"barProgress\"></div>\n",
       "</div>\n",
       "<div id=\"dummyKakaoGnb\" style=\"height:137px; display:none;\"></div>\n",
       "<hr class=\"hide\"/>\n",
       "<div class=\"cont_view\" id=\"kakaoContent\" role=\"main\">\n",
       "<h2 class=\"screen_out\" id=\"kakaoBody\">IT</h2>\n",
       "<div data-cloud-area=\"title\" id=\"cSub\">\n",
       "<div class=\"head_view\" data-cloud=\"pc_article_title\">\n",
       "<em class=\"info_cp\"> <a class=\"link_cp\" href=\"http://www.seoul.co.kr/\" target=\"_blank\"> <img alt=\"서울신문\" class=\"thumb_g\" src=\"https://t1.daumcdn.net/media/news/news2016/cp/cp_seoul.gif\"/> </a> </em>\n",
       "<h3 class=\"tit_view\" data-translation=\"true\">한반도 최악의 미세먼지 발생 원인 알고보니..</h3>\n",
       "<span class=\"info_view\"> <span class=\"txt_info\">유용하</span> <span class=\"txt_info\">입력 <span class=\"num_date\">2020.07.28. 12:11</span></span> <button class=\"emph_g2 link_cmt\" id=\"alexCounter\">댓글 <span class=\"alex-count-area\">0</span>개</button> </span>\n",
       "<div class=\"util_view\">\n",
       "<div class=\"btn_util util_summary\">\n",
       "<button aria-expanded=\"false\" class=\"btn_summary\" type=\"button\"><span class=\"ico_newsview\">자동요약</span></button>\n",
       "<div class=\"wrap_setlayer\">\n",
       "<div class=\"layer_util layer_summary\">\n",
       "<p>올해는 코로나19 여파로 매년 봄 한반도를 숨막히는 가스실로 만드는 고농도 미세먼지 발생일이 많지 않았다.</p>\n",
       "<p>가을부터 이듬해 봄까지 최악의 대기질을 만드는 초미세먼지의 원인에 대해서는 논란이 여전한 가운데 국내 연구진이 한반도 최악의 대기질을 만드는 원인을 밝혀내 주목받고 있다.</p>\n",
       "<span class=\"info_summary\"><span class=\"ico_newsview\"></span>기사 제목과 주요 문장을 기반으로 자동요약한 결과입니다. 전체 맥락을 이해하기 위해서는 본문 보기를 권장합니다.</span>\n",
       "</div>\n",
       "</div>\n",
       "</div>\n",
       "<div class=\"btn_util tts_btn\">\n",
       "<button aria-expanded=\"false\" class=\"btn_set btn_tts\" type=\"button\"> <span class=\"ico_newsview ico_speak\">음성 기사 듣기</span> </button>\n",
       "<div class=\"wrap_setlayer\">\n",
       "<div class=\"layer_util layer_set layer_tts\">\n",
       "<strong class=\"screen_out\">음성 기사 옵션 조절 레이어</strong>\n",
       "<ul class=\"list_set list_tts\">\n",
       "<li> <input class=\"screen_out\" id=\"ttsGenderMale\" name=\"ttsGender\" type=\"radio\" value=\"Male\"/> <label class=\"lab_set\" for=\"ttsGenderMale\"><span class=\"ico_newsview\"></span>남성</label> </li>\n",
       "<li> <input class=\"screen_out\" id=\"ttsGenderFemale\" name=\"ttsGender\" type=\"radio\" value=\"Female\"/> <label class=\"lab_set\" for=\"ttsGenderFemale\"><span class=\"ico_newsview\"></span>여성</label> </li>\n",
       "</ul>\n",
       "<ul class=\"list_set list_tts list_ttsspeed\">\n",
       "<li> <input class=\"screen_out\" id=\"ttsSpeedSlow\" name=\"ttsSpeed\" type=\"radio\" value=\"slow\"/> <label class=\"lab_set\" for=\"ttsSpeedSlow\"><span class=\"ico_newsview\"></span>느림</label> </li>\n",
       "<li> <input class=\"screen_out\" id=\"ttsSpeedNormal\" name=\"ttsSpeed\" type=\"radio\" value=\"normal\"/> <label class=\"lab_set\" for=\"ttsSpeedNormal\"><span class=\"ico_newsview\"></span>보통</label> </li>\n",
       "<li> <input class=\"screen_out\" id=\"ttsSpeedFast\" name=\"ttsSpeed\" type=\"radio\" value=\"fast\"/> <label class=\"lab_set\" for=\"ttsSpeedFast\"><span class=\"ico_newsview\"></span>빠름</label> </li>\n",
       "</ul>\n",
       "</div>\n",
       "</div>\n",
       "<audio id=\"ttsPlayer\" preload=\"none\" style=\"display:none\"></audio>\n",
       "</div>\n",
       "<div class=\"btn_util translate_btn\">\n",
       "<button aria-expanded=\"false\" class=\"btn_set btn_translate #util #translate #set\" type=\"button\"><span class=\"ico_newsview\">번역 설정</span></button>\n",
       "<div class=\"wrap_translatelayer\">\n",
       "<div class=\"layer_util layer_translate\">\n",
       "<strong class=\"tit_translate\">번역<span class=\"ico_newsview\">beta</span> </strong>\n",
       "<p class=\"desc_translate txt_newsview\">Translated by <a class=\"link_kakaoi #util #translate #kakaoi_link\" href=\"https://kakao.ai/\" target=\"_blank\">kakao i</a></p>\n",
       "<strong class=\"screen_out\">번역할 언어 선택</strong>\n",
       "<ul class=\"list_lang\">\n",
       "<li> <button class=\"btn_lang btn_en #util #translate #lang_en\" name=\"en\"> <span class=\"ico_newsview ico_flag\"></span> <strong class=\"ico_newsview tit_lang\">English</strong> </button> </li>\n",
       "<li> <button class=\"btn_lang btn_ch #util #translate #lang_cn\" name=\"cn\" type=\"button\"> <span class=\"ico_newsview ico_flag\"></span> <strong class=\"ico_newsview tit_lang\">简体中文</strong> </button> </li>\n",
       "<li> <button class=\"btn_lang btn_jp #util #translate #lang_jp\" name=\"jp\" type=\"button\"> <span class=\"ico_newsview ico_flag\"></span> <strong class=\"ico_newsview tit_lang\">日本語</strong> </button> </li>\n",
       "<li> <button class=\"btn_lang btn_ind #util #translate #lang_id\" name=\"id\" type=\"button\"> <span class=\"ico_newsview ico_flag\"></span> <strong class=\"ico_newsview tit_lang\">Bahasa Indonesia</strong> </button> </li>\n",
       "<li> <button class=\"btn_lang btn_viet #util #translate #lang_vi\" name=\"vi\" type=\"button\"> <span class=\"ico_newsview ico_flag\"></span> <strong class=\"ico_newsview tit_lang\">tiếng Việt</strong> </button> </li>\n",
       "<li> <button class=\"btn_lang btn_ko #util #translate #lang_kr\" name=\"kr\" type=\"button\"> <span class=\"ico_newsview ico_flag\"></span> <strong class=\"ico_newsview tit_lang\">한국어</strong> </button> </li>\n",
       "</ul>\n",
       "</div>\n",
       "</div>\n",
       "</div>\n",
       "<div class=\"btn_util share_btn\">\n",
       "<button aria-expanded=\"false\" class=\"btn_set btn_share\" id=\"rSocialShareButton\"> <span class=\"ico_newsview\">공유</span> </button>\n",
       "<div id=\"rSocialShareLayerContainer\"></div>\n",
       "</div>\n",
       "<div class=\"font_btn btn_util\">\n",
       "<button aria-expanded=\"false\" class=\"btn_set btn_font\" type=\"button\"> <span class=\"ico_newsview ico_font\">글씨크기 조절하기</span> </button>\n",
       "<div class=\"wrap_setlayer\">\n",
       "<div class=\"layer_util layer_set layer_font\">\n",
       "<strong class=\"screen_out\">글자 크기 조절 레이어</strong>\n",
       "<ul class=\"list_set list_font\">\n",
       "<li> <input class=\"screen_out\" id=\"inpFont17\" name=\"inpFont\" type=\"radio\" value=\"17\"/> <label class=\"lab_set lab_size0\" for=\"inpFont17\"> <span class=\"ico_newsview\"></span> <span aria-hidden=\"true\">가나다라마바사</span> <span class=\"screen_out\">매우 작은 폰트</span> </label> </li>\n",
       "<li> <input class=\"screen_out\" id=\"inpFont18\" name=\"inpFont\" type=\"radio\" value=\"18\"/> <label class=\"lab_set lab_size1\" for=\"inpFont18\"> <span class=\"ico_newsview\"></span> <span aria-hidden=\"true\">가나다라마바사</span> <span class=\"screen_out\">작은 폰트</span> </label> </li>\n",
       "<li> <input class=\"screen_out\" id=\"inpFont19\" name=\"inpFont\" type=\"radio\" value=\"19\"/> <label class=\"lab_set lab_size2\" for=\"inpFont19\"> <span class=\"ico_newsview\"></span> <span aria-hidden=\"true\">가나다라마바사</span> <span class=\"screen_out\">보통 폰트</span> </label> </li>\n",
       "<li> <input class=\"screen_out\" id=\"inpFont20\" name=\"inpFont\" type=\"radio\" value=\"20\"/> <label class=\"lab_set lab_size3\" for=\"inpFont20\"> <span class=\"ico_newsview\"></span> <span aria-hidden=\"true\">가나다라마바사</span> <span class=\"screen_out\">큰 폰트</span> </label> </li>\n",
       "<li> <input class=\"screen_out\" id=\"inpFont21\" name=\"inpFont\" type=\"radio\" value=\"21\"/> <label class=\"lab_set lab_size4\" for=\"inpFont21\"> <span class=\"ico_newsview\"></span> <span aria-hidden=\"true\">가나다라마바사</span> <span class=\"screen_out\">매우 큰 폰트</span> </label> </li>\n",
       "</ul>\n",
       "</div>\n",
       "</div>\n",
       "</div>\n",
       "<div class=\"btn_util\">\n",
       "<button class=\"btn_print\" type=\"button\"><span class=\"ico_newsview\">인쇄하기 새창열림</span></button>\n",
       "</div>\n",
       "</div>\n",
       "</div>\n",
       "</div>\n",
       "<div id=\"cMain\">\n",
       "<div id=\"mArticle\">\n",
       "<div data-cloud-area=\"article\">\n",
       "<div class=\"status_view\" data-cloud=\"pc_article_body\" id=\"translateNotice\" style=\"display:none;\">\n",
       "<span class=\"notice_lang notice_lang_en\" style=\"display:none;\">The copyright belongs to the original writer of the content, and there may be errors in machine translation results.</span>\n",
       "<span class=\"notice_lang notice_lang_cn\" style=\"display:none;\">版权归内容原作者所有。机器翻译结果可能存在错误。</span>\n",
       "<span class=\"notice_lang notice_lang_jp\" style=\"display:none;\">原文の著作権は原著著作者にあり、機械翻訳の結果にエラーが含まれることがあります。</span>\n",
       "<span class=\"notice_lang notice_lang_id\" style=\"display:none;\">Hak cipta milik penulis asli dari konten, dan mungkin ditemukan kesalahan dalam hasil terjemahan mesin.</span>\n",
       "<span class=\"notice_lang notice_lang_vi\" style=\"display:none;\">Bản quyền thuộc về tác giả gốc của nội dung và có thể có lỗi trong kết quả dịch bằng máy.</span>\n",
       "</div>\n",
       "<div class=\"news_view\" data-cloud=\"pc_article_body\" style=\"font-size:17px\">\n",
       "<strong class=\"summary_view\" data-translation=\"true\"> 중국발 미세먼지만으로는 수도권 고농도 초미세먼지 불가능<br/>중국발 미세먼지와 국내 대기정체가 겹칠 때 최악의 대기질 </strong>\n",
       "<div class=\"article_view\" data-translation-body=\"true\" id=\"harmonyContainer\">\n",
       "<section dmcf-sid=\"ADW7uo9qSY\">\n",
       "<p dmcf-pid=\"AD2BaLorzf\" dmcf-ptype=\"general\">[서울신문]</p>\n",
       "<figure class=\"figure_frm origin_fig\" dmcf-pid=\"AFJmUS8Xsw\" dmcf-ptype=\"figure\">\n",
       "<p class=\"link_figure\"><img alt=\"중부지방의 미세먼지 농도 수준이 ‘나쁨’을 나태내고 있는 11일 서울 남산에서 바라본 도심이 뿌옇게 보이고 있다. 2020.5.11 오장환 기자 5zzang@seoul.co.kr\" class=\"thumb_g_article\" data-org-src=\"https://t1.daumcdn.net/news/202007/28/seoul/20200728121101960mqsl.jpg\" data-org-width=\"580\" dmcf-mid=\"AD50uBIOX3\" dmcf-mtype=\"image\" height=\"auto\" src=\"https://img4.daumcdn.net/thumb/R658x0.q70/?fname=https://t1.daumcdn.net/news/202007/28/seoul/20200728121101960mqsl.jpg\" width=\"658\"/></p>\n",
       "<figcaption class=\"txt_caption default_figure\">\n",
       "            중부지방의 미세먼지 농도 수준이 ‘나쁨’을 나태내고 있는 11일 서울 남산에서 바라본 도심이 뿌옇게 보이고 있다. 2020.5.11 오장환 기자 5zzang@seoul.co.kr\n",
       "           </figcaption>\n",
       "</figure>\n",
       "<p dmcf-pid=\"AXQoQh7o0n\" dmcf-ptype=\"general\">올해는 코로나19 여파로 매년 봄 한반도를 숨막히는 가스실로 만드는 고농도 미세먼지 발생일이 많지 않았다. 가을부터 이듬해 봄까지 최악의 대기질을 만드는 초미세먼지의 원인에 대해서는 논란이 여전한 가운데 국내 연구진이 한반도 최악의 대기질을 만드는 원인을 밝혀내 주목받고 있다.</p>\n",
       "<p dmcf-pid=\"AepJIWk1iN\" dmcf-ptype=\"general\">한국과학기술연구원(KIST) 환경복지연구센터 연구진은 중국발 미세먼지 유입과 함께 국내에서 배출된 질소산화물의 상호작용이 수도권의 초미세먼지 오염을 더욱 악화시킨다고 28일 밝혔다. 이 같은 연구결과는 대기환경분야 국제학술지 ‘대기 화학 및 물리학’에 실렸다.</p>\n",
       "<p dmcf-pid=\"A6yK7be7Vb\" dmcf-ptype=\"general\">고농도 초미세먼지 오염 원인으로 중국발 미세먼지가 지목받고 있지만 단순히 중국발 미세먼지 유입만으로 설명하기에는 훨씬 더 높은 경우가 많다. 이에 연구팀은 초미세먼지(PM2.5)를 측정날짜에 따라 외국 유입, 국내 대기 정체, 외국 유입과 국내 대기정체 세 가지 조건으로 분류하고 각 유형별 화학적, 열역학적 특성을 분석했다.</p>\n",
       "<p dmcf-pid=\"ADCJ8IZIq0\" dmcf-ptype=\"general\">분석 결과 국내 대기정체 때 초미세먼지 농도는 1㎥ 당 34㎍이며 중국발 미세먼지가 유입될 경우는 53㎍으로 상승했다. 중국발 미세먼지에 국내 대기정체가 겹칠 경우 72㎍으로 가장 높은 농도를 보였다. 중국발 미세먼지가 유입될 경우는 그렇지 않은 경우보다 황산염, 질산염, 암모늄 같은 2차 생성 오염물질이 포함돼 있고 수분도 늘어난 것으로 확인됐다.</p>\n",
       "<p dmcf-pid=\"AWUyyBiaEc\" dmcf-ptype=\"general\">질산염이나 황산염은 흡습성이 강해 입자내 수분을 증가시키는 역할을 한다. 수분이 많은 미세먼지가 수도권으로 유입되면 자동차 배기가스나 화력발전 같은 질소산화물과 만나 반응을 일으켜 다시 질산염을 늘리는 악순환이 계속돼 미세먼지 농도를 높인다는 것이다.</p>\n",
       "<p dmcf-pid=\"A9PaiQxn4N\" dmcf-ptype=\"general\">연구팀은 국내 질소산화물 배출 저감을 하는 것이 중국발 미세먼지 유입시 수도권 초미세먼지 오염을 완화시킬 수 있을 것이라고 조언했다.</p>\n",
       "<p dmcf-pid=\"AxCNskCeEX\" dmcf-ptype=\"general\">김진영 KIST 박사는 “이번 연구는 수도권 고농도 초미세먼지는 중국발 미세먼지가 국내 자동차와 산업시설에서 배출되는 오염물질과 결합되면서 발생한다는 것을 밝혀내 효과적인 수도권 초미세먼지 관리정책에 대한 바탕이 될 것”이라고 말했다.</p>\n",
       "<p dmcf-pid=\"ADLZUgziiH\" dmcf-ptype=\"general\">유용하 기자 edmondy@seoul.co.kr</p>\n",
       "</section>\n",
       "</div>\n",
       "</div>\n",
       "</div>\n",
       "<div class=\"foot_view\" data-cloud-area=\"addition\">\n",
       "<div class=\"relate_tag\" data-cloud=\"pc_news_cluster\">\n",
       "<strong class=\"screen_out\">관련 태그</strong>\n",
       "</div>\n",
       "<div class=\"relate_series\" data-cloud=\"pc_news_cluster\" style=\"display:none;\">\n",
       "<strong class=\"tit_series\"> <em class=\"tag_series\">연재</em> <span class=\"title_series\"></span> </strong>\n",
       "<ul class=\"list_series\"></ul>\n",
       "<a class=\"link_more\" href=\"#none\">더보기</a>\n",
       "</div>\n",
       "<div class=\"copyright_view\" data-cloud=\"pc_like_and_copylight\">\n",
       "<span class=\"txt_copyright\">Copyrightsⓒ 서울신문사. 무단 전재 및 재배포 금지 </span>\n",
       "<div class=\"btn_empathy\" id=\"likeButton\">\n",
       "<div class=\"empathy empathy_pc\" id=\"empathy_pc\">\n",
       "<div class=\"inner_empathy uoc-icon\">\n",
       "<a class=\"img_empathy btn_empathy uoc-button\" href=\"#none\"> <span class=\"img_empathy ico_heart\"></span> <span class=\"txt_empathy uoc-text\" style=\"display:inline-block\">공감</span> <span class=\"num_empathy uoc-count\" style=\"display: none;\"></span> <span class=\"access_text screen_out\">공감하기</span> </a>\n",
       "<a class=\"img_empathy link_empathy uoc-best-button\" href=\"http://like.daum.net/best/daily\" target=\"_top\">베스트공감 &gt;</a>\n",
       "</div>\n",
       "</div>\n",
       "</div>\n",
       "</div>\n",
       "<div class=\"cp_view\" data-cloud=\"pc_related_news\">\n",
       "<strong class=\"tit_cp\">서울신문 주요 뉴스<span class=\"info_cp\">해당 언론사로 연결됩니다.</span></strong>\n",
       "<ul class=\"list_relate\">\n",
       "<li><a class=\"link_txt\" data-type=\"related\" href=\"https://www.seoul.co.kr/news/newsView.php?id=20200723500138&amp;wlog_tag3=daum_relation\" target=\"_blank\">[단독] 박원순 또다른 여비서 2명도 \"이런 일 못해\"</a></li>\n",
       "<li><a class=\"link_txt\" data-type=\"related\" href=\"https://www.seoul.co.kr/news/newsView.php?id=20200727500077&amp;wlog_tag3=daum_relation\" target=\"_blank\">120억 로또 당첨자, 3년만에 '20대 여성 살해'</a></li>\n",
       "<li><a class=\"link_txt\" data-type=\"related\" href=\"https://www.seoul.co.kr/news/newsView.php?id=20200721500061&amp;wlog_tag3=daum_relation\" target=\"_blank\">\"생리 때까지\" 中회사 대형 성폭행 스캔들</a></li>\n",
       "<li><a class=\"link_txt\" data-type=\"related\" href=\"https://www.seoul.co.kr/news/newsView.php?id=20200721500047&amp;wlog_tag3=daum_relation\" target=\"_blank\">이태임 \"남편 구속 후 홀로 육아..복귀 없을 것\"</a></li>\n",
       "<li><a class=\"link_txt\" data-type=\"related\" href=\"https://www.seoul.co.kr/news/newsView.php?id=20200727500024&amp;wlog_tag3=daum_relation\" target=\"_blank\">\"데려다줄게\" 만취여성 추행 후 벌어진 일</a></li>\n",
       "<li><a class=\"link_txt\" data-type=\"related\" href=\"https://www.seoul.co.kr/news/newsView.php?id=20200727500103&amp;wlog_tag3=daum_relation\" target=\"_blank\">\"돈 줄테니 저 좀 죽여주세요\"..촉탁살인 파문</a></li>\n",
       "<li><a class=\"link_txt\" data-type=\"related\" href=\"https://www.seoul.co.kr/news/newsView.php?id=20200721500108&amp;wlog_tag3=daum_relation\" target=\"_blank\">\"8월 17일 임시공휴일 되면 왜 사흘간 휴무죠?\"</a></li>\n",
       "<li><a class=\"link_txt\" data-type=\"related\" href=\"https://www.seoul.co.kr/news/newsView.php?id=20200727500033&amp;wlog_tag3=daum_relation\" target=\"_blank\">北김정은 둘러싼 총 든 군간부들 \"이례적 모습\"</a></li>\n",
       "<li><a class=\"link_txt\" data-type=\"related\" href=\"https://www.seoul.co.kr/news/newsView.php?id=20200724010034&amp;wlog_tag3=daum_relation\" target=\"_blank\">피 묻은 흉기 옷에 쓱.. PC방 뒤집은 10대 소녀</a></li>\n",
       "<li><a class=\"link_txt\" data-type=\"related\" href=\"https://www.seoul.co.kr/news/newsView.php?id=20200709500071&amp;wlog_tag3=daum_relation\" target=\"_blank\">12살 제자 아이 낳고 결혼했던 여교사 결국</a></li>\n",
       "</ul>\n",
       "</div>\n",
       "<div data-cloud=\"pc_article_bottom_ad\" id=\"alex-scroll-area\"></div>\n",
       "<ins class=\"kakao_ad_area recomm_ad\" data-ad-height=\"90\" data-ad-onfail=\"cmRenderFailCallBack\" data-ad-unit=\"DAN-1jezdswwiit7q\" data-ad-width=\"658\" data-cloud=\"pc_article_bottom_ad\" style=\"display:block; width: 658px; text-decoration: none; min-width: 658px;\"> </ins>\n",
       "<div class=\"cmt_news cmt_view\" data-cloud=\"pc_comment\">\n",
       "<div class=\"news_notice\" id=\"newsviewNotice\"></div>\n",
       "<div class=\"alex-area\" data-base-url=\"//comment.daum.net\" data-client-id=\"26BXAvKny5WF5Z09lr5k77Y8\" data-initial-limit=\"3\" data-is-mobile=\"false\" data-kakao-appkey=\"9076ba452fea1a434141d6b6a2c11a3c\" data-max-length=\"300\" data-page-limit=\"10\" data-post-id=\"@20200728121101828\" data-show-mask-alert=\"true\" data-sort=\"R\" data-use-attachment=\"false\" data-use-emoticon=\"true\" data-use-fold=\"true\" data-use-live-comment-mode=\"notify\" data-use-my=\"true\" data-use-official=\"true\" data-use-reply=\"true\" data-use-skin=\"newsView\" data-use-social-share=\"true\" id=\"alex-area\">\n",
       "</div>\n",
       "</div>\n",
       "</div>\n",
       "</div>\n",
       "<div data-cloud-area=\"aside\" id=\"mAside\">\n",
       "<ins class=\"kakao_ad_area aside_g aside_ad\" data-ad-height=\"250\" data-ad-type=\"D\" data-ad-unit=\"05d24\" data-ad-width=\"250\" data-cloud=\"pc_aside_top_ad\" style=\"display:block;width:250px;height:250px;\"> </ins>\n",
       "<div class=\"aside_g aside_popular hide\" data-cloud=\"pc_popular_news\">\n",
       "<h3 class=\"txt_newsview\">많이본 뉴스</h3>\n",
       "<ul class=\"tab_aside tab_media\">\n",
       "<li class=\"on\"> <a class=\"link_tab link_tab2\" href=\"#none\">뉴스</a> </li>\n",
       "<li class=\"\"> <a class=\"link_tab link_tab3\" href=\"#none\">연예</a> </li>\n",
       "<li class=\"\"> <a class=\"link_tab link_tab4\" href=\"#none\">스포츠</a> </li>\n",
       "</ul>\n",
       "</div>\n",
       "<div class=\"aside_g aside_phototv hide\" data-cloud=\"pc_news_photo_tv\">\n",
       "<h3 class=\"txt_newsview\">포토&amp;TV</h3>\n",
       "<div class=\"cont_aside\">\n",
       "<ul class=\"list_phototv\"></ul>\n",
       "</div>\n",
       "</div>\n",
       "<ins class=\"kakao_ad_area aside_g aside_ad\" data-ad-height=\"250\" data-ad-type=\"D\" data-ad-unit=\"0QH44\" data-ad-width=\"250\" data-cloud=\"pc_aside_bottom_ad\" style=\"display:block;width:250px;height:250px;\"> </ins>\n",
       "</div>\n",
       "</div>\n",
       "<div id=\"cEtc\">\n",
       "<div class=\"realtime_view\">\n",
       "<div class=\"inner_realtime\">\n",
       "<div data-cloud-area=\"etc\">\n",
       "<div data-cloud=\"pc_realtime_news\" data-cloud-key=\"TOROS_NEWS_PC\" data-cloud-ui=\"RealTimeNews\">\n",
       "</div>\n",
       "</div>\n",
       "<div class=\"realtime_aside\" data-cloud-area=\"etc-aside\" id=\"realtime_aside\">\n",
       "<div class=\"aside_g aside_issue hide\" data-cloud=\"pc_realtime_issue\">\n",
       "<h3 class=\"txt_newsview\">실시간 주요이슈</h3>\n",
       "<span class=\"info_aside\"></span>\n",
       "<div class=\"cont_aside\">\n",
       "<ul class=\"list_issue\"></ul>\n",
       "</div>\n",
       "</div>\n",
       "<div class=\"shopad_news aside_g aside_shopping\" data-cloud=\"pc_shopping_ad\" id=\"daum-sfocus-root\"></div>\n",
       "</div>\n",
       "</div>\n",
       "</div>\n",
       "<div data-cloud-area=\"etc-addition\">\n",
       "</div>\n",
       "</div>\n",
       "</div>\n",
       "<hr class=\"hide\"/>\n",
       "<div class=\"footer_comm\" data-cloud-area=\"footer\" id=\"kakaoFoot\" role=\"contentinfo\">\n",
       "<div class=\"inner_foot\" data-cloud=\"pc_news_footer\">\n",
       "<div class=\"direct_link\">\n",
       "<h2 class=\"tit_direct\">바로가기</h2>\n",
       "<div class=\"item_bundle\">\n",
       "<a class=\"link_txt\" href=\"https://news.daum.net/\">뉴스홈</a>\n",
       "<a class=\"link_txt\" href=\"https://news.daum.net/society/\">사회</a>\n",
       "<a class=\"link_txt\" href=\"https://news.daum.net/politics/\">정치</a>\n",
       "<a class=\"link_txt\" href=\"https://news.daum.net/economic/\">경제</a>\n",
       "<a class=\"link_txt\" href=\"https://news.daum.net/foreign/\">국제</a>\n",
       "<a class=\"link_txt\" href=\"https://news.daum.net/culture/\">문화</a>\n",
       "<a class=\"link_txt\" href=\"https://news.daum.net/digital/\">IT</a>\n",
       "<a class=\"link_txt\" href=\"https://news.daum.net/photo/\">포토</a>\n",
       "<a class=\"link_txt\" href=\"http://news.daum.net/tv/\">TV</a>\n",
       "</div>\n",
       "<div class=\"item_bundle\">\n",
       "<a class=\"link_txt\" href=\"https://news.daum.net/issue/all\">이슈</a>\n",
       "</div>\n",
       "<div class=\"item_bundle\">\n",
       "<a class=\"link_txt\" href=\"https://news.daum.net/cp\">언론사별 뉴스</a>\n",
       "</div>\n",
       "<div class=\"item_bundle\">\n",
       "<a class=\"link_txt\" href=\"https://news.daum.net/newsbox\">배열이력</a>\n",
       "</div>\n",
       "<div class=\"item_bundle\">\n",
       "<a class=\"link_txt\" href=\"https://news.daum.net/breakingnews\">전체뉴스</a>\n",
       "<a class=\"link_txt\" href=\"https://news.daum.net/ranking/popular\">랭킹</a>\n",
       "<a class=\"link_txt\" href=\"https://news.daum.net/series\">연재</a>\n",
       "<a class=\"link_txt\" href=\"https://news.daum.net/1boon\">1boon</a>\n",
       "</div>\n",
       "<button class=\"btn_fold\" type=\"button\"><span class=\"ico_news\">바로가기 링크 더보기/접기</span></button>\n",
       "</div>\n",
       "<h2 class=\"screen_out\">서비스 이용정보</h2>\n",
       "<div class=\"footer_link\">\n",
       "<a class=\"link_info\" href=\"https://news.daum.net/info/intro\">다음뉴스 소개</a>\n",
       "<span class=\"txt_dot\"> ・ </span>\n",
       "<a class=\"link_info\" href=\"https://news.daum.net/notice\">공지사항</a>\n",
       "<span class=\"txt_dot\"> ・ </span>\n",
       "<a class=\"link_info\" href=\"https://news.daum.net/info/bbsrule\">게시물 운영원칙</a>\n",
       "<span class=\"txt_dot\"> ・ </span>\n",
       "<a class=\"link_info\" href=\"http://policy.daum.net/info/info\">서비스 약관/정책</a>\n",
       "<span class=\"txt_dot\"> ・ </span>\n",
       "<a class=\"link_info\" href=\"https://with.kakao.com/media\">뉴스제휴</a>\n",
       "<span class=\"txt_dot\"> ・ </span>\n",
       "<a class=\"link_info\" href=\"https://business.kakao.com/\">비즈니스</a>\n",
       "<span class=\"txt_dot\"> ・ </span>\n",
       "<a class=\"link_info\" href=\"https://cs.daum.net/redbell/top.html\">권리침해신고</a>\n",
       "<span class=\"txt_dot\"> ・ </span>\n",
       "<a class=\"link_info\" href=\"https://cs.daum.net/faq/63.html\">다음뉴스 고객센터</a>\n",
       "</div>\n",
       "<div class=\"footer_link\">\n",
       "<a class=\"link_info\" href=\"https://news.daum.net/info/newscenter24\">24시간 뉴스센터</a>\n",
       "<span class=\"txt_dot\"> ・ </span>\n",
       "<a class=\"link_info\" href=\"https://news.daum.net/info/edit\">서비스원칙</a>\n",
       "<span class=\"txt_dot\"> ・ </span>\n",
       "<a class=\"link_info\" href=\"https://news.daum.net/info/correct\">바로잡습니다</a>\n",
       "<span class=\"txt_dot\"> ・ </span>\n",
       "<span class=\"link_info\">기사배열책임자 : 손정아</span>\n",
       "<span class=\"txt_dot\"> ・ </span>\n",
       "<span class=\"link_info\">청소년보호책임자 : 이준목</span>\n",
       "</div>\n",
       "<div class=\"info_copyright\">\n",
       "<strong class=\"info_warn\">위 내용에 대한 저작권 및 법적 책임은 자료제공사 또는 <br/>글쓴이에 있으며, Kakao의 입장과 다를 수 있습니다.</strong>\n",
       "<small class=\"txt_copyright\">Copyright © <strong class=\"txt_kakao\"><a class=\"link_kakao\" href=\"http://www.kakaocorp.com/\">Kakao Corp.</a></strong> All rights reserved.</small>\n",
       "</div>\n",
       "</div>\n",
       "</div>\n",
       "<div id=\"wrapMinidaum\"></div>\n",
       "<samp data-cloud-area=\"util\"> </samp>\n",
       "</div>\n",
       "<script src=\"//t1.daumcdn.net/harmony_static/cloud/2020/07/27/vendor.5f3285ceedc6f1b7143b.js\"></script>\n",
       "<script src=\"//t1.daumcdn.net/harmony_static/cloud/2020/07/27/common.62a3cedcf2dd802e64d0.js\"></script>\n",
       "<script src=\"//t1.daumcdn.net/harmony_static/cloud/2020/07/27/components.089a349b1002f2ce43b9.js\"></script>\n",
       "<script src=\"//t1.daumcdn.net/kas/static/ba.min.js\"></script>\n",
       "<script src=\"//m1.daumcdn.net/svc/original/U03/cssjs/userAgent/userAgent-1.0.12.min.js\"></script>\n",
       "<script>\"use strict\"; (function () { if (isIEVersionBelowNine()) { var kakaoIndex = document.getElementById('kakaoIndex'); var upgradeLayer = document.querySelector('.browser_upgrade'); var closeButton = upgradeLayer.querySelector('button'); document.body.insertBefore(upgradeLayer, kakaoIndex); upgradeLayer.setAttribute('class', 'browser_upgrade'); closeButton.attachEvent('onclick', function () { upgradeLayer.setAttribute('class', 'hide'); }); } function isIEVersionBelowNine() { var userAgent = navigator.userAgent.toLowerCase(); var version = parseInt(userAgent.split('msie')[1]); /* i.e parseInt(\" 9.0; windo...\") */ return userAgent.indexOf('msie') !== -1 && version < 10; } })();</script>\n",
       "<script>\"use strict\"; function _instanceof(left, right) { if (right != null && typeof Symbol !== \"undefined\" && right[Symbol.hasInstance]) { return !!right[Symbol.hasInstance](left); } else { return left instanceof right; } } function _classCallCheck(instance, Constructor) { if (!_instanceof(instance, Constructor)) { throw new TypeError(\"Cannot call a class as a function\"); } } function _defineProperties(target, props) { for (var i = 0; i < props.length; i++) { var descriptor = props[i]; descriptor.enumerable = descriptor.enumerable || false; descriptor.configurable = true; if (\"value\" in descriptor) descriptor.writable = true; Object.defineProperty(target, descriptor.key, descriptor); } } function _createClass(Constructor, protoProps, staticProps) { if (protoProps) _defineProperties(Constructor.prototype, protoProps); if (staticProps) _defineProperties(Constructor, staticProps); return Constructor; } (function () { var weatherLayer = document.querySelector('.gnb_weather'); var weatherList = weatherLayer.querySelector('ul'); var weatherApiUrl = \"\".concat(Conf.api.hadesRest, \"/pc_weather\"); axios.get(weatherApiUrl).then(function (res) { var _res$data$body$data = res.data.body.data, isNightIconYn = _res$data$body$data.isNightIconYn, weatherData = _res$data$body$data.weatherData; weatherList.dataset.nightyn = isNightIconYn; weatherList.innerHTML = weatherData.map(function (_ref) { var weatherIconCode = _ref.weatherIconCode, specialRegionName = _ref.specialRegionName, temperature = _ref.temperature; return \"\\n <li>\\n <a href=\\\"http://search.daum.net/search?nil_suggest=btn&amp;w=tot&amp;DA=SBC&amp;q=\".concat(specialRegionName, \"%20\\uB0A0\\uC528\\\" class=\\\"link_cont\\\">\\n <span class=\\\"ico_weather ico_weather\").concat(weatherIconCode, \"\\\">\").concat(specialRegionName, \"</span> \\n <span class=\\\"txt_weather\\\">\").concat(specialRegionName, \"\\n <span class=\\\"num_heat\\\">\").concat(temperature, \"</span> \\n <span class=\\\"txt_heat\\\">\\u2103</span>\\n </span>\\n </a>\\n </li>\\n \"); }).join(''); var newsTicker = new NewsTicker(weatherList); }).catch(function (error) { removeWeatherLayer(); }); var NewsTicker = /*#__PURE__*/ function () { function NewsTicker(list) { _classCallCheck(this, NewsTicker); this.PAUSE_TIME = 4000; this.TRANSITION_TIME = 500; this.list = list; this.frameId = null; this.pause = this.pause.bind(this); this.start = this.start.bind(this); this.moveUp = this.moveUp.bind(this); this.init(); this.start(); this.list.style.marginTop = '0px'; } _createClass(NewsTicker, [{ key: \"start\", value: function start() { this.frameId = setInterval(this.moveUp, this.PAUSE_TIME); } }, { key: \"pause\", value: function pause() { clearInterval(this.frameId); } }, { key: \"moveUp\", value: function moveUp() { var list = this.list; var clone = list.firstElementChild.cloneNode(true); list.classList.add('slidein'); list.style.marginTop = '-30px'; setTimeout(function () { list.classList.remove('slidein'); list.style.marginTop = '0px'; list.removeChild(list.firstElementChild); list.appendChild(clone); }, this.TRANSITION_TIME); } }, { key: \"init\", value: function init() { var list = this.list; list.addEventListener('mouseenter', this.pause); list.addEventListener('mouseleave', this.start); } }]); return NewsTicker; }(); function removeWeatherLayer() { weatherLayer.parentNode.removeChild(weatherLayer); } })();</script>\n",
       "<script>\"use strict\"; (function () { var serviceParams = ''; var categoryName = serviceParams.indexOf('tv_news') > -1 ? 'tv' : 'digital'; var gnb = document.querySelector('.gnb_comm'); var currentCategory = categoryName && gnb.querySelector(\".\".concat(categoryName)); currentCategory && currentCategory.setAttribute('class', \"\".concat(categoryName, \" on\")); })();</script>\n",
       "<script src=\"https://t1.daumcdn.net/cssjs/jquery/jquery-1.9.0.min.js\"></script>\n",
       "<script src=\"https://search1.daumcdn.net/search/suggest_pc/suggest-1.2.16.min.js\"></script>\n",
       "<script>\"use strict\"; (function ($) { var SUGGEST_APP_KEY = 'd7022f6ca2a04430ce1b97b922da58e8'; var searchLayer = document.getElementById('search_news'); var suggestInstance = new suggest.Suggest(document.getElementById(\"search_news\"), { inputEl: 'qVal', suggestBoxEl: 'suggestBox', autoFocus: 'NORMAL', suggestLimit: 10, isReverse: false, searchURL: 'https://search.daum.net/search', APIServer: { host: '//dapi.kakao.com/suggest/v2/pc.json', apiType: suggest.Suggest.APITYPE.DAPISUGGEST, appkey: SUGGEST_APP_KEY, queries: { 'mod': 'json', 'code': 'utf_in_out' } } }); /* 추천 검색어 마우스 클릭시 검색으로 보낸다. */ suggestInstance.on('click-item', function () { var kakaoSearch = document.getElementById('kakaoSearch'); kakaoSearch.querySelector(\"input[name='DA']\").value = '23B'; kakaoSearch.submit(); }); var queryInput = document.getElementById('qVal'); if (queryInput.addEventListener) { queryInput.addEventListener('focus', function (event) { event && event.preventDefault(); if (queryInput.value.length >= 0) { queryInput.parentNode.classList.add('search_on'); } }); queryInput.addEventListener('blur', function (event) { event && event.preventDefault(); if (queryInput.value.length === 0) { queryInput.parentNode.classList.remove('search_on'); } }); } else { /* ie */ queryInput.attachEvent('onfocus', function (event) { event && (event.preventDefault ? event.preventDefault() : event.returnValue = false); if (queryInput.value.length >= 0) { queryInput.parentNode.setAttribute('class', 'box_searchbar search_on'); } }); queryInput.attachEvent('onblur', function (event) { event && (event.preventDefault ? event.preventDefault() : event.returnValue = false); if (queryInput.value.length === 0) { queryInput.parentNode.setAttribute('class', 'box_searchbar'); } }); } })(jQuery);</script>\n",
       "<script src=\"//t1.daumcdn.net/daumtop_deco/socialshare/socialshare_nocss_pc-2.3.1.js\"></script>\n",
       "<script>\"use strict\"; (function () { var paragraphs = document.body.querySelectorAll(\".layer_summary p\"); var summaryLayer = document.body.querySelector('.util_summary'); var summaryButton = summaryLayer.querySelector('.btn_summary'); var summaryLayerStatus = false; function showLayer() { summaryLayer.classList.add('layer_open'); summaryButton.setAttribute('aria-expanded', true); window.addEventListener('click', checkLayer); } function hideLayer() { summaryLayerStatus = false; summaryLayer.classList.remove('layer_open'); summaryButton.setAttribute('aria-expanded', false); } function checkLayer(e) { if (summaryButton === e.target || summaryButton.children[0] === e.target) return false; hideLayer(); window.removeEventListener('click', checkLayer); } paragraphs.forEach(function (p) { return p.classList.add(\"desc_news\"); }); summaryButton.addEventListener('click', function (e) { summaryLayerStatus = !summaryLayerStatus; summaryLayerStatus ? showLayer() : hideLayer(); }); summaryLayer.addEventListener('focusin', function (e) { showLayer(); }); summaryLayer.addEventListener('focusout', function (e) { hideLayer(); }); })();</script>\n",
       "<script>\"use strict\"; function _slicedToArray(arr, i) { return _arrayWithHoles(arr) || _iterableToArrayLimit(arr, i) || _nonIterableRest(); } function _nonIterableRest() { throw new TypeError(\"Invalid attempt to destructure non-iterable instance\"); } function _iterableToArrayLimit(arr, i) { if (!(Symbol.iterator in Object(arr) || Object.prototype.toString.call(arr) === \"[object Arguments]\")) { return; } var _arr = []; var _n = true; var _d = false; var _e = undefined; try { for (var _i = arr[Symbol.iterator](), _s; !(_n = (_s = _i.next()).done); _n = true) { _arr.push(_s.value); if (i && _arr.length === i) break; } } catch (err) { _d = true; _e = err; } finally { try { if (!_n && _i[\"return\"] != null) _i[\"return\"](); } finally { if (_d) throw _e; } } return _arr; } function _arrayWithHoles(arr) { if (Array.isArray(arr)) return arr; } (function () { var ttsPlayerSrcMap = { slow_Male: \"http://k-v1.kakaocdn.net/dn/pIuBP/btqF3aJvSI8/7mkygNHpI4SeouSZpBOVRk/original.m4a\", normal_Male: \"http://k-v1.kakaocdn.net/dn/ckSPSz/btqF5A7P4cl/oIKOxCzQUXR6jXgyXy3gPK/original.m4a\", fast_Male: \"http://k-v1.kakaocdn.net/dn/caZwGQ/btqF4VklApS/4eoF4KARqykT5Js05AyvW0/original.m4a\", slow_Female: \"http://k-v1.kakaocdn.net/dn/8TgUW/btqF3bBC70y/tKmBNyJ2WPMGo8hQUx50p0/original.m4a\", normal_Female: \"http://k-v1.kakaocdn.net/dn/ilLWW/btqF4VEDJMq/U0enEZcKcMKmgoMk7zZtX0/original.m4a\", fast_Female: \"http://k-v1.kakaocdn.net/dn/lcXNW/btqF5A054iG/IFS4hicIZ9q08M3MbkL7R0/original.m4a\" }; var TTS_COOKIE_NAME = 'VIEW_TTS'; var $elements = document.body.querySelector('.tts_btn'); var ttsPlayer = $elements.querySelector('#ttsPlayer'); function ttsOptionsSourceKey() { var checkedSpeed = $elements.querySelector('input[name=ttsSpeed]:checked').value; var checkedGender = $elements.querySelector('input[name=ttsGender]:checked').value; return \"\".concat(checkedSpeed, \"_\").concat(checkedGender); } function ttsPlayerSrcSet() { var key = ttsOptionsSourceKey(); ttsPlayer.setAttribute('src', ttsPlayerSrcMap[key]); Cookies.set(TTS_COOKIE_NAME, '', { expires: -1 }); Cookies.set(TTS_COOKIE_NAME, key, { domain: '.v.daum.net', expires: new Date(new Date() * 1 + 365 * 864e+5) }); } var textLayer = $elements.querySelector('.ico_speak'); function ttsPlayerControl(control) { if (control == \"playOptions\") { ttsPlayerSrcSet(); ttsPlayer.load(); ttsPlayer.play(); textLayer.textContent = '음성 기사 정지'; } else if (control == \"play\") { ttsPlayer.load(); ttsPlayer.play(); textLayer.textContent = '음성 기사 정지'; } else { ttsPlayer[control](); textLayer.textContent = '음성 기사 듣기'; } } var btnTtsLayer = $elements; var btnTtsClick = $elements.querySelector('.btn_tts'); var ttsInputs = $elements.querySelectorAll('.list_tts input'); var subLayer = $elements.querySelector('.wrap_setlayer'); accessibleLayer({ layer: btnTtsLayer, btn: btnTtsClick, inputs: ttsInputs }); function accessibleLayer(options) { var layer = options.layer, btn = options.btn, inputs = options.inputs; var tid; var isMouseOn = false; function showLayer() { clearTimeout(tid); layer.classList.add('layer_open'); btn.setAttribute('aria-expanded', true); } function hideLayer() { layer.classList.remove('layer_open'); btn.setAttribute('aria-expanded', false); } function delayHideLayer() { tid = setTimeout(hideLayer, 1); } function checkMouseAndHideLayer() { if (!isMouseOn) delayHideLayer(); } layer.addEventListener('mouseover', function () { isMouseOn = true; showLayer(); }); layer.addEventListener('mouseleave', function () { isMouseOn = false; hideLayer(); }); btn.addEventListener('focus', showLayer); btn.addEventListener('blur', checkMouseAndHideLayer); inputs.forEach(function (input) { input.addEventListener('focus', showLayer); input.addEventListener('blur', checkMouseAndHideLayer); }); } accessibleInput({ options: $elements.querySelectorAll('.ico_newsview'), inputs: ttsInputs }); function accessibleInput(opt) { var options = opt.options, inputs = opt.inputs; options.forEach(function (option) { option.addEventListener('mouseover', function (event) { this.classList.add('ico_focused'); }); option.addEventListener('mouseleave', function (event) { this.classList.remove('ico_focused'); }); }); inputs.forEach(function (input) { input.addEventListener('focus', function () { this.nextElementSibling.querySelector('span').classList.add('ico_focused'); }); input.addEventListener('blur', function () { this.nextElementSibling.querySelector('span').classList.remove('ico_focused'); }); }); } btnTtsClick.addEventListener('click', function (event) { btnTtsLayer.classList.toggle('on'); if (btnTtsLayer.classList.contains('on')) { ttsPlayerControl('play'); } else { ttsPlayerControl('pause'); } }); ttsPlayer.addEventListener(\"ended\", function (event) { btnTtsLayer.classList.remove('on'); }); ttsInputs.forEach(function (input) { input.addEventListener('change', function (event) { btnTtsLayer.classList.add('on'); ttsPlayerControl('playOptions'); }); }); var ttsCookieValue = Cookies.get(TTS_COOKIE_NAME); if (typeof ttsCookieValue == \"undefined\" || ttsCookieValue.includes(\"undefined\")) { subLayer.querySelector('#ttsGenderMale').checked = true; subLayer.querySelector('#ttsSpeedNormal').checked = true; } else { var _ttsCookieValue$split = ttsCookieValue.split('_'), _ttsCookieValue$split2 = _slicedToArray(_ttsCookieValue$split, 2), speed = _ttsCookieValue$split2[0], gender = _ttsCookieValue$split2[1]; speed = 'ttsSpeed' + speed.charAt(0).toUpperCase() + speed.slice(1); gender = 'ttsGender' + gender; subLayer.querySelector('#' + gender).checked = true; subLayer.querySelector('#' + speed).checked = true; } btnTtsClick.className = \"btn_set btn_tts #util #tts #p_\" + ttsOptionsSourceKey(); ttsPlayerSrcSet(); })();</script>\n",
       "<script>\"use strict\"; (function () { var translatingLayers = document.createElement('DIV'); translatingLayers.innerHTML = \"\\n <div id=\\\"translatingLayer\\\" class=\\\"translate_layer\\\">\\n <div class=\\\"inner_translate_layer\\\">\\n <div class=\\\"layer_body\\\">\\n <strong class=\\\"tit_translate\\\">\\n \\uBC88\\uC5ED\\uC911 <span class=\\\"eng_tit\\\">Now in translation</span>\\n </strong>\\n </div>\\n </div>\\n </div>\\n\\n <div id=\\\"translateErrorLayer\\\" class=\\\"translate_layer\\\">\\n <div class=\\\"inner_translate_layer inner_error_layer\\\">\\n <div class=\\\"layer_body\\\">\\n <span class=\\\"ico_newsview ico_error\\\"></span>\\n <strong class=\\\"tit_translate\\\">\\n \\uC7A0\\uC2DC \\uD6C4 \\uB2E4\\uC2DC \\uC2DC\\uB3C4\\uD574 \\uC8FC\\uC138\\uC694 <span class=\\\"eng_tit\\\">Please try again in a moment</span>\\n </strong>\\n </div>\\n </div>\\n </div>\\n \"; document.body.querySelector(\"#kakaoWrap\").appendChild(translatingLayers); })();</script>\n",
       "<script>\"use strict\"; function _toConsumableArray(arr) { return _arrayWithoutHoles(arr) || _iterableToArray(arr) || _nonIterableSpread(); } function _nonIterableSpread() { throw new TypeError(\"Invalid attempt to spread non-iterable instance\"); } function _iterableToArray(iter) { if (Symbol.iterator in Object(iter) || Object.prototype.toString.call(iter) === \"[object Arguments]\") return Array.from(iter); } function _arrayWithoutHoles(arr) { if (Array.isArray(arr)) { for (var i = 0, arr2 = new Array(arr.length); i < arr.length; i++) { arr2[i] = arr[i]; } return arr2; } } var dmcfLanguage = 'ko'; (function () { var $elements = document.body.querySelector('.translate_btn'); var translateButtonLayer = $elements; var translateButton = $elements.querySelector('.btn_translate'); var translateKakaoILink = $elements.querySelector('.link_kakaoi'); var translateLanguageButtons = $elements.querySelectorAll('.btn_lang'); var translatingLayer = document.body.querySelector('#translatingLayer'); var translateErrorLayer = document.body.querySelector('#translateErrorLayer'); var hostName = location.host.split('.')[0]; var kakaoWrap = document.body.querySelector(hostName !== 'movie' ? '#kakaoWrap' : '#dkWrap'); function hideAllLayers() { translatingLayer.style.display = \"none\"; translateErrorLayer.style.display = \"none\"; document.body.style.overflow = \"\"; } ; function showTranslatingLayer() { hideAllLayers(); translatingLayer.style.display = \"block\"; document.body.style.overflow = \"hidden\"; } ; function showTranslateErrorLayer() { hideAllLayers(); translateErrorLayer.style.display = \"block\"; document.body.style.overflow = \"hidden\"; } ; accessibleLayer({ layer: $elements, btn: translateButton, inputs: [translateKakaoILink].concat(_toConsumableArray(translateLanguageButtons)) }); function accessibleLayer(options) { var layer = options.layer, btn = options.btn, inputs = options.inputs; var tid; var isMouseOn = false; function showLayer() { clearTimeout(tid); layer.classList.add('layer_open'); btn.setAttribute('aria-expanded', true); } function hideLayer() { layer.classList.remove('layer_open'); btn.setAttribute('aria-expanded', false); } function delayHideLayer() { tid = setTimeout(hideLayer, 1); } function checkMouseAndHideLayer() { if (!isMouseOn) delayHideLayer(); } layer.addEventListener('mouseover', function () { isMouseOn = true; showLayer(); }); layer.addEventListener('mouseleave', function () { isMouseOn = false; hideLayer(); }); btn.addEventListener('focus', showLayer); btn.addEventListener('blur', checkMouseAndHideLayer); inputs.forEach(function (input) { input.addEventListener('focus', showLayer); input.addEventListener('blur', checkMouseAndHideLayer); }); } function onTranslate(e) { var sourceLang = \"kr\"; var targetLang = e.currentTarget.name; showTranslatingLayer(); try { HarmonyTranslator.translate(sourceLang, targetLang, onTranslateSuccess, onTranslateError); } catch (error) { console.error('번역 에러:', error); } } function onTranslateSuccess(data) { var translateNotice = document.querySelector(\"#translateNotice\"); var targetLang = data.targetLang; switch (targetLang) { case \"en\": case \"id\": kakaoWrap.classList.add(\"lang_type1\"); kakaoWrap.classList.remove(\"lang_type2\"); kakaoWrap.classList.remove(\"lang_type3\"); break; case \"cn\": case \"jp\": kakaoWrap.classList.remove(\"lang_type1\"); kakaoWrap.classList.add(\"lang_type2\"); kakaoWrap.classList.remove(\"lang_type3\"); break; case \"vi\": kakaoWrap.classList.remove(\"lang_type1\"); kakaoWrap.classList.remove(\"lang_type2\"); kakaoWrap.classList.add(\"lang_type3\"); break; default: kakaoWrap.classList.remove(\"lang_type1\"); kakaoWrap.classList.remove(\"lang_type2\"); kakaoWrap.classList.remove(\"lang_type3\"); break; } if (targetLang == \"kr\") { translateNotice.querySelectorAll(\".notice_lang\").forEach(function (notice) { notice.style.display = 'none'; }); translateNotice.style.display = 'none'; } else { translateNotice.querySelectorAll(\".notice_lang:not(.notice_lang_\".concat(targetLang, \")\")).forEach(function (notice) { notice.style.display = 'none'; }); translateNotice.querySelector(\".notice_lang.notice_lang_\".concat(targetLang)).style.display = 'block'; translateNotice.style.display = 'block'; } setTimeout(function () { hideAllLayers(); }, 500); } function onTranslateError(data, error) { showTranslateErrorLayer(); setTimeout(function () { hideAllLayers(); }, 2000); } translateLanguageButtons.forEach(function (btn) { btn.addEventListener('click', onTranslate); }); })();</script>\n",
       "<script>\"use strict\"; (function () { var KAKAO_APP_KEY = '53e566aa17534bc816eb1b5d8f7415ee'; var newsId = '20200728121101828' || 'AOIdGDtQWV'; var requestUrl = \"\".concat(location.protocol, \"//\").concat(location.host, \"/v/\").concat(newsId); var titleDecoder = document.createElement(\"DIV\"); titleDecoder.innerHTML = '한반도 최악의 미세먼지 발생 원인 알고보니..'; var title = titleDecoder.textContent; var KAKAO_LINK_OG_DATA = { shareType: 'sendScrap', shareData: { requestUrl: requestUrl, templateId: 7952, installTalk: true, templateArgs: { '${EncodingUrl}': encodeURIComponent(requestUrl), '${webUrl}': requestUrl + '?f=p', '${mobileWebUrl}': requestUrl + '?f=m' } } }; var $element = document.body.querySelector(\".share_btn\"); var layerBtn = $element.firstElementChild; var layerContainer = layerBtn.nextElementSibling; var layerCloseTid = null; var testShare = new socialshareRenewal.Main(layerBtn, { moreViewContainer: layerContainer, action: 'hover', link: requestUrl, prefix: title, service_name: '다음뉴스', cafe: 'http://scrap.cafe.daum.net/_dss_/scrap?folder_id=100000&source_location_code=10&target_location_code=1&data_id=' + newsId, kakaoAPI: { appkey: KAKAO_APP_KEY, kakaoLinkData: KAKAO_LINK_OG_DATA } }); function hideLayer() { layerCloseTid = setTimeout(function () { $element.classList.remove(\"layer_open\"); layerBtn.setAttribute('aria-expanded', false); testShare.close(); }, 100); } function showLayer() { clearLayerTimeout(); $element.classList.add(\"layer_open\"); layerBtn.setAttribute('aria-expanded', true); testShare.open(); } function clearLayerTimeout() { layerCloseTid && clearTimeout(layerCloseTid); } layerBtn.addEventListener(\"mouseenter\", showLayer); layerBtn.addEventListener(\"focus\", showLayer); layerBtn.addEventListener(\"mouseleave\", hideLayer); layerBtn.addEventListener(\"blur\", hideLayer); layerContainer.addEventListener(\"mouseenter\", clearLayerTimeout); layerContainer.addEventListener(\"mouseleave\", hideLayer); layerContainer.querySelectorAll(\"a\").forEach(function (el) { el.addEventListener(\"focus\", clearLayerTimeout); el.addEventListener(\"blur\", hideLayer); }); })();</script>\n",
       "<script>\"use strict\"; (function () { window.addEventListener('load', initFontSizeUtil); function initFontSizeUtil() { var DEFAULT_FONTSIZE = 17; var FONT_COOKIE_NAME = 'GS_font_size'; var $elements = document.body.querySelector('.font_btn'); var $newsview = document.body.querySelector('.news_view'); var $listFont = $elements.querySelector('.list_font'); var fontSize = Cookies.get(FONT_COOKIE_NAME) || DEFAULT_FONTSIZE; var fontLayer = $elements; var fontBtn = $elements.querySelector('.btn_font'); var radioEls = $elements.querySelectorAll('.list_font input'); accessibleLayer({ layer: fontLayer, btn: fontBtn, inputs: radioEls }); function accessibleLayer(options) { var layer = options.layer, btn = options.btn, inputs = options.inputs; var tid; var isMouseOn = false; function showLayer() { clearTimeout(tid); layer.classList.add('layer_open'); btn.setAttribute('aria-expanded', true); } function hideLayer() { layer.classList.remove('layer_open'); btn.setAttribute('aria-expanded', false); } function delayHideLayer() { tid = setTimeout(hideLayer, 1); } function checkMouseAndHideLayer() { isMouseOn && delayHideLayer(); } layer.addEventListener('mouseover', function () { isMouseOn = true; showLayer(); }); layer.addEventListener('mouseleave', function () { isMouseOn = false; hideLayer(); }); btn.addEventListener('focus', showLayer); btn.addEventListener('blur', checkMouseAndHideLayer); inputs.forEach(function (input) { input.addEventListener('focus', showLayer); input.addEventListener('blur', checkMouseAndHideLayer); }); } accessibleInput({ options: $elements.querySelectorAll('.ico_newsview'), inputs: radioEls }); function accessibleInput(opt) { var options = opt.options, inputs = opt.inputs; options.forEach(function (option) { option.addEventListener('mouseover', function () { this.classList.add('ico_focused'); }); option.addEventListener('mouseleave', function () { this.classList.remove('ico_focused'); }); }); inputs.forEach(function (input) { input.addEventListener('focus', function () { this.nextElementSibling.querySelector('span').classList.add('ico_focused'); }); input.addEventListener('blur', function () { this.nextElementSibling.querySelector('span').classList.remove('ico_focused'); }); }); } function setFontSize(fontSize) { $newsview.style.fontSize = \"\".concat(fontSize, \"px\"); document.body.querySelector(\"#inpFont\".concat(fontSize)).checked = true; $listFont.querySelectorAll('label').forEach(function (labelEl) { return labelEl.classList.remove('on'); }); $listFont.querySelector(\"label[for=inpFont\".concat(fontSize, \"]\")).classList.add('on'); Cookies.set(FONT_COOKIE_NAME, '', { expires: -1 }); Cookies.set(FONT_COOKIE_NAME, fontSize, { domain: '.v.daum.net', expires: new Date(new Date() * 1 + 365 * 864e+5) }); } radioEls.forEach(function (el) { el.addEventListener('change', function () { setFontSize(this.value); }); }); setFontSize(fontSize); } })();</script>\n",
       "<script>\"use strict\"; (function () { var printBtn = document.body.querySelector(\".btn_print\").parentNode; printBtn.addEventListener(\"click\", function (e) { e.preventDefault(); window.open('?s=print_view', 'newsPrint', 'width=750,height=550,scrollbars=yes'); }); })();</script>\n",
       "<script>\"use strict\"; (function () { if (!isIEVersionBelowNine()) return; var newsContainer = document.querySelector('#harmonyContainer'); var imgs = newsContainer.querySelectorAll('img'); var imgLen = imgs.length; for (var i = 0; i < imgLen; i++) { imgs[i].setAttribute('height', '100%'); } function isIEVersionBelowNine() { var userAgent = navigator.userAgent.toLowerCase(); var isIE = userAgent.indexOf('msie') !== -1; var ieVersion = parseInt(userAgent.split('msie')[1]); var utilView = document.querySelector('.util_view'); return isIE && ieVersion <= 9; } })();</script>\n",
       "<script>\"use strict\"; (function () { /* ie 9 이하 표시 안 함. */ if (isIEVersionBelowNine()) { return; } var cate = \"news\"; var selfNewsId = \"20200728121101828\"; var CLUSTER_API = \"https://hades-cerberus.v.kakao.com/charon/pc_mc2_news?cate=\".concat(cate, \"&id=\").concat(selfNewsId); var TAG_TPL = '<span class=\"tag_relate\">\\ <a class=\"emph_g link_txt\" href=\"https://media.daum.net/issue/<%= _id %>\">\\ <span class=\"txt_tag\"></span><span>이슈 · <%= title %></span>\\ </a>\\ </span>'; var SELF_NEWS_TPL = '<li class=\"on\">\\ <div class=\"inner_box\"><span class=\"link_txt\"><%= title %></span></div>\\ </li>'; var ANOTHER_NEWS_TPL = '<li>\\ <div class=\"inner_box\"><a href=\"https://news.v.daum.net/v/<%= contentId %>\" class=\"link_txt\"><%= title %></a></div>\\ </li>'; var MORE_LINK_URL = '//media.daum.net/series'; var relatedTag = document.querySelector('.relate_tag'); var relatedSeries = document.querySelector('.relate_series'); var seriesTitleEl = relatedSeries.querySelector('.title_series'); var moreLink = relatedSeries.querySelector('.link_more'); var seriesList = relatedSeries.querySelector('.list_series'); axios.get(CLUSTER_API).then(function (response) { var clusters = response.data.body.data.data; if (_.isEmpty(clusters)) return; var clusterType = clusters[0].factor.type; switch (clusterType) { case 'issuecluster': renderIssue(clusters[0]); break; case 'series': renderSeries(clusters[0]); break; default: return; } }).catch(function (error) { console.error(\"[클러스터]: 데이터를 가져오는데 실패했습니다. 에러: \", error, \"에러 데이터: \", error.response.data); }); function renderIssue(cluster) { var _id = cluster._id, title = cluster.title; relatedTag.innerHTML = _.template(TAG_TPL)({ _id: _id, title: title }); } function renderSeries(cluster) { relatedSeries.style.display = 'block'; var contents = cluster.contents, seriesId = cluster._id, seriesTitle = cluster.title; seriesTitleEl.textContent = seriesTitle; if (contents.length < 3) seriesList.classList.add('relate_series2'); seriesList.innerHTML = contents.map(function (content) { var contentId = content.contentId, title = content.title; if (contentId == selfNewsId) { return _.template(SELF_NEWS_TPL)({ title: title }); } else { return _.template(ANOTHER_NEWS_TPL)({ contentId: contentId, title: title }); } }).join(''); moreLink.setAttribute('href', MORE_LINK_URL + '/' + seriesId); } function isIEVersionBelowNine() { var userAgent = navigator.userAgent.toLowerCase(); var version = parseInt(userAgent.split('msie')[1]); /* i.e parseInt(\" 9.0; windo...\") */ return userAgent.indexOf('msie') !== -1 && version < 10; } })();</script>\n",
       "<script>\"use strict\"; (function () { var likeButton = document.getElementById('likeButton'); var props = { serviceId: 'news', uid: '20200728121101828' }; if (isIEVersionBelowTen()) { likeButton.parentNode.removeChild(likeButton); } else { new window.LikePC.LikeOnPC(likeButton, props); } function isIEVersionBelowTen() { var userAgent = navigator.userAgent.toLowerCase(); var version = parseInt(userAgent.split('msie')[1]); /* i.e parseInt(\" 9.0; windo...\") */ return userAgent.indexOf('msie') !== -1 && version < 10; } })();</script>\n",
       "<script>\"use strict\"; function cmRenderFailCallBack(arg1) { arg1.parentElement.removeChild(arg1); }</script>\n",
       "<script>\"use strict\"; document.addEventListener('DOMContentLoaded', function () { var hadesRest = \"\".concat(Conf.api.hadesRest); var serviceNoticeId = \"3393\"; var apiUrl = hadesRest + \"/service_notice?id=\" + serviceNoticeId; var element = document.querySelector(\".news_notice\"); axios.get(apiUrl).then(function (response) { var _response$data$body$d = response.data.body.data, noticeTitle = _response$data$body$d.noticeTitle, noticeUrl = _response$data$body$d.noticeUrl; if (noticeTitle !== null) { element.innerHTML = \"<strong class=\\\"tit_notice\\\">\\uACF5\\uC9C0</strong><span class=\\\"txt_notice\\\"><a href=\\\"\".concat(noticeUrl, \"\\\" class=\\\"link_txt\\\">\").concat(noticeTitle, \"</a></span>\"); } else { element.parentNode.removeChild(element); } }).catch(function (error) { console.log(\"Fail service notice: \" + error); }); });</script>\n",
       "<script src=\"//comment.daum.net/js/latest/alex.single.min.js\"></script>\n",
       "<script>\"use strict\"; (function () { var categoryName = 'digital'; window.excludeCorejs = false; window.alexConfig = { label: { emptyImage: '//i1.daumcdn.net/img-section/enter2013/liveviewer/pc_emot_co.gif' }, onLoad: function onLoad() { window.isLoadComment = true; } }; var alexArea = document.getElementById('alex-area'); var rubicsPoolRegDt = \"\"; if (rubicsPoolRegDt) { var afterOneHour = dateUtil.addMinutes(rubicsPoolRegDt.time, 60); var viewAccessTime = parseInt(Cookies.get(\"harmony_view_access_dt\"), 10); if (afterOneHour > viewAccessTime) { alexArea.setAttribute('data-sort', 'L'); } } })();</script>\n",
       "<script>\"use strict\"; (function () { var popularNewsLayer = document.querySelector('.aside_popular'); var tabs = document.querySelectorAll(\".tab_aside li a\"); var serviceId = \"news\"; var tabEngName = { \"뉴스\": \"news\", \"연예\": \"entertain\", \"스포츠\": \"sports\" }; var tabInfos = { \"news\": { el: tabs[0], korName: \"뉴스\", moreLink: \"https://news.daum.net/ranking/popular/all\" }, \"entertain\": { el: tabs[1], korName: \"연예\", moreLink: \"https://entertain.daum.net/ranking/popular\" }, \"sports\": { el: tabs[2], korName: \"스포츠\", moreLink: \"https://sports.media.daum.net/sports/news/ranking\" } }; var activeTab = tabInfos[serviceId].el; var pageIndex = 1; getContents(tabInfos); tabs.forEach(function (tab) { tab.addEventListener(\"mouseover\", function (e) { return selectTab(e.target); }); tab.addEventListener(\"focus\", function (e) { return selectTab(e.target); }); }); function selectTab(tab) { if (activeTab !== tab) { var activeContents = activeTab.parentNode.querySelector(\".cont_aside\"); activeContents && activeContents.parentNode.removeChild(activeContents); activeTab.parentNode.classList.remove(\"on\"); tab.parentNode.classList.add(\"on\"); pageIndex = 1; changeContents(tab); activeTab = tab; } } function changeContents(tab) { var korName = tab.innerText; var engName = tabEngName[korName]; var moreLink = tabInfos[engName].moreLink; var contentsContainer = document.createElement(\"div\"); var contentsItems = renderedTenContentsOf(engName); contentsContainer.classList.add(\"cont_aside\"); contentsContainer.innerHTML = \"\\n <strong class=\\\"screen_out\\\">\".concat(korName, \"</strong>\\n <ol class=\\\"list_ranking\\\">\\n \").concat(contentsItems, \" \\n </ol>\\n <div class=\\\"util_aside\\\">\\n <button class=\\\"btn_slide btn_prev\\\"><span class=\\\"ico_newsview\\\">\\uC774\\uC804</span></button>\\n <button class=\\\"btn_slide btn_next\\\"><span class=\\\"ico_newsview\\\">\\uB2E4\\uC74C</span></button>\\n <a href=\").concat(moreLink, \" class=\\\"link_all\\\"><span class=\\\"txt_newsview\\\">\\uC804\\uCCB4 \\uBCF4\\uAE30</span><span class=\\\"ico_newsview\\\"></span></a>\\n </div>\\n \"); tab.parentNode.appendChild(contentsContainer); contentsContainer.querySelector(\".btn_prev\").addEventListener('click', onClick); contentsContainer.querySelector(\".btn_next\").addEventListener('click', onClick); function onClick() { var contentsItems = document.querySelector(\".cont_aside .list_ranking\"); var korName = activeTab.innerText; var engName = tabEngName[korName]; if (this.classList.contains(\"btn_prev\")) { pageIndex = pageIndex === 1 ? 3 : pageIndex - 1; } else { pageIndex = pageIndex === 3 ? 1 : pageIndex + 1; } contentsItems.innerHTML = renderedTenContentsOf(engName); } } function renderedTenContentsOf(engName) { return tabInfos[engName].contents.slice((pageIndex - 1) * 10, pageIndex * 10).map(function (item) { return \"\\n <li>\\n <em class=\\\"num_newsview num\".concat(item.index, \"\\\">\").concat(item.index, \"\\uC704</em>\\n <strong class=\\\"tit_g\\\"><a href=\\\"\").concat(item.pcLink, \"\\\" class=\\\"link_txt @\").concat(item.index, \"\\\">\").concat(item.title, \"</a></strong>\\n </li>\\n \"); }).join(''); } function getContents(tabInfos) { axios.get(\"https://hades-cerberus.v.kakao.com/charon/pc_popular_news?size=30\").then(function (response) { var popularNewsData = response.data.body.data; Object.keys(popularNewsData).forEach(function (serviceId) { tabInfos[serviceId].contents = popularNewsData[serviceId]; }); changeContents(activeTab); popularNewsLayer.classList.remove('hide'); }).catch(function (error) { popularNewsLayer.parentNode.removeChild(popularNewsLayer); }); } })();</script>\n",
       "<script>\"use strict\"; (function () { var photoTvLayer = document.querySelector('.aside_phototv'); if (isIEVersionBelowNine()) { removeLayer(); return; } var PHOTO_TPL = '<li>\\ <a class=\"link_cont\" href=\"<%= link %>\">\\ <span class=\"wrap_thumb\">\\ <img alt=\"<%= title %>\" class=\"thumb_g\" style=\"<%= thumbStyle %>\" src=\"<%= image %>\"/>\\ <span class=\"ico_phototv\">\\ <span class=\"ico_newsview ico_photo\">포토</span>\\ </span>\\ </span>\\ <strong class=\"tit_thumb\"><%= title %></strong>\\ </a>\\ </li>'; var TV_TPL = '<li>\\ <a class=\"link_cont\" href=\"<%= link %>\">\\ <span class=\"wrap_thumb\">\\ <img alt=\"<%= title %>\" class=\"thumb_g\" style=\"<%= thumbStyle %>\" src=\"<%= image %>\"/>\\ <span class=\"ico_phototv\">\\ <span class=\"ico_newsview ico_vod\">영상</span>\\ </span>\\ </span>\\ <strong class=\"tit_thumb\"><%= title %></strong>\\ </a>\\ </li>'; renderPhotoTV(); function renderPhotoTV() { var photoTvList = photoTvLayer.querySelector('.list_phototv'); var hadesRest = \"\".concat(Conf.api.hadesRest), serviceId = 'news', apiURL = serviceId === 'news' ? \"\".concat(hadesRest, \"/pc_photo_tv\") : \"\".concat(hadesRest, \"/pc_entertain_photo_tv\"); var thumbStyle = serviceId === 'news' ? 'width: 144px; height: 140px;' : 'width: 144px; height: 139px;'; axios.get(apiURL).then(function (res) { var data = res.data.body.data; if (_.isEmpty(data)) { removeLayer(); return; } photoTvList.innerHTML = data.map(function (_ref) { var link = _ref.link, title = _ref.title, image = _ref.image, label = _ref.label; if (label === 'photo') { return _.template(PHOTO_TPL)({ link: link, title: title, image: image, thumbStyle: thumbStyle }); } else { /* 'vod' */ return _.template(TV_TPL)({ link: link, title: title, image: image, thumbStyle: thumbStyle }); } }).join(''); photoTvLayer.classList.remove('hide'); }).catch(function (error) { console.error('[포토&TV]:', error); removeLayer(); }); } function removeLayer() { photoTvLayer.parentNode.removeChild(photoTvLayer); } function isIEVersionBelowNine() { var userAgent = navigator.userAgent.toLowerCase(); var version = parseInt(userAgent.split('msie')[1]); /* i.e parseInt(\" 9.0; windo...\") */ return userAgent.indexOf('msie') !== -1 && version <= 9; } })();</script>\n",
       "<script>\"use strict\";try{ComponentsLoader.RenderingEngineConfig.set(\"pc_realtime_news\",{torosQuery:{category:\"news\",itemid:\"20200728121101828\"}})}catch(e){console.error(e)}</script>\n",
       "<script>\"use strict\"; (function () { var issueContainer = document.body.querySelector(\".aside_issue\"); var updatedDate = issueContainer.querySelector(\".info_aside\"); var issueContents = issueContainer.querySelector(\".list_issue\"); axios.get(\"https://hades-cerberus.v.kakao.com/charon/pc_realtime_issue\").then(function (response) { var _response$data$body$d = response.data.body.data, updatedAt = _response$data$body$d.updatedAt, issueList = _response$data$body$d.issueList; updatedDate.innerText = \"\".concat(updatedAt, \" \\uAE30\\uC900\"); issueContents.innerHTML = issueList.map(function (_ref) { var clusterId = _ref.clusterId, title = _ref.title, image = _ref.image; return image ? \"\\n <li>\\n <a href=\\\"http://media.daum.net/issue/\".concat(clusterId, \"\\\" class=\\\"link_thumb\\\">\\n <img src=\\\"https://img1.daumcdn.net/thumb/S168x108.q70/?fname=\").concat(image, \"\\\" class=\\\"thumb_g\\\" width=\\\"84\\\" height=\\\"54\\\" alt=\\\"\\\" />\\n </a>\\n <div class=\\\"cont_thumb\\\">\\n <strong class=\\\"tit_thumb\\\">\\n <a href=\\\"http://media.daum.net/issue/\").concat(clusterId, \"\\\" class=\\\"link_txt\\\">\").concat(title, \"</a>\\n </strong>\\n </div>\\n </li>\\n \") : \"\\n <li>\\n <div class=\\\"cont_thumb\\\">\\n <strong class=\\\"tit_thumb\\\">\\n <a href=\\\"http://media.daum.net/issue/\".concat(clusterId, \"\\\" class=\\\"link_txt\\\">\").concat(title, \"</a>\\n </strong>\\n </div>\\n </li>\\n \"); }).join(''); issueContainer.classList.remove('hide'); }).catch(function (error) { issueContainer.parentNode.removeChild(issueContainer); }); })();</script>\n",
       "<script>\"use strict\"; window.daum_sfocus_adunit = 'DAU-f6a75279b'; window.daum_sfocus_cp = '33' + '_pc_media_news'; window.daum_sfocus_channel = 'harmony';</script>\n",
       "<script src=\"//keyword.ad.daum.net/script/load_sfocus.js\"></script>\n",
       "<script>\"use strict\"; (function () { var directLinkContainer = document.querySelector(\".direct_link\"); var directOpenBtn = directLinkContainer.querySelector(\".btn_fold\"); directOpenBtn.addEventListener('click', function () { directLinkContainer.classList.toggle(\"direct_open\"); }); })();</script>\n",
       "<script>\"use strict\"; window.minidaum_options = { enableLogoutRetun: true, disableTracker: true };</script>\n",
       "<script src=\"https://go.daum.net/minidaum_pc.daum\"></script>\n",
       "<script>\"use strict\"; (function () { var channel = 'harmony'; var cpId = \"33\"; var device = \"pc\"; var consumerId = \"media\"; var serviceId = \"news\"; document.querySelectorAll('.kakao_ad_area').forEach(function (adArea) { adArea.setAttribute('data-ad-param-channel', channel); adArea.setAttribute('data-ad-param-cp', \"\".concat(cpId, \"_\").concat(device, \"_\").concat(consumerId, \"_\").concat(serviceId)); }); })();</script>\n",
       "<script src=\"https://t1.daumcdn.net/adfit/static/ad.min.js\"></script>\n",
       "<script>\"use strict\"; (function () { var queryString = ''; var isTvNews = queryString && queryString.indexOf('tv_news') !== -1; var serviceId = 'news'; var headMedia = document.querySelector(\".head_media\"), wrapMinidaum = document.getElementById(\"wrapMinidaum\"), headHeight = wrapMinidaum.offsetHeight + headMedia.offsetHeight, progressBar = document.getElementById(\"barProgress\"); var mAside = document.getElementById(\"mAside\"), kakaoWrap = document.getElementById(\"kakaoWrap\"), kakaoGnb = document.getElementById(\"kakaoGnb\"), mArticle = document.getElementById(\"mArticle\"), cmNews = document.querySelector(\".cmt_news\"), adFirst = document.querySelector(\".aside_ad:first-child\"), adLast = document.querySelector(\".aside_ad:last-child\"), realtimeAsideEl = document.getElementById('realtime_aside'); /* 날개 픽스드인 경우 left 위치를 지정하기 위해 하단 실시간 검색어의 left 값을 이용. 만약 없으면 계산을 한다. */ /* 서비스별 GNB 또는 날개 플로팅 */ if (isTvNews) { window.addEventListener(\"scroll\", _.throttle(function () { floatGnb(); }, 100)); floatGnb(); } else if (serviceId === 'news') { window.addEventListener(\"resize\", _.throttle(floatWing, 100)); window.addEventListener(\"scroll\", _.throttle(function () { floatGnb(); floatWing(); }, 100)); floatGnb(); floatWing(); } else { window.addEventListener(\"scroll\", _.throttle(function () { floatGnb(); }, 100)); floatGnb(); } function floatGnb() { var scrollY = window.scrollY || window.pageYOffset; var currentScrollTop = scrollY; var documentHeight = document.body.offsetHeight; var windowHeight = window.innerHeight; if (currentScrollTop > headHeight) { var scrollPercent = 100 * currentScrollTop / (documentHeight - windowHeight); kakaoWrap.classList.add(\"header_fixed\"); progressBar.style.width = parseInt(scrollPercent, 10) + \"%\"; } else { kakaoWrap.classList.remove(\"header_fixed\"); } } function floatWing() { var scrollX = window.scrollX || window.pageXOffset; var cMainWidth = cMain.clientWidth, mArticleWidth = mArticle.clientWidth, mAsideWidth = mAside.clientWidth, asideGap = cMainWidth - mArticleWidth - mAsideWidth, cMainStyle = getComputedStyle(cMain); var leftOfRealtimeAside = null; if (realtimeAsideEl) { var clientLeftOfRealtimeAside = realtimeAsideEl.getBoundingClientRect().left; leftOfRealtimeAside = clientLeftOfRealtimeAside < 880 ? clientLeftOfRealtimeAside + scrollX : clientLeftOfRealtimeAside; } else { var cMainMarginLeft = parseInt(cMainStyle['marginLeft'], 10); leftOfRealtimeAside = mArticleWidth + asideGap + cMainMarginLeft - scrollX; } if (mArticle.offsetHeight < mAside.offsetHeight) return; cmNews.style.minHeight = '250px'; var scrollY = window.scrollY || window.pageYOffset; var topPosition = scrollY - cMain.offsetTop - 8 - adFirst.clientHeight; if (topPosition > 0) { var articleHeight = mArticle.offsetHeight - cmNews.offsetHeight; var wingHeight = mAside.offsetHeight - adLast.offsetHeight; /* 스크롤이 날개영역의 많이 본 뉴스를 넘어갔을 때 */ if (articleHeight > wingHeight + topPosition + 8) { mAside.style.position = 'fixed'; mAside.style.top = kakaoGnb.clientHeight - adFirst.offsetHeight - 74 + 'px'; mAside.style.left = leftOfRealtimeAside + 'px'; } else { mAside.style.position = 'relative'; mAside.style.top = articleHeight - wingHeight + 'px'; mAside.style.left = 'inherit'; } } else { mAside.style.position = 'static'; mAside.style.top = 'inherit'; mAside.style.left = 'inherit'; } } ; })();</script>\n",
       "<script>\"use strict\"; window.addEventListener('DOMContentLoaded', function () { var GALLERY_API = 'https://hades-cerberus.v.kakao.com/charon/pc_icon_on_image?docId='; var GALLERY_ICON_TEMPLATE = '<div class=\"direct_view\" style=\"top:<%= top %>px;width:<%= width %>px;margin-left:<%= left %>px\">\\ <a href=\"<%= url %>\" class=\"link_view\">\\ <span class=\"txt_g\"><%= title %></span>\\ <span class=\"ico_view\">\\ <span class=\"ico_newsview ico_gallery\">갤러리 이동</span>\\ </span>\\ </a>\\ </div>'; var docId = 'AOIdGDtQWV'; fetchAndAddIcon(docId); function fetchAndAddIcon(docId) { axios.get(GALLERY_API + docId).then(function (response) { var galleryInfo = response.data.body.data; if (!_.isEmpty(galleryInfo)) { addIconOnFirstImage(galleryInfo); } }); } function addIconOnFirstImage(galleryInfo) { var imgs = document.querySelectorAll('img[dmcf-mtype=\"image\"]'); imgs.forEach(function (img, index) { if (index > 0) return false; /* 첫 번째 이미지만 적용 */ if (img.querySelector('.direct_vod')) return false; /* 영상 바로보기가 있으면 패스 */ var title = galleryInfo.title, url = galleryInfo.url; var imgHeight = img.clientHeight; var imgWidth = img.clientWidth; var templateParams = { title: title, url: url, top: imgHeight - 62, width: imgWidth, left: imgWidth / 2 * -1 }; var icon = document.createElement('DIV'); var html = _.template(GALLERY_ICON_TEMPLATE)(templateParams); img.parentNode.appendChild(icon); icon.outerHTML = html; }); } });</script>\n",
       "<script src=\"//search1.daumcdn.net/search/statics/common/js/g/search_dragselection.min.js\"></script>\n",
       "<script>\"use strict\"; (function () { var service_id = \"\"; switch (\"news\") { case 'sports': service_id = 's'; break; case 'entertain': service_id = 'e'; break; default: service_id = 'n'; } var s2Imps = \"{\\\"timestamp\\\":@@timestamp@@,\\\"to\\\":\\\"20200728121101828\\\",\\\"label\\\":\\\"mediadaum_v2_user_doc_read\\\",\\\"from\\\":\\\"@@userKey@@\\\",\\\"props\\\":{\\\"service_id\\\":\\\"\".concat(service_id, \"\\\",\\\"category\\\":\\\"IT\\\",\\\"view_from\\\":\\\"others\\\",\\\"url\\\":\\\"\").concat(location.href, \"\\\" @@mediadaum_v2_user_doc_read@@}}\"); /* todo: hades s2 그래프 검증 끝나면 주석 방식으로 변경 axios.get(`${Conf.api.hadesProxy}/s2/insert?body=${encodeURIComponent(s2Imps)}`, { withCredentials: true }); */ setTimeout(function () { axios.get(\"https://api.v.daum.net/s2/insert?body=\".concat(encodeURIComponent(s2Imps)), { withCredentials: true }); }, 2000); })();</script>\n",
       "<script src=\"//t1.daumcdn.net/harmony_static/tiara/tiara.min.js\" type=\"text/javascript\"></script>\n",
       "<script>\"use strict\"; (function () { if (!window.TiaraTracker) { return; } var isSendTracker = false; var startTime = new Date(); var pageName = \"pc_news\"; var daumTopCookie = Cookies.get('DAUMTOP'); var tiaraTracker = TiaraTracker.getInstance().setSvcDomain(\"media.daum.net\").setPage(\"newsview\").trackPage(\"newsview\").setSection(\"digital\"); var pageMeta = { \"id\": \"20200728121101828\", \"type\": \"article\", \"name\": \"\\uD55C\\uBC18\\uB3C4 \\uCD5C\\uC545\\uC758 \\uBBF8\\uC138\\uBA3C\\uC9C0 \\uBC1C\\uC0DD \\uC6D0\\uC778 \\uC54C\\uACE0\\uBCF4\\uB2C8..\", \"category_id\": \"100031\", \"category\": \"digital\", \"author\": \"\\uC720\\uC6A9\\uD558\", \"author_id\": \"edmondy@seoul.co.kr\", \"provider\": \"\\uC11C\\uC6B8\\uC2E0\\uBB38\", \"provider_id\": \"33\", \"regdate\": \"2020-07-28 12:11:01\", \"plink\": \"https://media.daum.net/v/20200728121101828\", \"image\": \"https://t1.daumcdn.net/news/202007/28/seoul/20200728121101960mqsl.jpg\", \"harmony_consumer_id\": \"media\", \"media\": \"pcweb\" }; var customProps = { \"contentUniqueKey\": \"hamny-\".concat(pageMeta.id), \"docId\": \"AOIdGDtQWV\", \"harmony_consumer_id\": \"media\", \"media\": \"pcweb\", \"reg_dt\": \"2020-07-28 12:11:01\", \"reg_timestamp\": \"1595905861646\" }; var onPageShow = function onPageShow() { if (isSendTracker) return; tiaraTracker.actionKind(\"ViewContent\").pageMeta(pageMeta).customProps(customProps).track(); }; var onPageHide = function onPageHide() { if (isSendTracker) return; isSendTracker = true; var scrollHeight = document.body.scrollHeight; var scrollTop = window.scrollY; var scrollBottom = scrollHeight - scrollTop; var scrollInnerHeight = window.innerHeight; var scrollPercent = Math.round(scrollTop / (scrollHeight - scrollInnerHeight) * 100); var torosCustomProps = {}; var usage = { \"duration\": new Date().getTime() - startTime.getTime(), \"scroll_percent\": scrollPercent, \"scroll_height\": scrollHeight, \"scroll_top\": scrollTop, \"scroll_bottom\": scrollBottom, \"scroll_inner_height\": scrollInnerHeight }; if (daumTopCookie) { try { var daumTopObj = JSON.parse(daumTopCookie); if (daumTopObj.contents_unique_key === customProps.contentUniqueKey) { torosCustomProps = { \"toros_imp_id\": daumTopObj.impression_id, \"toros_file_hash_key\": daumTopObj.toros_file_hash_key, \"toros_user_id_type\": \"uuid\", \"toros_page_meta_id\": customProps.contentUniqueKey }; Cookies.remove('DAUMTOP', { path: '/', domain: '.daum.net' }); } } catch (e) {} } tiaraTracker.trackUsage().actionKind(\"UsagePage\").pageMeta(pageMeta).usage(usage).customProps(_.assignIn(customProps, torosCustomProps)).track(); }; if (\"onpagehide\" in window) { window.addEventListener(\"pageshow\", function () { return onPageShow(); }, false); window.addEventListener(\"pagehide\", function () { return onPageHide(); }, false); } else { window.addEventListener(\"load\", function () { return onPageShow(); }, false); window.addEventListener(\"unload\", function () { return onPageHide(); }, false); } document.addEventListener(\"visibilitychange\", function () { document[\"hidden\"] ? onPageHide() : onPageShow(); }, false); document.addEventListener(\"mousedown\", function (event) { var target = event.target; var component = target.closest(\"[data-cloud]\"); var element = target.closest(\"a\") || target.closest(\"button\"); if (element && component && component.contains(element)) { var clickInfo = TiaraTracker.getClickInfo(event); if (!clickInfo) return; /* 무시해야 할 클릭 버튼이거나, 자동 클릭 항목이 설정되어있지 않을 경우 null 반환하기 떄문에 체크 */ var action = clickInfo.action; var actionName = action && action.name ? action.name : \"\"; var actionKind = action && action.kind ? action.kind : \"\"; var mergedCustomProps = _.assignIn(customProps, clickInfo.customProps); var tiaraLayer = target.closest(\"[data-tiara]\"); var img = element.querySelector(\"img\"); var ordnum = 0; Array.from((tiaraLayer || component).querySelectorAll(\"a, button\")).some(function (e, idx) { if (e == element) { ordnum = idx; } }); var clickMeta = { \"layer1\": pageName, \"layer2\": component.dataset.cloud, \"layer3\": tiaraLayer ? tiaraLayer.dataset.tiara : \"\", \"click_url\": element.href || \"\", \"ordnum\": ordnum, \"copy\": element.innerText, \"image\": img ? img.src : \"\", \"posX\": event.clientX, \"posY\": event.clientY }; tiaraTracker.trackEvent(actionName).pageMeta(pageMeta).actionKind(actionKind).customProps(mergedCustomProps).click(clickMeta).track(); } }); })();</script>\n",
       "</body>\n",
       "</html>"
      ]
     },
     "execution_count": 20,
     "metadata": {},
     "output_type": "execute_result"
    }
   ],
   "source": [
    "from bs4 import BeautifulSoup\n",
    "\n",
    "# 테스트용 html 코드\n",
    "html = \"\"\"<html><body><div><span>\\\n",
    "        <a href=http://www.naver.com>naver</a>\\\n",
    "        <a href=https://www.google.com>google</a>\\\n",
    "        <a href=http://www.daum.net/>daum</a>\\\n",
    "        </span></div></body></html>\"\"\" \n",
    "# BeautifulSoup를 이용해 HTML 소스를 파싱\n",
    "soup = BeautifulSoup(d_news, 'lxml') \n",
    "soup"
   ]
  },
  {
   "cell_type": "markdown",
   "metadata": {},
   "source": [
    "**[14장: 404페이지]**"
   ]
  },
  {
   "cell_type": "code",
   "execution_count": 21,
   "metadata": {},
   "outputs": [
    {
     "name": "stdout",
     "output_type": "stream",
     "text": [
      "<!DOCTYPE html>\n",
      "<html lang=\"ko\">\n",
      " <head data-cloud-area=\"head\">\n",
      "  <meta charset=\"utf-8\"/>\n",
      "  <meta content=\"IE=edge\" http-equiv=\"X-UA-Compatible\"/>\n",
      "  <style>\n",
      "   @import url('//t1.daumcdn.net/harmony_static/cloud/page/2603111efaebe3b9879c7b3c1417b82fff251095.css');\n",
      "            @import url('//t1.daumcdn.net/harmony_static/cloud/2020/07/27/components.089a349b1002f2ce43b9.css')\n",
      "  </style>\n",
      "  <meta content=\"noindex\" name=\"robots\"/>\n",
      "  <meta content=\"AOIdGDtQWV\" property=\"mccp:docId\"/>\n",
      "  <meta content=\"다음 뉴스\" data-cloud=\"pc_html_head_meta\" property=\"og:site_name\"/>\n",
      "  <meta content=\"한반도 최악의 미세먼지 발생 원인 알고보니..\" data-cloud=\"pc_html_head_meta\" property=\"og:title\"/>\n",
      "  <meta content=\"20200728121101\" data-cloud=\"pc_html_head_meta\" property=\"og:regDate\"/>\n",
      "  <meta content=\"[서울신문]올해는 코로나19 여파로 매년 봄 한반도를 숨막히는 가스실로 만드는 고농도 미세먼지 발생일이 많지 않았다. 가을부터 이듬해 봄까지 최악의 대기질을 만드는 초미세먼지의 원인에 대해서는 논란이 여전한 가운데 국내 연구진이 한반도 최악의 대기질을 만드는 원인을 밝혀내 주목받고 있다. 한국과학기술연구원(KIST) 환경복지연구센터 연구진은 중국발 미세먼지\" data-cloud=\"pc_html_head_meta\" property=\"og:description\"/>\n",
      "  <meta content=\"https://img1.daumcdn.net/thumb/S1200x630/?fname=https://t1.daumcdn.net/news/202007/28/seoul/20200728121101960mqsl.jpg\" data-cloud=\"pc_html_head_meta\" property=\"og:image\"/>\n",
      "  <meta content=\"1200\" data-cloud=\"pc_html_head_meta\" property=\"og:image:width\"/>\n",
      "  <meta content=\"630\" data-cloud=\"pc_html_head_meta\" property=\"og:image:height\"/>\n",
      "  <meta content=\"article\" data-cloud=\"pc_html_head_meta\" property=\"og:type\"/>\n",
      "  <meta content=\"https://news.v.daum.net/v/20200728121101828\" data-cloud=\"pc_html_head_meta\" property=\"og:url\"/>\n",
      "  <meta content=\"daumapps://web?url=https%3A%2F%2Fnews.v.daum.net/v/20200728121101828\" data-cloud=\"pc_html_head_meta\" property=\"al:android:url\"/>\n",
      "  <meta content=\"net.daum.android.daum\" data-cloud=\"pc_html_head_meta\" property=\"al:android:package\"/>\n",
      "  <meta content=\"다음앱\" data-cloud=\"pc_html_head_meta\" property=\"al:android:app_name\"/>\n",
      "  <meta content=\"daumapps://web?url=https%3A%2F%2Fnews.v.daum.net/v/20200728121101828\" data-cloud=\"pc_html_head_meta\" property=\"al:ios:url\"/>\n",
      "  <meta content=\"365494029\" data-cloud=\"pc_html_head_meta\" property=\"al:ios:app_store_id\"/>\n",
      "  <meta content=\"다음앱\" data-cloud=\"pc_html_head_meta\" property=\"al:ios:app_name\"/>\n",
      "  <meta content=\"https://img1.daumcdn.net/thumb/S1200x630/?fname=https://t1.daumcdn.net/news/202007/28/seoul/20200728121101960mqsl.jpg\" data-cloud=\"pc_html_head_meta\" property=\"twitter:image\"/>\n",
      "  <meta content=\"summary_large_image\" data-cloud=\"pc_html_head_meta\" property=\"twitter:card\"/>\n",
      "  <meta content=\"daumapps://web?url=https%3A%2F%2Fnews.v.daum.net/v/20200728121101828\" data-cloud=\"pc_html_head_meta\" property=\"twitter:app:url:googleplay\"/>\n",
      "  <meta content=\"net.daum.android.daum\" data-cloud=\"pc_html_head_meta\" property=\"twitter:app:id:googleplay\"/>\n",
      "  <meta content=\"다음앱\" data-cloud=\"pc_html_head_meta\" property=\"twitter:app:name:googleplay\"/>\n",
      "  <meta content=\"KR\" data-cloud=\"pc_html_head_meta\" property=\"twitter:app:country\"/>\n",
      "  <meta content=\"daumapps://web?url=https%3A%2F%2Fnews.v.daum.net/v/20200728121101828\" data-cloud=\"pc_html_head_meta\" property=\"twitter:app:url:iphone\"/>\n",
      "  <meta content=\"365494029\" data-cloud=\"pc_html_head_meta\" property=\"twitter:app:id:iphone\"/>\n",
      "  <meta content=\"다음앱\" data-cloud=\"pc_html_head_meta\" property=\"twitter:app:name:iphone\"/>\n",
      "  <meta content=\"daumapps://web?url=https%3A%2F%2Fnews.v.daum.net/v/20200728121101828\" data-cloud=\"pc_html_head_meta\" property=\"twitter:app:url:ipad\"/>\n",
      "  <meta content=\"365494029\" data-cloud=\"pc_html_head_meta\" property=\"twitter:app:id:ipad\"/>\n",
      "  <meta content=\"다음앱\" data-cloud=\"pc_html_head_meta\" property=\"twitter:app:name:ipad\"/>\n",
      "  <meta content=\"news\" data-cloud=\"pc_html_head_meta\" property=\"dg:uoc:svc\"/>\n",
      "  <meta content=\"AOIdGDtQWV\" data-cloud=\"pc_html_head_meta\" property=\"dg:uoc:uid\"/>\n",
      "  <meta content=\"article\" data-cloud=\"pc_html_head_meta\" property=\"dg:uoc:sc\"/>\n",
      "  <meta content=\"https://news.v.daum.net/v/20200728121101828\" data-cloud=\"pc_html_head_meta\" property=\"dg:uoc:pcUrl\"/>\n",
      "  <meta content=\"https://news.v.daum.net/v/20200728121101828?f=m\" data-cloud=\"pc_html_head_meta\" property=\"dg:uoc:mUrl\"/>\n",
      "  <meta content=\"news.daum.net\" data-cloud=\"pc_html_head_meta\" name=\"svcdomain\"/>\n",
      "  <meta content=\"20200728121101\" data-cloud=\"pc_html_head_meta\" property=\"article:published_time\"/>\n",
      "  <meta content=\"https://news.v.daum.net/v/20200728121101828\" data-cloud=\"pc_html_head_meta\" name=\"plink\"/>\n",
      "  <meta content=\"https://news.v.daum.net/v/20200728121101828\" data-cloud=\"pc_html_head_meta\" property=\"article:txid\"/>\n",
      "  <meta content=\"서울신문\" data-cloud=\"pc_html_head_meta\" name=\"article:media_name\"/>\n",
      "  <meta content=\"다음 뉴스\" data-cloud=\"pc_html_head_meta\" name=\"article:service_name\"/>\n",
      "  <meta content=\"https://news.v.daum.net/v/20200728121101828?f=m\" data-cloud=\"pc_html_head_meta\" property=\"article:mobile_url\"/>\n",
      "  <meta content=\"https://news.v.daum.net/v/20200728121101828?f=m\" data-cloud=\"pc_html_head_meta\" property=\"article:mobile_view_url\"/>\n",
      "  <meta content=\"https://news.v.daum.net/v/20200728121101828\" data-cloud=\"pc_html_head_meta\" property=\"article:pc_url\"/>\n",
      "  <meta content=\"https://news.v.daum.net/v/20200728121101828\" data-cloud=\"pc_html_head_meta\" property=\"article:pc_view_url\"/>\n",
      "  <meta content=\"https://v.kakao.com/v/20200728121101828\" data-cloud=\"pc_html_head_meta\" property=\"article:talk_channel_view_url\"/>\n",
      "  <meta content=\"http://m.media.daum.net/\" data-cloud=\"pc_html_head_meta\" property=\"article:mobile_service_home\"/>\n",
      "  <meta content=\"http://media.daum.net/\" data-cloud=\"pc_html_head_meta\" property=\"article:pc_service_home\"/>\n",
      "  <meta content=\"always\" name=\"referrer\"/>\n",
      "  <title>\n",
      "   한반도 최악의 미세먼지 발생 원인 알고보니..\n",
      "  </title>\n",
      "  <link href=\"//m2.daumcdn.net/img-media/2010ci/Daum_favicon.ico\" rel=\"shortcut icon\"/>\n",
      " </head>\n",
      " <body class=\"\">\n",
      "  <div id=\"kakaoIndex\">\n",
      "   <a href=\"#kakaoBody\">\n",
      "    본문 바로가기\n",
      "   </a>\n",
      "   <a href=\"#kakaoGnb\">\n",
      "    메뉴 바로가기\n",
      "   </a>\n",
      "  </div>\n",
      "  <div class=\"newsview_media\" id=\"kakaoWrap\">\n",
      "   <div data-cloud-area=\"header\" id=\"kakaoHead\" role=\"banner\">\n",
      "    <div class=\"browser_upgrade hide\" data-cloud=\"pc_ie_upgrade_popup\">\n",
      "     <div class=\"inner_upgrade\">\n",
      "      <span class=\"ico_newsview ico_noti\">\n",
      "      </span>\n",
      "      <span class=\"desc_upgrade\">\n",
      "       본 사이트는 최신 브라우저 환경에 최적화되어 있습니다. 최신 브라우저로\n",
      "       <a class=\"link_upgrade\" href=\"https://support.microsoft.com/ko-kr/help/17621\">\n",
      "        업그레이드\n",
      "       </a>\n",
      "       하여 주시기 바랍니다.\n",
      "      </span>\n",
      "      <button class=\"btn_close\" type=\"button\">\n",
      "       <span class=\"ico_newsview ico_close\">\n",
      "        닫기\n",
      "       </span>\n",
      "      </button>\n",
      "     </div>\n",
      "    </div>\n",
      "    <div class=\"head_media\" data-cloud=\"pc_news_header_gnb\">\n",
      "     <h1>\n",
      "      <a class=\"link_daum\" href=\"https://www.daum.net/\">\n",
      "       <img alt=\"Daum\" class=\"thumb_g\" height=\"19\" src=\"//t1.daumcdn.net/media/news/news2016/retina/logo_daum.jpg\" width=\"45\"/>\n",
      "      </a>\n",
      "      <a href=\"https://news.daum.net/\" id=\"kakaoServiceLogo\">\n",
      "       <span class=\"ir_wa\">\n",
      "        뉴스\n",
      "       </span>\n",
      "      </a>\n",
      "     </h1>\n",
      "     <strong class=\"screen_out\">\n",
      "      관련서비스\n",
      "     </strong>\n",
      "     <ul id=\"kakaoRelServices\">\n",
      "      <li>\n",
      "       <a class=\"link_services link_services1\" href=\"https://entertain.daum.net/\">\n",
      "        <span class=\"ir_wa\">\n",
      "         연예\n",
      "        </span>\n",
      "       </a>\n",
      "      </li>\n",
      "      <li>\n",
      "       <a class=\"link_services link_services2\" href=\"https://sports.media.daum.net/sports/\">\n",
      "        <span class=\"ir_wa\">\n",
      "         스포츠\n",
      "        </span>\n",
      "       </a>\n",
      "      </li>\n",
      "     </ul>\n",
      "     <h2 class=\"screen_out\">\n",
      "      검색\n",
      "     </h2>\n",
      "     <div class=\"search_news\" id=\"search_news\">\n",
      "      <form action=\"https://search.daum.net/search\" id=\"kakaoSearch\" method=\"get\" name=\"kakaoSearch\">\n",
      "       <fieldset class=\"fld_inside\">\n",
      "        <legend class=\"screen_out\">\n",
      "         검색어 입력폼\n",
      "        </legend>\n",
      "        <div class=\"box_searchbar\">\n",
      "         <label class=\"lab_search\" for=\"qVal\">\n",
      "          통합검색\n",
      "         </label>\n",
      "         <input name=\"nil_profile\" type=\"hidden\" value=\"search\"/>\n",
      "         <input name=\"nil_src\" type=\"hidden\" value=\"media\"/>\n",
      "         <input name=\"DA\" type=\"hidden\" value=\"23A\"/>\n",
      "         <input name=\"rtmaxcoll\" type=\"hidden\" value=\"NNS\"/>\n",
      "         <input autocomplete=\"off\" class=\"tf_keyword\" id=\"qVal\" name=\"q\" spellcheck=\"false\" title=\"검색어 입력\" type=\"text\" value=\"\"/>\n",
      "         <button class=\"btn_search\" id=\"kakaoBtnSearch\" type=\"submit\">\n",
      "          <span class=\"ir_wa\">\n",
      "           검색\n",
      "          </span>\n",
      "         </button>\n",
      "        </div>\n",
      "       </fieldset>\n",
      "       <div class=\"wrap_suggestBox\" id=\"wrap_suggestBox\">\n",
      "        <div class=\"suggestBox box_sub\" id=\"suggestBox\">\n",
      "         <div class=\"baseBox bg\" style=\"display: none\">\n",
      "         </div>\n",
      "        </div>\n",
      "       </div>\n",
      "      </form>\n",
      "     </div>\n",
      "    </div>\n",
      "    <div data-cloud=\"pc_news_header_gnb\" id=\"kakaoGnb\" role=\"navigation\">\n",
      "     <div class=\"inner_gnb\">\n",
      "      <h2 class=\"screen_out\">\n",
      "       뉴스 메인메뉴\n",
      "      </h2>\n",
      "      <ul class=\"gnb_comm\" data-category=\"digital\">\n",
      "       <li class=\"home\">\n",
      "        <a class=\"link_gnb link_gnb1\" href=\"//news.daum.net/\">\n",
      "         <span class=\"ir_wa\">\n",
      "          홈\n",
      "         </span>\n",
      "         <span class=\"bar_gnb\">\n",
      "          <span class=\"inner_bar\">\n",
      "          </span>\n",
      "         </span>\n",
      "        </a>\n",
      "       </li>\n",
      "       <li class=\"society\">\n",
      "        <a class=\"link_gnb link_gnb2\" href=\"//news.daum.net/society/\">\n",
      "         <span class=\"ir_wa\">\n",
      "          사회\n",
      "         </span>\n",
      "         <span class=\"bar_gnb\">\n",
      "          <span class=\"inner_bar\">\n",
      "          </span>\n",
      "         </span>\n",
      "        </a>\n",
      "       </li>\n",
      "       <li class=\"politics\">\n",
      "        <a class=\"link_gnb link_gnb3\" href=\"//news.daum.net/politics/\">\n",
      "         <span class=\"ir_wa\">\n",
      "          정치\n",
      "         </span>\n",
      "         <span class=\"bar_gnb\">\n",
      "          <span class=\"inner_bar\">\n",
      "          </span>\n",
      "         </span>\n",
      "        </a>\n",
      "       </li>\n",
      "       <li class=\"economic\">\n",
      "        <a class=\"link_gnb link_gnb4\" href=\"//news.daum.net/economic/\">\n",
      "         <span class=\"ir_wa\">\n",
      "          경제\n",
      "         </span>\n",
      "         <span class=\"bar_gnb\">\n",
      "          <span class=\"inner_bar\">\n",
      "          </span>\n",
      "         </span>\n",
      "        </a>\n",
      "       </li>\n",
      "       <li class=\"foreign\">\n",
      "        <a class=\"link_gnb link_gnb5\" href=\"//news.daum.net/foreign/\">\n",
      "         <span class=\"ir_wa\">\n",
      "          국제\n",
      "         </span>\n",
      "         <span class=\"bar_gnb\">\n",
      "          <span class=\"inner_bar\">\n",
      "          </span>\n",
      "         </span>\n",
      "        </a>\n",
      "       </li>\n",
      "       <li class=\"culture\">\n",
      "        <a class=\"link_gnb link_gnb6\" href=\"//news.daum.net/culture/\">\n",
      "         <span class=\"ir_wa\">\n",
      "          문화\n",
      "         </span>\n",
      "         <span class=\"bar_gnb\">\n",
      "          <span class=\"inner_bar\">\n",
      "          </span>\n",
      "         </span>\n",
      "        </a>\n",
      "       </li>\n",
      "       <li class=\"digital\">\n",
      "        <a class=\"link_gnb link_gnb7\" href=\"//news.daum.net/digital/\">\n",
      "         <span class=\"ir_wa\">\n",
      "          IT\n",
      "         </span>\n",
      "         <span class=\"bar_gnb\">\n",
      "          <span class=\"inner_bar\">\n",
      "          </span>\n",
      "         </span>\n",
      "        </a>\n",
      "       </li>\n",
      "       <li class=\"popular\">\n",
      "        <a class=\"link_gnb link_gnb8\" href=\"//news.daum.net/ranking/popular\">\n",
      "         <span class=\"ir_wa\">\n",
      "          랭킹\n",
      "         </span>\n",
      "         <span class=\"bar_gnb\">\n",
      "          <span class=\"inner_bar\">\n",
      "          </span>\n",
      "         </span>\n",
      "        </a>\n",
      "       </li>\n",
      "       <li class=\"series editorial\">\n",
      "        <a class=\"link_gnb link_gnb9\" href=\"//news.daum.net/series\">\n",
      "         <span class=\"ir_wa\">\n",
      "          연재\n",
      "         </span>\n",
      "         <span class=\"bar_gnb\">\n",
      "          <span class=\"inner_bar\">\n",
      "          </span>\n",
      "         </span>\n",
      "        </a>\n",
      "       </li>\n",
      "       <li class=\"photo\">\n",
      "        <a class=\"link_gnb link_gnb10\" href=\"//news.daum.net/photo\">\n",
      "         <span class=\"ir_wa\">\n",
      "          포토\n",
      "         </span>\n",
      "         <span class=\"bar_gnb\">\n",
      "          <span class=\"inner_bar\">\n",
      "          </span>\n",
      "         </span>\n",
      "        </a>\n",
      "       </li>\n",
      "       <li class=\"tv\">\n",
      "        <a class=\"link_gnb link_gnb11\" href=\"//news.daum.net/tv\">\n",
      "         <span class=\"ir_wa\">\n",
      "          TV\n",
      "         </span>\n",
      "         <span class=\"bar_gnb\">\n",
      "          <span class=\"inner_bar\">\n",
      "          </span>\n",
      "         </span>\n",
      "        </a>\n",
      "       </li>\n",
      "      </ul>\n",
      "      <div class=\"gnb_etc\">\n",
      "       <ul class=\"gnb_with\">\n",
      "        <li>\n",
      "         <a class=\"link_gnb link_gnb1\" href=\"//news.daum.net/1boon\">\n",
      "          <span class=\"ir_wa\">\n",
      "           1boon\n",
      "          </span>\n",
      "         </a>\n",
      "        </li>\n",
      "        <li>\n",
      "         <a class=\"link_gnb link_gnb2\" href=\"//gallery.v.daum.net/p/home\">\n",
      "          <span class=\"ir_wa\">\n",
      "           갤러리\n",
      "          </span>\n",
      "          <span class=\"bar_gnb\">\n",
      "           <span class=\"inner_bar\">\n",
      "           </span>\n",
      "          </span>\n",
      "         </a>\n",
      "        </li>\n",
      "       </ul>\n",
      "       <div class=\"gnb_weather\">\n",
      "        <strong class=\"screen_out\">\n",
      "         날씨 정보\n",
      "        </strong>\n",
      "        <div id=\"gnb_weather\">\n",
      "         <ul class=\"list_weather\" data-nightyn=\"N\">\n",
      "         </ul>\n",
      "        </div>\n",
      "       </div>\n",
      "      </div>\n",
      "     </div>\n",
      "    </div>\n",
      "    <div class=\"bar_progress\" data-cloud=\"pc_news_header_gnb\" id=\"barProgress\">\n",
      "    </div>\n",
      "   </div>\n",
      "   <div id=\"dummyKakaoGnb\" style=\"height:137px; display:none;\">\n",
      "   </div>\n",
      "   <hr class=\"hide\"/>\n",
      "   <div class=\"cont_view\" id=\"kakaoContent\" role=\"main\">\n",
      "    <h2 class=\"screen_out\" id=\"kakaoBody\">\n",
      "     IT\n",
      "    </h2>\n",
      "    <div data-cloud-area=\"title\" id=\"cSub\">\n",
      "     <div class=\"head_view\" data-cloud=\"pc_article_title\">\n",
      "      <em class=\"info_cp\">\n",
      "       <a class=\"link_cp\" href=\"http://www.seoul.co.kr/\" target=\"_blank\">\n",
      "        <img alt=\"서울신문\" class=\"thumb_g\" src=\"https://t1.daumcdn.net/media/news/news2016/cp/cp_seoul.gif\"/>\n",
      "       </a>\n",
      "      </em>\n",
      "      <h3 class=\"tit_view\" data-translation=\"true\">\n",
      "       한반도 최악의 미세먼지 발생 원인 알고보니..\n",
      "      </h3>\n",
      "      <span class=\"info_view\">\n",
      "       <span class=\"txt_info\">\n",
      "        유용하\n",
      "       </span>\n",
      "       <span class=\"txt_info\">\n",
      "        입력\n",
      "        <span class=\"num_date\">\n",
      "         2020.07.28. 12:11\n",
      "        </span>\n",
      "       </span>\n",
      "       <button class=\"emph_g2 link_cmt\" id=\"alexCounter\">\n",
      "        댓글\n",
      "        <span class=\"alex-count-area\">\n",
      "         0\n",
      "        </span>\n",
      "        개\n",
      "       </button>\n",
      "      </span>\n",
      "      <div class=\"util_view\">\n",
      "       <div class=\"btn_util util_summary\">\n",
      "        <button aria-expanded=\"false\" class=\"btn_summary\" type=\"button\">\n",
      "         <span class=\"ico_newsview\">\n",
      "          자동요약\n",
      "         </span>\n",
      "        </button>\n",
      "        <div class=\"wrap_setlayer\">\n",
      "         <div class=\"layer_util layer_summary\">\n",
      "          <p>\n",
      "           올해는 코로나19 여파로 매년 봄 한반도를 숨막히는 가스실로 만드는 고농도 미세먼지 발생일이 많지 않았다.\n",
      "          </p>\n",
      "          <p>\n",
      "           가을부터 이듬해 봄까지 최악의 대기질을 만드는 초미세먼지의 원인에 대해서는 논란이 여전한 가운데 국내 연구진이 한반도 최악의 대기질을 만드는 원인을 밝혀내 주목받고 있다.\n",
      "          </p>\n",
      "          <span class=\"info_summary\">\n",
      "           <span class=\"ico_newsview\">\n",
      "           </span>\n",
      "           기사 제목과 주요 문장을 기반으로 자동요약한 결과입니다. 전체 맥락을 이해하기 위해서는 본문 보기를 권장합니다.\n",
      "          </span>\n",
      "         </div>\n",
      "        </div>\n",
      "       </div>\n",
      "       <div class=\"btn_util tts_btn\">\n",
      "        <button aria-expanded=\"false\" class=\"btn_set btn_tts\" type=\"button\">\n",
      "         <span class=\"ico_newsview ico_speak\">\n",
      "          음성 기사 듣기\n",
      "         </span>\n",
      "        </button>\n",
      "        <div class=\"wrap_setlayer\">\n",
      "         <div class=\"layer_util layer_set layer_tts\">\n",
      "          <strong class=\"screen_out\">\n",
      "           음성 기사 옵션 조절 레이어\n",
      "          </strong>\n",
      "          <ul class=\"list_set list_tts\">\n",
      "           <li>\n",
      "            <input class=\"screen_out\" id=\"ttsGenderMale\" name=\"ttsGender\" type=\"radio\" value=\"Male\"/>\n",
      "            <label class=\"lab_set\" for=\"ttsGenderMale\">\n",
      "             <span class=\"ico_newsview\">\n",
      "             </span>\n",
      "             남성\n",
      "            </label>\n",
      "           </li>\n",
      "           <li>\n",
      "            <input class=\"screen_out\" id=\"ttsGenderFemale\" name=\"ttsGender\" type=\"radio\" value=\"Female\"/>\n",
      "            <label class=\"lab_set\" for=\"ttsGenderFemale\">\n",
      "             <span class=\"ico_newsview\">\n",
      "             </span>\n",
      "             여성\n",
      "            </label>\n",
      "           </li>\n",
      "          </ul>\n",
      "          <ul class=\"list_set list_tts list_ttsspeed\">\n",
      "           <li>\n",
      "            <input class=\"screen_out\" id=\"ttsSpeedSlow\" name=\"ttsSpeed\" type=\"radio\" value=\"slow\"/>\n",
      "            <label class=\"lab_set\" for=\"ttsSpeedSlow\">\n",
      "             <span class=\"ico_newsview\">\n",
      "             </span>\n",
      "             느림\n",
      "            </label>\n",
      "           </li>\n",
      "           <li>\n",
      "            <input class=\"screen_out\" id=\"ttsSpeedNormal\" name=\"ttsSpeed\" type=\"radio\" value=\"normal\"/>\n",
      "            <label class=\"lab_set\" for=\"ttsSpeedNormal\">\n",
      "             <span class=\"ico_newsview\">\n",
      "             </span>\n",
      "             보통\n",
      "            </label>\n",
      "           </li>\n",
      "           <li>\n",
      "            <input class=\"screen_out\" id=\"ttsSpeedFast\" name=\"ttsSpeed\" type=\"radio\" value=\"fast\"/>\n",
      "            <label class=\"lab_set\" for=\"ttsSpeedFast\">\n",
      "             <span class=\"ico_newsview\">\n",
      "             </span>\n",
      "             빠름\n",
      "            </label>\n",
      "           </li>\n",
      "          </ul>\n",
      "         </div>\n",
      "        </div>\n",
      "        <audio id=\"ttsPlayer\" preload=\"none\" style=\"display:none\">\n",
      "        </audio>\n",
      "       </div>\n",
      "       <div class=\"btn_util translate_btn\">\n",
      "        <button aria-expanded=\"false\" class=\"btn_set btn_translate #util #translate #set\" type=\"button\">\n",
      "         <span class=\"ico_newsview\">\n",
      "          번역 설정\n",
      "         </span>\n",
      "        </button>\n",
      "        <div class=\"wrap_translatelayer\">\n",
      "         <div class=\"layer_util layer_translate\">\n",
      "          <strong class=\"tit_translate\">\n",
      "           번역\n",
      "           <span class=\"ico_newsview\">\n",
      "            beta\n",
      "           </span>\n",
      "          </strong>\n",
      "          <p class=\"desc_translate txt_newsview\">\n",
      "           Translated by\n",
      "           <a class=\"link_kakaoi #util #translate #kakaoi_link\" href=\"https://kakao.ai/\" target=\"_blank\">\n",
      "            kakao i\n",
      "           </a>\n",
      "          </p>\n",
      "          <strong class=\"screen_out\">\n",
      "           번역할 언어 선택\n",
      "          </strong>\n",
      "          <ul class=\"list_lang\">\n",
      "           <li>\n",
      "            <button class=\"btn_lang btn_en #util #translate #lang_en\" name=\"en\">\n",
      "             <span class=\"ico_newsview ico_flag\">\n",
      "             </span>\n",
      "             <strong class=\"ico_newsview tit_lang\">\n",
      "              English\n",
      "             </strong>\n",
      "            </button>\n",
      "           </li>\n",
      "           <li>\n",
      "            <button class=\"btn_lang btn_ch #util #translate #lang_cn\" name=\"cn\" type=\"button\">\n",
      "             <span class=\"ico_newsview ico_flag\">\n",
      "             </span>\n",
      "             <strong class=\"ico_newsview tit_lang\">\n",
      "              简体中文\n",
      "             </strong>\n",
      "            </button>\n",
      "           </li>\n",
      "           <li>\n",
      "            <button class=\"btn_lang btn_jp #util #translate #lang_jp\" name=\"jp\" type=\"button\">\n",
      "             <span class=\"ico_newsview ico_flag\">\n",
      "             </span>\n",
      "             <strong class=\"ico_newsview tit_lang\">\n",
      "              日本語\n",
      "             </strong>\n",
      "            </button>\n",
      "           </li>\n",
      "           <li>\n",
      "            <button class=\"btn_lang btn_ind #util #translate #lang_id\" name=\"id\" type=\"button\">\n",
      "             <span class=\"ico_newsview ico_flag\">\n",
      "             </span>\n",
      "             <strong class=\"ico_newsview tit_lang\">\n",
      "              Bahasa Indonesia\n",
      "             </strong>\n",
      "            </button>\n",
      "           </li>\n",
      "           <li>\n",
      "            <button class=\"btn_lang btn_viet #util #translate #lang_vi\" name=\"vi\" type=\"button\">\n",
      "             <span class=\"ico_newsview ico_flag\">\n",
      "             </span>\n",
      "             <strong class=\"ico_newsview tit_lang\">\n",
      "              tiếng Việt\n",
      "             </strong>\n",
      "            </button>\n",
      "           </li>\n",
      "           <li>\n",
      "            <button class=\"btn_lang btn_ko #util #translate #lang_kr\" name=\"kr\" type=\"button\">\n",
      "             <span class=\"ico_newsview ico_flag\">\n",
      "             </span>\n",
      "             <strong class=\"ico_newsview tit_lang\">\n",
      "              한국어\n",
      "             </strong>\n",
      "            </button>\n",
      "           </li>\n",
      "          </ul>\n",
      "         </div>\n",
      "        </div>\n",
      "       </div>\n",
      "       <div class=\"btn_util share_btn\">\n",
      "        <button aria-expanded=\"false\" class=\"btn_set btn_share\" id=\"rSocialShareButton\">\n",
      "         <span class=\"ico_newsview\">\n",
      "          공유\n",
      "         </span>\n",
      "        </button>\n",
      "        <div id=\"rSocialShareLayerContainer\">\n",
      "        </div>\n",
      "       </div>\n",
      "       <div class=\"font_btn btn_util\">\n",
      "        <button aria-expanded=\"false\" class=\"btn_set btn_font\" type=\"button\">\n",
      "         <span class=\"ico_newsview ico_font\">\n",
      "          글씨크기 조절하기\n",
      "         </span>\n",
      "        </button>\n",
      "        <div class=\"wrap_setlayer\">\n",
      "         <div class=\"layer_util layer_set layer_font\">\n",
      "          <strong class=\"screen_out\">\n",
      "           글자 크기 조절 레이어\n",
      "          </strong>\n",
      "          <ul class=\"list_set list_font\">\n",
      "           <li>\n",
      "            <input class=\"screen_out\" id=\"inpFont17\" name=\"inpFont\" type=\"radio\" value=\"17\"/>\n",
      "            <label class=\"lab_set lab_size0\" for=\"inpFont17\">\n",
      "             <span class=\"ico_newsview\">\n",
      "             </span>\n",
      "             <span aria-hidden=\"true\">\n",
      "              가나다라마바사\n",
      "             </span>\n",
      "             <span class=\"screen_out\">\n",
      "              매우 작은 폰트\n",
      "             </span>\n",
      "            </label>\n",
      "           </li>\n",
      "           <li>\n",
      "            <input class=\"screen_out\" id=\"inpFont18\" name=\"inpFont\" type=\"radio\" value=\"18\"/>\n",
      "            <label class=\"lab_set lab_size1\" for=\"inpFont18\">\n",
      "             <span class=\"ico_newsview\">\n",
      "             </span>\n",
      "             <span aria-hidden=\"true\">\n",
      "              가나다라마바사\n",
      "             </span>\n",
      "             <span class=\"screen_out\">\n",
      "              작은 폰트\n",
      "             </span>\n",
      "            </label>\n",
      "           </li>\n",
      "           <li>\n",
      "            <input class=\"screen_out\" id=\"inpFont19\" name=\"inpFont\" type=\"radio\" value=\"19\"/>\n",
      "            <label class=\"lab_set lab_size2\" for=\"inpFont19\">\n",
      "             <span class=\"ico_newsview\">\n",
      "             </span>\n",
      "             <span aria-hidden=\"true\">\n",
      "              가나다라마바사\n",
      "             </span>\n",
      "             <span class=\"screen_out\">\n",
      "              보통 폰트\n",
      "             </span>\n",
      "            </label>\n",
      "           </li>\n",
      "           <li>\n",
      "            <input class=\"screen_out\" id=\"inpFont20\" name=\"inpFont\" type=\"radio\" value=\"20\"/>\n",
      "            <label class=\"lab_set lab_size3\" for=\"inpFont20\">\n",
      "             <span class=\"ico_newsview\">\n",
      "             </span>\n",
      "             <span aria-hidden=\"true\">\n",
      "              가나다라마바사\n",
      "             </span>\n",
      "             <span class=\"screen_out\">\n",
      "              큰 폰트\n",
      "             </span>\n",
      "            </label>\n",
      "           </li>\n",
      "           <li>\n",
      "            <input class=\"screen_out\" id=\"inpFont21\" name=\"inpFont\" type=\"radio\" value=\"21\"/>\n",
      "            <label class=\"lab_set lab_size4\" for=\"inpFont21\">\n",
      "             <span class=\"ico_newsview\">\n",
      "             </span>\n",
      "             <span aria-hidden=\"true\">\n",
      "              가나다라마바사\n",
      "             </span>\n",
      "             <span class=\"screen_out\">\n",
      "              매우 큰 폰트\n",
      "             </span>\n",
      "            </label>\n",
      "           </li>\n",
      "          </ul>\n",
      "         </div>\n",
      "        </div>\n",
      "       </div>\n",
      "       <div class=\"btn_util\">\n",
      "        <button class=\"btn_print\" type=\"button\">\n",
      "         <span class=\"ico_newsview\">\n",
      "          인쇄하기 새창열림\n",
      "         </span>\n",
      "        </button>\n",
      "       </div>\n",
      "      </div>\n",
      "     </div>\n",
      "    </div>\n",
      "    <div id=\"cMain\">\n",
      "     <div id=\"mArticle\">\n",
      "      <div data-cloud-area=\"article\">\n",
      "       <div class=\"status_view\" data-cloud=\"pc_article_body\" id=\"translateNotice\" style=\"display:none;\">\n",
      "        <span class=\"notice_lang notice_lang_en\" style=\"display:none;\">\n",
      "         The copyright belongs to the original writer of the content, and there may be errors in machine translation results.\n",
      "        </span>\n",
      "        <span class=\"notice_lang notice_lang_cn\" style=\"display:none;\">\n",
      "         版权归内容原作者所有。机器翻译结果可能存在错误。\n",
      "        </span>\n",
      "        <span class=\"notice_lang notice_lang_jp\" style=\"display:none;\">\n",
      "         原文の著作権は原著著作者にあり、機械翻訳の結果にエラーが含まれることがあります。\n",
      "        </span>\n",
      "        <span class=\"notice_lang notice_lang_id\" style=\"display:none;\">\n",
      "         Hak cipta milik penulis asli dari konten, dan mungkin ditemukan kesalahan dalam hasil terjemahan mesin.\n",
      "        </span>\n",
      "        <span class=\"notice_lang notice_lang_vi\" style=\"display:none;\">\n",
      "         Bản quyền thuộc về tác giả gốc của nội dung và có thể có lỗi trong kết quả dịch bằng máy.\n",
      "        </span>\n",
      "       </div>\n",
      "       <div class=\"news_view\" data-cloud=\"pc_article_body\" style=\"font-size:17px\">\n",
      "        <strong class=\"summary_view\" data-translation=\"true\">\n",
      "         중국발 미세먼지만으로는 수도권 고농도 초미세먼지 불가능\n",
      "         <br/>\n",
      "         중국발 미세먼지와 국내 대기정체가 겹칠 때 최악의 대기질\n",
      "        </strong>\n",
      "        <div class=\"article_view\" data-translation-body=\"true\" id=\"harmonyContainer\">\n",
      "         <section dmcf-sid=\"ADW7uo9qSY\">\n",
      "          <p dmcf-pid=\"AD2BaLorzf\" dmcf-ptype=\"general\">\n",
      "           [서울신문]\n",
      "          </p>\n",
      "          <figure class=\"figure_frm origin_fig\" dmcf-pid=\"AFJmUS8Xsw\" dmcf-ptype=\"figure\">\n",
      "           <p class=\"link_figure\">\n",
      "            <img alt=\"중부지방의 미세먼지 농도 수준이 ‘나쁨’을 나태내고 있는 11일 서울 남산에서 바라본 도심이 뿌옇게 보이고 있다. 2020.5.11 오장환 기자 5zzang@seoul.co.kr\" class=\"thumb_g_article\" data-org-src=\"https://t1.daumcdn.net/news/202007/28/seoul/20200728121101960mqsl.jpg\" data-org-width=\"580\" dmcf-mid=\"AD50uBIOX3\" dmcf-mtype=\"image\" height=\"auto\" src=\"https://img4.daumcdn.net/thumb/R658x0.q70/?fname=https://t1.daumcdn.net/news/202007/28/seoul/20200728121101960mqsl.jpg\" width=\"658\"/>\n",
      "           </p>\n",
      "           <figcaption class=\"txt_caption default_figure\">\n",
      "            중부지방의 미세먼지 농도 수준이 ‘나쁨’을 나태내고 있는 11일 서울 남산에서 바라본 도심이 뿌옇게 보이고 있다. 2020.5.11 오장환 기자 5zzang@seoul.co.kr\n",
      "           </figcaption>\n",
      "          </figure>\n",
      "          <p dmcf-pid=\"AXQoQh7o0n\" dmcf-ptype=\"general\">\n",
      "           올해는 코로나19 여파로 매년 봄 한반도를 숨막히는 가스실로 만드는 고농도 미세먼지 발생일이 많지 않았다. 가을부터 이듬해 봄까지 최악의 대기질을 만드는 초미세먼지의 원인에 대해서는 논란이 여전한 가운데 국내 연구진이 한반도 최악의 대기질을 만드는 원인을 밝혀내 주목받고 있다.\n",
      "          </p>\n",
      "          <p dmcf-pid=\"AepJIWk1iN\" dmcf-ptype=\"general\">\n",
      "           한국과학기술연구원(KIST) 환경복지연구센터 연구진은 중국발 미세먼지 유입과 함께 국내에서 배출된 질소산화물의 상호작용이 수도권의 초미세먼지 오염을 더욱 악화시킨다고 28일 밝혔다. 이 같은 연구결과는 대기환경분야 국제학술지 ‘대기 화학 및 물리학’에 실렸다.\n",
      "          </p>\n",
      "          <p dmcf-pid=\"A6yK7be7Vb\" dmcf-ptype=\"general\">\n",
      "           고농도 초미세먼지 오염 원인으로 중국발 미세먼지가 지목받고 있지만 단순히 중국발 미세먼지 유입만으로 설명하기에는 훨씬 더 높은 경우가 많다. 이에 연구팀은 초미세먼지(PM2.5)를 측정날짜에 따라 외국 유입, 국내 대기 정체, 외국 유입과 국내 대기정체 세 가지 조건으로 분류하고 각 유형별 화학적, 열역학적 특성을 분석했다.\n",
      "          </p>\n",
      "          <p dmcf-pid=\"ADCJ8IZIq0\" dmcf-ptype=\"general\">\n",
      "           분석 결과 국내 대기정체 때 초미세먼지 농도는 1㎥ 당 34㎍이며 중국발 미세먼지가 유입될 경우는 53㎍으로 상승했다. 중국발 미세먼지에 국내 대기정체가 겹칠 경우 72㎍으로 가장 높은 농도를 보였다. 중국발 미세먼지가 유입될 경우는 그렇지 않은 경우보다 황산염, 질산염, 암모늄 같은 2차 생성 오염물질이 포함돼 있고 수분도 늘어난 것으로 확인됐다.\n",
      "          </p>\n",
      "          <p dmcf-pid=\"AWUyyBiaEc\" dmcf-ptype=\"general\">\n",
      "           질산염이나 황산염은 흡습성이 강해 입자내 수분을 증가시키는 역할을 한다. 수분이 많은 미세먼지가 수도권으로 유입되면 자동차 배기가스나 화력발전 같은 질소산화물과 만나 반응을 일으켜 다시 질산염을 늘리는 악순환이 계속돼 미세먼지 농도를 높인다는 것이다.\n",
      "          </p>\n",
      "          <p dmcf-pid=\"A9PaiQxn4N\" dmcf-ptype=\"general\">\n",
      "           연구팀은 국내 질소산화물 배출 저감을 하는 것이 중국발 미세먼지 유입시 수도권 초미세먼지 오염을 완화시킬 수 있을 것이라고 조언했다.\n",
      "          </p>\n",
      "          <p dmcf-pid=\"AxCNskCeEX\" dmcf-ptype=\"general\">\n",
      "           김진영 KIST 박사는 “이번 연구는 수도권 고농도 초미세먼지는 중국발 미세먼지가 국내 자동차와 산업시설에서 배출되는 오염물질과 결합되면서 발생한다는 것을 밝혀내 효과적인 수도권 초미세먼지 관리정책에 대한 바탕이 될 것”이라고 말했다.\n",
      "          </p>\n",
      "          <p dmcf-pid=\"ADLZUgziiH\" dmcf-ptype=\"general\">\n",
      "           유용하 기자 edmondy@seoul.co.kr\n",
      "          </p>\n",
      "         </section>\n",
      "        </div>\n",
      "       </div>\n",
      "      </div>\n",
      "      <div class=\"foot_view\" data-cloud-area=\"addition\">\n",
      "       <div class=\"relate_tag\" data-cloud=\"pc_news_cluster\">\n",
      "        <strong class=\"screen_out\">\n",
      "         관련 태그\n",
      "        </strong>\n",
      "       </div>\n",
      "       <div class=\"relate_series\" data-cloud=\"pc_news_cluster\" style=\"display:none;\">\n",
      "        <strong class=\"tit_series\">\n",
      "         <em class=\"tag_series\">\n",
      "          연재\n",
      "         </em>\n",
      "         <span class=\"title_series\">\n",
      "         </span>\n",
      "        </strong>\n",
      "        <ul class=\"list_series\">\n",
      "        </ul>\n",
      "        <a class=\"link_more\" href=\"#none\">\n",
      "         더보기\n",
      "        </a>\n",
      "       </div>\n",
      "       <div class=\"copyright_view\" data-cloud=\"pc_like_and_copylight\">\n",
      "        <span class=\"txt_copyright\">\n",
      "         Copyrightsⓒ 서울신문사. 무단 전재 및 재배포 금지\n",
      "        </span>\n",
      "        <div class=\"btn_empathy\" id=\"likeButton\">\n",
      "         <div class=\"empathy empathy_pc\" id=\"empathy_pc\">\n",
      "          <div class=\"inner_empathy uoc-icon\">\n",
      "           <a class=\"img_empathy btn_empathy uoc-button\" href=\"#none\">\n",
      "            <span class=\"img_empathy ico_heart\">\n",
      "            </span>\n",
      "            <span class=\"txt_empathy uoc-text\" style=\"display:inline-block\">\n",
      "             공감\n",
      "            </span>\n",
      "            <span class=\"num_empathy uoc-count\" style=\"display: none;\">\n",
      "            </span>\n",
      "            <span class=\"access_text screen_out\">\n",
      "             공감하기\n",
      "            </span>\n",
      "           </a>\n",
      "           <a class=\"img_empathy link_empathy uoc-best-button\" href=\"http://like.daum.net/best/daily\" target=\"_top\">\n",
      "            베스트공감 &gt;\n",
      "           </a>\n",
      "          </div>\n",
      "         </div>\n",
      "        </div>\n",
      "       </div>\n",
      "       <div class=\"cp_view\" data-cloud=\"pc_related_news\">\n",
      "        <strong class=\"tit_cp\">\n",
      "         서울신문 주요 뉴스\n",
      "         <span class=\"info_cp\">\n",
      "          해당 언론사로 연결됩니다.\n",
      "         </span>\n",
      "        </strong>\n",
      "        <ul class=\"list_relate\">\n",
      "         <li>\n",
      "          <a class=\"link_txt\" data-type=\"related\" href=\"https://www.seoul.co.kr/news/newsView.php?id=20200723500138&amp;wlog_tag3=daum_relation\" target=\"_blank\">\n",
      "           [단독] 박원순 또다른 여비서 2명도 \"이런 일 못해\"\n",
      "          </a>\n",
      "         </li>\n",
      "         <li>\n",
      "          <a class=\"link_txt\" data-type=\"related\" href=\"https://www.seoul.co.kr/news/newsView.php?id=20200727500077&amp;wlog_tag3=daum_relation\" target=\"_blank\">\n",
      "           120억 로또 당첨자, 3년만에 '20대 여성 살해'\n",
      "          </a>\n",
      "         </li>\n",
      "         <li>\n",
      "          <a class=\"link_txt\" data-type=\"related\" href=\"https://www.seoul.co.kr/news/newsView.php?id=20200721500061&amp;wlog_tag3=daum_relation\" target=\"_blank\">\n",
      "           \"생리 때까지\" 中회사 대형 성폭행 스캔들\n",
      "          </a>\n",
      "         </li>\n",
      "         <li>\n",
      "          <a class=\"link_txt\" data-type=\"related\" href=\"https://www.seoul.co.kr/news/newsView.php?id=20200721500047&amp;wlog_tag3=daum_relation\" target=\"_blank\">\n",
      "           이태임 \"남편 구속 후 홀로 육아..복귀 없을 것\"\n",
      "          </a>\n",
      "         </li>\n",
      "         <li>\n",
      "          <a class=\"link_txt\" data-type=\"related\" href=\"https://www.seoul.co.kr/news/newsView.php?id=20200727500024&amp;wlog_tag3=daum_relation\" target=\"_blank\">\n",
      "           \"데려다줄게\" 만취여성 추행 후 벌어진 일\n",
      "          </a>\n",
      "         </li>\n",
      "         <li>\n",
      "          <a class=\"link_txt\" data-type=\"related\" href=\"https://www.seoul.co.kr/news/newsView.php?id=20200727500103&amp;wlog_tag3=daum_relation\" target=\"_blank\">\n",
      "           \"돈 줄테니 저 좀 죽여주세요\"..촉탁살인 파문\n",
      "          </a>\n",
      "         </li>\n",
      "         <li>\n",
      "          <a class=\"link_txt\" data-type=\"related\" href=\"https://www.seoul.co.kr/news/newsView.php?id=20200721500108&amp;wlog_tag3=daum_relation\" target=\"_blank\">\n",
      "           \"8월 17일 임시공휴일 되면 왜 사흘간 휴무죠?\"\n",
      "          </a>\n",
      "         </li>\n",
      "         <li>\n",
      "          <a class=\"link_txt\" data-type=\"related\" href=\"https://www.seoul.co.kr/news/newsView.php?id=20200727500033&amp;wlog_tag3=daum_relation\" target=\"_blank\">\n",
      "           北김정은 둘러싼 총 든 군간부들 \"이례적 모습\"\n",
      "          </a>\n",
      "         </li>\n",
      "         <li>\n",
      "          <a class=\"link_txt\" data-type=\"related\" href=\"https://www.seoul.co.kr/news/newsView.php?id=20200724010034&amp;wlog_tag3=daum_relation\" target=\"_blank\">\n",
      "           피 묻은 흉기 옷에 쓱.. PC방 뒤집은 10대 소녀\n",
      "          </a>\n",
      "         </li>\n",
      "         <li>\n",
      "          <a class=\"link_txt\" data-type=\"related\" href=\"https://www.seoul.co.kr/news/newsView.php?id=20200709500071&amp;wlog_tag3=daum_relation\" target=\"_blank\">\n",
      "           12살 제자 아이 낳고 결혼했던 여교사 결국\n",
      "          </a>\n",
      "         </li>\n",
      "        </ul>\n",
      "       </div>\n",
      "       <div data-cloud=\"pc_article_bottom_ad\" id=\"alex-scroll-area\">\n",
      "       </div>\n",
      "       <ins class=\"kakao_ad_area recomm_ad\" data-ad-height=\"90\" data-ad-onfail=\"cmRenderFailCallBack\" data-ad-unit=\"DAN-1jezdswwiit7q\" data-ad-width=\"658\" data-cloud=\"pc_article_bottom_ad\" style=\"display:block; width: 658px; text-decoration: none; min-width: 658px;\">\n",
      "       </ins>\n",
      "       <div class=\"cmt_news cmt_view\" data-cloud=\"pc_comment\">\n",
      "        <div class=\"news_notice\" id=\"newsviewNotice\">\n",
      "        </div>\n",
      "        <div class=\"alex-area\" data-base-url=\"//comment.daum.net\" data-client-id=\"26BXAvKny5WF5Z09lr5k77Y8\" data-initial-limit=\"3\" data-is-mobile=\"false\" data-kakao-appkey=\"9076ba452fea1a434141d6b6a2c11a3c\" data-max-length=\"300\" data-page-limit=\"10\" data-post-id=\"@20200728121101828\" data-show-mask-alert=\"true\" data-sort=\"R\" data-use-attachment=\"false\" data-use-emoticon=\"true\" data-use-fold=\"true\" data-use-live-comment-mode=\"notify\" data-use-my=\"true\" data-use-official=\"true\" data-use-reply=\"true\" data-use-skin=\"newsView\" data-use-social-share=\"true\" id=\"alex-area\">\n",
      "        </div>\n",
      "       </div>\n",
      "      </div>\n",
      "     </div>\n",
      "     <div data-cloud-area=\"aside\" id=\"mAside\">\n",
      "      <ins class=\"kakao_ad_area aside_g aside_ad\" data-ad-height=\"250\" data-ad-type=\"D\" data-ad-unit=\"05d24\" data-ad-width=\"250\" data-cloud=\"pc_aside_top_ad\" style=\"display:block;width:250px;height:250px;\">\n",
      "      </ins>\n",
      "      <div class=\"aside_g aside_popular hide\" data-cloud=\"pc_popular_news\">\n",
      "       <h3 class=\"txt_newsview\">\n",
      "        많이본 뉴스\n",
      "       </h3>\n",
      "       <ul class=\"tab_aside tab_media\">\n",
      "        <li class=\"on\">\n",
      "         <a class=\"link_tab link_tab2\" href=\"#none\">\n",
      "          뉴스\n",
      "         </a>\n",
      "        </li>\n",
      "        <li class=\"\">\n",
      "         <a class=\"link_tab link_tab3\" href=\"#none\">\n",
      "          연예\n",
      "         </a>\n",
      "        </li>\n",
      "        <li class=\"\">\n",
      "         <a class=\"link_tab link_tab4\" href=\"#none\">\n",
      "          스포츠\n",
      "         </a>\n",
      "        </li>\n",
      "       </ul>\n",
      "      </div>\n",
      "      <div class=\"aside_g aside_phototv hide\" data-cloud=\"pc_news_photo_tv\">\n",
      "       <h3 class=\"txt_newsview\">\n",
      "        포토&amp;TV\n",
      "       </h3>\n",
      "       <div class=\"cont_aside\">\n",
      "        <ul class=\"list_phototv\">\n",
      "        </ul>\n",
      "       </div>\n",
      "      </div>\n",
      "      <ins class=\"kakao_ad_area aside_g aside_ad\" data-ad-height=\"250\" data-ad-type=\"D\" data-ad-unit=\"0QH44\" data-ad-width=\"250\" data-cloud=\"pc_aside_bottom_ad\" style=\"display:block;width:250px;height:250px;\">\n",
      "      </ins>\n",
      "     </div>\n",
      "    </div>\n",
      "    <div id=\"cEtc\">\n",
      "     <div class=\"realtime_view\">\n",
      "      <div class=\"inner_realtime\">\n",
      "       <div data-cloud-area=\"etc\">\n",
      "        <div data-cloud=\"pc_realtime_news\" data-cloud-key=\"TOROS_NEWS_PC\" data-cloud-ui=\"RealTimeNews\">\n",
      "        </div>\n",
      "       </div>\n",
      "       <div class=\"realtime_aside\" data-cloud-area=\"etc-aside\" id=\"realtime_aside\">\n",
      "        <div class=\"aside_g aside_issue hide\" data-cloud=\"pc_realtime_issue\">\n",
      "         <h3 class=\"txt_newsview\">\n",
      "          실시간 주요이슈\n",
      "         </h3>\n",
      "         <span class=\"info_aside\">\n",
      "         </span>\n",
      "         <div class=\"cont_aside\">\n",
      "          <ul class=\"list_issue\">\n",
      "          </ul>\n",
      "         </div>\n",
      "        </div>\n",
      "        <div class=\"shopad_news aside_g aside_shopping\" data-cloud=\"pc_shopping_ad\" id=\"daum-sfocus-root\">\n",
      "        </div>\n",
      "       </div>\n",
      "      </div>\n",
      "     </div>\n",
      "     <div data-cloud-area=\"etc-addition\">\n",
      "     </div>\n",
      "    </div>\n",
      "   </div>\n",
      "   <hr class=\"hide\"/>\n",
      "   <div class=\"footer_comm\" data-cloud-area=\"footer\" id=\"kakaoFoot\" role=\"contentinfo\">\n",
      "    <div class=\"inner_foot\" data-cloud=\"pc_news_footer\">\n",
      "     <div class=\"direct_link\">\n",
      "      <h2 class=\"tit_direct\">\n",
      "       바로가기\n",
      "      </h2>\n",
      "      <div class=\"item_bundle\">\n",
      "       <a class=\"link_txt\" href=\"https://news.daum.net/\">\n",
      "        뉴스홈\n",
      "       </a>\n",
      "       <a class=\"link_txt\" href=\"https://news.daum.net/society/\">\n",
      "        사회\n",
      "       </a>\n",
      "       <a class=\"link_txt\" href=\"https://news.daum.net/politics/\">\n",
      "        정치\n",
      "       </a>\n",
      "       <a class=\"link_txt\" href=\"https://news.daum.net/economic/\">\n",
      "        경제\n",
      "       </a>\n",
      "       <a class=\"link_txt\" href=\"https://news.daum.net/foreign/\">\n",
      "        국제\n",
      "       </a>\n",
      "       <a class=\"link_txt\" href=\"https://news.daum.net/culture/\">\n",
      "        문화\n",
      "       </a>\n",
      "       <a class=\"link_txt\" href=\"https://news.daum.net/digital/\">\n",
      "        IT\n",
      "       </a>\n",
      "       <a class=\"link_txt\" href=\"https://news.daum.net/photo/\">\n",
      "        포토\n",
      "       </a>\n",
      "       <a class=\"link_txt\" href=\"http://news.daum.net/tv/\">\n",
      "        TV\n",
      "       </a>\n",
      "      </div>\n",
      "      <div class=\"item_bundle\">\n",
      "       <a class=\"link_txt\" href=\"https://news.daum.net/issue/all\">\n",
      "        이슈\n",
      "       </a>\n",
      "      </div>\n",
      "      <div class=\"item_bundle\">\n",
      "       <a class=\"link_txt\" href=\"https://news.daum.net/cp\">\n",
      "        언론사별 뉴스\n",
      "       </a>\n",
      "      </div>\n",
      "      <div class=\"item_bundle\">\n",
      "       <a class=\"link_txt\" href=\"https://news.daum.net/newsbox\">\n",
      "        배열이력\n",
      "       </a>\n",
      "      </div>\n",
      "      <div class=\"item_bundle\">\n",
      "       <a class=\"link_txt\" href=\"https://news.daum.net/breakingnews\">\n",
      "        전체뉴스\n",
      "       </a>\n",
      "       <a class=\"link_txt\" href=\"https://news.daum.net/ranking/popular\">\n",
      "        랭킹\n",
      "       </a>\n",
      "       <a class=\"link_txt\" href=\"https://news.daum.net/series\">\n",
      "        연재\n",
      "       </a>\n",
      "       <a class=\"link_txt\" href=\"https://news.daum.net/1boon\">\n",
      "        1boon\n",
      "       </a>\n",
      "      </div>\n",
      "      <button class=\"btn_fold\" type=\"button\">\n",
      "       <span class=\"ico_news\">\n",
      "        바로가기 링크 더보기/접기\n",
      "       </span>\n",
      "      </button>\n",
      "     </div>\n",
      "     <h2 class=\"screen_out\">\n",
      "      서비스 이용정보\n",
      "     </h2>\n",
      "     <div class=\"footer_link\">\n",
      "      <a class=\"link_info\" href=\"https://news.daum.net/info/intro\">\n",
      "       다음뉴스 소개\n",
      "      </a>\n",
      "      <span class=\"txt_dot\">\n",
      "       ・\n",
      "      </span>\n",
      "      <a class=\"link_info\" href=\"https://news.daum.net/notice\">\n",
      "       공지사항\n",
      "      </a>\n",
      "      <span class=\"txt_dot\">\n",
      "       ・\n",
      "      </span>\n",
      "      <a class=\"link_info\" href=\"https://news.daum.net/info/bbsrule\">\n",
      "       게시물 운영원칙\n",
      "      </a>\n",
      "      <span class=\"txt_dot\">\n",
      "       ・\n",
      "      </span>\n",
      "      <a class=\"link_info\" href=\"http://policy.daum.net/info/info\">\n",
      "       서비스 약관/정책\n",
      "      </a>\n",
      "      <span class=\"txt_dot\">\n",
      "       ・\n",
      "      </span>\n",
      "      <a class=\"link_info\" href=\"https://with.kakao.com/media\">\n",
      "       뉴스제휴\n",
      "      </a>\n",
      "      <span class=\"txt_dot\">\n",
      "       ・\n",
      "      </span>\n",
      "      <a class=\"link_info\" href=\"https://business.kakao.com/\">\n",
      "       비즈니스\n",
      "      </a>\n",
      "      <span class=\"txt_dot\">\n",
      "       ・\n",
      "      </span>\n",
      "      <a class=\"link_info\" href=\"https://cs.daum.net/redbell/top.html\">\n",
      "       권리침해신고\n",
      "      </a>\n",
      "      <span class=\"txt_dot\">\n",
      "       ・\n",
      "      </span>\n",
      "      <a class=\"link_info\" href=\"https://cs.daum.net/faq/63.html\">\n",
      "       다음뉴스 고객센터\n",
      "      </a>\n",
      "     </div>\n",
      "     <div class=\"footer_link\">\n",
      "      <a class=\"link_info\" href=\"https://news.daum.net/info/newscenter24\">\n",
      "       24시간 뉴스센터\n",
      "      </a>\n",
      "      <span class=\"txt_dot\">\n",
      "       ・\n",
      "      </span>\n",
      "      <a class=\"link_info\" href=\"https://news.daum.net/info/edit\">\n",
      "       서비스원칙\n",
      "      </a>\n",
      "      <span class=\"txt_dot\">\n",
      "       ・\n",
      "      </span>\n",
      "      <a class=\"link_info\" href=\"https://news.daum.net/info/correct\">\n",
      "       바로잡습니다\n",
      "      </a>\n",
      "      <span class=\"txt_dot\">\n",
      "       ・\n",
      "      </span>\n",
      "      <span class=\"link_info\">\n",
      "       기사배열책임자 : 손정아\n",
      "      </span>\n",
      "      <span class=\"txt_dot\">\n",
      "       ・\n",
      "      </span>\n",
      "      <span class=\"link_info\">\n",
      "       청소년보호책임자 : 이준목\n",
      "      </span>\n",
      "     </div>\n",
      "     <div class=\"info_copyright\">\n",
      "      <strong class=\"info_warn\">\n",
      "       위 내용에 대한 저작권 및 법적 책임은 자료제공사 또는\n",
      "       <br/>\n",
      "       글쓴이에 있으며, Kakao의 입장과 다를 수 있습니다.\n",
      "      </strong>\n",
      "      <small class=\"txt_copyright\">\n",
      "       Copyright ©\n",
      "       <strong class=\"txt_kakao\">\n",
      "        <a class=\"link_kakao\" href=\"http://www.kakaocorp.com/\">\n",
      "         Kakao Corp.\n",
      "        </a>\n",
      "       </strong>\n",
      "       All rights reserved.\n",
      "      </small>\n",
      "     </div>\n",
      "    </div>\n",
      "   </div>\n",
      "   <div id=\"wrapMinidaum\">\n",
      "   </div>\n",
      "   <samp data-cloud-area=\"util\">\n",
      "   </samp>\n",
      "  </div>\n",
      "  <script src=\"//t1.daumcdn.net/harmony_static/cloud/2020/07/27/vendor.5f3285ceedc6f1b7143b.js\">\n",
      "  </script>\n",
      "  <script src=\"//t1.daumcdn.net/harmony_static/cloud/2020/07/27/common.62a3cedcf2dd802e64d0.js\">\n",
      "  </script>\n",
      "  <script src=\"//t1.daumcdn.net/harmony_static/cloud/2020/07/27/components.089a349b1002f2ce43b9.js\">\n",
      "  </script>\n",
      "  <script src=\"//t1.daumcdn.net/kas/static/ba.min.js\">\n",
      "  </script>\n",
      "  <script src=\"//m1.daumcdn.net/svc/original/U03/cssjs/userAgent/userAgent-1.0.12.min.js\">\n",
      "  </script>\n",
      "  <script>\n",
      "   \"use strict\"; (function () { if (isIEVersionBelowNine()) { var kakaoIndex = document.getElementById('kakaoIndex'); var upgradeLayer = document.querySelector('.browser_upgrade'); var closeButton = upgradeLayer.querySelector('button'); document.body.insertBefore(upgradeLayer, kakaoIndex); upgradeLayer.setAttribute('class', 'browser_upgrade'); closeButton.attachEvent('onclick', function () { upgradeLayer.setAttribute('class', 'hide'); }); } function isIEVersionBelowNine() { var userAgent = navigator.userAgent.toLowerCase(); var version = parseInt(userAgent.split('msie')[1]); /* i.e parseInt(\" 9.0; windo...\") */ return userAgent.indexOf('msie') !== -1 && version < 10; } })();\n",
      "  </script>\n",
      "  <script>\n",
      "   \"use strict\"; function _instanceof(left, right) { if (right != null && typeof Symbol !== \"undefined\" && right[Symbol.hasInstance]) { return !!right[Symbol.hasInstance](left); } else { return left instanceof right; } } function _classCallCheck(instance, Constructor) { if (!_instanceof(instance, Constructor)) { throw new TypeError(\"Cannot call a class as a function\"); } } function _defineProperties(target, props) { for (var i = 0; i < props.length; i++) { var descriptor = props[i]; descriptor.enumerable = descriptor.enumerable || false; descriptor.configurable = true; if (\"value\" in descriptor) descriptor.writable = true; Object.defineProperty(target, descriptor.key, descriptor); } } function _createClass(Constructor, protoProps, staticProps) { if (protoProps) _defineProperties(Constructor.prototype, protoProps); if (staticProps) _defineProperties(Constructor, staticProps); return Constructor; } (function () { var weatherLayer = document.querySelector('.gnb_weather'); var weatherList = weatherLayer.querySelector('ul'); var weatherApiUrl = \"\".concat(Conf.api.hadesRest, \"/pc_weather\"); axios.get(weatherApiUrl).then(function (res) { var _res$data$body$data = res.data.body.data, isNightIconYn = _res$data$body$data.isNightIconYn, weatherData = _res$data$body$data.weatherData; weatherList.dataset.nightyn = isNightIconYn; weatherList.innerHTML = weatherData.map(function (_ref) { var weatherIconCode = _ref.weatherIconCode, specialRegionName = _ref.specialRegionName, temperature = _ref.temperature; return \"\\n <li>\\n <a href=\\\"http://search.daum.net/search?nil_suggest=btn&amp;w=tot&amp;DA=SBC&amp;q=\".concat(specialRegionName, \"%20\\uB0A0\\uC528\\\" class=\\\"link_cont\\\">\\n <span class=\\\"ico_weather ico_weather\").concat(weatherIconCode, \"\\\">\").concat(specialRegionName, \"</span> \\n <span class=\\\"txt_weather\\\">\").concat(specialRegionName, \"\\n <span class=\\\"num_heat\\\">\").concat(temperature, \"</span> \\n <span class=\\\"txt_heat\\\">\\u2103</span>\\n </span>\\n </a>\\n </li>\\n \"); }).join(''); var newsTicker = new NewsTicker(weatherList); }).catch(function (error) { removeWeatherLayer(); }); var NewsTicker = /*#__PURE__*/ function () { function NewsTicker(list) { _classCallCheck(this, NewsTicker); this.PAUSE_TIME = 4000; this.TRANSITION_TIME = 500; this.list = list; this.frameId = null; this.pause = this.pause.bind(this); this.start = this.start.bind(this); this.moveUp = this.moveUp.bind(this); this.init(); this.start(); this.list.style.marginTop = '0px'; } _createClass(NewsTicker, [{ key: \"start\", value: function start() { this.frameId = setInterval(this.moveUp, this.PAUSE_TIME); } }, { key: \"pause\", value: function pause() { clearInterval(this.frameId); } }, { key: \"moveUp\", value: function moveUp() { var list = this.list; var clone = list.firstElementChild.cloneNode(true); list.classList.add('slidein'); list.style.marginTop = '-30px'; setTimeout(function () { list.classList.remove('slidein'); list.style.marginTop = '0px'; list.removeChild(list.firstElementChild); list.appendChild(clone); }, this.TRANSITION_TIME); } }, { key: \"init\", value: function init() { var list = this.list; list.addEventListener('mouseenter', this.pause); list.addEventListener('mouseleave', this.start); } }]); return NewsTicker; }(); function removeWeatherLayer() { weatherLayer.parentNode.removeChild(weatherLayer); } })();\n",
      "  </script>\n",
      "  <script>\n",
      "   \"use strict\"; (function () { var serviceParams = ''; var categoryName = serviceParams.indexOf('tv_news') > -1 ? 'tv' : 'digital'; var gnb = document.querySelector('.gnb_comm'); var currentCategory = categoryName && gnb.querySelector(\".\".concat(categoryName)); currentCategory && currentCategory.setAttribute('class', \"\".concat(categoryName, \" on\")); })();\n",
      "  </script>\n",
      "  <script src=\"https://t1.daumcdn.net/cssjs/jquery/jquery-1.9.0.min.js\">\n",
      "  </script>\n",
      "  <script src=\"https://search1.daumcdn.net/search/suggest_pc/suggest-1.2.16.min.js\">\n",
      "  </script>\n",
      "  <script>\n",
      "   \"use strict\"; (function ($) { var SUGGEST_APP_KEY = 'd7022f6ca2a04430ce1b97b922da58e8'; var searchLayer = document.getElementById('search_news'); var suggestInstance = new suggest.Suggest(document.getElementById(\"search_news\"), { inputEl: 'qVal', suggestBoxEl: 'suggestBox', autoFocus: 'NORMAL', suggestLimit: 10, isReverse: false, searchURL: 'https://search.daum.net/search', APIServer: { host: '//dapi.kakao.com/suggest/v2/pc.json', apiType: suggest.Suggest.APITYPE.DAPISUGGEST, appkey: SUGGEST_APP_KEY, queries: { 'mod': 'json', 'code': 'utf_in_out' } } }); /* 추천 검색어 마우스 클릭시 검색으로 보낸다. */ suggestInstance.on('click-item', function () { var kakaoSearch = document.getElementById('kakaoSearch'); kakaoSearch.querySelector(\"input[name='DA']\").value = '23B'; kakaoSearch.submit(); }); var queryInput = document.getElementById('qVal'); if (queryInput.addEventListener) { queryInput.addEventListener('focus', function (event) { event && event.preventDefault(); if (queryInput.value.length >= 0) { queryInput.parentNode.classList.add('search_on'); } }); queryInput.addEventListener('blur', function (event) { event && event.preventDefault(); if (queryInput.value.length === 0) { queryInput.parentNode.classList.remove('search_on'); } }); } else { /* ie */ queryInput.attachEvent('onfocus', function (event) { event && (event.preventDefault ? event.preventDefault() : event.returnValue = false); if (queryInput.value.length >= 0) { queryInput.parentNode.setAttribute('class', 'box_searchbar search_on'); } }); queryInput.attachEvent('onblur', function (event) { event && (event.preventDefault ? event.preventDefault() : event.returnValue = false); if (queryInput.value.length === 0) { queryInput.parentNode.setAttribute('class', 'box_searchbar'); } }); } })(jQuery);\n",
      "  </script>\n",
      "  <script src=\"//t1.daumcdn.net/daumtop_deco/socialshare/socialshare_nocss_pc-2.3.1.js\">\n",
      "  </script>\n",
      "  <script>\n",
      "   \"use strict\"; (function () { var paragraphs = document.body.querySelectorAll(\".layer_summary p\"); var summaryLayer = document.body.querySelector('.util_summary'); var summaryButton = summaryLayer.querySelector('.btn_summary'); var summaryLayerStatus = false; function showLayer() { summaryLayer.classList.add('layer_open'); summaryButton.setAttribute('aria-expanded', true); window.addEventListener('click', checkLayer); } function hideLayer() { summaryLayerStatus = false; summaryLayer.classList.remove('layer_open'); summaryButton.setAttribute('aria-expanded', false); } function checkLayer(e) { if (summaryButton === e.target || summaryButton.children[0] === e.target) return false; hideLayer(); window.removeEventListener('click', checkLayer); } paragraphs.forEach(function (p) { return p.classList.add(\"desc_news\"); }); summaryButton.addEventListener('click', function (e) { summaryLayerStatus = !summaryLayerStatus; summaryLayerStatus ? showLayer() : hideLayer(); }); summaryLayer.addEventListener('focusin', function (e) { showLayer(); }); summaryLayer.addEventListener('focusout', function (e) { hideLayer(); }); })();\n",
      "  </script>\n",
      "  <script>\n",
      "   \"use strict\"; function _slicedToArray(arr, i) { return _arrayWithHoles(arr) || _iterableToArrayLimit(arr, i) || _nonIterableRest(); } function _nonIterableRest() { throw new TypeError(\"Invalid attempt to destructure non-iterable instance\"); } function _iterableToArrayLimit(arr, i) { if (!(Symbol.iterator in Object(arr) || Object.prototype.toString.call(arr) === \"[object Arguments]\")) { return; } var _arr = []; var _n = true; var _d = false; var _e = undefined; try { for (var _i = arr[Symbol.iterator](), _s; !(_n = (_s = _i.next()).done); _n = true) { _arr.push(_s.value); if (i && _arr.length === i) break; } } catch (err) { _d = true; _e = err; } finally { try { if (!_n && _i[\"return\"] != null) _i[\"return\"](); } finally { if (_d) throw _e; } } return _arr; } function _arrayWithHoles(arr) { if (Array.isArray(arr)) return arr; } (function () { var ttsPlayerSrcMap = { slow_Male: \"http://k-v1.kakaocdn.net/dn/pIuBP/btqF3aJvSI8/7mkygNHpI4SeouSZpBOVRk/original.m4a\", normal_Male: \"http://k-v1.kakaocdn.net/dn/ckSPSz/btqF5A7P4cl/oIKOxCzQUXR6jXgyXy3gPK/original.m4a\", fast_Male: \"http://k-v1.kakaocdn.net/dn/caZwGQ/btqF4VklApS/4eoF4KARqykT5Js05AyvW0/original.m4a\", slow_Female: \"http://k-v1.kakaocdn.net/dn/8TgUW/btqF3bBC70y/tKmBNyJ2WPMGo8hQUx50p0/original.m4a\", normal_Female: \"http://k-v1.kakaocdn.net/dn/ilLWW/btqF4VEDJMq/U0enEZcKcMKmgoMk7zZtX0/original.m4a\", fast_Female: \"http://k-v1.kakaocdn.net/dn/lcXNW/btqF5A054iG/IFS4hicIZ9q08M3MbkL7R0/original.m4a\" }; var TTS_COOKIE_NAME = 'VIEW_TTS'; var $elements = document.body.querySelector('.tts_btn'); var ttsPlayer = $elements.querySelector('#ttsPlayer'); function ttsOptionsSourceKey() { var checkedSpeed = $elements.querySelector('input[name=ttsSpeed]:checked').value; var checkedGender = $elements.querySelector('input[name=ttsGender]:checked').value; return \"\".concat(checkedSpeed, \"_\").concat(checkedGender); } function ttsPlayerSrcSet() { var key = ttsOptionsSourceKey(); ttsPlayer.setAttribute('src', ttsPlayerSrcMap[key]); Cookies.set(TTS_COOKIE_NAME, '', { expires: -1 }); Cookies.set(TTS_COOKIE_NAME, key, { domain: '.v.daum.net', expires: new Date(new Date() * 1 + 365 * 864e+5) }); } var textLayer = $elements.querySelector('.ico_speak'); function ttsPlayerControl(control) { if (control == \"playOptions\") { ttsPlayerSrcSet(); ttsPlayer.load(); ttsPlayer.play(); textLayer.textContent = '음성 기사 정지'; } else if (control == \"play\") { ttsPlayer.load(); ttsPlayer.play(); textLayer.textContent = '음성 기사 정지'; } else { ttsPlayer[control](); textLayer.textContent = '음성 기사 듣기'; } } var btnTtsLayer = $elements; var btnTtsClick = $elements.querySelector('.btn_tts'); var ttsInputs = $elements.querySelectorAll('.list_tts input'); var subLayer = $elements.querySelector('.wrap_setlayer'); accessibleLayer({ layer: btnTtsLayer, btn: btnTtsClick, inputs: ttsInputs }); function accessibleLayer(options) { var layer = options.layer, btn = options.btn, inputs = options.inputs; var tid; var isMouseOn = false; function showLayer() { clearTimeout(tid); layer.classList.add('layer_open'); btn.setAttribute('aria-expanded', true); } function hideLayer() { layer.classList.remove('layer_open'); btn.setAttribute('aria-expanded', false); } function delayHideLayer() { tid = setTimeout(hideLayer, 1); } function checkMouseAndHideLayer() { if (!isMouseOn) delayHideLayer(); } layer.addEventListener('mouseover', function () { isMouseOn = true; showLayer(); }); layer.addEventListener('mouseleave', function () { isMouseOn = false; hideLayer(); }); btn.addEventListener('focus', showLayer); btn.addEventListener('blur', checkMouseAndHideLayer); inputs.forEach(function (input) { input.addEventListener('focus', showLayer); input.addEventListener('blur', checkMouseAndHideLayer); }); } accessibleInput({ options: $elements.querySelectorAll('.ico_newsview'), inputs: ttsInputs }); function accessibleInput(opt) { var options = opt.options, inputs = opt.inputs; options.forEach(function (option) { option.addEventListener('mouseover', function (event) { this.classList.add('ico_focused'); }); option.addEventListener('mouseleave', function (event) { this.classList.remove('ico_focused'); }); }); inputs.forEach(function (input) { input.addEventListener('focus', function () { this.nextElementSibling.querySelector('span').classList.add('ico_focused'); }); input.addEventListener('blur', function () { this.nextElementSibling.querySelector('span').classList.remove('ico_focused'); }); }); } btnTtsClick.addEventListener('click', function (event) { btnTtsLayer.classList.toggle('on'); if (btnTtsLayer.classList.contains('on')) { ttsPlayerControl('play'); } else { ttsPlayerControl('pause'); } }); ttsPlayer.addEventListener(\"ended\", function (event) { btnTtsLayer.classList.remove('on'); }); ttsInputs.forEach(function (input) { input.addEventListener('change', function (event) { btnTtsLayer.classList.add('on'); ttsPlayerControl('playOptions'); }); }); var ttsCookieValue = Cookies.get(TTS_COOKIE_NAME); if (typeof ttsCookieValue == \"undefined\" || ttsCookieValue.includes(\"undefined\")) { subLayer.querySelector('#ttsGenderMale').checked = true; subLayer.querySelector('#ttsSpeedNormal').checked = true; } else { var _ttsCookieValue$split = ttsCookieValue.split('_'), _ttsCookieValue$split2 = _slicedToArray(_ttsCookieValue$split, 2), speed = _ttsCookieValue$split2[0], gender = _ttsCookieValue$split2[1]; speed = 'ttsSpeed' + speed.charAt(0).toUpperCase() + speed.slice(1); gender = 'ttsGender' + gender; subLayer.querySelector('#' + gender).checked = true; subLayer.querySelector('#' + speed).checked = true; } btnTtsClick.className = \"btn_set btn_tts #util #tts #p_\" + ttsOptionsSourceKey(); ttsPlayerSrcSet(); })();\n",
      "  </script>\n",
      "  <script>\n",
      "   \"use strict\"; (function () { var translatingLayers = document.createElement('DIV'); translatingLayers.innerHTML = \"\\n <div id=\\\"translatingLayer\\\" class=\\\"translate_layer\\\">\\n <div class=\\\"inner_translate_layer\\\">\\n <div class=\\\"layer_body\\\">\\n <strong class=\\\"tit_translate\\\">\\n \\uBC88\\uC5ED\\uC911 <span class=\\\"eng_tit\\\">Now in translation</span>\\n </strong>\\n </div>\\n </div>\\n </div>\\n\\n <div id=\\\"translateErrorLayer\\\" class=\\\"translate_layer\\\">\\n <div class=\\\"inner_translate_layer inner_error_layer\\\">\\n <div class=\\\"layer_body\\\">\\n <span class=\\\"ico_newsview ico_error\\\"></span>\\n <strong class=\\\"tit_translate\\\">\\n \\uC7A0\\uC2DC \\uD6C4 \\uB2E4\\uC2DC \\uC2DC\\uB3C4\\uD574 \\uC8FC\\uC138\\uC694 <span class=\\\"eng_tit\\\">Please try again in a moment</span>\\n </strong>\\n </div>\\n </div>\\n </div>\\n \"; document.body.querySelector(\"#kakaoWrap\").appendChild(translatingLayers); })();\n",
      "  </script>\n",
      "  <script>\n",
      "   \"use strict\"; function _toConsumableArray(arr) { return _arrayWithoutHoles(arr) || _iterableToArray(arr) || _nonIterableSpread(); } function _nonIterableSpread() { throw new TypeError(\"Invalid attempt to spread non-iterable instance\"); } function _iterableToArray(iter) { if (Symbol.iterator in Object(iter) || Object.prototype.toString.call(iter) === \"[object Arguments]\") return Array.from(iter); } function _arrayWithoutHoles(arr) { if (Array.isArray(arr)) { for (var i = 0, arr2 = new Array(arr.length); i < arr.length; i++) { arr2[i] = arr[i]; } return arr2; } } var dmcfLanguage = 'ko'; (function () { var $elements = document.body.querySelector('.translate_btn'); var translateButtonLayer = $elements; var translateButton = $elements.querySelector('.btn_translate'); var translateKakaoILink = $elements.querySelector('.link_kakaoi'); var translateLanguageButtons = $elements.querySelectorAll('.btn_lang'); var translatingLayer = document.body.querySelector('#translatingLayer'); var translateErrorLayer = document.body.querySelector('#translateErrorLayer'); var hostName = location.host.split('.')[0]; var kakaoWrap = document.body.querySelector(hostName !== 'movie' ? '#kakaoWrap' : '#dkWrap'); function hideAllLayers() { translatingLayer.style.display = \"none\"; translateErrorLayer.style.display = \"none\"; document.body.style.overflow = \"\"; } ; function showTranslatingLayer() { hideAllLayers(); translatingLayer.style.display = \"block\"; document.body.style.overflow = \"hidden\"; } ; function showTranslateErrorLayer() { hideAllLayers(); translateErrorLayer.style.display = \"block\"; document.body.style.overflow = \"hidden\"; } ; accessibleLayer({ layer: $elements, btn: translateButton, inputs: [translateKakaoILink].concat(_toConsumableArray(translateLanguageButtons)) }); function accessibleLayer(options) { var layer = options.layer, btn = options.btn, inputs = options.inputs; var tid; var isMouseOn = false; function showLayer() { clearTimeout(tid); layer.classList.add('layer_open'); btn.setAttribute('aria-expanded', true); } function hideLayer() { layer.classList.remove('layer_open'); btn.setAttribute('aria-expanded', false); } function delayHideLayer() { tid = setTimeout(hideLayer, 1); } function checkMouseAndHideLayer() { if (!isMouseOn) delayHideLayer(); } layer.addEventListener('mouseover', function () { isMouseOn = true; showLayer(); }); layer.addEventListener('mouseleave', function () { isMouseOn = false; hideLayer(); }); btn.addEventListener('focus', showLayer); btn.addEventListener('blur', checkMouseAndHideLayer); inputs.forEach(function (input) { input.addEventListener('focus', showLayer); input.addEventListener('blur', checkMouseAndHideLayer); }); } function onTranslate(e) { var sourceLang = \"kr\"; var targetLang = e.currentTarget.name; showTranslatingLayer(); try { HarmonyTranslator.translate(sourceLang, targetLang, onTranslateSuccess, onTranslateError); } catch (error) { console.error('번역 에러:', error); } } function onTranslateSuccess(data) { var translateNotice = document.querySelector(\"#translateNotice\"); var targetLang = data.targetLang; switch (targetLang) { case \"en\": case \"id\": kakaoWrap.classList.add(\"lang_type1\"); kakaoWrap.classList.remove(\"lang_type2\"); kakaoWrap.classList.remove(\"lang_type3\"); break; case \"cn\": case \"jp\": kakaoWrap.classList.remove(\"lang_type1\"); kakaoWrap.classList.add(\"lang_type2\"); kakaoWrap.classList.remove(\"lang_type3\"); break; case \"vi\": kakaoWrap.classList.remove(\"lang_type1\"); kakaoWrap.classList.remove(\"lang_type2\"); kakaoWrap.classList.add(\"lang_type3\"); break; default: kakaoWrap.classList.remove(\"lang_type1\"); kakaoWrap.classList.remove(\"lang_type2\"); kakaoWrap.classList.remove(\"lang_type3\"); break; } if (targetLang == \"kr\") { translateNotice.querySelectorAll(\".notice_lang\").forEach(function (notice) { notice.style.display = 'none'; }); translateNotice.style.display = 'none'; } else { translateNotice.querySelectorAll(\".notice_lang:not(.notice_lang_\".concat(targetLang, \")\")).forEach(function (notice) { notice.style.display = 'none'; }); translateNotice.querySelector(\".notice_lang.notice_lang_\".concat(targetLang)).style.display = 'block'; translateNotice.style.display = 'block'; } setTimeout(function () { hideAllLayers(); }, 500); } function onTranslateError(data, error) { showTranslateErrorLayer(); setTimeout(function () { hideAllLayers(); }, 2000); } translateLanguageButtons.forEach(function (btn) { btn.addEventListener('click', onTranslate); }); })();\n",
      "  </script>\n",
      "  <script>\n",
      "   \"use strict\"; (function () { var KAKAO_APP_KEY = '53e566aa17534bc816eb1b5d8f7415ee'; var newsId = '20200728121101828' || 'AOIdGDtQWV'; var requestUrl = \"\".concat(location.protocol, \"//\").concat(location.host, \"/v/\").concat(newsId); var titleDecoder = document.createElement(\"DIV\"); titleDecoder.innerHTML = '한반도 최악의 미세먼지 발생 원인 알고보니..'; var title = titleDecoder.textContent; var KAKAO_LINK_OG_DATA = { shareType: 'sendScrap', shareData: { requestUrl: requestUrl, templateId: 7952, installTalk: true, templateArgs: { '${EncodingUrl}': encodeURIComponent(requestUrl), '${webUrl}': requestUrl + '?f=p', '${mobileWebUrl}': requestUrl + '?f=m' } } }; var $element = document.body.querySelector(\".share_btn\"); var layerBtn = $element.firstElementChild; var layerContainer = layerBtn.nextElementSibling; var layerCloseTid = null; var testShare = new socialshareRenewal.Main(layerBtn, { moreViewContainer: layerContainer, action: 'hover', link: requestUrl, prefix: title, service_name: '다음뉴스', cafe: 'http://scrap.cafe.daum.net/_dss_/scrap?folder_id=100000&source_location_code=10&target_location_code=1&data_id=' + newsId, kakaoAPI: { appkey: KAKAO_APP_KEY, kakaoLinkData: KAKAO_LINK_OG_DATA } }); function hideLayer() { layerCloseTid = setTimeout(function () { $element.classList.remove(\"layer_open\"); layerBtn.setAttribute('aria-expanded', false); testShare.close(); }, 100); } function showLayer() { clearLayerTimeout(); $element.classList.add(\"layer_open\"); layerBtn.setAttribute('aria-expanded', true); testShare.open(); } function clearLayerTimeout() { layerCloseTid && clearTimeout(layerCloseTid); } layerBtn.addEventListener(\"mouseenter\", showLayer); layerBtn.addEventListener(\"focus\", showLayer); layerBtn.addEventListener(\"mouseleave\", hideLayer); layerBtn.addEventListener(\"blur\", hideLayer); layerContainer.addEventListener(\"mouseenter\", clearLayerTimeout); layerContainer.addEventListener(\"mouseleave\", hideLayer); layerContainer.querySelectorAll(\"a\").forEach(function (el) { el.addEventListener(\"focus\", clearLayerTimeout); el.addEventListener(\"blur\", hideLayer); }); })();\n",
      "  </script>\n",
      "  <script>\n",
      "   \"use strict\"; (function () { window.addEventListener('load', initFontSizeUtil); function initFontSizeUtil() { var DEFAULT_FONTSIZE = 17; var FONT_COOKIE_NAME = 'GS_font_size'; var $elements = document.body.querySelector('.font_btn'); var $newsview = document.body.querySelector('.news_view'); var $listFont = $elements.querySelector('.list_font'); var fontSize = Cookies.get(FONT_COOKIE_NAME) || DEFAULT_FONTSIZE; var fontLayer = $elements; var fontBtn = $elements.querySelector('.btn_font'); var radioEls = $elements.querySelectorAll('.list_font input'); accessibleLayer({ layer: fontLayer, btn: fontBtn, inputs: radioEls }); function accessibleLayer(options) { var layer = options.layer, btn = options.btn, inputs = options.inputs; var tid; var isMouseOn = false; function showLayer() { clearTimeout(tid); layer.classList.add('layer_open'); btn.setAttribute('aria-expanded', true); } function hideLayer() { layer.classList.remove('layer_open'); btn.setAttribute('aria-expanded', false); } function delayHideLayer() { tid = setTimeout(hideLayer, 1); } function checkMouseAndHideLayer() { isMouseOn && delayHideLayer(); } layer.addEventListener('mouseover', function () { isMouseOn = true; showLayer(); }); layer.addEventListener('mouseleave', function () { isMouseOn = false; hideLayer(); }); btn.addEventListener('focus', showLayer); btn.addEventListener('blur', checkMouseAndHideLayer); inputs.forEach(function (input) { input.addEventListener('focus', showLayer); input.addEventListener('blur', checkMouseAndHideLayer); }); } accessibleInput({ options: $elements.querySelectorAll('.ico_newsview'), inputs: radioEls }); function accessibleInput(opt) { var options = opt.options, inputs = opt.inputs; options.forEach(function (option) { option.addEventListener('mouseover', function () { this.classList.add('ico_focused'); }); option.addEventListener('mouseleave', function () { this.classList.remove('ico_focused'); }); }); inputs.forEach(function (input) { input.addEventListener('focus', function () { this.nextElementSibling.querySelector('span').classList.add('ico_focused'); }); input.addEventListener('blur', function () { this.nextElementSibling.querySelector('span').classList.remove('ico_focused'); }); }); } function setFontSize(fontSize) { $newsview.style.fontSize = \"\".concat(fontSize, \"px\"); document.body.querySelector(\"#inpFont\".concat(fontSize)).checked = true; $listFont.querySelectorAll('label').forEach(function (labelEl) { return labelEl.classList.remove('on'); }); $listFont.querySelector(\"label[for=inpFont\".concat(fontSize, \"]\")).classList.add('on'); Cookies.set(FONT_COOKIE_NAME, '', { expires: -1 }); Cookies.set(FONT_COOKIE_NAME, fontSize, { domain: '.v.daum.net', expires: new Date(new Date() * 1 + 365 * 864e+5) }); } radioEls.forEach(function (el) { el.addEventListener('change', function () { setFontSize(this.value); }); }); setFontSize(fontSize); } })();\n",
      "  </script>\n",
      "  <script>\n",
      "   \"use strict\"; (function () { var printBtn = document.body.querySelector(\".btn_print\").parentNode; printBtn.addEventListener(\"click\", function (e) { e.preventDefault(); window.open('?s=print_view', 'newsPrint', 'width=750,height=550,scrollbars=yes'); }); })();\n",
      "  </script>\n",
      "  <script>\n",
      "   \"use strict\"; (function () { if (!isIEVersionBelowNine()) return; var newsContainer = document.querySelector('#harmonyContainer'); var imgs = newsContainer.querySelectorAll('img'); var imgLen = imgs.length; for (var i = 0; i < imgLen; i++) { imgs[i].setAttribute('height', '100%'); } function isIEVersionBelowNine() { var userAgent = navigator.userAgent.toLowerCase(); var isIE = userAgent.indexOf('msie') !== -1; var ieVersion = parseInt(userAgent.split('msie')[1]); var utilView = document.querySelector('.util_view'); return isIE && ieVersion <= 9; } })();\n",
      "  </script>\n",
      "  <script>\n",
      "   \"use strict\"; (function () { /* ie 9 이하 표시 안 함. */ if (isIEVersionBelowNine()) { return; } var cate = \"news\"; var selfNewsId = \"20200728121101828\"; var CLUSTER_API = \"https://hades-cerberus.v.kakao.com/charon/pc_mc2_news?cate=\".concat(cate, \"&id=\").concat(selfNewsId); var TAG_TPL = '<span class=\"tag_relate\">\\ <a class=\"emph_g link_txt\" href=\"https://media.daum.net/issue/<%= _id %>\">\\ <span class=\"txt_tag\"></span><span>이슈 · <%= title %></span>\\ </a>\\ </span>'; var SELF_NEWS_TPL = '<li class=\"on\">\\ <div class=\"inner_box\"><span class=\"link_txt\"><%= title %></span></div>\\ </li>'; var ANOTHER_NEWS_TPL = '<li>\\ <div class=\"inner_box\"><a href=\"https://news.v.daum.net/v/<%= contentId %>\" class=\"link_txt\"><%= title %></a></div>\\ </li>'; var MORE_LINK_URL = '//media.daum.net/series'; var relatedTag = document.querySelector('.relate_tag'); var relatedSeries = document.querySelector('.relate_series'); var seriesTitleEl = relatedSeries.querySelector('.title_series'); var moreLink = relatedSeries.querySelector('.link_more'); var seriesList = relatedSeries.querySelector('.list_series'); axios.get(CLUSTER_API).then(function (response) { var clusters = response.data.body.data.data; if (_.isEmpty(clusters)) return; var clusterType = clusters[0].factor.type; switch (clusterType) { case 'issuecluster': renderIssue(clusters[0]); break; case 'series': renderSeries(clusters[0]); break; default: return; } }).catch(function (error) { console.error(\"[클러스터]: 데이터를 가져오는데 실패했습니다. 에러: \", error, \"에러 데이터: \", error.response.data); }); function renderIssue(cluster) { var _id = cluster._id, title = cluster.title; relatedTag.innerHTML = _.template(TAG_TPL)({ _id: _id, title: title }); } function renderSeries(cluster) { relatedSeries.style.display = 'block'; var contents = cluster.contents, seriesId = cluster._id, seriesTitle = cluster.title; seriesTitleEl.textContent = seriesTitle; if (contents.length < 3) seriesList.classList.add('relate_series2'); seriesList.innerHTML = contents.map(function (content) { var contentId = content.contentId, title = content.title; if (contentId == selfNewsId) { return _.template(SELF_NEWS_TPL)({ title: title }); } else { return _.template(ANOTHER_NEWS_TPL)({ contentId: contentId, title: title }); } }).join(''); moreLink.setAttribute('href', MORE_LINK_URL + '/' + seriesId); } function isIEVersionBelowNine() { var userAgent = navigator.userAgent.toLowerCase(); var version = parseInt(userAgent.split('msie')[1]); /* i.e parseInt(\" 9.0; windo...\") */ return userAgent.indexOf('msie') !== -1 && version < 10; } })();\n",
      "  </script>\n",
      "  <script>\n",
      "   \"use strict\"; (function () { var likeButton = document.getElementById('likeButton'); var props = { serviceId: 'news', uid: '20200728121101828' }; if (isIEVersionBelowTen()) { likeButton.parentNode.removeChild(likeButton); } else { new window.LikePC.LikeOnPC(likeButton, props); } function isIEVersionBelowTen() { var userAgent = navigator.userAgent.toLowerCase(); var version = parseInt(userAgent.split('msie')[1]); /* i.e parseInt(\" 9.0; windo...\") */ return userAgent.indexOf('msie') !== -1 && version < 10; } })();\n",
      "  </script>\n",
      "  <script>\n",
      "   \"use strict\"; function cmRenderFailCallBack(arg1) { arg1.parentElement.removeChild(arg1); }\n",
      "  </script>\n",
      "  <script>\n",
      "   \"use strict\"; document.addEventListener('DOMContentLoaded', function () { var hadesRest = \"\".concat(Conf.api.hadesRest); var serviceNoticeId = \"3393\"; var apiUrl = hadesRest + \"/service_notice?id=\" + serviceNoticeId; var element = document.querySelector(\".news_notice\"); axios.get(apiUrl).then(function (response) { var _response$data$body$d = response.data.body.data, noticeTitle = _response$data$body$d.noticeTitle, noticeUrl = _response$data$body$d.noticeUrl; if (noticeTitle !== null) { element.innerHTML = \"<strong class=\\\"tit_notice\\\">\\uACF5\\uC9C0</strong><span class=\\\"txt_notice\\\"><a href=\\\"\".concat(noticeUrl, \"\\\" class=\\\"link_txt\\\">\").concat(noticeTitle, \"</a></span>\"); } else { element.parentNode.removeChild(element); } }).catch(function (error) { console.log(\"Fail service notice: \" + error); }); });\n",
      "  </script>\n",
      "  <script src=\"//comment.daum.net/js/latest/alex.single.min.js\">\n",
      "  </script>\n",
      "  <script>\n",
      "   \"use strict\"; (function () { var categoryName = 'digital'; window.excludeCorejs = false; window.alexConfig = { label: { emptyImage: '//i1.daumcdn.net/img-section/enter2013/liveviewer/pc_emot_co.gif' }, onLoad: function onLoad() { window.isLoadComment = true; } }; var alexArea = document.getElementById('alex-area'); var rubicsPoolRegDt = \"\"; if (rubicsPoolRegDt) { var afterOneHour = dateUtil.addMinutes(rubicsPoolRegDt.time, 60); var viewAccessTime = parseInt(Cookies.get(\"harmony_view_access_dt\"), 10); if (afterOneHour > viewAccessTime) { alexArea.setAttribute('data-sort', 'L'); } } })();\n",
      "  </script>\n",
      "  <script>\n",
      "   \"use strict\"; (function () { var popularNewsLayer = document.querySelector('.aside_popular'); var tabs = document.querySelectorAll(\".tab_aside li a\"); var serviceId = \"news\"; var tabEngName = { \"뉴스\": \"news\", \"연예\": \"entertain\", \"스포츠\": \"sports\" }; var tabInfos = { \"news\": { el: tabs[0], korName: \"뉴스\", moreLink: \"https://news.daum.net/ranking/popular/all\" }, \"entertain\": { el: tabs[1], korName: \"연예\", moreLink: \"https://entertain.daum.net/ranking/popular\" }, \"sports\": { el: tabs[2], korName: \"스포츠\", moreLink: \"https://sports.media.daum.net/sports/news/ranking\" } }; var activeTab = tabInfos[serviceId].el; var pageIndex = 1; getContents(tabInfos); tabs.forEach(function (tab) { tab.addEventListener(\"mouseover\", function (e) { return selectTab(e.target); }); tab.addEventListener(\"focus\", function (e) { return selectTab(e.target); }); }); function selectTab(tab) { if (activeTab !== tab) { var activeContents = activeTab.parentNode.querySelector(\".cont_aside\"); activeContents && activeContents.parentNode.removeChild(activeContents); activeTab.parentNode.classList.remove(\"on\"); tab.parentNode.classList.add(\"on\"); pageIndex = 1; changeContents(tab); activeTab = tab; } } function changeContents(tab) { var korName = tab.innerText; var engName = tabEngName[korName]; var moreLink = tabInfos[engName].moreLink; var contentsContainer = document.createElement(\"div\"); var contentsItems = renderedTenContentsOf(engName); contentsContainer.classList.add(\"cont_aside\"); contentsContainer.innerHTML = \"\\n <strong class=\\\"screen_out\\\">\".concat(korName, \"</strong>\\n <ol class=\\\"list_ranking\\\">\\n \").concat(contentsItems, \" \\n </ol>\\n <div class=\\\"util_aside\\\">\\n <button class=\\\"btn_slide btn_prev\\\"><span class=\\\"ico_newsview\\\">\\uC774\\uC804</span></button>\\n <button class=\\\"btn_slide btn_next\\\"><span class=\\\"ico_newsview\\\">\\uB2E4\\uC74C</span></button>\\n <a href=\").concat(moreLink, \" class=\\\"link_all\\\"><span class=\\\"txt_newsview\\\">\\uC804\\uCCB4 \\uBCF4\\uAE30</span><span class=\\\"ico_newsview\\\"></span></a>\\n </div>\\n \"); tab.parentNode.appendChild(contentsContainer); contentsContainer.querySelector(\".btn_prev\").addEventListener('click', onClick); contentsContainer.querySelector(\".btn_next\").addEventListener('click', onClick); function onClick() { var contentsItems = document.querySelector(\".cont_aside .list_ranking\"); var korName = activeTab.innerText; var engName = tabEngName[korName]; if (this.classList.contains(\"btn_prev\")) { pageIndex = pageIndex === 1 ? 3 : pageIndex - 1; } else { pageIndex = pageIndex === 3 ? 1 : pageIndex + 1; } contentsItems.innerHTML = renderedTenContentsOf(engName); } } function renderedTenContentsOf(engName) { return tabInfos[engName].contents.slice((pageIndex - 1) * 10, pageIndex * 10).map(function (item) { return \"\\n <li>\\n <em class=\\\"num_newsview num\".concat(item.index, \"\\\">\").concat(item.index, \"\\uC704</em>\\n <strong class=\\\"tit_g\\\"><a href=\\\"\").concat(item.pcLink, \"\\\" class=\\\"link_txt @\").concat(item.index, \"\\\">\").concat(item.title, \"</a></strong>\\n </li>\\n \"); }).join(''); } function getContents(tabInfos) { axios.get(\"https://hades-cerberus.v.kakao.com/charon/pc_popular_news?size=30\").then(function (response) { var popularNewsData = response.data.body.data; Object.keys(popularNewsData).forEach(function (serviceId) { tabInfos[serviceId].contents = popularNewsData[serviceId]; }); changeContents(activeTab); popularNewsLayer.classList.remove('hide'); }).catch(function (error) { popularNewsLayer.parentNode.removeChild(popularNewsLayer); }); } })();\n",
      "  </script>\n",
      "  <script>\n",
      "   \"use strict\"; (function () { var photoTvLayer = document.querySelector('.aside_phototv'); if (isIEVersionBelowNine()) { removeLayer(); return; } var PHOTO_TPL = '<li>\\ <a class=\"link_cont\" href=\"<%= link %>\">\\ <span class=\"wrap_thumb\">\\ <img alt=\"<%= title %>\" class=\"thumb_g\" style=\"<%= thumbStyle %>\" src=\"<%= image %>\"/>\\ <span class=\"ico_phototv\">\\ <span class=\"ico_newsview ico_photo\">포토</span>\\ </span>\\ </span>\\ <strong class=\"tit_thumb\"><%= title %></strong>\\ </a>\\ </li>'; var TV_TPL = '<li>\\ <a class=\"link_cont\" href=\"<%= link %>\">\\ <span class=\"wrap_thumb\">\\ <img alt=\"<%= title %>\" class=\"thumb_g\" style=\"<%= thumbStyle %>\" src=\"<%= image %>\"/>\\ <span class=\"ico_phototv\">\\ <span class=\"ico_newsview ico_vod\">영상</span>\\ </span>\\ </span>\\ <strong class=\"tit_thumb\"><%= title %></strong>\\ </a>\\ </li>'; renderPhotoTV(); function renderPhotoTV() { var photoTvList = photoTvLayer.querySelector('.list_phototv'); var hadesRest = \"\".concat(Conf.api.hadesRest), serviceId = 'news', apiURL = serviceId === 'news' ? \"\".concat(hadesRest, \"/pc_photo_tv\") : \"\".concat(hadesRest, \"/pc_entertain_photo_tv\"); var thumbStyle = serviceId === 'news' ? 'width: 144px; height: 140px;' : 'width: 144px; height: 139px;'; axios.get(apiURL).then(function (res) { var data = res.data.body.data; if (_.isEmpty(data)) { removeLayer(); return; } photoTvList.innerHTML = data.map(function (_ref) { var link = _ref.link, title = _ref.title, image = _ref.image, label = _ref.label; if (label === 'photo') { return _.template(PHOTO_TPL)({ link: link, title: title, image: image, thumbStyle: thumbStyle }); } else { /* 'vod' */ return _.template(TV_TPL)({ link: link, title: title, image: image, thumbStyle: thumbStyle }); } }).join(''); photoTvLayer.classList.remove('hide'); }).catch(function (error) { console.error('[포토&TV]:', error); removeLayer(); }); } function removeLayer() { photoTvLayer.parentNode.removeChild(photoTvLayer); } function isIEVersionBelowNine() { var userAgent = navigator.userAgent.toLowerCase(); var version = parseInt(userAgent.split('msie')[1]); /* i.e parseInt(\" 9.0; windo...\") */ return userAgent.indexOf('msie') !== -1 && version <= 9; } })();\n",
      "  </script>\n",
      "  <script>\n",
      "   \"use strict\";try{ComponentsLoader.RenderingEngineConfig.set(\"pc_realtime_news\",{torosQuery:{category:\"news\",itemid:\"20200728121101828\"}})}catch(e){console.error(e)}\n",
      "  </script>\n",
      "  <script>\n",
      "   \"use strict\"; (function () { var issueContainer = document.body.querySelector(\".aside_issue\"); var updatedDate = issueContainer.querySelector(\".info_aside\"); var issueContents = issueContainer.querySelector(\".list_issue\"); axios.get(\"https://hades-cerberus.v.kakao.com/charon/pc_realtime_issue\").then(function (response) { var _response$data$body$d = response.data.body.data, updatedAt = _response$data$body$d.updatedAt, issueList = _response$data$body$d.issueList; updatedDate.innerText = \"\".concat(updatedAt, \" \\uAE30\\uC900\"); issueContents.innerHTML = issueList.map(function (_ref) { var clusterId = _ref.clusterId, title = _ref.title, image = _ref.image; return image ? \"\\n <li>\\n <a href=\\\"http://media.daum.net/issue/\".concat(clusterId, \"\\\" class=\\\"link_thumb\\\">\\n <img src=\\\"https://img1.daumcdn.net/thumb/S168x108.q70/?fname=\").concat(image, \"\\\" class=\\\"thumb_g\\\" width=\\\"84\\\" height=\\\"54\\\" alt=\\\"\\\" />\\n </a>\\n <div class=\\\"cont_thumb\\\">\\n <strong class=\\\"tit_thumb\\\">\\n <a href=\\\"http://media.daum.net/issue/\").concat(clusterId, \"\\\" class=\\\"link_txt\\\">\").concat(title, \"</a>\\n </strong>\\n </div>\\n </li>\\n \") : \"\\n <li>\\n <div class=\\\"cont_thumb\\\">\\n <strong class=\\\"tit_thumb\\\">\\n <a href=\\\"http://media.daum.net/issue/\".concat(clusterId, \"\\\" class=\\\"link_txt\\\">\").concat(title, \"</a>\\n </strong>\\n </div>\\n </li>\\n \"); }).join(''); issueContainer.classList.remove('hide'); }).catch(function (error) { issueContainer.parentNode.removeChild(issueContainer); }); })();\n",
      "  </script>\n",
      "  <script>\n",
      "   \"use strict\"; window.daum_sfocus_adunit = 'DAU-f6a75279b'; window.daum_sfocus_cp = '33' + '_pc_media_news'; window.daum_sfocus_channel = 'harmony';\n",
      "  </script>\n",
      "  <script src=\"//keyword.ad.daum.net/script/load_sfocus.js\">\n",
      "  </script>\n",
      "  <script>\n",
      "   \"use strict\"; (function () { var directLinkContainer = document.querySelector(\".direct_link\"); var directOpenBtn = directLinkContainer.querySelector(\".btn_fold\"); directOpenBtn.addEventListener('click', function () { directLinkContainer.classList.toggle(\"direct_open\"); }); })();\n",
      "  </script>\n",
      "  <script>\n",
      "   \"use strict\"; window.minidaum_options = { enableLogoutRetun: true, disableTracker: true };\n",
      "  </script>\n",
      "  <script src=\"https://go.daum.net/minidaum_pc.daum\">\n",
      "  </script>\n",
      "  <script>\n",
      "   \"use strict\"; (function () { var channel = 'harmony'; var cpId = \"33\"; var device = \"pc\"; var consumerId = \"media\"; var serviceId = \"news\"; document.querySelectorAll('.kakao_ad_area').forEach(function (adArea) { adArea.setAttribute('data-ad-param-channel', channel); adArea.setAttribute('data-ad-param-cp', \"\".concat(cpId, \"_\").concat(device, \"_\").concat(consumerId, \"_\").concat(serviceId)); }); })();\n",
      "  </script>\n",
      "  <script src=\"https://t1.daumcdn.net/adfit/static/ad.min.js\">\n",
      "  </script>\n",
      "  <script>\n",
      "   \"use strict\"; (function () { var queryString = ''; var isTvNews = queryString && queryString.indexOf('tv_news') !== -1; var serviceId = 'news'; var headMedia = document.querySelector(\".head_media\"), wrapMinidaum = document.getElementById(\"wrapMinidaum\"), headHeight = wrapMinidaum.offsetHeight + headMedia.offsetHeight, progressBar = document.getElementById(\"barProgress\"); var mAside = document.getElementById(\"mAside\"), kakaoWrap = document.getElementById(\"kakaoWrap\"), kakaoGnb = document.getElementById(\"kakaoGnb\"), mArticle = document.getElementById(\"mArticle\"), cmNews = document.querySelector(\".cmt_news\"), adFirst = document.querySelector(\".aside_ad:first-child\"), adLast = document.querySelector(\".aside_ad:last-child\"), realtimeAsideEl = document.getElementById('realtime_aside'); /* 날개 픽스드인 경우 left 위치를 지정하기 위해 하단 실시간 검색어의 left 값을 이용. 만약 없으면 계산을 한다. */ /* 서비스별 GNB 또는 날개 플로팅 */ if (isTvNews) { window.addEventListener(\"scroll\", _.throttle(function () { floatGnb(); }, 100)); floatGnb(); } else if (serviceId === 'news') { window.addEventListener(\"resize\", _.throttle(floatWing, 100)); window.addEventListener(\"scroll\", _.throttle(function () { floatGnb(); floatWing(); }, 100)); floatGnb(); floatWing(); } else { window.addEventListener(\"scroll\", _.throttle(function () { floatGnb(); }, 100)); floatGnb(); } function floatGnb() { var scrollY = window.scrollY || window.pageYOffset; var currentScrollTop = scrollY; var documentHeight = document.body.offsetHeight; var windowHeight = window.innerHeight; if (currentScrollTop > headHeight) { var scrollPercent = 100 * currentScrollTop / (documentHeight - windowHeight); kakaoWrap.classList.add(\"header_fixed\"); progressBar.style.width = parseInt(scrollPercent, 10) + \"%\"; } else { kakaoWrap.classList.remove(\"header_fixed\"); } } function floatWing() { var scrollX = window.scrollX || window.pageXOffset; var cMainWidth = cMain.clientWidth, mArticleWidth = mArticle.clientWidth, mAsideWidth = mAside.clientWidth, asideGap = cMainWidth - mArticleWidth - mAsideWidth, cMainStyle = getComputedStyle(cMain); var leftOfRealtimeAside = null; if (realtimeAsideEl) { var clientLeftOfRealtimeAside = realtimeAsideEl.getBoundingClientRect().left; leftOfRealtimeAside = clientLeftOfRealtimeAside < 880 ? clientLeftOfRealtimeAside + scrollX : clientLeftOfRealtimeAside; } else { var cMainMarginLeft = parseInt(cMainStyle['marginLeft'], 10); leftOfRealtimeAside = mArticleWidth + asideGap + cMainMarginLeft - scrollX; } if (mArticle.offsetHeight < mAside.offsetHeight) return; cmNews.style.minHeight = '250px'; var scrollY = window.scrollY || window.pageYOffset; var topPosition = scrollY - cMain.offsetTop - 8 - adFirst.clientHeight; if (topPosition > 0) { var articleHeight = mArticle.offsetHeight - cmNews.offsetHeight; var wingHeight = mAside.offsetHeight - adLast.offsetHeight; /* 스크롤이 날개영역의 많이 본 뉴스를 넘어갔을 때 */ if (articleHeight > wingHeight + topPosition + 8) { mAside.style.position = 'fixed'; mAside.style.top = kakaoGnb.clientHeight - adFirst.offsetHeight - 74 + 'px'; mAside.style.left = leftOfRealtimeAside + 'px'; } else { mAside.style.position = 'relative'; mAside.style.top = articleHeight - wingHeight + 'px'; mAside.style.left = 'inherit'; } } else { mAside.style.position = 'static'; mAside.style.top = 'inherit'; mAside.style.left = 'inherit'; } } ; })();\n",
      "  </script>\n",
      "  <script>\n",
      "   \"use strict\"; window.addEventListener('DOMContentLoaded', function () { var GALLERY_API = 'https://hades-cerberus.v.kakao.com/charon/pc_icon_on_image?docId='; var GALLERY_ICON_TEMPLATE = '<div class=\"direct_view\" style=\"top:<%= top %>px;width:<%= width %>px;margin-left:<%= left %>px\">\\ <a href=\"<%= url %>\" class=\"link_view\">\\ <span class=\"txt_g\"><%= title %></span>\\ <span class=\"ico_view\">\\ <span class=\"ico_newsview ico_gallery\">갤러리 이동</span>\\ </span>\\ </a>\\ </div>'; var docId = 'AOIdGDtQWV'; fetchAndAddIcon(docId); function fetchAndAddIcon(docId) { axios.get(GALLERY_API + docId).then(function (response) { var galleryInfo = response.data.body.data; if (!_.isEmpty(galleryInfo)) { addIconOnFirstImage(galleryInfo); } }); } function addIconOnFirstImage(galleryInfo) { var imgs = document.querySelectorAll('img[dmcf-mtype=\"image\"]'); imgs.forEach(function (img, index) { if (index > 0) return false; /* 첫 번째 이미지만 적용 */ if (img.querySelector('.direct_vod')) return false; /* 영상 바로보기가 있으면 패스 */ var title = galleryInfo.title, url = galleryInfo.url; var imgHeight = img.clientHeight; var imgWidth = img.clientWidth; var templateParams = { title: title, url: url, top: imgHeight - 62, width: imgWidth, left: imgWidth / 2 * -1 }; var icon = document.createElement('DIV'); var html = _.template(GALLERY_ICON_TEMPLATE)(templateParams); img.parentNode.appendChild(icon); icon.outerHTML = html; }); } });\n",
      "  </script>\n",
      "  <script src=\"//search1.daumcdn.net/search/statics/common/js/g/search_dragselection.min.js\">\n",
      "  </script>\n",
      "  <script>\n",
      "   \"use strict\"; (function () { var service_id = \"\"; switch (\"news\") { case 'sports': service_id = 's'; break; case 'entertain': service_id = 'e'; break; default: service_id = 'n'; } var s2Imps = \"{\\\"timestamp\\\":@@timestamp@@,\\\"to\\\":\\\"20200728121101828\\\",\\\"label\\\":\\\"mediadaum_v2_user_doc_read\\\",\\\"from\\\":\\\"@@userKey@@\\\",\\\"props\\\":{\\\"service_id\\\":\\\"\".concat(service_id, \"\\\",\\\"category\\\":\\\"IT\\\",\\\"view_from\\\":\\\"others\\\",\\\"url\\\":\\\"\").concat(location.href, \"\\\" @@mediadaum_v2_user_doc_read@@}}\"); /* todo: hades s2 그래프 검증 끝나면 주석 방식으로 변경 axios.get(`${Conf.api.hadesProxy}/s2/insert?body=${encodeURIComponent(s2Imps)}`, { withCredentials: true }); */ setTimeout(function () { axios.get(\"https://api.v.daum.net/s2/insert?body=\".concat(encodeURIComponent(s2Imps)), { withCredentials: true }); }, 2000); })();\n",
      "  </script>\n",
      "  <script src=\"//t1.daumcdn.net/harmony_static/tiara/tiara.min.js\" type=\"text/javascript\">\n",
      "  </script>\n",
      "  <script>\n",
      "   \"use strict\"; (function () { if (!window.TiaraTracker) { return; } var isSendTracker = false; var startTime = new Date(); var pageName = \"pc_news\"; var daumTopCookie = Cookies.get('DAUMTOP'); var tiaraTracker = TiaraTracker.getInstance().setSvcDomain(\"media.daum.net\").setPage(\"newsview\").trackPage(\"newsview\").setSection(\"digital\"); var pageMeta = { \"id\": \"20200728121101828\", \"type\": \"article\", \"name\": \"\\uD55C\\uBC18\\uB3C4 \\uCD5C\\uC545\\uC758 \\uBBF8\\uC138\\uBA3C\\uC9C0 \\uBC1C\\uC0DD \\uC6D0\\uC778 \\uC54C\\uACE0\\uBCF4\\uB2C8..\", \"category_id\": \"100031\", \"category\": \"digital\", \"author\": \"\\uC720\\uC6A9\\uD558\", \"author_id\": \"edmondy@seoul.co.kr\", \"provider\": \"\\uC11C\\uC6B8\\uC2E0\\uBB38\", \"provider_id\": \"33\", \"regdate\": \"2020-07-28 12:11:01\", \"plink\": \"https://media.daum.net/v/20200728121101828\", \"image\": \"https://t1.daumcdn.net/news/202007/28/seoul/20200728121101960mqsl.jpg\", \"harmony_consumer_id\": \"media\", \"media\": \"pcweb\" }; var customProps = { \"contentUniqueKey\": \"hamny-\".concat(pageMeta.id), \"docId\": \"AOIdGDtQWV\", \"harmony_consumer_id\": \"media\", \"media\": \"pcweb\", \"reg_dt\": \"2020-07-28 12:11:01\", \"reg_timestamp\": \"1595905861646\" }; var onPageShow = function onPageShow() { if (isSendTracker) return; tiaraTracker.actionKind(\"ViewContent\").pageMeta(pageMeta).customProps(customProps).track(); }; var onPageHide = function onPageHide() { if (isSendTracker) return; isSendTracker = true; var scrollHeight = document.body.scrollHeight; var scrollTop = window.scrollY; var scrollBottom = scrollHeight - scrollTop; var scrollInnerHeight = window.innerHeight; var scrollPercent = Math.round(scrollTop / (scrollHeight - scrollInnerHeight) * 100); var torosCustomProps = {}; var usage = { \"duration\": new Date().getTime() - startTime.getTime(), \"scroll_percent\": scrollPercent, \"scroll_height\": scrollHeight, \"scroll_top\": scrollTop, \"scroll_bottom\": scrollBottom, \"scroll_inner_height\": scrollInnerHeight }; if (daumTopCookie) { try { var daumTopObj = JSON.parse(daumTopCookie); if (daumTopObj.contents_unique_key === customProps.contentUniqueKey) { torosCustomProps = { \"toros_imp_id\": daumTopObj.impression_id, \"toros_file_hash_key\": daumTopObj.toros_file_hash_key, \"toros_user_id_type\": \"uuid\", \"toros_page_meta_id\": customProps.contentUniqueKey }; Cookies.remove('DAUMTOP', { path: '/', domain: '.daum.net' }); } } catch (e) {} } tiaraTracker.trackUsage().actionKind(\"UsagePage\").pageMeta(pageMeta).usage(usage).customProps(_.assignIn(customProps, torosCustomProps)).track(); }; if (\"onpagehide\" in window) { window.addEventListener(\"pageshow\", function () { return onPageShow(); }, false); window.addEventListener(\"pagehide\", function () { return onPageHide(); }, false); } else { window.addEventListener(\"load\", function () { return onPageShow(); }, false); window.addEventListener(\"unload\", function () { return onPageHide(); }, false); } document.addEventListener(\"visibilitychange\", function () { document[\"hidden\"] ? onPageHide() : onPageShow(); }, false); document.addEventListener(\"mousedown\", function (event) { var target = event.target; var component = target.closest(\"[data-cloud]\"); var element = target.closest(\"a\") || target.closest(\"button\"); if (element && component && component.contains(element)) { var clickInfo = TiaraTracker.getClickInfo(event); if (!clickInfo) return; /* 무시해야 할 클릭 버튼이거나, 자동 클릭 항목이 설정되어있지 않을 경우 null 반환하기 떄문에 체크 */ var action = clickInfo.action; var actionName = action && action.name ? action.name : \"\"; var actionKind = action && action.kind ? action.kind : \"\"; var mergedCustomProps = _.assignIn(customProps, clickInfo.customProps); var tiaraLayer = target.closest(\"[data-tiara]\"); var img = element.querySelector(\"img\"); var ordnum = 0; Array.from((tiaraLayer || component).querySelectorAll(\"a, button\")).some(function (e, idx) { if (e == element) { ordnum = idx; } }); var clickMeta = { \"layer1\": pageName, \"layer2\": component.dataset.cloud, \"layer3\": tiaraLayer ? tiaraLayer.dataset.tiara : \"\", \"click_url\": element.href || \"\", \"ordnum\": ordnum, \"copy\": element.innerText, \"image\": img ? img.src : \"\", \"posX\": event.clientX, \"posY\": event.clientY }; tiaraTracker.trackEvent(actionName).pageMeta(pageMeta).actionKind(actionKind).customProps(mergedCustomProps).click(clickMeta).track(); } }); })();\n",
      "  </script>\n",
      " </body>\n",
      "</html>\n"
     ]
    }
   ],
   "source": [
    "print(soup.prettify())"
   ]
  },
  {
   "cell_type": "markdown",
   "metadata": {},
   "source": [
    "**[14장: 405페이지]**"
   ]
  },
  {
   "cell_type": "code",
   "execution_count": null,
   "metadata": {},
   "outputs": [],
   "source": [
    "soup.find('a')"
   ]
  },
  {
   "cell_type": "markdown",
   "metadata": {},
   "source": [
    "**[14장: 405페이지]**"
   ]
  },
  {
   "cell_type": "code",
   "execution_count": null,
   "metadata": {},
   "outputs": [],
   "source": [
    "soup.find('a').get_text()"
   ]
  },
  {
   "cell_type": "markdown",
   "metadata": {},
   "source": [
    "**[14장: 405페이지]**"
   ]
  },
  {
   "cell_type": "code",
   "execution_count": null,
   "metadata": {},
   "outputs": [],
   "source": [
    "soup.find_all('a')"
   ]
  },
  {
   "cell_type": "markdown",
   "metadata": {},
   "source": [
    "**[14장: 406페이지]**"
   ]
  },
  {
   "cell_type": "code",
   "execution_count": null,
   "metadata": {},
   "outputs": [],
   "source": [
    "site_names = soup.find_all('a')\n",
    "for site_name in site_names:\n",
    "    print(site_name.get_text())"
   ]
  },
  {
   "cell_type": "markdown",
   "metadata": {},
   "source": [
    "**[14장: 406 ~ 407페이지]**"
   ]
  },
  {
   "cell_type": "code",
   "execution_count": null,
   "metadata": {},
   "outputs": [],
   "source": [
    "from bs4 import BeautifulSoup\n",
    "\n",
    "# 테스트용 HTML 코드\n",
    "html2 = \"\"\"\n",
    "<html>\n",
    " <head>\n",
    "  <title>작품과 작가 모음</title>\n",
    " </head>\n",
    " <body>\n",
    "  <h1>책 정보</h1>\n",
    "  <p id=\"book_title\">토지</p>\n",
    "  <p id=\"author\">박경리</p>\n",
    "  \n",
    "  <p id=\"book_title\">태백산맥</p>\n",
    "  <p id=\"author\">조정래</p>\n",
    "\n",
    "  <p id=\"book_title\">감옥으로부터의 사색</p>\n",
    "  <p id=\"author\">신영복</p>\n",
    " </body>\n",
    "</html>\n",
    "\"\"\" \n",
    "\n",
    "soup2 = BeautifulSoup(html2, \"lxml\")"
   ]
  },
  {
   "cell_type": "markdown",
   "metadata": {},
   "source": [
    "**[14장: 407페이지]**"
   ]
  },
  {
   "cell_type": "code",
   "execution_count": null,
   "metadata": {},
   "outputs": [],
   "source": [
    "soup2.title"
   ]
  },
  {
   "cell_type": "markdown",
   "metadata": {},
   "source": [
    "**[14장: 407페이지]**"
   ]
  },
  {
   "cell_type": "code",
   "execution_count": null,
   "metadata": {},
   "outputs": [],
   "source": [
    "soup2.body"
   ]
  },
  {
   "cell_type": "markdown",
   "metadata": {},
   "source": [
    "**[14장: 407페이지]**"
   ]
  },
  {
   "cell_type": "code",
   "execution_count": null,
   "metadata": {},
   "outputs": [],
   "source": [
    "soup2.body.h1"
   ]
  },
  {
   "cell_type": "markdown",
   "metadata": {},
   "source": [
    "**[14장: 408페이지]**"
   ]
  },
  {
   "cell_type": "code",
   "execution_count": null,
   "metadata": {},
   "outputs": [],
   "source": [
    "soup2.find_all('p')"
   ]
  },
  {
   "cell_type": "markdown",
   "metadata": {},
   "source": [
    "**[14장: 408페이지]**"
   ]
  },
  {
   "cell_type": "code",
   "execution_count": null,
   "metadata": {},
   "outputs": [],
   "source": [
    "soup2.find('p', {\"id\":\"book_title\"})"
   ]
  },
  {
   "cell_type": "markdown",
   "metadata": {},
   "source": [
    "**[14장: 408페이지]**"
   ]
  },
  {
   "cell_type": "code",
   "execution_count": null,
   "metadata": {},
   "outputs": [],
   "source": [
    "soup2.find('p', {\"id\":\"author\"})"
   ]
  },
  {
   "cell_type": "markdown",
   "metadata": {},
   "source": [
    "**[14장: 408 ~ 409페이지]**"
   ]
  },
  {
   "cell_type": "code",
   "execution_count": null,
   "metadata": {},
   "outputs": [],
   "source": [
    "soup2.find_all('p', {\"id\":\"book_title\"})"
   ]
  },
  {
   "cell_type": "code",
   "execution_count": null,
   "metadata": {},
   "outputs": [],
   "source": [
    "soup2.find_all('p', {\"id\":\"author\"})"
   ]
  },
  {
   "cell_type": "markdown",
   "metadata": {},
   "source": [
    "**[14장: 409페이지]**"
   ]
  },
  {
   "cell_type": "code",
   "execution_count": null,
   "metadata": {
    "scrolled": true
   },
   "outputs": [],
   "source": [
    "from bs4 import BeautifulSoup\n",
    "\n",
    "soup2 = BeautifulSoup(html2, \"lxml\")\n",
    "\n",
    "book_titles = soup2.find_all('p', {\"id\":\"book_title\"})\n",
    "authors = soup2.find_all('p', {\"id\":\"author\"})\n",
    "\n",
    "for book_title, author in zip(book_titles, authors):\n",
    "    print(book_title.get_text() + '/' + author.get_text())"
   ]
  },
  {
   "cell_type": "markdown",
   "metadata": {},
   "source": [
    "**[14장: 410페이지]**"
   ]
  },
  {
   "cell_type": "code",
   "execution_count": null,
   "metadata": {},
   "outputs": [],
   "source": [
    "soup2.select('body h1')"
   ]
  },
  {
   "cell_type": "markdown",
   "metadata": {},
   "source": [
    "**[14장: 410페이지]**"
   ]
  },
  {
   "cell_type": "code",
   "execution_count": null,
   "metadata": {},
   "outputs": [],
   "source": [
    "soup2.select('body p')"
   ]
  },
  {
   "cell_type": "markdown",
   "metadata": {},
   "source": [
    "**[14장: 410페이지]**"
   ]
  },
  {
   "cell_type": "code",
   "execution_count": null,
   "metadata": {},
   "outputs": [],
   "source": [
    "soup2.select('p')"
   ]
  },
  {
   "cell_type": "markdown",
   "metadata": {},
   "source": [
    "**[14장: 410 ~ 411페이지]**"
   ]
  },
  {
   "cell_type": "code",
   "execution_count": null,
   "metadata": {},
   "outputs": [],
   "source": [
    "soup2.select('p#book_title')"
   ]
  },
  {
   "cell_type": "code",
   "execution_count": null,
   "metadata": {},
   "outputs": [],
   "source": [
    "soup2.select('p#author')"
   ]
  },
  {
   "cell_type": "markdown",
   "metadata": {},
   "source": [
    "**[14장: 411페이지]**"
   ]
  },
  {
   "cell_type": "code",
   "execution_count": null,
   "metadata": {},
   "outputs": [],
   "source": [
    "%%writefile C:/myPyCode/HTML_example_my_site.html \n",
    "<!doctype html>\n",
    "<html>\n",
    "  <head>\n",
    "    <meta charset=\"utf-8\">\n",
    "    <title>사이트 모음</title>\n",
    "  </head>\n",
    "  <body>\n",
    "    <p id=\"title\"><b>자주 가는 사이트 모음</b></p>\n",
    "    <p id=\"contents\">이곳은 자주 가는 사이트를 모아둔 곳입니다.</p>\n",
    "    <a href=\"http://www.naver.com\" class=\"portal\" id=\"naver\">네이버</a> <br>\n",
    "    <a href=\"https://www.google.com\" class=\"search\" id=\"google\">구글</a> <br>\n",
    "    <a href=\"http://www.daum.net\" class=\"portal\" id=\"daum\">다음</a> <br>\n",
    "    <a href=\"http://www.nl.go.kr\" class=\"government\" id=\"nl\">국립중앙도서관</a>\n",
    "  </body>\n",
    "</html>"
   ]
  },
  {
   "cell_type": "markdown",
   "metadata": {},
   "source": [
    "**[14장: 412페이지]**"
   ]
  },
  {
   "cell_type": "code",
   "execution_count": null,
   "metadata": {},
   "outputs": [],
   "source": [
    "f = open('C:/myPyCode/HTML_example_my_site.html', encoding='utf-8')\n",
    "\n",
    "html3 = f.read()\n",
    "f.close()\n",
    "\n",
    "soup3 = BeautifulSoup(html3, \"lxml\")"
   ]
  },
  {
   "cell_type": "markdown",
   "metadata": {},
   "source": [
    "**[14장: 412페이지]**"
   ]
  },
  {
   "cell_type": "code",
   "execution_count": null,
   "metadata": {},
   "outputs": [],
   "source": [
    "soup3.select('a')"
   ]
  },
  {
   "cell_type": "markdown",
   "metadata": {},
   "source": [
    "**[14장: 412페이지]**"
   ]
  },
  {
   "cell_type": "code",
   "execution_count": null,
   "metadata": {},
   "outputs": [],
   "source": [
    "soup3.select('a.portal')"
   ]
  },
  {
   "cell_type": "markdown",
   "metadata": {},
   "source": [
    "#### 웹 브라우저의 요소 검사"
   ]
  },
  {
   "cell_type": "markdown",
   "metadata": {},
   "source": [
    "**[14장: 414페이지]**"
   ]
  },
  {
   "cell_type": "code",
   "execution_count": null,
   "metadata": {},
   "outputs": [],
   "source": [
    "soup3.select('a')"
   ]
  },
  {
   "cell_type": "markdown",
   "metadata": {},
   "source": [
    "**[14장: 414페이지]**"
   ]
  },
  {
   "cell_type": "code",
   "execution_count": null,
   "metadata": {},
   "outputs": [],
   "source": [
    "soup3.select('a.portal')"
   ]
  },
  {
   "cell_type": "markdown",
   "metadata": {},
   "source": [
    "**[14장: 415페이지]**"
   ]
  },
  {
   "cell_type": "code",
   "execution_count": null,
   "metadata": {},
   "outputs": [],
   "source": [
    "soup3.select('a#naver')"
   ]
  },
  {
   "cell_type": "markdown",
   "metadata": {},
   "source": [
    "#### 줄 바꿈으로 가독성 높이기"
   ]
  },
  {
   "cell_type": "markdown",
   "metadata": {},
   "source": [
    "**[14장: 415페이지]**"
   ]
  },
  {
   "cell_type": "code",
   "execution_count": null,
   "metadata": {},
   "outputs": [],
   "source": [
    "%%writefile C:/myPyCode/br_example_constitution.html\n",
    "<!doctype html>\n",
    "<html>\n",
    "  <head>\n",
    "    <meta charset=\"utf-8\">\n",
    "    <title>줄 바꿈 테스트 예제</title>\n",
    "  </head>\n",
    "  <body>\n",
    "  <p id=\"title\"><b>대한민국헌법</b></p>\n",
    "  <p id=\"content\">제1조 <br/>①대한민국은 민주공화국이다.<br/>②대한민국의 주권은 국민에게 있고, 모든 권력은 국민으로부터 나온다.</p>\n",
    "  <p id=\"content\">제2조 <br/>①대한민국의 국민이 되는 요건은 법률로 정한다.<br/>②국가는 법률이 정하는 바에 의하여 재외국민을 보호할 의무를 진다.</p>\n",
    "  </body>\n",
    "</html>"
   ]
  },
  {
   "cell_type": "markdown",
   "metadata": {},
   "source": [
    "**[14장: 416페이지]**"
   ]
  },
  {
   "cell_type": "code",
   "execution_count": null,
   "metadata": {},
   "outputs": [],
   "source": [
    "from bs4 import BeautifulSoup\n",
    "\n",
    "f = open('C:/myPyCode/br_example_constitution.html', encoding='utf-8')\n",
    "\n",
    "html_source = f.read()\n",
    "f.close()\n",
    "\n",
    "soup = BeautifulSoup(html_source, \"lxml\")\n",
    "\n",
    "title = soup.find('p', {\"id\":\"title\"})\n",
    "contents = soup.find_all('p', {\"id\":\"content\"})\n",
    "\n",
    "print(title.get_text())\n",
    "for content in contents:\n",
    "    print(content.get_text())"
   ]
  },
  {
   "cell_type": "markdown",
   "metadata": {},
   "source": [
    "**[14장: 417페이지]**"
   ]
  },
  {
   "cell_type": "code",
   "execution_count": null,
   "metadata": {},
   "outputs": [],
   "source": [
    "html1 = '<p id=\"content\">제1조 <br/>①대한민국은 민주공화국이다.<br/>②대한민국의 주권은 국민에게 있고, 모든 권력은 국민으로부터 나온다.</p>'\n",
    "\n",
    "soup1 = BeautifulSoup(html1, \"lxml\")\n",
    "\n",
    "print(\"==> 태그 p로 찾은 요소\")\n",
    "content1 = soup1.find('p', {\"id\":\"content\"})\n",
    "print(content1)\n",
    "\n",
    "br_content = content1.find(\"br\")\n",
    "print(\"==> 결과에서 태그 br로 찾은 요소:\", br_content)\n",
    "\n",
    "br_content.replace_with(\"\\n\")\n",
    "print(\"==> 태그 br을 개행문자로 바꾼 결과\")\n",
    "print(content1)"
   ]
  },
  {
   "cell_type": "markdown",
   "metadata": {},
   "source": [
    "**[14장: 418페이지]**"
   ]
  },
  {
   "cell_type": "code",
   "execution_count": null,
   "metadata": {},
   "outputs": [],
   "source": [
    "soup2 = BeautifulSoup(html1, \"lxml\")\n",
    "content2 = soup2.find('p', {\"id\":\"content\"})\n",
    "\n",
    "br_contents = content2.find_all(\"br\")\n",
    "for br_content in br_contents:\n",
    "    br_content.replace_with(\"\\n\")\n",
    "print(content2)"
   ]
  },
  {
   "cell_type": "markdown",
   "metadata": {},
   "source": [
    "**[14장: 418페이지]**"
   ]
  },
  {
   "cell_type": "code",
   "execution_count": null,
   "metadata": {},
   "outputs": [],
   "source": [
    "def replace_newline(soup_html):\n",
    "    br_to_newlines = soup_html.find_all(\"br\")\n",
    "    for br_to_newline in br_to_newlines: \n",
    "        br_to_newline.replace_with(\"\\n\")\n",
    "    return soup_html"
   ]
  },
  {
   "cell_type": "markdown",
   "metadata": {},
   "source": [
    "**[14장: 418페이지]**"
   ]
  },
  {
   "cell_type": "code",
   "execution_count": null,
   "metadata": {},
   "outputs": [],
   "source": [
    "soup2 = BeautifulSoup(html1, \"lxml\")\n",
    "content2 = soup2.find('p', {\"id\":\"content\"})\n",
    "content3 = replace_newline(content2)\n",
    "print(content3.get_text())"
   ]
  },
  {
   "cell_type": "markdown",
   "metadata": {},
   "source": [
    "**[14장: 419페이지]**"
   ]
  },
  {
   "cell_type": "code",
   "execution_count": null,
   "metadata": {},
   "outputs": [],
   "source": [
    "from bs4 import BeautifulSoup\n",
    "\n",
    "soup = BeautifulSoup(html_source, \"lxml\")\n",
    "\n",
    "title = soup.find('p', {\"id\":\"title\"})\n",
    "contents = soup.find_all('p', {\"id\":\"content\"})\n",
    "\n",
    "print(title.get_text(), '\\n')\n",
    "\n",
    "for content in contents:\n",
    "    content1 = replace_newline(content)\n",
    "    print(content1.get_text(),'\\n')"
   ]
  },
  {
   "cell_type": "markdown",
   "metadata": {},
   "source": [
    "## 14.3 웹 사이트에서 데이터 가져오기"
   ]
  },
  {
   "cell_type": "markdown",
   "metadata": {},
   "source": [
    "### 웹 스크레이핑 시 주의 사항"
   ]
  },
  {
   "cell_type": "markdown",
   "metadata": {},
   "source": [
    "### 순위 데이터를 가져오기\n"
   ]
  },
  {
   "cell_type": "markdown",
   "metadata": {},
   "source": [
    "#### 웹 사이트 순위"
   ]
  },
  {
   "cell_type": "markdown",
   "metadata": {},
   "source": [
    "**[14장: 423페이지]**"
   ]
  },
  {
   "cell_type": "code",
   "execution_count": null,
   "metadata": {},
   "outputs": [],
   "source": [
    "import requests  \n",
    "from bs4 import BeautifulSoup \n",
    "\n",
    "url = \"https://www.alexa.com/topsites/countries/KR\"\n",
    "\n",
    "html_website_ranking = requests.get(url).text\n",
    "soup_website_ranking = BeautifulSoup(html_website_ranking, \"lxml\")\n",
    "\n",
    "# p 태그의 요소 안에서 a 태그의 요소를 찾음\n",
    "website_ranking = soup_website_ranking.select('p a')"
   ]
  },
  {
   "cell_type": "markdown",
   "metadata": {},
   "source": [
    "**[14장: 423페이지]**"
   ]
  },
  {
   "cell_type": "code",
   "execution_count": null,
   "metadata": {},
   "outputs": [],
   "source": [
    "website_ranking[0:6]"
   ]
  },
  {
   "cell_type": "markdown",
   "metadata": {},
   "source": [
    "**[14장: 424페이지]**"
   ]
  },
  {
   "cell_type": "code",
   "execution_count": null,
   "metadata": {},
   "outputs": [],
   "source": [
    "website_ranking[0].get_text()"
   ]
  },
  {
   "cell_type": "markdown",
   "metadata": {},
   "source": [
    "**[14장: 424페이지]**"
   ]
  },
  {
   "cell_type": "code",
   "execution_count": null,
   "metadata": {},
   "outputs": [],
   "source": [
    "website_ranking_address = [website_ranking_element.get_text() for website_ranking_element in website_ranking]"
   ]
  },
  {
   "cell_type": "markdown",
   "metadata": {},
   "source": [
    "**[14장: 424페이지]**"
   ]
  },
  {
   "cell_type": "code",
   "execution_count": null,
   "metadata": {},
   "outputs": [],
   "source": [
    "website_ranking_address[0:6]"
   ]
  },
  {
   "cell_type": "markdown",
   "metadata": {},
   "source": [
    "**[14장: 424페이지]**"
   ]
  },
  {
   "cell_type": "code",
   "execution_count": null,
   "metadata": {},
   "outputs": [],
   "source": [
    "import requests  \n",
    "from bs4 import BeautifulSoup \n",
    "\n",
    "url = \"https://www.alexa.com/topsites/countries/KR\"\n",
    "\n",
    "html_website_ranking = requests.get(url).text\n",
    "soup_website_ranking = BeautifulSoup(html_website_ranking, \"lxml\")\n",
    "\n",
    "# p 태그의 요소 안에서 a 태그의 요소를 찾음\n",
    "website_ranking = soup_website_ranking.select('p a')\n",
    "website_ranking_address = [website_ranking_element.get_text() for website_ranking_element in website_ranking]\n",
    "\n",
    "print(\"[Top Sites in South Korea]\")\n",
    "for k in range(6):\n",
    "    print(\"{0}: {1}\".format(k+1, website_ranking_address[k]))"
   ]
  },
  {
   "cell_type": "markdown",
   "metadata": {},
   "source": [
    "**[14장: 425페이지]**"
   ]
  },
  {
   "cell_type": "code",
   "execution_count": null,
   "metadata": {},
   "outputs": [],
   "source": [
    "import pandas as pd\n",
    "\n",
    "website_ranking_dict = {'Website': website_ranking_address}\n",
    "df = pd.DataFrame(website_ranking_dict, columns=['Website'], index=range(1,len(website_ranking_address)+1))\n",
    "df[0:6]"
   ]
  },
  {
   "cell_type": "markdown",
   "metadata": {},
   "source": [
    "#### 주간 음악 순위"
   ]
  },
  {
   "cell_type": "markdown",
   "metadata": {},
   "source": [
    "**[14장: 429페이지]**"
   ]
  },
  {
   "cell_type": "code",
   "execution_count": null,
   "metadata": {},
   "outputs": [],
   "source": [
    "import requests\n",
    "from bs4 import BeautifulSoup\n",
    "\n",
    "url = \"http://music.naver.com/listen/history/index.nhn?type=TOTAL&year=2017&month=12&week=1\"\n",
    "html_music = requests.get(url).text\n",
    "soup_music = BeautifulSoup(html_music, \"lxml\")\n",
    "\n",
    "# a 태그의 요소 중에서 class 속성값이 \"_title\" 인 것을 찾고\n",
    "# 그 안에서 span 태그의 요소 중에서 class 속성값이 \"ellipsis\"인 요소를 추출\n",
    "titles = soup_music.select('a._title span.ellipsis') \n",
    "titles[0:7]"
   ]
  },
  {
   "cell_type": "markdown",
   "metadata": {},
   "source": [
    "**[14장: 429페이지]**"
   ]
  },
  {
   "cell_type": "code",
   "execution_count": null,
   "metadata": {},
   "outputs": [],
   "source": [
    "music_titles = [title.get_text() for title in titles]"
   ]
  },
  {
   "cell_type": "markdown",
   "metadata": {},
   "source": [
    "**[14장: 429페이지]**"
   ]
  },
  {
   "cell_type": "code",
   "execution_count": null,
   "metadata": {},
   "outputs": [],
   "source": [
    "music_titles[0:7]"
   ]
  },
  {
   "cell_type": "markdown",
   "metadata": {},
   "source": [
    "**[14장: 431페이지]**"
   ]
  },
  {
   "cell_type": "code",
   "execution_count": null,
   "metadata": {},
   "outputs": [],
   "source": [
    "# a 태그의 요소 중에서 class 속성값이 \"_artist\" 인 것을 찾고\n",
    "# 그 안에서 span 태그의 요소 중에서 class 속성값이 \"ellipsis\"인 요소를 추출\n",
    "artists = soup_music.select('a._artist span.ellipsis') \n",
    "artists[0].get_text()"
   ]
  },
  {
   "cell_type": "markdown",
   "metadata": {},
   "source": [
    "**[14장: 431페이지]**"
   ]
  },
  {
   "cell_type": "code",
   "execution_count": null,
   "metadata": {},
   "outputs": [],
   "source": [
    "artists[0].get_text().strip()"
   ]
  },
  {
   "cell_type": "markdown",
   "metadata": {},
   "source": [
    "**[14장: 431페이지]**"
   ]
  },
  {
   "cell_type": "code",
   "execution_count": null,
   "metadata": {},
   "outputs": [],
   "source": [
    "music_artists = [artist.get_text().strip() for artist in artists]"
   ]
  },
  {
   "cell_type": "markdown",
   "metadata": {},
   "source": [
    "**[14장: 431페이지]**"
   ]
  },
  {
   "cell_type": "code",
   "execution_count": null,
   "metadata": {},
   "outputs": [],
   "source": [
    "music_artists[0:7]"
   ]
  },
  {
   "cell_type": "markdown",
   "metadata": {},
   "source": [
    "**[14장: 433페이지]**"
   ]
  },
  {
   "cell_type": "code",
   "execution_count": null,
   "metadata": {},
   "outputs": [],
   "source": [
    "# td 태그의 요소 중에서 class 속성값이 \"_artist\" 인 것을 찾고\n",
    "# 그 안에서 a 태그의 요소를 추출\n",
    "artists = soup_music.select('td._artist a')"
   ]
  },
  {
   "cell_type": "markdown",
   "metadata": {},
   "source": [
    "**[14장: 433페이지]**"
   ]
  },
  {
   "cell_type": "code",
   "execution_count": null,
   "metadata": {},
   "outputs": [],
   "source": [
    "artists[0]"
   ]
  },
  {
   "cell_type": "code",
   "execution_count": null,
   "metadata": {},
   "outputs": [],
   "source": [
    "artists[4]"
   ]
  },
  {
   "cell_type": "markdown",
   "metadata": {},
   "source": [
    "**[14장: 433페이지]**"
   ]
  },
  {
   "cell_type": "code",
   "execution_count": null,
   "metadata": {},
   "outputs": [],
   "source": [
    "artists[0].get_text().strip()"
   ]
  },
  {
   "cell_type": "code",
   "execution_count": null,
   "metadata": {},
   "outputs": [],
   "source": [
    "artists[4].get_text().strip()"
   ]
  },
  {
   "cell_type": "markdown",
   "metadata": {},
   "source": [
    "**[14장: 433페이지]**"
   ]
  },
  {
   "cell_type": "code",
   "execution_count": null,
   "metadata": {},
   "outputs": [],
   "source": [
    "music_artists = [artist.get_text().strip() for artist in artists]"
   ]
  },
  {
   "cell_type": "markdown",
   "metadata": {},
   "source": [
    "**[14장: 434페이지]**"
   ]
  },
  {
   "cell_type": "code",
   "execution_count": null,
   "metadata": {},
   "outputs": [],
   "source": [
    "music_artists[0:7]"
   ]
  },
  {
   "cell_type": "markdown",
   "metadata": {},
   "source": [
    "**[14장: 434 ~ 435페이지]**"
   ]
  },
  {
   "cell_type": "code",
   "execution_count": null,
   "metadata": {},
   "outputs": [],
   "source": [
    "import requests\n",
    "from bs4 import BeautifulSoup\n",
    "\n",
    "url = \"http://music.naver.com/listen/history/index.nhn?type=DOMESTIC&year=2017&month=12&week=1&page=1\"    \n",
    "# url = \"http://music.naver.com/listen/history/index.nhn?type=DOMESTIC&year=2017&month=12&week=1&page=2\"\n",
    "# url = \"http://music.naver.com/listen/top100.nhn?domain=TOTAL&page=1\"\n",
    "    \n",
    "html_music = requests.get(url).text\n",
    "soup_music = BeautifulSoup(html_music, \"lxml\")\n",
    "\n",
    "titles = soup_music.select('a._title span.ellipsis') \n",
    "artists = soup_music.select('td._artist a')\n",
    "\n",
    "music_titles = [title.get_text() for title in titles]\n",
    "music_artists = [artist.get_text().strip() for artist in artists]\n",
    "\n",
    "for k in range(7):\n",
    "    print(\"{0}: {1} / {2}\".format(k+1, music_titles[k], music_artists[k]))"
   ]
  },
  {
   "cell_type": "markdown",
   "metadata": {},
   "source": [
    "**[14장: 435페이지]**"
   ]
  },
  {
   "cell_type": "code",
   "execution_count": null,
   "metadata": {},
   "outputs": [],
   "source": [
    "music_titles_artists={}\n",
    "order = 0\n",
    "\n",
    "for (music_title, music_artist) in zip(music_titles, music_artists):\n",
    "    order = order + 1\n",
    "    music_titles_artists[order] = [music_title, music_artist]"
   ]
  },
  {
   "cell_type": "markdown",
   "metadata": {},
   "source": [
    "**[14장: 436페이지]**"
   ]
  },
  {
   "cell_type": "code",
   "execution_count": null,
   "metadata": {},
   "outputs": [],
   "source": [
    "music_titles_artists[1]"
   ]
  },
  {
   "cell_type": "code",
   "execution_count": null,
   "metadata": {},
   "outputs": [],
   "source": [
    "music_titles_artists[2]"
   ]
  },
  {
   "cell_type": "markdown",
   "metadata": {},
   "source": [
    "**[14장: 436 ~ 437페이지]**"
   ]
  },
  {
   "cell_type": "code",
   "execution_count": null,
   "metadata": {},
   "outputs": [],
   "source": [
    "import requests\n",
    "from bs4 import BeautifulSoup\n",
    "import glob\n",
    "    \n",
    "naver_music_url = \"http://music.naver.com/listen/history/index.nhn?type=DOMESTIC&year=2017&month=12&week=1&page=\"\n",
    " \n",
    "# 네이버 music 주소를 입력하면 노래 제목과 아티스트를 반환\n",
    "def naver_music(url):    \n",
    "    html_music = requests.get(url).text\n",
    "    soup_music = BeautifulSoup(html_music, \"lxml\")\n",
    "\n",
    "    titles = soup_music.select('a._title span.ellipsis') \n",
    "    artists = soup_music.select('td._artist a')\n",
    "\n",
    "    music_titles = [title.get_text() for title in titles]\n",
    "    music_artists = [artist.get_text().strip() for artist in artists]\n",
    "    \n",
    "    return music_titles, music_artists\n",
    "\n",
    "# 노래 제목과 아티스트를 저장할 파일 이름을 폴더와 함께 지정\n",
    "file_name = 'C:/myPyCode/data/NaverMusicTop100.txt'\n",
    "\n",
    "f = open(file_name,'w') # 파일 열기\n",
    "\n",
    "# 각 page에는 50개의 노래 제목과 아티스트가 추출됨\n",
    "for page in range(2):\n",
    "    naver_music_url_page = naver_music_url + str(page+1) # page URL\n",
    "    naver_music_titles, naver_music_artists = naver_music(naver_music_url_page)\n",
    "    \n",
    "    # 추출된 노래 제목과 아티스트를 파일에 저장 \n",
    "    for k in range(len(naver_music_titles)):\n",
    "        f.write(\"{0:2d}: {1}/{2}\\n\".format(page*50 + k+1, naver_music_titles[k],  naver_music_artists[k]))\n",
    "        \n",
    "f.close() # 파일 닫기\n",
    "\n",
    "glob.glob(file_name) # 생성된 파일 확인"
   ]
  },
  {
   "cell_type": "markdown",
   "metadata": {},
   "source": [
    "### 웹 페이지에서 이미지 가져오기"
   ]
  },
  {
   "cell_type": "markdown",
   "metadata": {},
   "source": [
    "#### 하나의 이미지 내려받기"
   ]
  },
  {
   "cell_type": "markdown",
   "metadata": {},
   "source": [
    "**[14장: 439페이지]**"
   ]
  },
  {
   "cell_type": "code",
   "execution_count": null,
   "metadata": {},
   "outputs": [],
   "source": [
    "import requests  \n",
    "\n",
    "url = 'https://www.python.org/static/img/python-logo.png'\n",
    "html_image = requests.get(url)\n",
    "html_image"
   ]
  },
  {
   "cell_type": "markdown",
   "metadata": {},
   "source": [
    "**[14장: 440페이지]**"
   ]
  },
  {
   "cell_type": "code",
   "execution_count": null,
   "metadata": {},
   "outputs": [],
   "source": [
    "import os\n",
    "\n",
    "image_file_name = os.path.basename(url)\n",
    "image_file_name"
   ]
  },
  {
   "cell_type": "markdown",
   "metadata": {},
   "source": [
    "**[14장: 441페이지]**"
   ]
  },
  {
   "cell_type": "code",
   "execution_count": null,
   "metadata": {},
   "outputs": [],
   "source": [
    "folder = 'C:/myPyCode/download' \n",
    "\n",
    "if not os.path.exists(folder):\n",
    "    os.makedirs(folder)"
   ]
  },
  {
   "cell_type": "markdown",
   "metadata": {},
   "source": [
    "**[14장: 441페이지]**"
   ]
  },
  {
   "cell_type": "code",
   "execution_count": null,
   "metadata": {},
   "outputs": [],
   "source": [
    "image_path = os.path.join(folder, image_file_name)\n",
    "image_path"
   ]
  },
  {
   "cell_type": "markdown",
   "metadata": {},
   "source": [
    "**[14장: 441페이지]**"
   ]
  },
  {
   "cell_type": "code",
   "execution_count": null,
   "metadata": {},
   "outputs": [],
   "source": [
    "imageFile = open(image_path, 'wb')"
   ]
  },
  {
   "cell_type": "markdown",
   "metadata": {},
   "source": [
    "**[14장: 442페이지]**"
   ]
  },
  {
   "cell_type": "code",
   "execution_count": null,
   "metadata": {},
   "outputs": [],
   "source": [
    "# 이미지 데이터를 1000000 바이트씩 나눠서 내려받고 파일에 순차적으로 저장\n",
    "chunk_size = 1000000\n",
    "for chunk in html_image.iter_content(chunk_size):\n",
    "    imageFile.write(chunk)\n",
    "imageFile.close()"
   ]
  },
  {
   "cell_type": "markdown",
   "metadata": {},
   "source": [
    "**[14장: 442페이지]**"
   ]
  },
  {
   "cell_type": "code",
   "execution_count": null,
   "metadata": {},
   "outputs": [],
   "source": [
    "os.listdir(folder)"
   ]
  },
  {
   "cell_type": "markdown",
   "metadata": {},
   "source": [
    "**[14장: 442 ~ 443페이지]**"
   ]
  },
  {
   "cell_type": "code",
   "execution_count": null,
   "metadata": {},
   "outputs": [],
   "source": [
    "import requests  \n",
    "import os\n",
    "\n",
    "url = 'https://www.python.org/static/img/python-logo.png'\n",
    "html_image = requests.get(url)\n",
    "image_file_name = os.path.basename(url)\n",
    "\n",
    "folder = 'C:/myPyCode/download' \n",
    "\n",
    "if not os.path.exists(folder):\n",
    "    os.makedirs(folder)\n",
    "\n",
    "image_path = os.path.join(folder, image_file_name)\n",
    "\n",
    "imageFile = open(image_path, 'wb')\n",
    "# 이미지 데이터를 1000000 바이트씩 나눠서 저장\n",
    "chunk_size = 1000000\n",
    "for chunk in html_image.iter_content(chunk_size):\n",
    "    imageFile.write(chunk)\n",
    "imageFile.close()"
   ]
  },
  {
   "cell_type": "markdown",
   "metadata": {},
   "source": [
    "#### 여러 이미지 내려받기"
   ]
  },
  {
   "cell_type": "markdown",
   "metadata": {},
   "source": [
    "**[14장: 446페이지]**"
   ]
  },
  {
   "cell_type": "code",
   "execution_count": null,
   "metadata": {},
   "outputs": [],
   "source": [
    "import requests  \n",
    "from bs4 import BeautifulSoup \n",
    "\n",
    "URL = 'https://pixabay.com/ko/photos/?order=popular&cat=animals'\n",
    "\n",
    "html_pixabay_image = requests.get(URL).text\n",
    "soup_pixabay_image = BeautifulSoup(html_pixabay_image, \"lxml\")\n",
    "pixabay_image_elements = soup_pixabay_image.select('img') \n",
    "pixabay_image_elements[0:3]"
   ]
  },
  {
   "cell_type": "markdown",
   "metadata": {},
   "source": [
    "**[14장: 446페이지]**"
   ]
  },
  {
   "cell_type": "code",
   "execution_count": null,
   "metadata": {},
   "outputs": [],
   "source": [
    "pixabay_image_url = pixabay_image_elements[0].get('src')\n",
    "pixabay_image_url"
   ]
  },
  {
   "cell_type": "markdown",
   "metadata": {},
   "source": [
    "**[14장: 447페이지]**"
   ]
  },
  {
   "cell_type": "code",
   "execution_count": null,
   "metadata": {},
   "outputs": [],
   "source": [
    "html_image = requests.get(pixabay_image_url)\n",
    "\n",
    "folder = \"C:/myPyCode/download\"\n",
    "    \n",
    "# os.path.basename(URL)는 웹사이트나 폴더가 포함된 파일명에서 파일명만 분리하는 방법    \n",
    "imageFile = open(os.path.join(folder, os.path.basename(pixabay_image_url)), 'wb')\n",
    "\n",
    "# 이미지 데이터를 1000000 바이트씩 나눠서 저장하는 방법\n",
    "chunk_size = 1000000 \n",
    "for chunk in html_image.iter_content(chunk_size):\n",
    "    imageFile.write(chunk)\n",
    "imageFile.close()"
   ]
  },
  {
   "cell_type": "markdown",
   "metadata": {},
   "source": [
    "**[14장: 447 ~ 449페이지]**"
   ]
  },
  {
   "cell_type": "code",
   "execution_count": null,
   "metadata": {
    "scrolled": false
   },
   "outputs": [],
   "source": [
    "import requests  \n",
    "from bs4 import BeautifulSoup \n",
    "import os\n",
    "\n",
    "# URL(주소)에서 이미지 주소 추출\n",
    "def get_image_url(url): \n",
    "    html_image_url = requests.get(url).text\n",
    "    soup_image_url = BeautifulSoup(html_image_url, \"lxml\")  \n",
    "    image_elements = soup_image_url.select('img') \n",
    "    if(image_elements != None):\n",
    "        image_urls = []\n",
    "        for image_element in image_elements:\n",
    "            image_urls.append(image_element.get('src'))\n",
    "        return image_urls        \n",
    "    else:\n",
    "        return None\n",
    "    \n",
    "# 폴더를 지정해 이미지 주소에서 이미지 내려받기\n",
    "def download_image(img_folder, img_url):\n",
    "    if(img_url != None):  \n",
    "        html_image = requests.get(img_url)\n",
    "        # os.path.basename(URL)는 웹사이트나 폴더가 포함된 파일명에서 파일명만 분리    \n",
    "        imageFile = open(os.path.join(img_folder, os.path.basename(img_url)), 'wb')\n",
    "\n",
    "        chunk_size = 1000000 # 이미지 데이터를 1000000 바이트씩 나눠서 저장\n",
    "        for chunk in html_image.iter_content(chunk_size):\n",
    "            imageFile.write(chunk)\n",
    "            imageFile.close()\n",
    "        print(\"이미지 파일명: '{0}'. 내려받기 완료!\".format(os.path.basename(img_url))) \n",
    "    else:       \n",
    "        print(\"내려받을 이미지가 없습니다.\")\n",
    "        \n",
    "# 웹 사이트의 주소 지정   \n",
    "pixabay_url = 'https://pixabay.com/ko/photos/?order=popular&cat=animals'\n",
    "# pixabay_url= 'https://pixabay.com/ko/photos/?order=popular&cat=animals&pagi=2'\n",
    "\n",
    "figure_folder = \"C:/myPyCode/download\" # 이미지를 내려받을 폴더 지정  \n",
    "\n",
    "pixabay_image_urls = get_image_url(pixabay_url) # 이미지 파일의 주소 가져오기\n",
    "\n",
    "num_of_download_image = 7 # 내려받을 이미지 개수 지정\n",
    "# num_of_download_image = len(pixabay_image_urls)\n",
    "\n",
    "for k in range(num_of_download_image):\n",
    "    download_image(figure_folder,pixabay_image_urls[k])\n",
    "print(\"================================\")\n",
    "print(\"선택한 모든 이미지 내려받기 완료!\")"
   ]
  },
  {
   "cell_type": "markdown",
   "metadata": {},
   "source": [
    "**[14장: 450페이지]**"
   ]
  },
  {
   "cell_type": "code",
   "execution_count": null,
   "metadata": {},
   "outputs": [],
   "source": [
    "num_of_download_image = len(pixabay_image_urls)\n",
    "num_of_download_image"
   ]
  },
  {
   "cell_type": "markdown",
   "metadata": {},
   "source": [
    "## 14.4 정리"
   ]
  }
 ],
 "metadata": {
  "anaconda-cloud": {},
  "kernelspec": {
   "display_name": "Python 3",
   "language": "python",
   "name": "python3"
  },
  "language_info": {
   "codemirror_mode": {
    "name": "ipython",
    "version": 3
   },
   "file_extension": ".py",
   "mimetype": "text/x-python",
   "name": "python",
   "nbconvert_exporter": "python",
   "pygments_lexer": "ipython3",
   "version": "3.7.6"
  },
  "latex_envs": {
   "LaTeX_envs_menu_present": true,
   "autoclose": false,
   "autocomplete": true,
   "bibliofile": "biblio.bib",
   "cite_by": "apalike",
   "current_citInitial": 1,
   "eqLabelWithNumbers": true,
   "eqNumInitial": 1,
   "hotkeys": {
    "equation": "Ctrl-E",
    "itemize": "Ctrl-I"
   },
   "labels_anchors": false,
   "latex_user_defs": false,
   "report_style_numbering": false,
   "user_envs_cfg": false
  },
  "nav_menu": {},
  "toc": {
   "base_numbering": 1,
   "nav_menu": {
    "height": "400px",
    "width": "252px"
   },
   "number_sections": false,
   "sideBar": true,
   "skip_h1_title": false,
   "title_cell": "Table of Contents",
   "title_sidebar": "Contents",
   "toc_cell": false,
   "toc_position": {
    "height": "545px",
    "left": "0px",
    "right": "1154px",
    "top": "111px",
    "width": "212px"
   },
   "toc_section_display": "block",
   "toc_window_display": false
  },
  "toc_position": {
   "height": "503px",
   "left": "0px",
   "right": "952.167px",
   "top": "107px",
   "width": "300px"
  }
 },
 "nbformat": 4,
 "nbformat_minor": 2
}
